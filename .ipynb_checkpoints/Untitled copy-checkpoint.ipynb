{
 "cells": [
  {
   "cell_type": "code",
   "execution_count": 1,
   "id": "b78684bc",
   "metadata": {},
   "outputs": [
    {
     "name": "stderr",
     "output_type": "stream",
     "text": [
      "/home/opc/.local/lib/python3.6/site-packages/tqdm/auto.py:22: TqdmWarning: IProgress not found. Please update jupyter and ipywidgets. See https://ipywidgets.readthedocs.io/en/stable/user_install.html\n",
      "  from .autonotebook import tqdm as notebook_tqdm\n",
      "Using custom data configuration iara-project--news-articles-ptbr-dataset-bf5e5acef4982afb\n"
     ]
    },
    {
     "name": "stdout",
     "output_type": "stream",
     "text": [
      "Downloading and preparing dataset parquet/iara-project--news-articles-ptbr-dataset to /home/opc/.cache/huggingface/datasets/iara-project___parquet/iara-project--news-articles-ptbr-dataset-bf5e5acef4982afb/0.0.0/2a3b91fbd88a2c90d1dbbb32b460cf621d31bd5b05b934492fdef7d8d6f236ec...\n"
     ]
    },
    {
     "name": "stderr",
     "output_type": "stream",
     "text": [
      "Downloading data files:   0%|          | 0/2 [00:00<?, ?it/s]\n",
      "Downloading data:   0%|          | 0.00/194M [00:00<?, ?B/s]\u001b[A\n",
      "Downloading data:   0%|          | 33.8k/194M [00:00<10:24, 311kB/s]\u001b[A\n",
      "Downloading data:   0%|          | 89.1k/194M [00:00<08:31, 380kB/s]\u001b[A\n",
      "Downloading data:   0%|          | 152k/194M [00:00<07:11, 450kB/s] \u001b[A\n",
      "Downloading data:   0%|          | 315k/194M [00:00<03:51, 837kB/s]\u001b[A\n",
      "Downloading data:   0%|          | 547k/194M [00:00<02:27, 1.32MB/s]\u001b[A\n",
      "Downloading data:   1%|          | 991k/194M [00:00<01:23, 2.30MB/s]\u001b[A\n",
      "Downloading data:   1%|          | 1.82M/194M [00:00<00:46, 4.16MB/s]\u001b[A\n",
      "Downloading data:   2%|▏         | 3.35M/194M [00:00<00:25, 7.58MB/s]\u001b[A\n",
      "Downloading data:   3%|▎         | 6.20M/194M [00:00<00:13, 14.0MB/s]\u001b[A\n",
      "Downloading data:   5%|▍         | 8.84M/194M [00:01<00:10, 17.8MB/s]\u001b[A\n",
      "Downloading data:   6%|▌         | 11.5M/194M [00:01<00:08, 20.3MB/s]\u001b[A\n",
      "Downloading data:   7%|▋         | 14.2M/194M [00:01<00:08, 22.3MB/s]\u001b[A\n",
      "Downloading data:   9%|▊         | 16.9M/194M [00:01<00:07, 23.8MB/s]\u001b[A\n",
      "Downloading data:  10%|█         | 19.7M/194M [00:01<00:07, 24.9MB/s]\u001b[A\n",
      "Downloading data:  11%|█▏        | 22.2M/194M [00:01<00:06, 25.0MB/s]\u001b[A\n",
      "Downloading data:  13%|█▎        | 25.0M/194M [00:01<00:06, 25.8MB/s]\u001b[A\n",
      "Downloading data:  14%|█▍        | 27.6M/194M [00:01<00:06, 26.0MB/s]\u001b[A\n",
      "Downloading data:  16%|█▌        | 30.2M/194M [00:01<00:06, 26.1MB/s]\u001b[A\n",
      "Downloading data:  17%|█▋        | 33.0M/194M [00:01<00:06, 26.6MB/s]\u001b[A\n",
      "Downloading data:  18%|█▊        | 35.8M/194M [00:02<00:05, 26.9MB/s]\u001b[A\n",
      "Downloading data:  20%|█▉        | 38.5M/194M [00:02<00:05, 26.9MB/s]\u001b[A\n",
      "Downloading data:  21%|██        | 41.3M/194M [00:02<00:05, 27.0MB/s]\u001b[A\n",
      "Downloading data:  23%|██▎       | 44.1M/194M [00:02<00:05, 27.4MB/s]\u001b[A\n",
      "Downloading data:  24%|██▍       | 46.8M/194M [00:02<00:05, 27.4MB/s]\u001b[A\n",
      "Downloading data:  26%|██▌       | 49.6M/194M [00:02<00:05, 27.3MB/s]\u001b[A\n",
      "Downloading data:  27%|██▋       | 52.3M/194M [00:02<00:05, 27.1MB/s]\u001b[A\n",
      "Downloading data:  28%|██▊       | 55.2M/194M [00:02<00:05, 27.4MB/s]\u001b[A\n",
      "Downloading data:  30%|██▉       | 58.0M/194M [00:02<00:04, 27.6MB/s]\u001b[A\n",
      "Downloading data:  31%|███       | 60.7M/194M [00:02<00:04, 27.5MB/s]\u001b[A\n",
      "Downloading data:  33%|███▎      | 63.5M/194M [00:03<00:04, 27.3MB/s]\u001b[A\n",
      "Downloading data:  34%|███▍      | 66.2M/194M [00:03<00:04, 27.2MB/s]\u001b[A\n",
      "Downloading data:  35%|███▌      | 68.9M/194M [00:03<00:04, 27.1MB/s]\u001b[A\n",
      "Downloading data:  37%|███▋      | 71.6M/194M [00:03<00:04, 27.0MB/s]\u001b[A\n",
      "Downloading data:  38%|███▊      | 74.3M/194M [00:03<00:04, 27.0MB/s]\u001b[A\n",
      "Downloading data:  40%|███▉      | 77.2M/194M [00:03<00:04, 27.4MB/s]\u001b[A\n",
      "Downloading data:  41%|████      | 80.1M/194M [00:03<00:04, 27.7MB/s]\u001b[A\n",
      "Downloading data:  43%|████▎     | 82.8M/194M [00:03<00:04, 27.6MB/s]\u001b[A\n",
      "Downloading data:  44%|████▍     | 85.6M/194M [00:03<00:03, 27.6MB/s]\u001b[A\n",
      "Downloading data:  45%|████▌     | 88.3M/194M [00:03<00:03, 27.4MB/s]\u001b[A\n",
      "Downloading data:  47%|████▋     | 91.1M/194M [00:04<00:03, 27.2MB/s]\u001b[A\n",
      "Downloading data:  48%|████▊     | 93.8M/194M [00:04<00:03, 27.1MB/s]\u001b[A\n",
      "Downloading data:  50%|████▉     | 96.5M/194M [00:04<00:03, 26.9MB/s]\u001b[A\n",
      "Downloading data:  51%|█████     | 99.3M/194M [00:04<00:03, 27.1MB/s]\u001b[A\n",
      "Downloading data:  53%|█████▎    | 102M/194M [00:04<00:03, 27.6MB/s] \u001b[A\n",
      "Downloading data:  54%|█████▍    | 105M/194M [00:04<00:03, 27.4MB/s]\u001b[A\n",
      "Downloading data:  55%|█████▌    | 108M/194M [00:04<00:03, 27.3MB/s]\u001b[A\n",
      "Downloading data:  57%|█████▋    | 110M/194M [00:04<00:03, 27.1MB/s]\u001b[A\n",
      "Downloading data:  58%|█████▊    | 113M/194M [00:04<00:02, 27.3MB/s]\u001b[A\n",
      "Downloading data:  60%|█████▉    | 116M/194M [00:05<00:02, 27.1MB/s]\u001b[A\n",
      "Downloading data:  61%|██████    | 119M/194M [00:05<00:02, 27.0MB/s]\u001b[A\n",
      "Downloading data:  62%|██████▏   | 121M/194M [00:05<00:02, 27.0MB/s]\u001b[A\n",
      "Downloading data:  64%|██████▍   | 124M/194M [00:05<00:02, 27.0MB/s]\u001b[A\n",
      "Downloading data:  65%|██████▌   | 127M/194M [00:05<00:02, 27.0MB/s]\u001b[A\n",
      "Downloading data:  67%|██████▋   | 129M/194M [00:05<00:02, 27.0MB/s]\u001b[A\n",
      "Downloading data:  68%|██████▊   | 132M/194M [00:05<00:02, 27.1MB/s]\u001b[A\n",
      "Downloading data:  69%|██████▉   | 135M/194M [00:05<00:02, 27.0MB/s]\u001b[A\n",
      "Downloading data:  71%|███████   | 138M/194M [00:05<00:02, 27.0MB/s]\u001b[A\n",
      "Downloading data:  72%|███████▏  | 140M/194M [00:05<00:02, 26.9MB/s]\u001b[A\n",
      "Downloading data:  74%|███████▎  | 143M/194M [00:06<00:01, 26.9MB/s]\u001b[A\n",
      "Downloading data:  75%|███████▌  | 146M/194M [00:06<00:01, 27.7MB/s]\u001b[A\n",
      "Downloading data:  77%|███████▋  | 149M/194M [00:06<00:01, 27.5MB/s]\u001b[A\n",
      "Downloading data:  78%|███████▊  | 151M/194M [00:06<00:01, 27.3MB/s]\u001b[A\n",
      "Downloading data:  79%|███████▉  | 154M/194M [00:06<00:01, 27.1MB/s]\u001b[A\n",
      "Downloading data:  81%|████████  | 157M/194M [00:06<00:01, 26.9MB/s]\u001b[A\n",
      "Downloading data:  82%|████████▏ | 160M/194M [00:06<00:01, 27.4MB/s]\u001b[A\n",
      "Downloading data:  84%|████████▎ | 163M/194M [00:06<00:01, 27.3MB/s]\u001b[A\n",
      "Downloading data:  85%|████████▌ | 165M/194M [00:06<00:01, 27.4MB/s]\u001b[A\n",
      "Downloading data:  87%|████████▋ | 168M/194M [00:06<00:00, 27.6MB/s]\u001b[A\n",
      "Downloading data:  88%|████████▊ | 171M/194M [00:07<00:00, 27.6MB/s]\u001b[A\n",
      "Downloading data:  89%|████████▉ | 174M/194M [00:07<00:00, 27.4MB/s]\u001b[A\n",
      "Downloading data:  91%|█████████ | 176M/194M [00:07<00:00, 27.2MB/s]\u001b[A\n",
      "Downloading data:  92%|█████████▏| 179M/194M [00:07<00:00, 27.1MB/s]\u001b[A\n",
      "Downloading data:  94%|█████████▎| 182M/194M [00:07<00:00, 27.0MB/s]\u001b[A\n",
      "Downloading data:  95%|█████████▍| 185M/194M [00:07<00:00, 27.0MB/s]\u001b[A\n",
      "Downloading data:  96%|█████████▋| 187M/194M [00:07<00:00, 27.5MB/s]\u001b[A\n",
      "Downloading data:  98%|█████████▊| 190M/194M [00:07<00:00, 27.8MB/s]\u001b[A\n",
      "Downloading data: 100%|██████████| 194M/194M [00:07<00:00, 24.6MB/s]\u001b[A\n",
      "\n",
      "Downloading data:   0%|          | 0.00/195M [00:00<?, ?B/s]\u001b[A\n",
      "Downloading data:   0%|          | 32.8k/195M [00:00<10:25, 311kB/s]\u001b[A\n",
      "Downloading data:   0%|          | 86.0k/195M [00:00<07:44, 419kB/s]\u001b[A\n",
      "Downloading data:   0%|          | 138k/195M [00:00<07:13, 448kB/s] \u001b[A\n",
      "Downloading data:   0%|          | 286k/195M [00:00<03:52, 836kB/s]\u001b[A\n",
      "Downloading data:   0%|          | 484k/195M [00:00<02:38, 1.23MB/s]\u001b[A\n",
      "Downloading data:   0%|          | 854k/195M [00:00<01:41, 1.90MB/s]\u001b[A\n",
      "Downloading data:   1%|          | 1.73M/195M [00:00<00:49, 3.93MB/s]\u001b[A\n",
      "Downloading data:   2%|▏         | 3.46M/195M [00:00<00:24, 7.77MB/s]\u001b[A\n",
      "Downloading data:   3%|▎         | 6.29M/195M [00:00<00:13, 13.8MB/s]\u001b[A\n",
      "Downloading data:   5%|▍         | 9.05M/195M [00:01<00:10, 17.9MB/s]\u001b[A\n",
      "Downloading data:   6%|▌         | 11.8M/195M [00:01<00:08, 20.9MB/s]\u001b[A\n",
      "Downloading data:   8%|▊         | 14.6M/195M [00:01<00:07, 22.9MB/s]\u001b[A\n",
      "Downloading data:   9%|▉         | 17.4M/195M [00:01<00:07, 24.5MB/s]\u001b[A\n",
      "Downloading data:  10%|█         | 20.3M/195M [00:01<00:06, 25.6MB/s]\u001b[A\n",
      "Downloading data:  12%|█▏        | 22.9M/195M [00:01<00:06, 25.9MB/s]\u001b[A\n",
      "Downloading data:  13%|█▎        | 25.8M/195M [00:01<00:06, 26.7MB/s]\u001b[A\n",
      "Downloading data:  15%|█▍        | 28.7M/195M [00:01<00:06, 27.3MB/s]\u001b[A\n",
      "Downloading data:  16%|█▌        | 31.5M/195M [00:01<00:05, 27.7MB/s]\u001b[A\n",
      "Downloading data:  18%|█▊        | 34.3M/195M [00:01<00:05, 27.8MB/s]\u001b[A\n",
      "Downloading data:  19%|█▉        | 37.2M/195M [00:02<00:05, 28.1MB/s]\u001b[A\n",
      "Downloading data:  21%|██        | 40.0M/195M [00:02<00:05, 28.1MB/s]\u001b[A\n",
      "Downloading data:  22%|██▏       | 42.8M/195M [00:02<00:05, 28.1MB/s]\u001b[A\n",
      "Downloading data:  23%|██▎       | 45.7M/195M [00:02<00:05, 27.9MB/s]\u001b[A\n",
      "Downloading data:  25%|██▍       | 48.6M/195M [00:02<00:05, 28.3MB/s]\u001b[A\n",
      "Downloading data:  26%|██▋       | 51.5M/195M [00:02<00:05, 28.3MB/s]\u001b[A\n",
      "Downloading data:  28%|██▊       | 54.3M/195M [00:02<00:04, 28.3MB/s]\u001b[A\n",
      "Downloading data:  29%|██▉       | 57.1M/195M [00:02<00:04, 28.2MB/s]\u001b[A\n",
      "Downloading data:  31%|███       | 60.0M/195M [00:02<00:04, 28.1MB/s]\u001b[A\n",
      "Downloading data:  32%|███▏      | 62.8M/195M [00:02<00:04, 27.9MB/s]\u001b[A\n",
      "Downloading data:  34%|███▎      | 65.6M/195M [00:03<00:04, 28.0MB/s]\u001b[A\n",
      "Downloading data:  35%|███▌      | 68.6M/195M [00:03<00:04, 28.5MB/s]\u001b[A\n",
      "Downloading data:  37%|███▋      | 71.5M/195M [00:03<00:04, 28.6MB/s]\u001b[A\n",
      "Downloading data:  38%|███▊      | 74.4M/195M [00:03<00:04, 28.4MB/s]\u001b[A\n",
      "Downloading data:  40%|███▉      | 77.2M/195M [00:03<00:04, 28.4MB/s]\u001b[A\n",
      "Downloading data:  41%|████      | 80.1M/195M [00:03<00:04, 28.5MB/s]\u001b[A\n",
      "Downloading data:  43%|████▎     | 82.9M/195M [00:03<00:03, 28.3MB/s]\u001b[A\n",
      "Downloading data:  44%|████▍     | 85.8M/195M [00:03<00:03, 28.2MB/s]\u001b[A\n",
      "Downloading data:  46%|████▌     | 88.6M/195M [00:03<00:03, 28.0MB/s]\u001b[A\n",
      "Downloading data:  47%|████▋     | 91.5M/195M [00:03<00:03, 28.1MB/s]\u001b[A\n",
      "Downloading data:  48%|████▊     | 94.3M/195M [00:04<00:03, 28.1MB/s]\u001b[A\n",
      "Downloading data:  50%|████▉     | 97.1M/195M [00:04<00:03, 28.1MB/s]\u001b[A\n",
      "Downloading data:  51%|█████▏    | 100M/195M [00:04<00:03, 28.1MB/s] \u001b[A\n",
      "Downloading data:  53%|█████▎    | 103M/195M [00:04<00:03, 28.4MB/s]\u001b[A\n",
      "Downloading data:  54%|█████▍    | 106M/195M [00:04<00:03, 28.3MB/s]\u001b[A\n",
      "Downloading data:  56%|█████▌    | 109M/195M [00:04<00:02, 28.8MB/s]\u001b[A\n",
      "Downloading data:  57%|█████▋    | 112M/195M [00:04<00:02, 28.6MB/s]\u001b[A\n",
      "Downloading data:  59%|█████▉    | 114M/195M [00:04<00:02, 28.4MB/s]\u001b[A\n",
      "Downloading data:  60%|██████    | 117M/195M [00:04<00:02, 27.9MB/s]\u001b[A\n",
      "Downloading data:  62%|██████▏   | 120M/195M [00:05<00:02, 28.3MB/s]\u001b[A\n",
      "Downloading data:  63%|██████▎   | 123M/195M [00:05<00:02, 28.5MB/s]\u001b[A\n",
      "Downloading data:  65%|██████▍   | 126M/195M [00:05<00:02, 28.5MB/s]\u001b[A\n",
      "Downloading data:  66%|██████▌   | 129M/195M [00:05<00:02, 28.4MB/s]\u001b[A\n",
      "Downloading data:  68%|██████▊   | 132M/195M [00:05<00:02, 28.1MB/s]\u001b[A\n",
      "Downloading data:  69%|██████▉   | 135M/195M [00:05<00:02, 28.1MB/s]\u001b[A\n",
      "Downloading data:  71%|███████   | 137M/195M [00:05<00:02, 28.0MB/s]\u001b[A\n",
      "Downloading data:  72%|███████▏  | 140M/195M [00:05<00:01, 28.0MB/s]\u001b[A\n",
      "Downloading data:  73%|███████▎  | 143M/195M [00:05<00:01, 28.1MB/s]\u001b[A\n",
      "Downloading data:  75%|███████▍  | 146M/195M [00:05<00:01, 28.0MB/s]\u001b[A\n",
      "Downloading data:  76%|███████▋  | 149M/195M [00:06<00:01, 27.9MB/s]\u001b[A\n",
      "Downloading data:  78%|███████▊  | 152M/195M [00:06<00:01, 28.4MB/s]\u001b[A\n",
      "Downloading data:  79%|███████▉  | 155M/195M [00:06<00:01, 28.9MB/s]\u001b[A\n",
      "Downloading data:  81%|████████  | 158M/195M [00:06<00:01, 28.7MB/s]\u001b[A\n",
      "Downloading data:  82%|████████▏ | 160M/195M [00:06<00:01, 28.4MB/s]\u001b[A\n",
      "Downloading data:  84%|████████▍ | 163M/195M [00:06<00:01, 28.4MB/s]\u001b[A\n",
      "Downloading data:  85%|████████▌ | 166M/195M [00:06<00:01, 28.2MB/s]\u001b[A\n",
      "Downloading data:  87%|████████▋ | 169M/195M [00:06<00:00, 28.2MB/s]\u001b[A\n",
      "Downloading data:  88%|████████▊ | 172M/195M [00:06<00:00, 28.1MB/s]\u001b[A\n",
      "Downloading data:  90%|████████▉ | 175M/195M [00:06<00:00, 28.1MB/s]\u001b[A\n",
      "Downloading data:  91%|█████████ | 177M/195M [00:07<00:00, 28.0MB/s]\u001b[A\n",
      "Downloading data:  93%|█████████▎| 180M/195M [00:07<00:00, 28.0MB/s]\u001b[A\n",
      "Downloading data:  94%|█████████▍| 183M/195M [00:07<00:00, 28.2MB/s]\u001b[A\n",
      "Downloading data:  96%|█████████▌| 186M/195M [00:07<00:00, 28.8MB/s]\u001b[A\n",
      "Downloading data:  97%|█████████▋| 189M/195M [00:07<00:00, 28.6MB/s]\u001b[A\n",
      "Downloading data: 100%|██████████| 195M/195M [00:07<00:00, 25.5MB/s]\u001b[A\n",
      "Downloading data files:  50%|█████     | 1/2 [00:18<00:18, 18.92s/it]\n",
      "Downloading data:   0%|          | 0.00/226M [00:00<?, ?B/s]\u001b[A\n",
      "Downloading data:   0%|          | 49.2k/226M [00:00<07:43, 488kB/s]\u001b[A\n",
      "Downloading data:   0%|          | 98.3k/226M [00:00<07:53, 479kB/s]\u001b[A\n",
      "Downloading data:   0%|          | 146k/226M [00:00<08:16, 456kB/s] \u001b[A\n",
      "Downloading data:   0%|          | 284k/226M [00:00<04:44, 794kB/s]\u001b[A\n",
      "Downloading data:   0%|          | 476k/226M [00:00<03:10, 1.19MB/s]\u001b[A\n",
      "Downloading data:   0%|          | 892k/226M [00:00<01:44, 2.15MB/s]\u001b[A\n",
      "Downloading data:   1%|          | 1.62M/226M [00:00<00:59, 3.79MB/s]\u001b[A\n",
      "Downloading data:   1%|▏         | 3.02M/226M [00:00<00:31, 6.99MB/s]\u001b[A\n",
      "Downloading data:   2%|▏         | 5.62M/226M [00:00<00:17, 12.8MB/s]\u001b[A\n",
      "Downloading data:   4%|▎         | 8.33M/226M [00:01<00:12, 17.2MB/s]\u001b[A\n",
      "Downloading data:   5%|▍         | 11.0M/226M [00:01<00:10, 20.2MB/s]\u001b[A\n",
      "Downloading data:   6%|▌         | 13.8M/226M [00:01<00:09, 22.4MB/s]\u001b[A\n",
      "Downloading data:   7%|▋         | 16.6M/226M [00:01<00:08, 23.9MB/s]\u001b[A\n",
      "Downloading data:   9%|▊         | 19.3M/226M [00:01<00:08, 25.0MB/s]\u001b[A\n",
      "Downloading data:  10%|▉         | 21.8M/226M [00:01<00:08, 24.9MB/s]\u001b[A\n",
      "Downloading data:  11%|█         | 24.6M/226M [00:01<00:07, 25.7MB/s]\u001b[A\n",
      "Downloading data:  12%|█▏        | 27.3M/226M [00:01<00:07, 26.0MB/s]\u001b[A\n",
      "Downloading data:  13%|█▎        | 30.0M/226M [00:01<00:07, 26.3MB/s]\u001b[A\n",
      "Downloading data:  14%|█▍        | 32.8M/226M [00:01<00:07, 26.7MB/s]\u001b[A\n",
      "Downloading data:  16%|█▌        | 35.6M/226M [00:02<00:07, 27.0MB/s]\u001b[A\n",
      "Downloading data:  17%|█▋        | 38.4M/226M [00:02<00:06, 27.2MB/s]\u001b[A\n",
      "Downloading data:  18%|█▊        | 41.1M/226M [00:02<00:06, 27.2MB/s]\u001b[A\n",
      "Downloading data:  19%|█▉        | 43.8M/226M [00:02<00:06, 27.3MB/s]\u001b[A\n",
      "Downloading data:  21%|██        | 46.6M/226M [00:02<00:06, 27.5MB/s]\u001b[A\n",
      "Downloading data:  22%|██▏       | 49.4M/226M [00:02<00:06, 27.7MB/s]\u001b[A\n",
      "Downloading data:  23%|██▎       | 52.2M/226M [00:02<00:06, 27.6MB/s]\u001b[A\n",
      "Downloading data:  24%|██▍       | 55.0M/226M [00:02<00:06, 27.5MB/s]\u001b[A\n",
      "Downloading data:  25%|██▌       | 57.7M/226M [00:02<00:06, 27.4MB/s]\u001b[A\n",
      "Downloading data:  27%|██▋       | 60.5M/226M [00:02<00:06, 27.3MB/s]\u001b[A\n",
      "Downloading data:  28%|██▊       | 63.2M/226M [00:03<00:05, 27.2MB/s]\u001b[A\n",
      "Downloading data:  29%|██▉       | 66.0M/226M [00:03<00:05, 27.4MB/s]\u001b[A\n",
      "Downloading data:  30%|███       | 68.7M/226M [00:03<00:05, 27.2MB/s]\u001b[A\n",
      "Downloading data:  32%|███▏      | 71.6M/226M [00:03<00:05, 27.6MB/s]\u001b[A\n",
      "Downloading data:  33%|███▎      | 74.4M/226M [00:03<00:05, 27.7MB/s]\u001b[A\n",
      "Downloading data:  34%|███▍      | 77.2M/226M [00:03<00:05, 27.6MB/s]\u001b[A\n",
      "Downloading data:  35%|███▌      | 79.9M/226M [00:03<00:05, 27.6MB/s]\u001b[A\n",
      "Downloading data:  37%|███▋      | 82.7M/226M [00:03<00:05, 27.5MB/s]\u001b[A\n",
      "Downloading data:  38%|███▊      | 85.5M/226M [00:03<00:05, 26.3MB/s]\u001b[A\n",
      "Downloading data:  39%|███▉      | 88.1M/226M [00:03<00:05, 25.4MB/s]\u001b[A\n",
      "Downloading data:  40%|████      | 90.7M/226M [00:04<00:05, 25.4MB/s]\u001b[A\n",
      "Downloading data:  41%|████      | 93.3M/226M [00:04<00:05, 25.8MB/s]\u001b[A\n",
      "Downloading data:  42%|████▏     | 96.0M/226M [00:04<00:04, 26.1MB/s]\u001b[A\n",
      "Downloading data:  44%|████▎     | 98.8M/226M [00:04<00:04, 26.6MB/s]\u001b[A\n",
      "Downloading data:  45%|████▍     | 102M/226M [00:04<00:04, 26.7MB/s] \u001b[A\n",
      "Downloading data:  46%|████▌     | 104M/226M [00:04<00:04, 26.7MB/s]\u001b[A\n",
      "Downloading data:  47%|████▋     | 107M/226M [00:04<00:04, 27.2MB/s]\u001b[A\n",
      "Downloading data:  49%|████▊     | 110M/226M [00:04<00:04, 27.7MB/s]\u001b[A\n",
      "Downloading data:  50%|████▉     | 113M/226M [00:04<00:04, 27.4MB/s]\u001b[A\n",
      "Downloading data:  51%|█████     | 115M/226M [00:04<00:04, 27.3MB/s]\u001b[A\n",
      "Downloading data:  52%|█████▏    | 118M/226M [00:05<00:03, 27.2MB/s]\u001b[A\n",
      "Downloading data:  53%|█████▎    | 121M/226M [00:05<00:03, 27.3MB/s]\u001b[A\n",
      "Downloading data:  55%|█████▍    | 124M/226M [00:05<00:03, 27.6MB/s]\u001b[A\n",
      "Downloading data:  56%|█████▌    | 127M/226M [00:05<00:03, 27.3MB/s]\u001b[A\n",
      "Downloading data:  57%|█████▋    | 129M/226M [00:05<00:03, 27.2MB/s]\u001b[A\n",
      "Downloading data:  58%|█████▊    | 132M/226M [00:05<00:03, 27.3MB/s]\u001b[A\n",
      "Downloading data:  59%|█████▉    | 135M/226M [00:05<00:03, 27.2MB/s]\u001b[A\n",
      "Downloading data:  61%|██████    | 137M/226M [00:05<00:03, 27.1MB/s]\u001b[A\n",
      "Downloading data:  62%|██████▏   | 140M/226M [00:05<00:03, 27.0MB/s]\u001b[A\n",
      "Downloading data:  63%|██████▎   | 143M/226M [00:05<00:03, 27.5MB/s]\u001b[A\n",
      "Downloading data:  64%|██████▍   | 146M/226M [00:06<00:02, 27.8MB/s]\u001b[A\n",
      "Downloading data:  66%|██████▌   | 149M/226M [00:06<00:02, 27.4MB/s]\u001b[A\n",
      "Downloading data:  67%|██████▋   | 151M/226M [00:06<00:02, 27.4MB/s]\u001b[A\n",
      "Downloading data:  68%|██████▊   | 154M/226M [00:06<00:02, 26.8MB/s]\u001b[A\n",
      "Downloading data:  69%|██████▉   | 157M/226M [00:06<00:02, 26.9MB/s]\u001b[A\n",
      "Downloading data:  70%|███████   | 160M/226M [00:06<00:02, 27.0MB/s]\u001b[A\n",
      "Downloading data:  72%|███████▏  | 162M/226M [00:06<00:02, 26.9MB/s]\u001b[A\n",
      "Downloading data:  73%|███████▎  | 165M/226M [00:06<00:02, 27.1MB/s]\u001b[A\n",
      "Downloading data:  74%|███████▍  | 168M/226M [00:06<00:02, 27.1MB/s]\u001b[A\n",
      "Downloading data:  75%|███████▌  | 171M/226M [00:07<00:02, 27.3MB/s]\u001b[A\n",
      "Downloading data:  77%|███████▋  | 173M/226M [00:07<00:01, 27.1MB/s]\u001b[A\n"
     ]
    },
    {
     "name": "stderr",
     "output_type": "stream",
     "text": [
      "Downloading data:  78%|███████▊  | 176M/226M [00:07<00:01, 27.1MB/s]\u001b[A\n",
      "Downloading data:  79%|███████▉  | 179M/226M [00:07<00:01, 27.2MB/s]\u001b[A\n",
      "Downloading data:  80%|████████  | 181M/226M [00:07<00:01, 27.3MB/s]\u001b[A\n",
      "Downloading data:  81%|████████▏ | 184M/226M [00:07<00:01, 27.3MB/s]\u001b[A\n",
      "Downloading data:  83%|████████▎ | 187M/226M [00:07<00:01, 27.4MB/s]\u001b[A\n",
      "Downloading data:  84%|████████▍ | 190M/226M [00:07<00:01, 27.3MB/s]\u001b[A\n",
      "Downloading data:  85%|████████▍ | 192M/226M [00:07<00:01, 27.3MB/s]\u001b[A\n",
      "Downloading data:  86%|████████▌ | 195M/226M [00:07<00:01, 27.2MB/s]\u001b[A\n",
      "Downloading data:  87%|████████▋ | 198M/226M [00:08<00:01, 27.1MB/s]\u001b[A\n",
      "Downloading data:  89%|████████▊ | 201M/226M [00:08<00:00, 27.0MB/s]\u001b[A\n",
      "Downloading data:  90%|████████▉ | 203M/226M [00:08<00:00, 27.4MB/s]\u001b[A\n",
      "Downloading data:  91%|█████████ | 206M/226M [00:08<00:00, 27.3MB/s]\u001b[A\n",
      "Downloading data:  92%|█████████▏| 209M/226M [00:08<00:00, 27.3MB/s]\u001b[A\n",
      "Downloading data:  93%|█████████▎| 212M/226M [00:08<00:00, 27.0MB/s]\u001b[A\n",
      "Downloading data:  95%|█████████▍| 214M/226M [00:08<00:00, 27.0MB/s]\u001b[A\n",
      "Downloading data:  96%|█████████▌| 217M/226M [00:08<00:00, 27.0MB/s]\u001b[A\n",
      "Downloading data:  97%|█████████▋| 220M/226M [00:08<00:00, 26.9MB/s]\u001b[A\n",
      "Downloading data:  98%|█████████▊| 223M/226M [00:08<00:00, 27.2MB/s]\u001b[A\n",
      "Downloading data: 100%|██████████| 226M/226M [00:09<00:00, 25.0MB/s]\u001b[A\n",
      "\n",
      "Downloading data:   0%|          | 0.00/155M [00:00<?, ?B/s]\u001b[A\n",
      "Downloading data:   0%|          | 35.8k/155M [00:00<07:29, 344kB/s]\u001b[A\n",
      "Downloading data:   0%|          | 85.0k/155M [00:00<06:11, 416kB/s]\u001b[A\n",
      "Downloading data:   0%|          | 139k/155M [00:00<05:49, 443kB/s] \u001b[A\n",
      "Downloading data:   0%|          | 287k/155M [00:00<03:11, 808kB/s]\u001b[A\n",
      "Downloading data:   0%|          | 477k/155M [00:00<02:10, 1.18MB/s]\u001b[A\n",
      "Downloading data:   1%|          | 886k/155M [00:00<01:12, 2.12MB/s]\u001b[A\n",
      "Downloading data:   1%|          | 1.62M/155M [00:00<00:40, 3.77MB/s]\u001b[A\n",
      "Downloading data:   2%|▏         | 3.00M/155M [00:00<00:22, 6.90MB/s]\u001b[A\n",
      "Downloading data:   4%|▎         | 5.57M/155M [00:00<00:11, 12.7MB/s]\u001b[A\n",
      "Downloading data:   5%|▌         | 8.27M/155M [00:01<00:08, 17.1MB/s]\u001b[A\n",
      "Downloading data:   7%|▋         | 11.0M/155M [00:01<00:07, 20.3MB/s]\u001b[A\n",
      "Downloading data:   9%|▉         | 13.7M/155M [00:01<00:06, 22.2MB/s]\u001b[A\n",
      "Downloading data:  11%|█         | 16.5M/155M [00:01<00:05, 24.0MB/s]\u001b[A\n",
      "Downloading data:  12%|█▏        | 19.3M/155M [00:01<00:05, 25.1MB/s]\u001b[A\n",
      "Downloading data:  14%|█▍        | 21.8M/155M [00:01<00:05, 25.0MB/s]\u001b[A\n",
      "Downloading data:  16%|█▌        | 24.6M/155M [00:01<00:05, 25.8MB/s]\u001b[A\n",
      "Downloading data:  18%|█▊        | 27.2M/155M [00:01<00:04, 25.8MB/s]\u001b[A\n",
      "Downloading data:  19%|█▉        | 29.9M/155M [00:01<00:04, 26.4MB/s]\u001b[A\n",
      "Downloading data:  21%|██        | 32.7M/155M [00:01<00:04, 26.8MB/s]\u001b[A\n",
      "Downloading data:  23%|██▎       | 35.5M/155M [00:02<00:04, 27.0MB/s]\u001b[A\n",
      "Downloading data:  25%|██▍       | 38.3M/155M [00:02<00:04, 27.3MB/s]\u001b[A\n",
      "Downloading data:  26%|██▋       | 41.0M/155M [00:02<00:04, 27.3MB/s]\u001b[A\n",
      "Downloading data:  28%|██▊       | 43.8M/155M [00:02<00:04, 27.4MB/s]\u001b[A\n",
      "Downloading data:  30%|███       | 46.6M/155M [00:02<00:03, 27.6MB/s]\u001b[A\n",
      "Downloading data:  32%|███▏      | 49.4M/155M [00:02<00:03, 27.5MB/s]\u001b[A\n",
      "Downloading data:  34%|███▎      | 52.1M/155M [00:02<00:03, 27.4MB/s]\u001b[A\n",
      "Downloading data:  35%|███▌      | 54.9M/155M [00:02<00:03, 27.2MB/s]\u001b[A\n",
      "Downloading data:  37%|███▋      | 57.7M/155M [00:02<00:03, 27.4MB/s]\u001b[A\n",
      "Downloading data:  39%|███▉      | 60.5M/155M [00:02<00:03, 27.7MB/s]\u001b[A\n",
      "Downloading data:  41%|████      | 63.3M/155M [00:03<00:03, 27.5MB/s]\u001b[A\n",
      "Downloading data:  43%|████▎     | 66.1M/155M [00:03<00:03, 27.2MB/s]\u001b[A\n",
      "Downloading data:  44%|████▍     | 68.9M/155M [00:03<00:03, 27.4MB/s]\u001b[A\n",
      "Downloading data:  46%|████▋     | 71.7M/155M [00:03<00:03, 27.4MB/s]\u001b[A\n",
      "Downloading data:  48%|████▊     | 74.4M/155M [00:03<00:02, 27.5MB/s]\u001b[A\n",
      "Downloading data:  50%|████▉     | 77.2M/155M [00:03<00:02, 27.6MB/s]\u001b[A\n",
      "Downloading data:  52%|█████▏    | 80.0M/155M [00:03<00:02, 27.6MB/s]\u001b[A\n",
      "Downloading data:  53%|█████▎    | 82.8M/155M [00:03<00:02, 27.7MB/s]\u001b[A\n",
      "Downloading data:  55%|█████▌    | 85.6M/155M [00:03<00:02, 27.5MB/s]\u001b[A\n",
      "Downloading data:  57%|█████▋    | 88.3M/155M [00:03<00:02, 27.3MB/s]\u001b[A\n",
      "Downloading data:  59%|█████▉    | 91.0M/155M [00:04<00:02, 27.2MB/s]\u001b[A\n",
      "Downloading data:  61%|██████    | 93.8M/155M [00:04<00:02, 27.4MB/s]\u001b[A\n",
      "Downloading data:  62%|██████▏   | 96.6M/155M [00:04<00:02, 27.6MB/s]\u001b[A\n",
      "Downloading data:  64%|██████▍   | 99.4M/155M [00:04<00:02, 27.5MB/s]\u001b[A\n",
      "Downloading data:  66%|██████▌   | 102M/155M [00:04<00:01, 26.8MB/s] \u001b[A\n",
      "Downloading data:  68%|██████▊   | 105M/155M [00:04<00:01, 26.2MB/s]\u001b[A\n",
      "Downloading data:  69%|██████▉   | 107M/155M [00:04<00:01, 26.3MB/s]\u001b[A\n",
      "Downloading data:  71%|███████   | 110M/155M [00:04<00:01, 26.5MB/s]\u001b[A\n",
      "Downloading data:  73%|███████▎  | 113M/155M [00:04<00:01, 27.6MB/s]\u001b[A\n",
      "Downloading data:  75%|███████▍  | 116M/155M [00:04<00:01, 27.4MB/s]\u001b[A\n",
      "Downloading data:  77%|███████▋  | 119M/155M [00:05<00:01, 27.3MB/s]\u001b[A\n",
      "Downloading data:  78%|███████▊  | 121M/155M [00:05<00:01, 27.2MB/s]\u001b[A\n",
      "Downloading data:  80%|████████  | 124M/155M [00:05<00:01, 27.1MB/s]\u001b[A\n",
      "Downloading data:  82%|████████▏ | 127M/155M [00:05<00:01, 26.9MB/s]\u001b[A\n",
      "Downloading data:  84%|████████▎ | 130M/155M [00:05<00:00, 27.2MB/s]\u001b[A\n",
      "Downloading data:  86%|████████▌ | 132M/155M [00:05<00:00, 27.3MB/s]\u001b[A\n",
      "Downloading data:  87%|████████▋ | 135M/155M [00:05<00:00, 27.4MB/s]\u001b[A\n",
      "Downloading data:  89%|████████▉ | 138M/155M [00:05<00:00, 27.5MB/s]\u001b[A\n",
      "Downloading data:  91%|█████████ | 141M/155M [00:05<00:00, 27.6MB/s]\u001b[A\n",
      "Downloading data:  93%|█████████▎| 144M/155M [00:05<00:00, 27.6MB/s]\u001b[A\n",
      "Downloading data:  94%|█████████▍| 146M/155M [00:06<00:00, 27.5MB/s]\u001b[A\n",
      "Downloading data:  96%|█████████▋| 149M/155M [00:06<00:00, 27.3MB/s]\u001b[A\n",
      "Downloading data:  98%|█████████▊| 152M/155M [00:06<00:00, 27.2MB/s]\u001b[A\n",
      "Downloading data: 100%|██████████| 155M/155M [00:06<00:00, 24.2MB/s]\u001b[A\n",
      "Downloading data files: 100%|██████████| 2/2 [00:37<00:00, 18.88s/it]\n",
      "Extracting data files: 100%|██████████| 2/2 [00:00<00:00, 702.92it/s]\n",
      "                                 \r"
     ]
    },
    {
     "name": "stdout",
     "output_type": "stream",
     "text": [
      "Dataset parquet downloaded and prepared to /home/opc/.cache/huggingface/datasets/iara-project___parquet/iara-project--news-articles-ptbr-dataset-bf5e5acef4982afb/0.0.0/2a3b91fbd88a2c90d1dbbb32b460cf621d31bd5b05b934492fdef7d8d6f236ec. Subsequent calls will reuse this data.\n"
     ]
    },
    {
     "name": "stderr",
     "output_type": "stream",
     "text": [
      "100%|██████████| 2/2 [00:00<00:00,  2.21it/s]\n"
     ]
    }
   ],
   "source": [
    "from datasets import load_dataset\n",
    "\n",
    "dataset = load_dataset('iara-project/news-articles-ptbr-dataset')"
   ]
  },
  {
   "cell_type": "code",
   "execution_count": 2,
   "id": "627264ad",
   "metadata": {},
   "outputs": [
    {
     "name": "stderr",
     "output_type": "stream",
     "text": [
      "Creating json from Arrow format: 100%|██████████| 18/18 [00:08<00:00,  2.12ba/s]\n"
     ]
    },
    {
     "data": {
      "text/plain": [
       "708805859"
      ]
     },
     "execution_count": 2,
     "metadata": {},
     "output_type": "execute_result"
    }
   ],
   "source": [
    "dataset['train'].to_json('iara-project/news-articles-ptbr-dataset_train.json')"
   ]
  },
  {
   "cell_type": "code",
   "execution_count": 3,
   "id": "a505e05a",
   "metadata": {},
   "outputs": [],
   "source": [
    "import gensim\n",
    "import pandas as pd"
   ]
  },
  {
   "cell_type": "code",
   "execution_count": 4,
   "id": "c244cacc",
   "metadata": {},
   "outputs": [],
   "source": [
    "import gensim\n",
    "import pandas as pd\n"
   ]
  },
  {
   "cell_type": "code",
   "execution_count": 5,
   "id": "3b7cd3d1",
   "metadata": {},
   "outputs": [
    {
     "ename": "ValueError",
     "evalue": "Unexpected character found when decoding 'null'",
     "output_type": "error",
     "traceback": [
      "\u001b[0;31m---------------------------------------------------------------------------\u001b[0m",
      "\u001b[0;31mValueError\u001b[0m                                Traceback (most recent call last)",
      "\u001b[0;32m<ipython-input-5-b20f6913d82d>\u001b[0m in \u001b[0;36m<module>\u001b[0;34m\u001b[0m\n\u001b[0;32m----> 1\u001b[0;31m \u001b[0mdf\u001b[0m \u001b[0;34m=\u001b[0m \u001b[0mpd\u001b[0m\u001b[0;34m.\u001b[0m\u001b[0mread_json\u001b[0m\u001b[0;34m(\u001b[0m\u001b[0;34m\"news-articles-ptbr-dataset_train.json\"\u001b[0m\u001b[0;34m,\u001b[0m \u001b[0mlines\u001b[0m\u001b[0;34m=\u001b[0m\u001b[0;32mTrue\u001b[0m\u001b[0;34m)\u001b[0m\u001b[0;34m\u001b[0m\u001b[0;34m\u001b[0m\u001b[0m\n\u001b[0m",
      "\u001b[0;32m~/.local/lib/python3.6/site-packages/pandas/util/_decorators.py\u001b[0m in \u001b[0;36mwrapper\u001b[0;34m(*args, **kwargs)\u001b[0m\n\u001b[1;32m    197\u001b[0m                 \u001b[0;32melse\u001b[0m\u001b[0;34m:\u001b[0m\u001b[0;34m\u001b[0m\u001b[0;34m\u001b[0m\u001b[0m\n\u001b[1;32m    198\u001b[0m                     \u001b[0mkwargs\u001b[0m\u001b[0;34m[\u001b[0m\u001b[0mnew_arg_name\u001b[0m\u001b[0;34m]\u001b[0m \u001b[0;34m=\u001b[0m \u001b[0mnew_arg_value\u001b[0m\u001b[0;34m\u001b[0m\u001b[0;34m\u001b[0m\u001b[0m\n\u001b[0;32m--> 199\u001b[0;31m             \u001b[0;32mreturn\u001b[0m \u001b[0mfunc\u001b[0m\u001b[0;34m(\u001b[0m\u001b[0;34m*\u001b[0m\u001b[0margs\u001b[0m\u001b[0;34m,\u001b[0m \u001b[0;34m**\u001b[0m\u001b[0mkwargs\u001b[0m\u001b[0;34m)\u001b[0m\u001b[0;34m\u001b[0m\u001b[0;34m\u001b[0m\u001b[0m\n\u001b[0m\u001b[1;32m    200\u001b[0m \u001b[0;34m\u001b[0m\u001b[0m\n\u001b[1;32m    201\u001b[0m         \u001b[0;32mreturn\u001b[0m \u001b[0mcast\u001b[0m\u001b[0;34m(\u001b[0m\u001b[0mF\u001b[0m\u001b[0;34m,\u001b[0m \u001b[0mwrapper\u001b[0m\u001b[0;34m)\u001b[0m\u001b[0;34m\u001b[0m\u001b[0;34m\u001b[0m\u001b[0m\n",
      "\u001b[0;32m~/.local/lib/python3.6/site-packages/pandas/util/_decorators.py\u001b[0m in \u001b[0;36mwrapper\u001b[0;34m(*args, **kwargs)\u001b[0m\n\u001b[1;32m    294\u001b[0m                 )\n\u001b[1;32m    295\u001b[0m                 \u001b[0mwarnings\u001b[0m\u001b[0;34m.\u001b[0m\u001b[0mwarn\u001b[0m\u001b[0;34m(\u001b[0m\u001b[0mmsg\u001b[0m\u001b[0;34m,\u001b[0m \u001b[0mFutureWarning\u001b[0m\u001b[0;34m,\u001b[0m \u001b[0mstacklevel\u001b[0m\u001b[0;34m=\u001b[0m\u001b[0mstacklevel\u001b[0m\u001b[0;34m)\u001b[0m\u001b[0;34m\u001b[0m\u001b[0;34m\u001b[0m\u001b[0m\n\u001b[0;32m--> 296\u001b[0;31m             \u001b[0;32mreturn\u001b[0m \u001b[0mfunc\u001b[0m\u001b[0;34m(\u001b[0m\u001b[0;34m*\u001b[0m\u001b[0margs\u001b[0m\u001b[0;34m,\u001b[0m \u001b[0;34m**\u001b[0m\u001b[0mkwargs\u001b[0m\u001b[0;34m)\u001b[0m\u001b[0;34m\u001b[0m\u001b[0;34m\u001b[0m\u001b[0m\n\u001b[0m\u001b[1;32m    297\u001b[0m \u001b[0;34m\u001b[0m\u001b[0m\n\u001b[1;32m    298\u001b[0m         \u001b[0;32mreturn\u001b[0m \u001b[0mwrapper\u001b[0m\u001b[0;34m\u001b[0m\u001b[0;34m\u001b[0m\u001b[0m\n",
      "\u001b[0;32m~/.local/lib/python3.6/site-packages/pandas/io/json/_json.py\u001b[0m in \u001b[0;36mread_json\u001b[0;34m(path_or_buf, orient, typ, dtype, convert_axes, convert_dates, keep_default_dates, numpy, precise_float, date_unit, encoding, lines, chunksize, compression, nrows)\u001b[0m\n\u001b[1;32m    616\u001b[0m         \u001b[0;32mreturn\u001b[0m \u001b[0mjson_reader\u001b[0m\u001b[0;34m\u001b[0m\u001b[0;34m\u001b[0m\u001b[0m\n\u001b[1;32m    617\u001b[0m \u001b[0;34m\u001b[0m\u001b[0m\n\u001b[0;32m--> 618\u001b[0;31m     \u001b[0mresult\u001b[0m \u001b[0;34m=\u001b[0m \u001b[0mjson_reader\u001b[0m\u001b[0;34m.\u001b[0m\u001b[0mread\u001b[0m\u001b[0;34m(\u001b[0m\u001b[0;34m)\u001b[0m\u001b[0;34m\u001b[0m\u001b[0;34m\u001b[0m\u001b[0m\n\u001b[0m\u001b[1;32m    619\u001b[0m     \u001b[0;32mif\u001b[0m \u001b[0mshould_close\u001b[0m\u001b[0;34m:\u001b[0m\u001b[0;34m\u001b[0m\u001b[0;34m\u001b[0m\u001b[0m\n\u001b[1;32m    620\u001b[0m         \u001b[0mfilepath_or_buffer\u001b[0m\u001b[0;34m.\u001b[0m\u001b[0mclose\u001b[0m\u001b[0;34m(\u001b[0m\u001b[0;34m)\u001b[0m\u001b[0;34m\u001b[0m\u001b[0;34m\u001b[0m\u001b[0m\n",
      "\u001b[0;32m~/.local/lib/python3.6/site-packages/pandas/io/json/_json.py\u001b[0m in \u001b[0;36mread\u001b[0;34m(self)\u001b[0m\n\u001b[1;32m    751\u001b[0m                 \u001b[0mdata\u001b[0m \u001b[0;34m=\u001b[0m \u001b[0mensure_str\u001b[0m\u001b[0;34m(\u001b[0m\u001b[0mself\u001b[0m\u001b[0;34m.\u001b[0m\u001b[0mdata\u001b[0m\u001b[0;34m)\u001b[0m\u001b[0;34m\u001b[0m\u001b[0;34m\u001b[0m\u001b[0m\n\u001b[1;32m    752\u001b[0m                 \u001b[0mdata\u001b[0m \u001b[0;34m=\u001b[0m \u001b[0mdata\u001b[0m\u001b[0;34m.\u001b[0m\u001b[0msplit\u001b[0m\u001b[0;34m(\u001b[0m\u001b[0;34m\"\\n\"\u001b[0m\u001b[0;34m)\u001b[0m\u001b[0;34m\u001b[0m\u001b[0;34m\u001b[0m\u001b[0m\n\u001b[0;32m--> 753\u001b[0;31m                 \u001b[0mobj\u001b[0m \u001b[0;34m=\u001b[0m \u001b[0mself\u001b[0m\u001b[0;34m.\u001b[0m\u001b[0m_get_object_parser\u001b[0m\u001b[0;34m(\u001b[0m\u001b[0mself\u001b[0m\u001b[0;34m.\u001b[0m\u001b[0m_combine_lines\u001b[0m\u001b[0;34m(\u001b[0m\u001b[0mdata\u001b[0m\u001b[0;34m)\u001b[0m\u001b[0;34m)\u001b[0m\u001b[0;34m\u001b[0m\u001b[0;34m\u001b[0m\u001b[0m\n\u001b[0m\u001b[1;32m    754\u001b[0m         \u001b[0;32melse\u001b[0m\u001b[0;34m:\u001b[0m\u001b[0;34m\u001b[0m\u001b[0;34m\u001b[0m\u001b[0m\n\u001b[1;32m    755\u001b[0m             \u001b[0mobj\u001b[0m \u001b[0;34m=\u001b[0m \u001b[0mself\u001b[0m\u001b[0;34m.\u001b[0m\u001b[0m_get_object_parser\u001b[0m\u001b[0;34m(\u001b[0m\u001b[0mself\u001b[0m\u001b[0;34m.\u001b[0m\u001b[0mdata\u001b[0m\u001b[0;34m)\u001b[0m\u001b[0;34m\u001b[0m\u001b[0;34m\u001b[0m\u001b[0m\n",
      "\u001b[0;32m~/.local/lib/python3.6/site-packages/pandas/io/json/_json.py\u001b[0m in \u001b[0;36m_get_object_parser\u001b[0;34m(self, json)\u001b[0m\n\u001b[1;32m    775\u001b[0m         \u001b[0mobj\u001b[0m \u001b[0;34m=\u001b[0m \u001b[0;32mNone\u001b[0m\u001b[0;34m\u001b[0m\u001b[0;34m\u001b[0m\u001b[0m\n\u001b[1;32m    776\u001b[0m         \u001b[0;32mif\u001b[0m \u001b[0mtyp\u001b[0m \u001b[0;34m==\u001b[0m \u001b[0;34m\"frame\"\u001b[0m\u001b[0;34m:\u001b[0m\u001b[0;34m\u001b[0m\u001b[0;34m\u001b[0m\u001b[0m\n\u001b[0;32m--> 777\u001b[0;31m             \u001b[0mobj\u001b[0m \u001b[0;34m=\u001b[0m \u001b[0mFrameParser\u001b[0m\u001b[0;34m(\u001b[0m\u001b[0mjson\u001b[0m\u001b[0;34m,\u001b[0m \u001b[0;34m**\u001b[0m\u001b[0mkwargs\u001b[0m\u001b[0;34m)\u001b[0m\u001b[0;34m.\u001b[0m\u001b[0mparse\u001b[0m\u001b[0;34m(\u001b[0m\u001b[0;34m)\u001b[0m\u001b[0;34m\u001b[0m\u001b[0;34m\u001b[0m\u001b[0m\n\u001b[0m\u001b[1;32m    778\u001b[0m \u001b[0;34m\u001b[0m\u001b[0m\n\u001b[1;32m    779\u001b[0m         \u001b[0;32mif\u001b[0m \u001b[0mtyp\u001b[0m \u001b[0;34m==\u001b[0m \u001b[0;34m\"series\"\u001b[0m \u001b[0;32mor\u001b[0m \u001b[0mobj\u001b[0m \u001b[0;32mis\u001b[0m \u001b[0;32mNone\u001b[0m\u001b[0;34m:\u001b[0m\u001b[0;34m\u001b[0m\u001b[0;34m\u001b[0m\u001b[0m\n",
      "\u001b[0;32m~/.local/lib/python3.6/site-packages/pandas/io/json/_json.py\u001b[0m in \u001b[0;36mparse\u001b[0;34m(self)\u001b[0m\n\u001b[1;32m    884\u001b[0m \u001b[0;34m\u001b[0m\u001b[0m\n\u001b[1;32m    885\u001b[0m         \u001b[0;32melse\u001b[0m\u001b[0;34m:\u001b[0m\u001b[0;34m\u001b[0m\u001b[0;34m\u001b[0m\u001b[0m\n\u001b[0;32m--> 886\u001b[0;31m             \u001b[0mself\u001b[0m\u001b[0;34m.\u001b[0m\u001b[0m_parse_no_numpy\u001b[0m\u001b[0;34m(\u001b[0m\u001b[0;34m)\u001b[0m\u001b[0;34m\u001b[0m\u001b[0;34m\u001b[0m\u001b[0m\n\u001b[0m\u001b[1;32m    887\u001b[0m \u001b[0;34m\u001b[0m\u001b[0m\n\u001b[1;32m    888\u001b[0m         \u001b[0;32mif\u001b[0m \u001b[0mself\u001b[0m\u001b[0;34m.\u001b[0m\u001b[0mobj\u001b[0m \u001b[0;32mis\u001b[0m \u001b[0;32mNone\u001b[0m\u001b[0;34m:\u001b[0m\u001b[0;34m\u001b[0m\u001b[0;34m\u001b[0m\u001b[0m\n",
      "\u001b[0;32m~/.local/lib/python3.6/site-packages/pandas/io/json/_json.py\u001b[0m in \u001b[0;36m_parse_no_numpy\u001b[0;34m(self)\u001b[0m\n\u001b[1;32m   1117\u001b[0m         \u001b[0;32mif\u001b[0m \u001b[0morient\u001b[0m \u001b[0;34m==\u001b[0m \u001b[0;34m\"columns\"\u001b[0m\u001b[0;34m:\u001b[0m\u001b[0;34m\u001b[0m\u001b[0;34m\u001b[0m\u001b[0m\n\u001b[1;32m   1118\u001b[0m             self.obj = DataFrame(\n\u001b[0;32m-> 1119\u001b[0;31m                 \u001b[0mloads\u001b[0m\u001b[0;34m(\u001b[0m\u001b[0mjson\u001b[0m\u001b[0;34m,\u001b[0m \u001b[0mprecise_float\u001b[0m\u001b[0;34m=\u001b[0m\u001b[0mself\u001b[0m\u001b[0;34m.\u001b[0m\u001b[0mprecise_float\u001b[0m\u001b[0;34m)\u001b[0m\u001b[0;34m,\u001b[0m \u001b[0mdtype\u001b[0m\u001b[0;34m=\u001b[0m\u001b[0;32mNone\u001b[0m\u001b[0;34m\u001b[0m\u001b[0;34m\u001b[0m\u001b[0m\n\u001b[0m\u001b[1;32m   1120\u001b[0m             )\n\u001b[1;32m   1121\u001b[0m         \u001b[0;32melif\u001b[0m \u001b[0morient\u001b[0m \u001b[0;34m==\u001b[0m \u001b[0;34m\"split\"\u001b[0m\u001b[0;34m:\u001b[0m\u001b[0;34m\u001b[0m\u001b[0;34m\u001b[0m\u001b[0m\n",
      "\u001b[0;31mValueError\u001b[0m: Unexpected character found when decoding 'null'"
     ]
    }
   ],
   "source": [
    "df = pd.read_json(\"news-articles-ptbr-dataset_train.json\", lines=True)"
   ]
  },
  {
   "cell_type": "code",
   "execution_count": 6,
   "id": "f16521a1",
   "metadata": {},
   "outputs": [
    {
     "ename": "FileNotFoundError",
     "evalue": "[Errno 2] No such file or directory: 'news-articles-ptbr-dataset_train.json'",
     "output_type": "error",
     "traceback": [
      "\u001b[0;31m---------------------------------------------------------------------------\u001b[0m",
      "\u001b[0;31mFileNotFoundError\u001b[0m                         Traceback (most recent call last)",
      "\u001b[0;32m<ipython-input-6-9349e87331fe>\u001b[0m in \u001b[0;36m<module>\u001b[0;34m\u001b[0m\n\u001b[1;32m      1\u001b[0m \u001b[0;32mimport\u001b[0m \u001b[0mjson\u001b[0m\u001b[0;34m\u001b[0m\u001b[0;34m\u001b[0m\u001b[0m\n\u001b[1;32m      2\u001b[0m \u001b[0;34m\u001b[0m\u001b[0m\n\u001b[0;32m----> 3\u001b[0;31m \u001b[0;32mwith\u001b[0m \u001b[0mopen\u001b[0m\u001b[0;34m(\u001b[0m\u001b[0;34m\"news-articles-ptbr-dataset_train.json\"\u001b[0m\u001b[0;34m,\u001b[0m \u001b[0;34m\"r\"\u001b[0m\u001b[0;34m)\u001b[0m \u001b[0;32mas\u001b[0m \u001b[0mfile\u001b[0m\u001b[0;34m:\u001b[0m\u001b[0;34m\u001b[0m\u001b[0;34m\u001b[0m\u001b[0m\n\u001b[0m\u001b[1;32m      4\u001b[0m     \u001b[0;32mfor\u001b[0m \u001b[0mi\u001b[0m\u001b[0;34m,\u001b[0m \u001b[0mline\u001b[0m \u001b[0;32min\u001b[0m \u001b[0menumerate\u001b[0m\u001b[0;34m(\u001b[0m\u001b[0mfile\u001b[0m\u001b[0;34m)\u001b[0m\u001b[0;34m:\u001b[0m\u001b[0;34m\u001b[0m\u001b[0;34m\u001b[0m\u001b[0m\n\u001b[1;32m      5\u001b[0m         \u001b[0;32mtry\u001b[0m\u001b[0;34m:\u001b[0m\u001b[0;34m\u001b[0m\u001b[0;34m\u001b[0m\u001b[0m\n",
      "\u001b[0;31mFileNotFoundError\u001b[0m: [Errno 2] No such file or directory: 'news-articles-ptbr-dataset_train.json'"
     ]
    }
   ],
   "source": [
    "import json\n",
    "\n",
    "with open(\"news-articles-ptbr-dataset_train.json\", \"r\") as file:\n",
    "    for i, line in enumerate(file):\n",
    "        try:\n",
    "            json.loads(line)\n",
    "        except json.JSONDecodeError:\n",
    "            print(f\"Error decoding JSON on line {i + 1}\")"
   ]
  },
  {
   "cell_type": "code",
   "execution_count": 7,
   "id": "893dd2cb",
   "metadata": {},
   "outputs": [],
   "source": [
    "import json\n",
    "\n",
    "with open(\"/home/opc/Projeto NLP PT-BR/iara-project/news-articles-ptbr-dataset_train.json\", \"r\") as file:\n",
    "    for i, line in enumerate(file):\n",
    "        try:\n",
    "            json.loads(line)\n",
    "        except json.JSONDecodeError:\n",
    "            print(f\"Error decoding JSON on line {i + 1}\")"
   ]
  },
  {
   "cell_type": "code",
   "execution_count": 8,
   "id": "9f6445b1",
   "metadata": {},
   "outputs": [
    {
     "ename": "ValueError",
     "evalue": "Unexpected character found when decoding 'null'",
     "output_type": "error",
     "traceback": [
      "\u001b[0;31m---------------------------------------------------------------------------\u001b[0m",
      "\u001b[0;31mValueError\u001b[0m                                Traceback (most recent call last)",
      "\u001b[0;32m<ipython-input-8-b20f6913d82d>\u001b[0m in \u001b[0;36m<module>\u001b[0;34m\u001b[0m\n\u001b[0;32m----> 1\u001b[0;31m \u001b[0mdf\u001b[0m \u001b[0;34m=\u001b[0m \u001b[0mpd\u001b[0m\u001b[0;34m.\u001b[0m\u001b[0mread_json\u001b[0m\u001b[0;34m(\u001b[0m\u001b[0;34m\"news-articles-ptbr-dataset_train.json\"\u001b[0m\u001b[0;34m,\u001b[0m \u001b[0mlines\u001b[0m\u001b[0;34m=\u001b[0m\u001b[0;32mTrue\u001b[0m\u001b[0;34m)\u001b[0m\u001b[0;34m\u001b[0m\u001b[0;34m\u001b[0m\u001b[0m\n\u001b[0m",
      "\u001b[0;32m~/.local/lib/python3.6/site-packages/pandas/util/_decorators.py\u001b[0m in \u001b[0;36mwrapper\u001b[0;34m(*args, **kwargs)\u001b[0m\n\u001b[1;32m    197\u001b[0m                 \u001b[0;32melse\u001b[0m\u001b[0;34m:\u001b[0m\u001b[0;34m\u001b[0m\u001b[0;34m\u001b[0m\u001b[0m\n\u001b[1;32m    198\u001b[0m                     \u001b[0mkwargs\u001b[0m\u001b[0;34m[\u001b[0m\u001b[0mnew_arg_name\u001b[0m\u001b[0;34m]\u001b[0m \u001b[0;34m=\u001b[0m \u001b[0mnew_arg_value\u001b[0m\u001b[0;34m\u001b[0m\u001b[0;34m\u001b[0m\u001b[0m\n\u001b[0;32m--> 199\u001b[0;31m             \u001b[0;32mreturn\u001b[0m \u001b[0mfunc\u001b[0m\u001b[0;34m(\u001b[0m\u001b[0;34m*\u001b[0m\u001b[0margs\u001b[0m\u001b[0;34m,\u001b[0m \u001b[0;34m**\u001b[0m\u001b[0mkwargs\u001b[0m\u001b[0;34m)\u001b[0m\u001b[0;34m\u001b[0m\u001b[0;34m\u001b[0m\u001b[0m\n\u001b[0m\u001b[1;32m    200\u001b[0m \u001b[0;34m\u001b[0m\u001b[0m\n\u001b[1;32m    201\u001b[0m         \u001b[0;32mreturn\u001b[0m \u001b[0mcast\u001b[0m\u001b[0;34m(\u001b[0m\u001b[0mF\u001b[0m\u001b[0;34m,\u001b[0m \u001b[0mwrapper\u001b[0m\u001b[0;34m)\u001b[0m\u001b[0;34m\u001b[0m\u001b[0;34m\u001b[0m\u001b[0m\n",
      "\u001b[0;32m~/.local/lib/python3.6/site-packages/pandas/util/_decorators.py\u001b[0m in \u001b[0;36mwrapper\u001b[0;34m(*args, **kwargs)\u001b[0m\n\u001b[1;32m    294\u001b[0m                 )\n\u001b[1;32m    295\u001b[0m                 \u001b[0mwarnings\u001b[0m\u001b[0;34m.\u001b[0m\u001b[0mwarn\u001b[0m\u001b[0;34m(\u001b[0m\u001b[0mmsg\u001b[0m\u001b[0;34m,\u001b[0m \u001b[0mFutureWarning\u001b[0m\u001b[0;34m,\u001b[0m \u001b[0mstacklevel\u001b[0m\u001b[0;34m=\u001b[0m\u001b[0mstacklevel\u001b[0m\u001b[0;34m)\u001b[0m\u001b[0;34m\u001b[0m\u001b[0;34m\u001b[0m\u001b[0m\n\u001b[0;32m--> 296\u001b[0;31m             \u001b[0;32mreturn\u001b[0m \u001b[0mfunc\u001b[0m\u001b[0;34m(\u001b[0m\u001b[0;34m*\u001b[0m\u001b[0margs\u001b[0m\u001b[0;34m,\u001b[0m \u001b[0;34m**\u001b[0m\u001b[0mkwargs\u001b[0m\u001b[0;34m)\u001b[0m\u001b[0;34m\u001b[0m\u001b[0;34m\u001b[0m\u001b[0m\n\u001b[0m\u001b[1;32m    297\u001b[0m \u001b[0;34m\u001b[0m\u001b[0m\n\u001b[1;32m    298\u001b[0m         \u001b[0;32mreturn\u001b[0m \u001b[0mwrapper\u001b[0m\u001b[0;34m\u001b[0m\u001b[0;34m\u001b[0m\u001b[0m\n",
      "\u001b[0;32m~/.local/lib/python3.6/site-packages/pandas/io/json/_json.py\u001b[0m in \u001b[0;36mread_json\u001b[0;34m(path_or_buf, orient, typ, dtype, convert_axes, convert_dates, keep_default_dates, numpy, precise_float, date_unit, encoding, lines, chunksize, compression, nrows)\u001b[0m\n\u001b[1;32m    616\u001b[0m         \u001b[0;32mreturn\u001b[0m \u001b[0mjson_reader\u001b[0m\u001b[0;34m\u001b[0m\u001b[0;34m\u001b[0m\u001b[0m\n\u001b[1;32m    617\u001b[0m \u001b[0;34m\u001b[0m\u001b[0m\n\u001b[0;32m--> 618\u001b[0;31m     \u001b[0mresult\u001b[0m \u001b[0;34m=\u001b[0m \u001b[0mjson_reader\u001b[0m\u001b[0;34m.\u001b[0m\u001b[0mread\u001b[0m\u001b[0;34m(\u001b[0m\u001b[0;34m)\u001b[0m\u001b[0;34m\u001b[0m\u001b[0;34m\u001b[0m\u001b[0m\n\u001b[0m\u001b[1;32m    619\u001b[0m     \u001b[0;32mif\u001b[0m \u001b[0mshould_close\u001b[0m\u001b[0;34m:\u001b[0m\u001b[0;34m\u001b[0m\u001b[0;34m\u001b[0m\u001b[0m\n\u001b[1;32m    620\u001b[0m         \u001b[0mfilepath_or_buffer\u001b[0m\u001b[0;34m.\u001b[0m\u001b[0mclose\u001b[0m\u001b[0;34m(\u001b[0m\u001b[0;34m)\u001b[0m\u001b[0;34m\u001b[0m\u001b[0;34m\u001b[0m\u001b[0m\n",
      "\u001b[0;32m~/.local/lib/python3.6/site-packages/pandas/io/json/_json.py\u001b[0m in \u001b[0;36mread\u001b[0;34m(self)\u001b[0m\n\u001b[1;32m    751\u001b[0m                 \u001b[0mdata\u001b[0m \u001b[0;34m=\u001b[0m \u001b[0mensure_str\u001b[0m\u001b[0;34m(\u001b[0m\u001b[0mself\u001b[0m\u001b[0;34m.\u001b[0m\u001b[0mdata\u001b[0m\u001b[0;34m)\u001b[0m\u001b[0;34m\u001b[0m\u001b[0;34m\u001b[0m\u001b[0m\n\u001b[1;32m    752\u001b[0m                 \u001b[0mdata\u001b[0m \u001b[0;34m=\u001b[0m \u001b[0mdata\u001b[0m\u001b[0;34m.\u001b[0m\u001b[0msplit\u001b[0m\u001b[0;34m(\u001b[0m\u001b[0;34m\"\\n\"\u001b[0m\u001b[0;34m)\u001b[0m\u001b[0;34m\u001b[0m\u001b[0;34m\u001b[0m\u001b[0m\n\u001b[0;32m--> 753\u001b[0;31m                 \u001b[0mobj\u001b[0m \u001b[0;34m=\u001b[0m \u001b[0mself\u001b[0m\u001b[0;34m.\u001b[0m\u001b[0m_get_object_parser\u001b[0m\u001b[0;34m(\u001b[0m\u001b[0mself\u001b[0m\u001b[0;34m.\u001b[0m\u001b[0m_combine_lines\u001b[0m\u001b[0;34m(\u001b[0m\u001b[0mdata\u001b[0m\u001b[0;34m)\u001b[0m\u001b[0;34m)\u001b[0m\u001b[0;34m\u001b[0m\u001b[0;34m\u001b[0m\u001b[0m\n\u001b[0m\u001b[1;32m    754\u001b[0m         \u001b[0;32melse\u001b[0m\u001b[0;34m:\u001b[0m\u001b[0;34m\u001b[0m\u001b[0;34m\u001b[0m\u001b[0m\n\u001b[1;32m    755\u001b[0m             \u001b[0mobj\u001b[0m \u001b[0;34m=\u001b[0m \u001b[0mself\u001b[0m\u001b[0;34m.\u001b[0m\u001b[0m_get_object_parser\u001b[0m\u001b[0;34m(\u001b[0m\u001b[0mself\u001b[0m\u001b[0;34m.\u001b[0m\u001b[0mdata\u001b[0m\u001b[0;34m)\u001b[0m\u001b[0;34m\u001b[0m\u001b[0;34m\u001b[0m\u001b[0m\n",
      "\u001b[0;32m~/.local/lib/python3.6/site-packages/pandas/io/json/_json.py\u001b[0m in \u001b[0;36m_get_object_parser\u001b[0;34m(self, json)\u001b[0m\n\u001b[1;32m    775\u001b[0m         \u001b[0mobj\u001b[0m \u001b[0;34m=\u001b[0m \u001b[0;32mNone\u001b[0m\u001b[0;34m\u001b[0m\u001b[0;34m\u001b[0m\u001b[0m\n\u001b[1;32m    776\u001b[0m         \u001b[0;32mif\u001b[0m \u001b[0mtyp\u001b[0m \u001b[0;34m==\u001b[0m \u001b[0;34m\"frame\"\u001b[0m\u001b[0;34m:\u001b[0m\u001b[0;34m\u001b[0m\u001b[0;34m\u001b[0m\u001b[0m\n\u001b[0;32m--> 777\u001b[0;31m             \u001b[0mobj\u001b[0m \u001b[0;34m=\u001b[0m \u001b[0mFrameParser\u001b[0m\u001b[0;34m(\u001b[0m\u001b[0mjson\u001b[0m\u001b[0;34m,\u001b[0m \u001b[0;34m**\u001b[0m\u001b[0mkwargs\u001b[0m\u001b[0;34m)\u001b[0m\u001b[0;34m.\u001b[0m\u001b[0mparse\u001b[0m\u001b[0;34m(\u001b[0m\u001b[0;34m)\u001b[0m\u001b[0;34m\u001b[0m\u001b[0;34m\u001b[0m\u001b[0m\n\u001b[0m\u001b[1;32m    778\u001b[0m \u001b[0;34m\u001b[0m\u001b[0m\n\u001b[1;32m    779\u001b[0m         \u001b[0;32mif\u001b[0m \u001b[0mtyp\u001b[0m \u001b[0;34m==\u001b[0m \u001b[0;34m\"series\"\u001b[0m \u001b[0;32mor\u001b[0m \u001b[0mobj\u001b[0m \u001b[0;32mis\u001b[0m \u001b[0;32mNone\u001b[0m\u001b[0;34m:\u001b[0m\u001b[0;34m\u001b[0m\u001b[0;34m\u001b[0m\u001b[0m\n",
      "\u001b[0;32m~/.local/lib/python3.6/site-packages/pandas/io/json/_json.py\u001b[0m in \u001b[0;36mparse\u001b[0;34m(self)\u001b[0m\n\u001b[1;32m    884\u001b[0m \u001b[0;34m\u001b[0m\u001b[0m\n\u001b[1;32m    885\u001b[0m         \u001b[0;32melse\u001b[0m\u001b[0;34m:\u001b[0m\u001b[0;34m\u001b[0m\u001b[0;34m\u001b[0m\u001b[0m\n\u001b[0;32m--> 886\u001b[0;31m             \u001b[0mself\u001b[0m\u001b[0;34m.\u001b[0m\u001b[0m_parse_no_numpy\u001b[0m\u001b[0;34m(\u001b[0m\u001b[0;34m)\u001b[0m\u001b[0;34m\u001b[0m\u001b[0;34m\u001b[0m\u001b[0m\n\u001b[0m\u001b[1;32m    887\u001b[0m \u001b[0;34m\u001b[0m\u001b[0m\n\u001b[1;32m    888\u001b[0m         \u001b[0;32mif\u001b[0m \u001b[0mself\u001b[0m\u001b[0;34m.\u001b[0m\u001b[0mobj\u001b[0m \u001b[0;32mis\u001b[0m \u001b[0;32mNone\u001b[0m\u001b[0;34m:\u001b[0m\u001b[0;34m\u001b[0m\u001b[0;34m\u001b[0m\u001b[0m\n",
      "\u001b[0;32m~/.local/lib/python3.6/site-packages/pandas/io/json/_json.py\u001b[0m in \u001b[0;36m_parse_no_numpy\u001b[0;34m(self)\u001b[0m\n\u001b[1;32m   1117\u001b[0m         \u001b[0;32mif\u001b[0m \u001b[0morient\u001b[0m \u001b[0;34m==\u001b[0m \u001b[0;34m\"columns\"\u001b[0m\u001b[0;34m:\u001b[0m\u001b[0;34m\u001b[0m\u001b[0;34m\u001b[0m\u001b[0m\n\u001b[1;32m   1118\u001b[0m             self.obj = DataFrame(\n\u001b[0;32m-> 1119\u001b[0;31m                 \u001b[0mloads\u001b[0m\u001b[0;34m(\u001b[0m\u001b[0mjson\u001b[0m\u001b[0;34m,\u001b[0m \u001b[0mprecise_float\u001b[0m\u001b[0;34m=\u001b[0m\u001b[0mself\u001b[0m\u001b[0;34m.\u001b[0m\u001b[0mprecise_float\u001b[0m\u001b[0;34m)\u001b[0m\u001b[0;34m,\u001b[0m \u001b[0mdtype\u001b[0m\u001b[0;34m=\u001b[0m\u001b[0;32mNone\u001b[0m\u001b[0;34m\u001b[0m\u001b[0;34m\u001b[0m\u001b[0m\n\u001b[0m\u001b[1;32m   1120\u001b[0m             )\n\u001b[1;32m   1121\u001b[0m         \u001b[0;32melif\u001b[0m \u001b[0morient\u001b[0m \u001b[0;34m==\u001b[0m \u001b[0;34m\"split\"\u001b[0m\u001b[0;34m:\u001b[0m\u001b[0;34m\u001b[0m\u001b[0;34m\u001b[0m\u001b[0m\n",
      "\u001b[0;31mValueError\u001b[0m: Unexpected character found when decoding 'null'"
     ]
    }
   ],
   "source": [
    "df = pd.read_json(\"news-articles-ptbr-dataset_train.json\", lines=True)"
   ]
  },
  {
   "cell_type": "code",
   "execution_count": 9,
   "id": "13d4728e",
   "metadata": {},
   "outputs": [
    {
     "ename": "ValueError",
     "evalue": "Unexpected character found when decoding 'null'",
     "output_type": "error",
     "traceback": [
      "\u001b[0;31m---------------------------------------------------------------------------\u001b[0m",
      "\u001b[0;31mValueError\u001b[0m                                Traceback (most recent call last)",
      "\u001b[0;32m<ipython-input-9-8f9d0dcdaec1>\u001b[0m in \u001b[0;36m<module>\u001b[0;34m\u001b[0m\n\u001b[0;32m----> 1\u001b[0;31m \u001b[0mdf\u001b[0m \u001b[0;34m=\u001b[0m \u001b[0mpd\u001b[0m\u001b[0;34m.\u001b[0m\u001b[0mread_json\u001b[0m\u001b[0;34m(\u001b[0m\u001b[0;34m'news-articles-ptbr-dataset_train.json'\u001b[0m\u001b[0;34m,\u001b[0m \u001b[0mlines\u001b[0m\u001b[0;34m=\u001b[0m\u001b[0;32mTrue\u001b[0m\u001b[0;34m,\u001b[0m \u001b[0mencoding\u001b[0m\u001b[0;34m=\u001b[0m\u001b[0;34m'utf-8'\u001b[0m\u001b[0;34m)\u001b[0m\u001b[0;34m\u001b[0m\u001b[0;34m\u001b[0m\u001b[0m\n\u001b[0m",
      "\u001b[0;32m~/.local/lib/python3.6/site-packages/pandas/util/_decorators.py\u001b[0m in \u001b[0;36mwrapper\u001b[0;34m(*args, **kwargs)\u001b[0m\n\u001b[1;32m    197\u001b[0m                 \u001b[0;32melse\u001b[0m\u001b[0;34m:\u001b[0m\u001b[0;34m\u001b[0m\u001b[0;34m\u001b[0m\u001b[0m\n\u001b[1;32m    198\u001b[0m                     \u001b[0mkwargs\u001b[0m\u001b[0;34m[\u001b[0m\u001b[0mnew_arg_name\u001b[0m\u001b[0;34m]\u001b[0m \u001b[0;34m=\u001b[0m \u001b[0mnew_arg_value\u001b[0m\u001b[0;34m\u001b[0m\u001b[0;34m\u001b[0m\u001b[0m\n\u001b[0;32m--> 199\u001b[0;31m             \u001b[0;32mreturn\u001b[0m \u001b[0mfunc\u001b[0m\u001b[0;34m(\u001b[0m\u001b[0;34m*\u001b[0m\u001b[0margs\u001b[0m\u001b[0;34m,\u001b[0m \u001b[0;34m**\u001b[0m\u001b[0mkwargs\u001b[0m\u001b[0;34m)\u001b[0m\u001b[0;34m\u001b[0m\u001b[0;34m\u001b[0m\u001b[0m\n\u001b[0m\u001b[1;32m    200\u001b[0m \u001b[0;34m\u001b[0m\u001b[0m\n\u001b[1;32m    201\u001b[0m         \u001b[0;32mreturn\u001b[0m \u001b[0mcast\u001b[0m\u001b[0;34m(\u001b[0m\u001b[0mF\u001b[0m\u001b[0;34m,\u001b[0m \u001b[0mwrapper\u001b[0m\u001b[0;34m)\u001b[0m\u001b[0;34m\u001b[0m\u001b[0;34m\u001b[0m\u001b[0m\n",
      "\u001b[0;32m~/.local/lib/python3.6/site-packages/pandas/util/_decorators.py\u001b[0m in \u001b[0;36mwrapper\u001b[0;34m(*args, **kwargs)\u001b[0m\n\u001b[1;32m    294\u001b[0m                 )\n\u001b[1;32m    295\u001b[0m                 \u001b[0mwarnings\u001b[0m\u001b[0;34m.\u001b[0m\u001b[0mwarn\u001b[0m\u001b[0;34m(\u001b[0m\u001b[0mmsg\u001b[0m\u001b[0;34m,\u001b[0m \u001b[0mFutureWarning\u001b[0m\u001b[0;34m,\u001b[0m \u001b[0mstacklevel\u001b[0m\u001b[0;34m=\u001b[0m\u001b[0mstacklevel\u001b[0m\u001b[0;34m)\u001b[0m\u001b[0;34m\u001b[0m\u001b[0;34m\u001b[0m\u001b[0m\n\u001b[0;32m--> 296\u001b[0;31m             \u001b[0;32mreturn\u001b[0m \u001b[0mfunc\u001b[0m\u001b[0;34m(\u001b[0m\u001b[0;34m*\u001b[0m\u001b[0margs\u001b[0m\u001b[0;34m,\u001b[0m \u001b[0;34m**\u001b[0m\u001b[0mkwargs\u001b[0m\u001b[0;34m)\u001b[0m\u001b[0;34m\u001b[0m\u001b[0;34m\u001b[0m\u001b[0m\n\u001b[0m\u001b[1;32m    297\u001b[0m \u001b[0;34m\u001b[0m\u001b[0m\n\u001b[1;32m    298\u001b[0m         \u001b[0;32mreturn\u001b[0m \u001b[0mwrapper\u001b[0m\u001b[0;34m\u001b[0m\u001b[0;34m\u001b[0m\u001b[0m\n",
      "\u001b[0;32m~/.local/lib/python3.6/site-packages/pandas/io/json/_json.py\u001b[0m in \u001b[0;36mread_json\u001b[0;34m(path_or_buf, orient, typ, dtype, convert_axes, convert_dates, keep_default_dates, numpy, precise_float, date_unit, encoding, lines, chunksize, compression, nrows)\u001b[0m\n\u001b[1;32m    616\u001b[0m         \u001b[0;32mreturn\u001b[0m \u001b[0mjson_reader\u001b[0m\u001b[0;34m\u001b[0m\u001b[0;34m\u001b[0m\u001b[0m\n\u001b[1;32m    617\u001b[0m \u001b[0;34m\u001b[0m\u001b[0m\n\u001b[0;32m--> 618\u001b[0;31m     \u001b[0mresult\u001b[0m \u001b[0;34m=\u001b[0m \u001b[0mjson_reader\u001b[0m\u001b[0;34m.\u001b[0m\u001b[0mread\u001b[0m\u001b[0;34m(\u001b[0m\u001b[0;34m)\u001b[0m\u001b[0;34m\u001b[0m\u001b[0;34m\u001b[0m\u001b[0m\n\u001b[0m\u001b[1;32m    619\u001b[0m     \u001b[0;32mif\u001b[0m \u001b[0mshould_close\u001b[0m\u001b[0;34m:\u001b[0m\u001b[0;34m\u001b[0m\u001b[0;34m\u001b[0m\u001b[0m\n\u001b[1;32m    620\u001b[0m         \u001b[0mfilepath_or_buffer\u001b[0m\u001b[0;34m.\u001b[0m\u001b[0mclose\u001b[0m\u001b[0;34m(\u001b[0m\u001b[0;34m)\u001b[0m\u001b[0;34m\u001b[0m\u001b[0;34m\u001b[0m\u001b[0m\n",
      "\u001b[0;32m~/.local/lib/python3.6/site-packages/pandas/io/json/_json.py\u001b[0m in \u001b[0;36mread\u001b[0;34m(self)\u001b[0m\n\u001b[1;32m    751\u001b[0m                 \u001b[0mdata\u001b[0m \u001b[0;34m=\u001b[0m \u001b[0mensure_str\u001b[0m\u001b[0;34m(\u001b[0m\u001b[0mself\u001b[0m\u001b[0;34m.\u001b[0m\u001b[0mdata\u001b[0m\u001b[0;34m)\u001b[0m\u001b[0;34m\u001b[0m\u001b[0;34m\u001b[0m\u001b[0m\n\u001b[1;32m    752\u001b[0m                 \u001b[0mdata\u001b[0m \u001b[0;34m=\u001b[0m \u001b[0mdata\u001b[0m\u001b[0;34m.\u001b[0m\u001b[0msplit\u001b[0m\u001b[0;34m(\u001b[0m\u001b[0;34m\"\\n\"\u001b[0m\u001b[0;34m)\u001b[0m\u001b[0;34m\u001b[0m\u001b[0;34m\u001b[0m\u001b[0m\n\u001b[0;32m--> 753\u001b[0;31m                 \u001b[0mobj\u001b[0m \u001b[0;34m=\u001b[0m \u001b[0mself\u001b[0m\u001b[0;34m.\u001b[0m\u001b[0m_get_object_parser\u001b[0m\u001b[0;34m(\u001b[0m\u001b[0mself\u001b[0m\u001b[0;34m.\u001b[0m\u001b[0m_combine_lines\u001b[0m\u001b[0;34m(\u001b[0m\u001b[0mdata\u001b[0m\u001b[0;34m)\u001b[0m\u001b[0;34m)\u001b[0m\u001b[0;34m\u001b[0m\u001b[0;34m\u001b[0m\u001b[0m\n\u001b[0m\u001b[1;32m    754\u001b[0m         \u001b[0;32melse\u001b[0m\u001b[0;34m:\u001b[0m\u001b[0;34m\u001b[0m\u001b[0;34m\u001b[0m\u001b[0m\n\u001b[1;32m    755\u001b[0m             \u001b[0mobj\u001b[0m \u001b[0;34m=\u001b[0m \u001b[0mself\u001b[0m\u001b[0;34m.\u001b[0m\u001b[0m_get_object_parser\u001b[0m\u001b[0;34m(\u001b[0m\u001b[0mself\u001b[0m\u001b[0;34m.\u001b[0m\u001b[0mdata\u001b[0m\u001b[0;34m)\u001b[0m\u001b[0;34m\u001b[0m\u001b[0;34m\u001b[0m\u001b[0m\n",
      "\u001b[0;32m~/.local/lib/python3.6/site-packages/pandas/io/json/_json.py\u001b[0m in \u001b[0;36m_get_object_parser\u001b[0;34m(self, json)\u001b[0m\n\u001b[1;32m    775\u001b[0m         \u001b[0mobj\u001b[0m \u001b[0;34m=\u001b[0m \u001b[0;32mNone\u001b[0m\u001b[0;34m\u001b[0m\u001b[0;34m\u001b[0m\u001b[0m\n\u001b[1;32m    776\u001b[0m         \u001b[0;32mif\u001b[0m \u001b[0mtyp\u001b[0m \u001b[0;34m==\u001b[0m \u001b[0;34m\"frame\"\u001b[0m\u001b[0;34m:\u001b[0m\u001b[0;34m\u001b[0m\u001b[0;34m\u001b[0m\u001b[0m\n\u001b[0;32m--> 777\u001b[0;31m             \u001b[0mobj\u001b[0m \u001b[0;34m=\u001b[0m \u001b[0mFrameParser\u001b[0m\u001b[0;34m(\u001b[0m\u001b[0mjson\u001b[0m\u001b[0;34m,\u001b[0m \u001b[0;34m**\u001b[0m\u001b[0mkwargs\u001b[0m\u001b[0;34m)\u001b[0m\u001b[0;34m.\u001b[0m\u001b[0mparse\u001b[0m\u001b[0;34m(\u001b[0m\u001b[0;34m)\u001b[0m\u001b[0;34m\u001b[0m\u001b[0;34m\u001b[0m\u001b[0m\n\u001b[0m\u001b[1;32m    778\u001b[0m \u001b[0;34m\u001b[0m\u001b[0m\n\u001b[1;32m    779\u001b[0m         \u001b[0;32mif\u001b[0m \u001b[0mtyp\u001b[0m \u001b[0;34m==\u001b[0m \u001b[0;34m\"series\"\u001b[0m \u001b[0;32mor\u001b[0m \u001b[0mobj\u001b[0m \u001b[0;32mis\u001b[0m \u001b[0;32mNone\u001b[0m\u001b[0;34m:\u001b[0m\u001b[0;34m\u001b[0m\u001b[0;34m\u001b[0m\u001b[0m\n",
      "\u001b[0;32m~/.local/lib/python3.6/site-packages/pandas/io/json/_json.py\u001b[0m in \u001b[0;36mparse\u001b[0;34m(self)\u001b[0m\n\u001b[1;32m    884\u001b[0m \u001b[0;34m\u001b[0m\u001b[0m\n\u001b[1;32m    885\u001b[0m         \u001b[0;32melse\u001b[0m\u001b[0;34m:\u001b[0m\u001b[0;34m\u001b[0m\u001b[0;34m\u001b[0m\u001b[0m\n\u001b[0;32m--> 886\u001b[0;31m             \u001b[0mself\u001b[0m\u001b[0;34m.\u001b[0m\u001b[0m_parse_no_numpy\u001b[0m\u001b[0;34m(\u001b[0m\u001b[0;34m)\u001b[0m\u001b[0;34m\u001b[0m\u001b[0;34m\u001b[0m\u001b[0m\n\u001b[0m\u001b[1;32m    887\u001b[0m \u001b[0;34m\u001b[0m\u001b[0m\n\u001b[1;32m    888\u001b[0m         \u001b[0;32mif\u001b[0m \u001b[0mself\u001b[0m\u001b[0;34m.\u001b[0m\u001b[0mobj\u001b[0m \u001b[0;32mis\u001b[0m \u001b[0;32mNone\u001b[0m\u001b[0;34m:\u001b[0m\u001b[0;34m\u001b[0m\u001b[0;34m\u001b[0m\u001b[0m\n",
      "\u001b[0;32m~/.local/lib/python3.6/site-packages/pandas/io/json/_json.py\u001b[0m in \u001b[0;36m_parse_no_numpy\u001b[0;34m(self)\u001b[0m\n\u001b[1;32m   1117\u001b[0m         \u001b[0;32mif\u001b[0m \u001b[0morient\u001b[0m \u001b[0;34m==\u001b[0m \u001b[0;34m\"columns\"\u001b[0m\u001b[0;34m:\u001b[0m\u001b[0;34m\u001b[0m\u001b[0;34m\u001b[0m\u001b[0m\n\u001b[1;32m   1118\u001b[0m             self.obj = DataFrame(\n\u001b[0;32m-> 1119\u001b[0;31m                 \u001b[0mloads\u001b[0m\u001b[0;34m(\u001b[0m\u001b[0mjson\u001b[0m\u001b[0;34m,\u001b[0m \u001b[0mprecise_float\u001b[0m\u001b[0;34m=\u001b[0m\u001b[0mself\u001b[0m\u001b[0;34m.\u001b[0m\u001b[0mprecise_float\u001b[0m\u001b[0;34m)\u001b[0m\u001b[0;34m,\u001b[0m \u001b[0mdtype\u001b[0m\u001b[0;34m=\u001b[0m\u001b[0;32mNone\u001b[0m\u001b[0;34m\u001b[0m\u001b[0;34m\u001b[0m\u001b[0m\n\u001b[0m\u001b[1;32m   1120\u001b[0m             )\n\u001b[1;32m   1121\u001b[0m         \u001b[0;32melif\u001b[0m \u001b[0morient\u001b[0m \u001b[0;34m==\u001b[0m \u001b[0;34m\"split\"\u001b[0m\u001b[0;34m:\u001b[0m\u001b[0;34m\u001b[0m\u001b[0;34m\u001b[0m\u001b[0m\n",
      "\u001b[0;31mValueError\u001b[0m: Unexpected character found when decoding 'null'"
     ]
    }
   ],
   "source": [
    "df = pd.read_json('news-articles-ptbr-dataset_train.json', lines=True, encoding='utf-8')"
   ]
  },
  {
   "cell_type": "code",
   "execution_count": 10,
   "id": "b1a44623",
   "metadata": {},
   "outputs": [
    {
     "ename": "ValueError",
     "evalue": "Unexpected character found when decoding 'null'",
     "output_type": "error",
     "traceback": [
      "\u001b[0;31m---------------------------------------------------------------------------\u001b[0m",
      "\u001b[0;31mValueError\u001b[0m                                Traceback (most recent call last)",
      "\u001b[0;32m<ipython-input-10-ee8343751c5c>\u001b[0m in \u001b[0;36m<module>\u001b[0;34m\u001b[0m\n\u001b[0;32m----> 1\u001b[0;31m \u001b[0mdf\u001b[0m \u001b[0;34m=\u001b[0m \u001b[0mpd\u001b[0m\u001b[0;34m.\u001b[0m\u001b[0mread_json\u001b[0m\u001b[0;34m(\u001b[0m\u001b[0;34m'news-articles-ptbr-dataset_train.json'\u001b[0m\u001b[0;34m,\u001b[0m \u001b[0mlines\u001b[0m\u001b[0;34m=\u001b[0m\u001b[0;32mTrue\u001b[0m\u001b[0;34m,\u001b[0m \u001b[0mencoding\u001b[0m\u001b[0;34m=\u001b[0m\u001b[0;34m'latin1'\u001b[0m\u001b[0;34m)\u001b[0m\u001b[0;34m\u001b[0m\u001b[0;34m\u001b[0m\u001b[0m\n\u001b[0m",
      "\u001b[0;32m~/.local/lib/python3.6/site-packages/pandas/util/_decorators.py\u001b[0m in \u001b[0;36mwrapper\u001b[0;34m(*args, **kwargs)\u001b[0m\n\u001b[1;32m    197\u001b[0m                 \u001b[0;32melse\u001b[0m\u001b[0;34m:\u001b[0m\u001b[0;34m\u001b[0m\u001b[0;34m\u001b[0m\u001b[0m\n\u001b[1;32m    198\u001b[0m                     \u001b[0mkwargs\u001b[0m\u001b[0;34m[\u001b[0m\u001b[0mnew_arg_name\u001b[0m\u001b[0;34m]\u001b[0m \u001b[0;34m=\u001b[0m \u001b[0mnew_arg_value\u001b[0m\u001b[0;34m\u001b[0m\u001b[0;34m\u001b[0m\u001b[0m\n\u001b[0;32m--> 199\u001b[0;31m             \u001b[0;32mreturn\u001b[0m \u001b[0mfunc\u001b[0m\u001b[0;34m(\u001b[0m\u001b[0;34m*\u001b[0m\u001b[0margs\u001b[0m\u001b[0;34m,\u001b[0m \u001b[0;34m**\u001b[0m\u001b[0mkwargs\u001b[0m\u001b[0;34m)\u001b[0m\u001b[0;34m\u001b[0m\u001b[0;34m\u001b[0m\u001b[0m\n\u001b[0m\u001b[1;32m    200\u001b[0m \u001b[0;34m\u001b[0m\u001b[0m\n\u001b[1;32m    201\u001b[0m         \u001b[0;32mreturn\u001b[0m \u001b[0mcast\u001b[0m\u001b[0;34m(\u001b[0m\u001b[0mF\u001b[0m\u001b[0;34m,\u001b[0m \u001b[0mwrapper\u001b[0m\u001b[0;34m)\u001b[0m\u001b[0;34m\u001b[0m\u001b[0;34m\u001b[0m\u001b[0m\n",
      "\u001b[0;32m~/.local/lib/python3.6/site-packages/pandas/util/_decorators.py\u001b[0m in \u001b[0;36mwrapper\u001b[0;34m(*args, **kwargs)\u001b[0m\n\u001b[1;32m    294\u001b[0m                 )\n\u001b[1;32m    295\u001b[0m                 \u001b[0mwarnings\u001b[0m\u001b[0;34m.\u001b[0m\u001b[0mwarn\u001b[0m\u001b[0;34m(\u001b[0m\u001b[0mmsg\u001b[0m\u001b[0;34m,\u001b[0m \u001b[0mFutureWarning\u001b[0m\u001b[0;34m,\u001b[0m \u001b[0mstacklevel\u001b[0m\u001b[0;34m=\u001b[0m\u001b[0mstacklevel\u001b[0m\u001b[0;34m)\u001b[0m\u001b[0;34m\u001b[0m\u001b[0;34m\u001b[0m\u001b[0m\n\u001b[0;32m--> 296\u001b[0;31m             \u001b[0;32mreturn\u001b[0m \u001b[0mfunc\u001b[0m\u001b[0;34m(\u001b[0m\u001b[0;34m*\u001b[0m\u001b[0margs\u001b[0m\u001b[0;34m,\u001b[0m \u001b[0;34m**\u001b[0m\u001b[0mkwargs\u001b[0m\u001b[0;34m)\u001b[0m\u001b[0;34m\u001b[0m\u001b[0;34m\u001b[0m\u001b[0m\n\u001b[0m\u001b[1;32m    297\u001b[0m \u001b[0;34m\u001b[0m\u001b[0m\n\u001b[1;32m    298\u001b[0m         \u001b[0;32mreturn\u001b[0m \u001b[0mwrapper\u001b[0m\u001b[0;34m\u001b[0m\u001b[0;34m\u001b[0m\u001b[0m\n",
      "\u001b[0;32m~/.local/lib/python3.6/site-packages/pandas/io/json/_json.py\u001b[0m in \u001b[0;36mread_json\u001b[0;34m(path_or_buf, orient, typ, dtype, convert_axes, convert_dates, keep_default_dates, numpy, precise_float, date_unit, encoding, lines, chunksize, compression, nrows)\u001b[0m\n\u001b[1;32m    616\u001b[0m         \u001b[0;32mreturn\u001b[0m \u001b[0mjson_reader\u001b[0m\u001b[0;34m\u001b[0m\u001b[0;34m\u001b[0m\u001b[0m\n\u001b[1;32m    617\u001b[0m \u001b[0;34m\u001b[0m\u001b[0m\n\u001b[0;32m--> 618\u001b[0;31m     \u001b[0mresult\u001b[0m \u001b[0;34m=\u001b[0m \u001b[0mjson_reader\u001b[0m\u001b[0;34m.\u001b[0m\u001b[0mread\u001b[0m\u001b[0;34m(\u001b[0m\u001b[0;34m)\u001b[0m\u001b[0;34m\u001b[0m\u001b[0;34m\u001b[0m\u001b[0m\n\u001b[0m\u001b[1;32m    619\u001b[0m     \u001b[0;32mif\u001b[0m \u001b[0mshould_close\u001b[0m\u001b[0;34m:\u001b[0m\u001b[0;34m\u001b[0m\u001b[0;34m\u001b[0m\u001b[0m\n\u001b[1;32m    620\u001b[0m         \u001b[0mfilepath_or_buffer\u001b[0m\u001b[0;34m.\u001b[0m\u001b[0mclose\u001b[0m\u001b[0;34m(\u001b[0m\u001b[0;34m)\u001b[0m\u001b[0;34m\u001b[0m\u001b[0;34m\u001b[0m\u001b[0m\n",
      "\u001b[0;32m~/.local/lib/python3.6/site-packages/pandas/io/json/_json.py\u001b[0m in \u001b[0;36mread\u001b[0;34m(self)\u001b[0m\n\u001b[1;32m    751\u001b[0m                 \u001b[0mdata\u001b[0m \u001b[0;34m=\u001b[0m \u001b[0mensure_str\u001b[0m\u001b[0;34m(\u001b[0m\u001b[0mself\u001b[0m\u001b[0;34m.\u001b[0m\u001b[0mdata\u001b[0m\u001b[0;34m)\u001b[0m\u001b[0;34m\u001b[0m\u001b[0;34m\u001b[0m\u001b[0m\n\u001b[1;32m    752\u001b[0m                 \u001b[0mdata\u001b[0m \u001b[0;34m=\u001b[0m \u001b[0mdata\u001b[0m\u001b[0;34m.\u001b[0m\u001b[0msplit\u001b[0m\u001b[0;34m(\u001b[0m\u001b[0;34m\"\\n\"\u001b[0m\u001b[0;34m)\u001b[0m\u001b[0;34m\u001b[0m\u001b[0;34m\u001b[0m\u001b[0m\n\u001b[0;32m--> 753\u001b[0;31m                 \u001b[0mobj\u001b[0m \u001b[0;34m=\u001b[0m \u001b[0mself\u001b[0m\u001b[0;34m.\u001b[0m\u001b[0m_get_object_parser\u001b[0m\u001b[0;34m(\u001b[0m\u001b[0mself\u001b[0m\u001b[0;34m.\u001b[0m\u001b[0m_combine_lines\u001b[0m\u001b[0;34m(\u001b[0m\u001b[0mdata\u001b[0m\u001b[0;34m)\u001b[0m\u001b[0;34m)\u001b[0m\u001b[0;34m\u001b[0m\u001b[0;34m\u001b[0m\u001b[0m\n\u001b[0m\u001b[1;32m    754\u001b[0m         \u001b[0;32melse\u001b[0m\u001b[0;34m:\u001b[0m\u001b[0;34m\u001b[0m\u001b[0;34m\u001b[0m\u001b[0m\n\u001b[1;32m    755\u001b[0m             \u001b[0mobj\u001b[0m \u001b[0;34m=\u001b[0m \u001b[0mself\u001b[0m\u001b[0;34m.\u001b[0m\u001b[0m_get_object_parser\u001b[0m\u001b[0;34m(\u001b[0m\u001b[0mself\u001b[0m\u001b[0;34m.\u001b[0m\u001b[0mdata\u001b[0m\u001b[0;34m)\u001b[0m\u001b[0;34m\u001b[0m\u001b[0;34m\u001b[0m\u001b[0m\n",
      "\u001b[0;32m~/.local/lib/python3.6/site-packages/pandas/io/json/_json.py\u001b[0m in \u001b[0;36m_get_object_parser\u001b[0;34m(self, json)\u001b[0m\n\u001b[1;32m    775\u001b[0m         \u001b[0mobj\u001b[0m \u001b[0;34m=\u001b[0m \u001b[0;32mNone\u001b[0m\u001b[0;34m\u001b[0m\u001b[0;34m\u001b[0m\u001b[0m\n\u001b[1;32m    776\u001b[0m         \u001b[0;32mif\u001b[0m \u001b[0mtyp\u001b[0m \u001b[0;34m==\u001b[0m \u001b[0;34m\"frame\"\u001b[0m\u001b[0;34m:\u001b[0m\u001b[0;34m\u001b[0m\u001b[0;34m\u001b[0m\u001b[0m\n\u001b[0;32m--> 777\u001b[0;31m             \u001b[0mobj\u001b[0m \u001b[0;34m=\u001b[0m \u001b[0mFrameParser\u001b[0m\u001b[0;34m(\u001b[0m\u001b[0mjson\u001b[0m\u001b[0;34m,\u001b[0m \u001b[0;34m**\u001b[0m\u001b[0mkwargs\u001b[0m\u001b[0;34m)\u001b[0m\u001b[0;34m.\u001b[0m\u001b[0mparse\u001b[0m\u001b[0;34m(\u001b[0m\u001b[0;34m)\u001b[0m\u001b[0;34m\u001b[0m\u001b[0;34m\u001b[0m\u001b[0m\n\u001b[0m\u001b[1;32m    778\u001b[0m \u001b[0;34m\u001b[0m\u001b[0m\n\u001b[1;32m    779\u001b[0m         \u001b[0;32mif\u001b[0m \u001b[0mtyp\u001b[0m \u001b[0;34m==\u001b[0m \u001b[0;34m\"series\"\u001b[0m \u001b[0;32mor\u001b[0m \u001b[0mobj\u001b[0m \u001b[0;32mis\u001b[0m \u001b[0;32mNone\u001b[0m\u001b[0;34m:\u001b[0m\u001b[0;34m\u001b[0m\u001b[0;34m\u001b[0m\u001b[0m\n",
      "\u001b[0;32m~/.local/lib/python3.6/site-packages/pandas/io/json/_json.py\u001b[0m in \u001b[0;36mparse\u001b[0;34m(self)\u001b[0m\n\u001b[1;32m    884\u001b[0m \u001b[0;34m\u001b[0m\u001b[0m\n\u001b[1;32m    885\u001b[0m         \u001b[0;32melse\u001b[0m\u001b[0;34m:\u001b[0m\u001b[0;34m\u001b[0m\u001b[0;34m\u001b[0m\u001b[0m\n\u001b[0;32m--> 886\u001b[0;31m             \u001b[0mself\u001b[0m\u001b[0;34m.\u001b[0m\u001b[0m_parse_no_numpy\u001b[0m\u001b[0;34m(\u001b[0m\u001b[0;34m)\u001b[0m\u001b[0;34m\u001b[0m\u001b[0;34m\u001b[0m\u001b[0m\n\u001b[0m\u001b[1;32m    887\u001b[0m \u001b[0;34m\u001b[0m\u001b[0m\n\u001b[1;32m    888\u001b[0m         \u001b[0;32mif\u001b[0m \u001b[0mself\u001b[0m\u001b[0;34m.\u001b[0m\u001b[0mobj\u001b[0m \u001b[0;32mis\u001b[0m \u001b[0;32mNone\u001b[0m\u001b[0;34m:\u001b[0m\u001b[0;34m\u001b[0m\u001b[0;34m\u001b[0m\u001b[0m\n",
      "\u001b[0;32m~/.local/lib/python3.6/site-packages/pandas/io/json/_json.py\u001b[0m in \u001b[0;36m_parse_no_numpy\u001b[0;34m(self)\u001b[0m\n\u001b[1;32m   1117\u001b[0m         \u001b[0;32mif\u001b[0m \u001b[0morient\u001b[0m \u001b[0;34m==\u001b[0m \u001b[0;34m\"columns\"\u001b[0m\u001b[0;34m:\u001b[0m\u001b[0;34m\u001b[0m\u001b[0;34m\u001b[0m\u001b[0m\n\u001b[1;32m   1118\u001b[0m             self.obj = DataFrame(\n\u001b[0;32m-> 1119\u001b[0;31m                 \u001b[0mloads\u001b[0m\u001b[0;34m(\u001b[0m\u001b[0mjson\u001b[0m\u001b[0;34m,\u001b[0m \u001b[0mprecise_float\u001b[0m\u001b[0;34m=\u001b[0m\u001b[0mself\u001b[0m\u001b[0;34m.\u001b[0m\u001b[0mprecise_float\u001b[0m\u001b[0;34m)\u001b[0m\u001b[0;34m,\u001b[0m \u001b[0mdtype\u001b[0m\u001b[0;34m=\u001b[0m\u001b[0;32mNone\u001b[0m\u001b[0;34m\u001b[0m\u001b[0;34m\u001b[0m\u001b[0m\n\u001b[0m\u001b[1;32m   1120\u001b[0m             )\n\u001b[1;32m   1121\u001b[0m         \u001b[0;32melif\u001b[0m \u001b[0morient\u001b[0m \u001b[0;34m==\u001b[0m \u001b[0;34m\"split\"\u001b[0m\u001b[0;34m:\u001b[0m\u001b[0;34m\u001b[0m\u001b[0;34m\u001b[0m\u001b[0m\n",
      "\u001b[0;31mValueError\u001b[0m: Unexpected character found when decoding 'null'"
     ]
    }
   ],
   "source": [
    "df = pd.read_json('news-articles-ptbr-dataset_train.json', lines=True, encoding='latin1')"
   ]
  },
  {
   "cell_type": "code",
   "execution_count": 11,
   "id": "e442ca17",
   "metadata": {},
   "outputs": [],
   "source": [
    "df = pd.read_json('/home/opc/Projeto NLP PT-BR/iara-project/news-articles-ptbr-dataset_train.json', lines=True, encoding='utf-8')"
   ]
  },
  {
   "cell_type": "code",
   "execution_count": 12,
   "id": "398e908a",
   "metadata": {},
   "outputs": [
    {
     "data": {
      "text/html": [
       "<div>\n",
       "<style scoped>\n",
       "    .dataframe tbody tr th:only-of-type {\n",
       "        vertical-align: middle;\n",
       "    }\n",
       "\n",
       "    .dataframe tbody tr th {\n",
       "        vertical-align: top;\n",
       "    }\n",
       "\n",
       "    .dataframe thead th {\n",
       "        text-align: right;\n",
       "    }\n",
       "</style>\n",
       "<table border=\"1\" class=\"dataframe\">\n",
       "  <thead>\n",
       "    <tr style=\"text-align: right;\">\n",
       "      <th></th>\n",
       "      <th>title</th>\n",
       "      <th>text</th>\n",
       "      <th>date</th>\n",
       "      <th>category</th>\n",
       "      <th>category_natural_language</th>\n",
       "      <th>link</th>\n",
       "    </tr>\n",
       "  </thead>\n",
       "  <tbody>\n",
       "    <tr>\n",
       "      <th>0</th>\n",
       "      <td>Após Luva de Pedreiro indicar que pagaria pens...</td>\n",
       "      <td>Na tarde de domingo (17), Luva de Pedreiro abr...</td>\n",
       "      <td>2023-09-18 08:40:00</td>\n",
       "      <td>celebridades</td>\n",
       "      <td>Celebridades</td>\n",
       "      <td>https://f5.folha.uol.com.br/celebridades/2023/...</td>\n",
       "    </tr>\n",
       "    <tr>\n",
       "      <th>1</th>\n",
       "      <td>OMS cobra da China 'acesso total' para investi...</td>\n",
       "      <td>O diretor-geral da OMS (Organização Mundial da...</td>\n",
       "      <td>2023-09-18 09:49:00</td>\n",
       "      <td>equilibrio-e-saude</td>\n",
       "      <td>Equilibrio e Saúde</td>\n",
       "      <td>https://www1.folha.uol.com.br/equilibrioesaude...</td>\n",
       "    </tr>\n",
       "    <tr>\n",
       "      <th>2</th>\n",
       "      <td>Respiração, rins e coração podem ser afetados ...</td>\n",
       "      <td>A última semana de inverno, que termina no pró...</td>\n",
       "      <td>2023-09-18 10:20:00</td>\n",
       "      <td>equilibrio-e-saude</td>\n",
       "      <td>Equilibrio e Saúde</td>\n",
       "      <td>https://www1.folha.uol.com.br/equilibrio/2023/...</td>\n",
       "    </tr>\n",
       "    <tr>\n",
       "      <th>3</th>\n",
       "      <td>Alckmin cita mestre Miyagi, de 'Karatê Kid', e...</td>\n",
       "      <td>O vice-presidente Geraldo Alckmin surpreendeu ...</td>\n",
       "      <td>2023-09-18 08:45:00</td>\n",
       "      <td>poder</td>\n",
       "      <td>Poder</td>\n",
       "      <td>https://www1.folha.uol.com.br/poder/2023/09/al...</td>\n",
       "    </tr>\n",
       "    <tr>\n",
       "      <th>4</th>\n",
       "      <td>Mercado diminui projeção de inflação em semana...</td>\n",
       "      <td>Os economistas consultados pelo BC (Banco Cent...</td>\n",
       "      <td>2023-09-18 08:48:00</td>\n",
       "      <td>mercado</td>\n",
       "      <td>Mercado</td>\n",
       "      <td>https://www1.folha.uol.com.br/mercado/2023/09/...</td>\n",
       "    </tr>\n",
       "  </tbody>\n",
       "</table>\n",
       "</div>"
      ],
      "text/plain": [
       "                                               title  \\\n",
       "0  Após Luva de Pedreiro indicar que pagaria pens...   \n",
       "1  OMS cobra da China 'acesso total' para investi...   \n",
       "2  Respiração, rins e coração podem ser afetados ...   \n",
       "3  Alckmin cita mestre Miyagi, de 'Karatê Kid', e...   \n",
       "4  Mercado diminui projeção de inflação em semana...   \n",
       "\n",
       "                                                text                date  \\\n",
       "0  Na tarde de domingo (17), Luva de Pedreiro abr... 2023-09-18 08:40:00   \n",
       "1  O diretor-geral da OMS (Organização Mundial da... 2023-09-18 09:49:00   \n",
       "2  A última semana de inverno, que termina no pró... 2023-09-18 10:20:00   \n",
       "3  O vice-presidente Geraldo Alckmin surpreendeu ... 2023-09-18 08:45:00   \n",
       "4  Os economistas consultados pelo BC (Banco Cent... 2023-09-18 08:48:00   \n",
       "\n",
       "             category category_natural_language  \\\n",
       "0        celebridades              Celebridades   \n",
       "1  equilibrio-e-saude        Equilibrio e Saúde   \n",
       "2  equilibrio-e-saude        Equilibrio e Saúde   \n",
       "3               poder                     Poder   \n",
       "4             mercado                   Mercado   \n",
       "\n",
       "                                                link  \n",
       "0  https://f5.folha.uol.com.br/celebridades/2023/...  \n",
       "1  https://www1.folha.uol.com.br/equilibrioesaude...  \n",
       "2  https://www1.folha.uol.com.br/equilibrio/2023/...  \n",
       "3  https://www1.folha.uol.com.br/poder/2023/09/al...  \n",
       "4  https://www1.folha.uol.com.br/mercado/2023/09/...  "
      ]
     },
     "execution_count": 12,
     "metadata": {},
     "output_type": "execute_result"
    }
   ],
   "source": [
    "df.head()"
   ]
  },
  {
   "cell_type": "code",
   "execution_count": 13,
   "id": "256be2ca",
   "metadata": {},
   "outputs": [
    {
     "data": {
      "text/html": [
       "<div>\n",
       "<style scoped>\n",
       "    .dataframe tbody tr th:only-of-type {\n",
       "        vertical-align: middle;\n",
       "    }\n",
       "\n",
       "    .dataframe tbody tr th {\n",
       "        vertical-align: top;\n",
       "    }\n",
       "\n",
       "    .dataframe thead th {\n",
       "        text-align: right;\n",
       "    }\n",
       "</style>\n",
       "<table border=\"1\" class=\"dataframe\">\n",
       "  <thead>\n",
       "    <tr style=\"text-align: right;\">\n",
       "      <th></th>\n",
       "      <th>title</th>\n",
       "      <th>text</th>\n",
       "      <th>date</th>\n",
       "      <th>category</th>\n",
       "      <th>category_natural_language</th>\n",
       "      <th>link</th>\n",
       "    </tr>\n",
       "  </thead>\n",
       "  <tbody>\n",
       "    <tr>\n",
       "      <th>0</th>\n",
       "      <td>Após Luva de Pedreiro indicar que pagaria pens...</td>\n",
       "      <td>Na tarde de domingo (17), Luva de Pedreiro abr...</td>\n",
       "      <td>2023-09-18 08:40:00</td>\n",
       "      <td>celebridades</td>\n",
       "      <td>Celebridades</td>\n",
       "      <td>https://f5.folha.uol.com.br/celebridades/2023/...</td>\n",
       "    </tr>\n",
       "    <tr>\n",
       "      <th>1</th>\n",
       "      <td>OMS cobra da China 'acesso total' para investi...</td>\n",
       "      <td>O diretor-geral da OMS (Organização Mundial da...</td>\n",
       "      <td>2023-09-18 09:49:00</td>\n",
       "      <td>equilibrio-e-saude</td>\n",
       "      <td>Equilibrio e Saúde</td>\n",
       "      <td>https://www1.folha.uol.com.br/equilibrioesaude...</td>\n",
       "    </tr>\n",
       "    <tr>\n",
       "      <th>2</th>\n",
       "      <td>Respiração, rins e coração podem ser afetados ...</td>\n",
       "      <td>A última semana de inverno, que termina no pró...</td>\n",
       "      <td>2023-09-18 10:20:00</td>\n",
       "      <td>equilibrio-e-saude</td>\n",
       "      <td>Equilibrio e Saúde</td>\n",
       "      <td>https://www1.folha.uol.com.br/equilibrio/2023/...</td>\n",
       "    </tr>\n",
       "    <tr>\n",
       "      <th>3</th>\n",
       "      <td>Alckmin cita mestre Miyagi, de 'Karatê Kid', e...</td>\n",
       "      <td>O vice-presidente Geraldo Alckmin surpreendeu ...</td>\n",
       "      <td>2023-09-18 08:45:00</td>\n",
       "      <td>poder</td>\n",
       "      <td>Poder</td>\n",
       "      <td>https://www1.folha.uol.com.br/poder/2023/09/al...</td>\n",
       "    </tr>\n",
       "    <tr>\n",
       "      <th>4</th>\n",
       "      <td>Mercado diminui projeção de inflação em semana...</td>\n",
       "      <td>Os economistas consultados pelo BC (Banco Cent...</td>\n",
       "      <td>2023-09-18 08:48:00</td>\n",
       "      <td>mercado</td>\n",
       "      <td>Mercado</td>\n",
       "      <td>https://www1.folha.uol.com.br/mercado/2023/09/...</td>\n",
       "    </tr>\n",
       "  </tbody>\n",
       "</table>\n",
       "</div>"
      ],
      "text/plain": [
       "                                               title  \\\n",
       "0  Após Luva de Pedreiro indicar que pagaria pens...   \n",
       "1  OMS cobra da China 'acesso total' para investi...   \n",
       "2  Respiração, rins e coração podem ser afetados ...   \n",
       "3  Alckmin cita mestre Miyagi, de 'Karatê Kid', e...   \n",
       "4  Mercado diminui projeção de inflação em semana...   \n",
       "\n",
       "                                                text                date  \\\n",
       "0  Na tarde de domingo (17), Luva de Pedreiro abr... 2023-09-18 08:40:00   \n",
       "1  O diretor-geral da OMS (Organização Mundial da... 2023-09-18 09:49:00   \n",
       "2  A última semana de inverno, que termina no pró... 2023-09-18 10:20:00   \n",
       "3  O vice-presidente Geraldo Alckmin surpreendeu ... 2023-09-18 08:45:00   \n",
       "4  Os economistas consultados pelo BC (Banco Cent... 2023-09-18 08:48:00   \n",
       "\n",
       "             category category_natural_language  \\\n",
       "0        celebridades              Celebridades   \n",
       "1  equilibrio-e-saude        Equilibrio e Saúde   \n",
       "2  equilibrio-e-saude        Equilibrio e Saúde   \n",
       "3               poder                     Poder   \n",
       "4             mercado                   Mercado   \n",
       "\n",
       "                                                link  \n",
       "0  https://f5.folha.uol.com.br/celebridades/2023/...  \n",
       "1  https://www1.folha.uol.com.br/equilibrioesaude...  \n",
       "2  https://www1.folha.uol.com.br/equilibrio/2023/...  \n",
       "3  https://www1.folha.uol.com.br/poder/2023/09/al...  \n",
       "4  https://www1.folha.uol.com.br/mercado/2023/09/...  "
      ]
     },
     "execution_count": 13,
     "metadata": {},
     "output_type": "execute_result"
    }
   ],
   "source": [
    "df.head()"
   ]
  },
  {
   "cell_type": "code",
   "execution_count": 14,
   "id": "31c17e93",
   "metadata": {},
   "outputs": [
    {
     "data": {
      "text/plain": [
       "(176114, 6)"
      ]
     },
     "execution_count": 14,
     "metadata": {},
     "output_type": "execute_result"
    }
   ],
   "source": [
    "df.shape"
   ]
  },
  {
   "cell_type": "code",
   "execution_count": 15,
   "id": "a50e83e8",
   "metadata": {},
   "outputs": [
    {
     "ename": "AttributeError",
     "evalue": "'DataFrame' object has no attribute 'reviewTest'",
     "output_type": "error",
     "traceback": [
      "\u001b[0;31m---------------------------------------------------------------------------\u001b[0m",
      "\u001b[0;31mAttributeError\u001b[0m                            Traceback (most recent call last)",
      "\u001b[0;32m<ipython-input-15-987d70909901>\u001b[0m in \u001b[0;36m<module>\u001b[0;34m\u001b[0m\n\u001b[0;32m----> 1\u001b[0;31m \u001b[0mdf\u001b[0m\u001b[0;34m.\u001b[0m\u001b[0mreviewTest\u001b[0m\u001b[0;34m[\u001b[0m\u001b[0;36m0\u001b[0m\u001b[0;34m]\u001b[0m\u001b[0;34m\u001b[0m\u001b[0;34m\u001b[0m\u001b[0m\n\u001b[0m",
      "\u001b[0;32m~/.local/lib/python3.6/site-packages/pandas/core/generic.py\u001b[0m in \u001b[0;36m__getattr__\u001b[0;34m(self, name)\u001b[0m\n\u001b[1;32m   5139\u001b[0m             \u001b[0;32mif\u001b[0m \u001b[0mself\u001b[0m\u001b[0;34m.\u001b[0m\u001b[0m_info_axis\u001b[0m\u001b[0;34m.\u001b[0m\u001b[0m_can_hold_identifiers_and_holds_name\u001b[0m\u001b[0;34m(\u001b[0m\u001b[0mname\u001b[0m\u001b[0;34m)\u001b[0m\u001b[0;34m:\u001b[0m\u001b[0;34m\u001b[0m\u001b[0;34m\u001b[0m\u001b[0m\n\u001b[1;32m   5140\u001b[0m                 \u001b[0;32mreturn\u001b[0m \u001b[0mself\u001b[0m\u001b[0;34m[\u001b[0m\u001b[0mname\u001b[0m\u001b[0;34m]\u001b[0m\u001b[0;34m\u001b[0m\u001b[0;34m\u001b[0m\u001b[0m\n\u001b[0;32m-> 5141\u001b[0;31m             \u001b[0;32mreturn\u001b[0m \u001b[0mobject\u001b[0m\u001b[0;34m.\u001b[0m\u001b[0m__getattribute__\u001b[0m\u001b[0;34m(\u001b[0m\u001b[0mself\u001b[0m\u001b[0;34m,\u001b[0m \u001b[0mname\u001b[0m\u001b[0;34m)\u001b[0m\u001b[0;34m\u001b[0m\u001b[0;34m\u001b[0m\u001b[0m\n\u001b[0m\u001b[1;32m   5142\u001b[0m \u001b[0;34m\u001b[0m\u001b[0m\n\u001b[1;32m   5143\u001b[0m     \u001b[0;32mdef\u001b[0m \u001b[0m__setattr__\u001b[0m\u001b[0;34m(\u001b[0m\u001b[0mself\u001b[0m\u001b[0;34m,\u001b[0m \u001b[0mname\u001b[0m\u001b[0;34m:\u001b[0m \u001b[0mstr\u001b[0m\u001b[0;34m,\u001b[0m \u001b[0mvalue\u001b[0m\u001b[0;34m)\u001b[0m \u001b[0;34m->\u001b[0m \u001b[0;32mNone\u001b[0m\u001b[0;34m:\u001b[0m\u001b[0;34m\u001b[0m\u001b[0;34m\u001b[0m\u001b[0m\n",
      "\u001b[0;31mAttributeError\u001b[0m: 'DataFrame' object has no attribute 'reviewTest'"
     ]
    }
   ],
   "source": [
    "df.reviewTest[0]"
   ]
  },
  {
   "cell_type": "code",
   "execution_count": 16,
   "id": "58acb384",
   "metadata": {},
   "outputs": [
    {
     "data": {
      "text/plain": [
       "'Na tarde de domingo (17), Luva de Pedreiro abriu uma live e sugeriu que o melhor seria pagar pensão à atual namorada, Távila Gomes, grávida do primeiro filho dele. \"Sou inamorável\", disse ele, deixando seus seguidores perplexos com um suposto fim precoce do romance.Porém, mais tarde, Távila desmentiu que ambos tenham encerrado o vínculo. Em outra live, ambos ironizaram perguntas sobre o suposto fim do relacionamento. Conforme Luva, as frases horas antes teriam sido \"resenha\", ou seja, brincadeira. \"Não pode falar mais nada. Tudo o que eu faço, eu estou errado.\"Em agosto, Iran Ferreira anunciou que será pai. O anúncio foi feito nas redes sociais do influenciador. O futuro bebê já tem nome escolhido: Cristiano Ronaldo Jr. Mais \"Cristiano Ronaldo Jr vem aí\", disse Luva de Pedreiro na postagem. Ele contou que aguardava um momento especial para fazer o anúncio da gestação, que já estaria no quinto mês.O influenciador é fã declarado do jogador português, a quem ele prestará homenagem nomeando seu filho. Há cerca de um mês, Iran compartilhou na web a ocasião em que conheceu o ídolo.\"Realizei meu sonho que era conhecer Cristiano Ronaldo. Ele sempre foi minha inspiração. Isso que aconteceu comigo serve de exemplo para todos vocês. Não desista dos seus sonhos. Receba!\", escreveu ele.'"
      ]
     },
     "execution_count": 16,
     "metadata": {},
     "output_type": "execute_result"
    }
   ],
   "source": [
    "df.text[0]"
   ]
  },
  {
   "cell_type": "code",
   "execution_count": 17,
   "id": "ed3b2e36",
   "metadata": {},
   "outputs": [
    {
     "data": {
      "text/plain": [
       "'Após Luva de Pedreiro indicar que pagaria pensão, Távila Gomes desmente término'"
      ]
     },
     "execution_count": 17,
     "metadata": {},
     "output_type": "execute_result"
    }
   ],
   "source": [
    "df.title[0]"
   ]
  },
  {
   "cell_type": "code",
   "execution_count": 18,
   "id": "211a2521",
   "metadata": {
    "scrolled": false
   },
   "outputs": [
    {
     "data": {
      "text/plain": [
       "['na',\n",
       " 'tarde',\n",
       " 'de',\n",
       " 'domingo',\n",
       " 'luva',\n",
       " 'de',\n",
       " 'pedreiro',\n",
       " 'abriu',\n",
       " 'uma',\n",
       " 'live',\n",
       " 'sugeriu',\n",
       " 'que',\n",
       " 'melhor',\n",
       " 'seria',\n",
       " 'pagar',\n",
       " 'pensão',\n",
       " 'atual',\n",
       " 'namorada',\n",
       " 'távila',\n",
       " 'gomes',\n",
       " 'grávida',\n",
       " 'do',\n",
       " 'primeiro',\n",
       " 'filho',\n",
       " 'dele',\n",
       " 'sou',\n",
       " 'inamorável',\n",
       " 'disse',\n",
       " 'ele',\n",
       " 'deixando',\n",
       " 'seus',\n",
       " 'seguidores',\n",
       " 'perplexos',\n",
       " 'com',\n",
       " 'um',\n",
       " 'suposto',\n",
       " 'fim',\n",
       " 'precoce',\n",
       " 'do',\n",
       " 'romance',\n",
       " 'porém',\n",
       " 'mais',\n",
       " 'tarde',\n",
       " 'távila',\n",
       " 'desmentiu',\n",
       " 'que',\n",
       " 'ambos',\n",
       " 'tenham',\n",
       " 'encerrado',\n",
       " 'vínculo',\n",
       " 'em',\n",
       " 'outra',\n",
       " 'live',\n",
       " 'ambos',\n",
       " 'ironizaram',\n",
       " 'perguntas',\n",
       " 'sobre',\n",
       " 'suposto',\n",
       " 'fim',\n",
       " 'do',\n",
       " 'relacionamento',\n",
       " 'conforme',\n",
       " 'luva',\n",
       " 'as',\n",
       " 'frases',\n",
       " 'horas',\n",
       " 'antes',\n",
       " 'teriam',\n",
       " 'sido',\n",
       " 'resenha',\n",
       " 'ou',\n",
       " 'seja',\n",
       " 'brincadeira',\n",
       " 'não',\n",
       " 'pode',\n",
       " 'falar',\n",
       " 'mais',\n",
       " 'nada',\n",
       " 'tudo',\n",
       " 'que',\n",
       " 'eu',\n",
       " 'faço',\n",
       " 'eu',\n",
       " 'estou',\n",
       " 'errado',\n",
       " 'em',\n",
       " 'agosto',\n",
       " 'iran',\n",
       " 'ferreira',\n",
       " 'anunciou',\n",
       " 'que',\n",
       " 'será',\n",
       " 'pai',\n",
       " 'anúncio',\n",
       " 'foi',\n",
       " 'feito',\n",
       " 'nas',\n",
       " 'redes',\n",
       " 'sociais',\n",
       " 'do',\n",
       " 'influenciador',\n",
       " 'futuro',\n",
       " 'bebê',\n",
       " 'já',\n",
       " 'tem',\n",
       " 'nome',\n",
       " 'escolhido',\n",
       " 'cristiano',\n",
       " 'ronaldo',\n",
       " 'jr',\n",
       " 'mais',\n",
       " 'cristiano',\n",
       " 'ronaldo',\n",
       " 'jr',\n",
       " 'vem',\n",
       " 'aí',\n",
       " 'disse',\n",
       " 'luva',\n",
       " 'de',\n",
       " 'pedreiro',\n",
       " 'na',\n",
       " 'postagem',\n",
       " 'ele',\n",
       " 'contou',\n",
       " 'que',\n",
       " 'aguardava',\n",
       " 'um',\n",
       " 'momento',\n",
       " 'especial',\n",
       " 'para',\n",
       " 'fazer',\n",
       " 'anúncio',\n",
       " 'da',\n",
       " 'gestação',\n",
       " 'que',\n",
       " 'já',\n",
       " 'estaria',\n",
       " 'no',\n",
       " 'quinto',\n",
       " 'mês',\n",
       " 'influenciador',\n",
       " 'fã',\n",
       " 'declarado',\n",
       " 'do',\n",
       " 'jogador',\n",
       " 'português',\n",
       " 'quem',\n",
       " 'ele',\n",
       " 'prestará',\n",
       " 'homenagem',\n",
       " 'nomeando',\n",
       " 'seu',\n",
       " 'filho',\n",
       " 'há',\n",
       " 'cerca',\n",
       " 'de',\n",
       " 'um',\n",
       " 'mês',\n",
       " 'iran',\n",
       " 'compartilhou',\n",
       " 'na',\n",
       " 'web',\n",
       " 'ocasião',\n",
       " 'em',\n",
       " 'que',\n",
       " 'conheceu',\n",
       " 'ídolo',\n",
       " 'realizei',\n",
       " 'meu',\n",
       " 'sonho',\n",
       " 'que',\n",
       " 'era',\n",
       " 'conhecer',\n",
       " 'cristiano',\n",
       " 'ronaldo',\n",
       " 'ele',\n",
       " 'sempre',\n",
       " 'foi',\n",
       " 'minha',\n",
       " 'inspiração',\n",
       " 'isso',\n",
       " 'que',\n",
       " 'aconteceu',\n",
       " 'comigo',\n",
       " 'serve',\n",
       " 'de',\n",
       " 'exemplo',\n",
       " 'para',\n",
       " 'todos',\n",
       " 'vocês',\n",
       " 'não',\n",
       " 'desista',\n",
       " 'dos',\n",
       " 'seus',\n",
       " 'sonhos',\n",
       " 'receba',\n",
       " 'escreveu',\n",
       " 'ele']"
      ]
     },
     "execution_count": 18,
     "metadata": {},
     "output_type": "execute_result"
    }
   ],
   "source": [
    "gensim.utils.simple_preprocess('Na tarde de domingo (17), Luva de Pedreiro abriu uma live e sugeriu que o melhor seria pagar pensão à atual namorada, Távila Gomes, grávida do primeiro filho dele. \"Sou inamorável\", disse ele, deixando seus seguidores perplexos com um suposto fim precoce do romance.Porém, mais tarde, Távila desmentiu que ambos tenham encerrado o vínculo. Em outra live, ambos ironizaram perguntas sobre o suposto fim do relacionamento. Conforme Luva, as frases horas antes teriam sido \"resenha\", ou seja, brincadeira. \"Não pode falar mais nada. Tudo o que eu faço, eu estou errado.\"Em agosto, Iran Ferreira anunciou que será pai. O anúncio foi feito nas redes sociais do influenciador. O futuro bebê já tem nome escolhido: Cristiano Ronaldo Jr. Mais \"Cristiano Ronaldo Jr vem aí\", disse Luva de Pedreiro na postagem. Ele contou que aguardava um momento especial para fazer o anúncio da gestação, que já estaria no quinto mês.O influenciador é fã declarado do jogador português, a quem ele prestará homenagem nomeando seu filho. Há cerca de um mês, Iran compartilhou na web a ocasião em que conheceu o ídolo.\"Realizei meu sonho que era conhecer Cristiano Ronaldo. Ele sempre foi minha inspiração. Isso que aconteceu comigo serve de exemplo para todos vocês. Não desista dos seus sonhos. Receba!\", escreveu ele.')"
   ]
  },
  {
   "cell_type": "code",
   "execution_count": null,
   "id": "e02b10e5",
   "metadata": {},
   "outputs": [],
   "source": [
    "review_text = df.text.apply(gensim.utils.simple_preprocess)"
   ]
  },
  {
   "cell_type": "code",
   "execution_count": null,
   "id": "870a7952",
   "metadata": {},
   "outputs": [],
   "source": []
  },
  {
   "cell_type": "code",
   "execution_count": null,
   "id": "8635d869",
   "metadata": {},
   "outputs": [],
   "source": [
    "review_text"
   ]
  },
  {
   "cell_type": "code",
   "execution_count": null,
   "id": "bd7cc0ea",
   "metadata": {},
   "outputs": [],
   "source": [
    "\n"
   ]
  },
  {
   "cell_type": "code",
   "execution_count": null,
   "id": "280dc104",
   "metadata": {},
   "outputs": [],
   "source": []
  },
  {
   "cell_type": "code",
   "execution_count": null,
   "id": "5c4e2930",
   "metadata": {},
   "outputs": [],
   "source": []
  },
  {
   "cell_type": "code",
   "execution_count": null,
   "id": "570c8972",
   "metadata": {},
   "outputs": [],
   "source": []
  },
  {
   "cell_type": "code",
   "execution_count": null,
   "id": "8e0a8f18",
   "metadata": {},
   "outputs": [],
   "source": []
  },
  {
   "cell_type": "code",
   "execution_count": null,
   "id": "e760f368",
   "metadata": {},
   "outputs": [],
   "source": []
  },
  {
   "cell_type": "code",
   "execution_count": null,
   "id": "26ba01a2",
   "metadata": {},
   "outputs": [],
   "source": []
  },
  {
   "cell_type": "code",
   "execution_count": null,
   "id": "967af264",
   "metadata": {},
   "outputs": [],
   "source": []
  },
  {
   "cell_type": "code",
   "execution_count": null,
   "id": "d9e5c2f9",
   "metadata": {},
   "outputs": [],
   "source": []
  },
  {
   "cell_type": "code",
   "execution_count": null,
   "id": "a5d48ef4",
   "metadata": {},
   "outputs": [],
   "source": [
    "test"
   ]
  },
  {
   "cell_type": "code",
   "execution_count": 1,
   "id": "600928e1",
   "metadata": {},
   "outputs": [
    {
     "ename": "NameError",
     "evalue": "name 'test' is not defined",
     "output_type": "error",
     "traceback": [
      "\u001b[0;31m---------------------------------------------------------------------------\u001b[0m",
      "\u001b[0;31mNameError\u001b[0m                                 Traceback (most recent call last)",
      "\u001b[0;32m<ipython-input-1-4e1243bd22c6>\u001b[0m in \u001b[0;36m<module>\u001b[0;34m\u001b[0m\n\u001b[0;32m----> 1\u001b[0;31m \u001b[0mtest\u001b[0m\u001b[0;34m\u001b[0m\u001b[0;34m\u001b[0m\u001b[0m\n\u001b[0m",
      "\u001b[0;31mNameError\u001b[0m: name 'test' is not defined"
     ]
    }
   ],
   "source": [
    "test"
   ]
  },
  {
   "cell_type": "code",
   "execution_count": 2,
   "id": "98da4d40",
   "metadata": {},
   "outputs": [],
   "source": [
    "import gensim\n",
    "import pandas as pd"
   ]
  },
  {
   "cell_type": "code",
   "execution_count": null,
   "id": "4141350d",
   "metadata": {
    "scrolled": true
   },
   "outputs": [
    {
     "data": {
      "text/plain": [
       "'Na tarde de domingo (17), Luva de Pedreiro abriu uma live e sugeriu que o melhor seria pagar pensão à atual namorada, Távila Gomes, grávida do primeiro filho dele. \"Sou inamorável\", disse ele, deixando seus seguidores perplexos com um suposto fim precoce do romance.Porém, mais tarde, Távila desmentiu que ambos tenham encerrado o vínculo. Em outra live, ambos ironizaram perguntas sobre o suposto fim do relacionamento. Conforme Luva, as frases horas antes teriam sido \"resenha\", ou seja, brincadeira. \"Não pode falar mais nada. Tudo o que eu faço, eu estou errado.\"Em agosto, Iran Ferreira anunciou que será pai. O anúncio foi feito nas redes sociais do influenciador. O futuro bebê já tem nome escolhido: Cristiano Ronaldo Jr. Mais \"Cristiano Ronaldo Jr vem aí\", disse Luva de Pedreiro na postagem. Ele contou que aguardava um momento especial para fazer o anúncio da gestação, que já estaria no quinto mês.O influenciador é fã declarado do jogador português, a quem ele prestará homenagem nomeando seu filho. Há cerca de um mês, Iran compartilhou na web a ocasião em que conheceu o ídolo.\"Realizei meu sonho que era conhecer Cristiano Ronaldo. Ele sempre foi minha inspiração. Isso que aconteceu comigo serve de exemplo para todos vocês. Não desista dos seus sonhos. Receba!\", escreveu ele.'"
      ]
     },
     "execution_count": 9,
     "metadata": {},
     "output_type": "execute_result"
    }
   ],
   "source": [
    "df.text[0]"
   ]
  },
  {
   "cell_type": "code",
   "execution_count": 4,
   "id": "d157fb5f",
   "metadata": {},
   "outputs": [],
   "source": [
    "df = pd.read_json('news-articles-ptbr-dataset_train.json', lines=True, encoding='utf-8')"
   ]
  },
  {
   "cell_type": "code",
   "execution_count": 5,
   "id": "f72607c2",
   "metadata": {},
   "outputs": [
    {
     "data": {
      "text/html": [
       "<div>\n",
       "<style scoped>\n",
       "    .dataframe tbody tr th:only-of-type {\n",
       "        vertical-align: middle;\n",
       "    }\n",
       "\n",
       "    .dataframe tbody tr th {\n",
       "        vertical-align: top;\n",
       "    }\n",
       "\n",
       "    .dataframe thead th {\n",
       "        text-align: right;\n",
       "    }\n",
       "</style>\n",
       "<table border=\"1\" class=\"dataframe\">\n",
       "  <thead>\n",
       "    <tr style=\"text-align: right;\">\n",
       "      <th></th>\n",
       "      <th>title</th>\n",
       "      <th>text</th>\n",
       "      <th>date</th>\n",
       "      <th>category</th>\n",
       "      <th>category_natural_language</th>\n",
       "      <th>link</th>\n",
       "    </tr>\n",
       "  </thead>\n",
       "  <tbody>\n",
       "    <tr>\n",
       "      <th>0</th>\n",
       "      <td>Após Luva de Pedreiro indicar que pagaria pens...</td>\n",
       "      <td>Na tarde de domingo (17), Luva de Pedreiro abr...</td>\n",
       "      <td>2023-09-18 08:40:00</td>\n",
       "      <td>celebridades</td>\n",
       "      <td>Celebridades</td>\n",
       "      <td>https://f5.folha.uol.com.br/celebridades/2023/...</td>\n",
       "    </tr>\n",
       "    <tr>\n",
       "      <th>1</th>\n",
       "      <td>OMS cobra da China 'acesso total' para investi...</td>\n",
       "      <td>O diretor-geral da OMS (Organização Mundial da...</td>\n",
       "      <td>2023-09-18 09:49:00</td>\n",
       "      <td>equilibrio-e-saude</td>\n",
       "      <td>Equilibrio e Saúde</td>\n",
       "      <td>https://www1.folha.uol.com.br/equilibrioesaude...</td>\n",
       "    </tr>\n",
       "    <tr>\n",
       "      <th>2</th>\n",
       "      <td>Respiração, rins e coração podem ser afetados ...</td>\n",
       "      <td>A última semana de inverno, que termina no pró...</td>\n",
       "      <td>2023-09-18 10:20:00</td>\n",
       "      <td>equilibrio-e-saude</td>\n",
       "      <td>Equilibrio e Saúde</td>\n",
       "      <td>https://www1.folha.uol.com.br/equilibrio/2023/...</td>\n",
       "    </tr>\n",
       "    <tr>\n",
       "      <th>3</th>\n",
       "      <td>Alckmin cita mestre Miyagi, de 'Karatê Kid', e...</td>\n",
       "      <td>O vice-presidente Geraldo Alckmin surpreendeu ...</td>\n",
       "      <td>2023-09-18 08:45:00</td>\n",
       "      <td>poder</td>\n",
       "      <td>Poder</td>\n",
       "      <td>https://www1.folha.uol.com.br/poder/2023/09/al...</td>\n",
       "    </tr>\n",
       "    <tr>\n",
       "      <th>4</th>\n",
       "      <td>Mercado diminui projeção de inflação em semana...</td>\n",
       "      <td>Os economistas consultados pelo BC (Banco Cent...</td>\n",
       "      <td>2023-09-18 08:48:00</td>\n",
       "      <td>mercado</td>\n",
       "      <td>Mercado</td>\n",
       "      <td>https://www1.folha.uol.com.br/mercado/2023/09/...</td>\n",
       "    </tr>\n",
       "  </tbody>\n",
       "</table>\n",
       "</div>"
      ],
      "text/plain": [
       "                                               title  \\\n",
       "0  Após Luva de Pedreiro indicar que pagaria pens...   \n",
       "1  OMS cobra da China 'acesso total' para investi...   \n",
       "2  Respiração, rins e coração podem ser afetados ...   \n",
       "3  Alckmin cita mestre Miyagi, de 'Karatê Kid', e...   \n",
       "4  Mercado diminui projeção de inflação em semana...   \n",
       "\n",
       "                                                text                date  \\\n",
       "0  Na tarde de domingo (17), Luva de Pedreiro abr... 2023-09-18 08:40:00   \n",
       "1  O diretor-geral da OMS (Organização Mundial da... 2023-09-18 09:49:00   \n",
       "2  A última semana de inverno, que termina no pró... 2023-09-18 10:20:00   \n",
       "3  O vice-presidente Geraldo Alckmin surpreendeu ... 2023-09-18 08:45:00   \n",
       "4  Os economistas consultados pelo BC (Banco Cent... 2023-09-18 08:48:00   \n",
       "\n",
       "             category category_natural_language  \\\n",
       "0        celebridades              Celebridades   \n",
       "1  equilibrio-e-saude        Equilibrio e Saúde   \n",
       "2  equilibrio-e-saude        Equilibrio e Saúde   \n",
       "3               poder                     Poder   \n",
       "4             mercado                   Mercado   \n",
       "\n",
       "                                                link  \n",
       "0  https://f5.folha.uol.com.br/celebridades/2023/...  \n",
       "1  https://www1.folha.uol.com.br/equilibrioesaude...  \n",
       "2  https://www1.folha.uol.com.br/equilibrio/2023/...  \n",
       "3  https://www1.folha.uol.com.br/poder/2023/09/al...  \n",
       "4  https://www1.folha.uol.com.br/mercado/2023/09/...  "
      ]
     },
     "execution_count": 5,
     "metadata": {},
     "output_type": "execute_result"
    }
   ],
   "source": [
    "df.head()"
   ]
  },
  {
   "cell_type": "code",
   "execution_count": 6,
   "id": "3f86dcc0",
   "metadata": {},
   "outputs": [
    {
     "data": {
      "text/plain": [
       "'Na tarde de domingo (17), Luva de Pedreiro abriu uma live e sugeriu que o melhor seria pagar pensão à atual namorada, Távila Gomes, grávida do primeiro filho dele. \"Sou inamorável\", disse ele, deixando seus seguidores perplexos com um suposto fim precoce do romance.Porém, mais tarde, Távila desmentiu que ambos tenham encerrado o vínculo. Em outra live, ambos ironizaram perguntas sobre o suposto fim do relacionamento. Conforme Luva, as frases horas antes teriam sido \"resenha\", ou seja, brincadeira. \"Não pode falar mais nada. Tudo o que eu faço, eu estou errado.\"Em agosto, Iran Ferreira anunciou que será pai. O anúncio foi feito nas redes sociais do influenciador. O futuro bebê já tem nome escolhido: Cristiano Ronaldo Jr. Mais \"Cristiano Ronaldo Jr vem aí\", disse Luva de Pedreiro na postagem. Ele contou que aguardava um momento especial para fazer o anúncio da gestação, que já estaria no quinto mês.O influenciador é fã declarado do jogador português, a quem ele prestará homenagem nomeando seu filho. Há cerca de um mês, Iran compartilhou na web a ocasião em que conheceu o ídolo.\"Realizei meu sonho que era conhecer Cristiano Ronaldo. Ele sempre foi minha inspiração. Isso que aconteceu comigo serve de exemplo para todos vocês. Não desista dos seus sonhos. Receba!\", escreveu ele.'"
      ]
     },
     "execution_count": 6,
     "metadata": {},
     "output_type": "execute_result"
    }
   ],
   "source": [
    "df.text[0]"
   ]
  },
  {
   "cell_type": "code",
   "execution_count": 7,
   "id": "97d02790",
   "metadata": {},
   "outputs": [],
   "source": [
    "review_text = df.text.apply(gensim.utils.simple_preprocess)"
   ]
  },
  {
   "cell_type": "code",
   "execution_count": null,
   "id": "b989b137",
   "metadata": {},
   "outputs": [
    {
     "data": {
      "text/plain": [
       "0         [na, tarde, de, domingo, luva, de, pedreiro, a...\n",
       "1         [diretor, geral, da, oms, organização, mundial...\n",
       "2         [última, semana, de, inverno, que, termina, no...\n",
       "3         [vice, presidente, geraldo, alckmin, surpreend...\n",
       "4         [os, economistas, consultados, pelo, bc, banco...\n",
       "                                ...                        \n",
       "176109    [atriz, márcia, cabrita, morreu, aos, anos, ne...\n",
       "176110    [confira, que, acontece, nesta, sexta, em, out...\n",
       "176111    [confira, que, acontece, no, capítulo, desta, ...\n",
       "176112    [confira, que, acontece, no, capítulo, desta, ...\n",
       "176113    [cássio, starling, carloscrítico, da, folhao, ...\n",
       "Name: text, Length: 176114, dtype: object"
      ]
     },
     "execution_count": 8,
     "metadata": {},
     "output_type": "execute_result"
    }
   ],
   "source": [
    "review_text"
   ]
  },
  {
   "cell_type": "code",
   "execution_count": 10,
   "id": "93b66f66",
   "metadata": {},
   "outputs": [
    {
     "data": {
      "text/plain": [
       "'Na tarde de domingo (17), Luva de Pedreiro abriu uma live e sugeriu que o melhor seria pagar pensão à atual namorada, Távila Gomes, grávida do primeiro filho dele. \"Sou inamorável\", disse ele, deixando seus seguidores perplexos com um suposto fim precoce do romance.Porém, mais tarde, Távila desmentiu que ambos tenham encerrado o vínculo. Em outra live, ambos ironizaram perguntas sobre o suposto fim do relacionamento. Conforme Luva, as frases horas antes teriam sido \"resenha\", ou seja, brincadeira. \"Não pode falar mais nada. Tudo o que eu faço, eu estou errado.\"Em agosto, Iran Ferreira anunciou que será pai. O anúncio foi feito nas redes sociais do influenciador. O futuro bebê já tem nome escolhido: Cristiano Ronaldo Jr. Mais \"Cristiano Ronaldo Jr vem aí\", disse Luva de Pedreiro na postagem. Ele contou que aguardava um momento especial para fazer o anúncio da gestação, que já estaria no quinto mês.O influenciador é fã declarado do jogador português, a quem ele prestará homenagem nomeando seu filho. Há cerca de um mês, Iran compartilhou na web a ocasião em que conheceu o ídolo.\"Realizei meu sonho que era conhecer Cristiano Ronaldo. Ele sempre foi minha inspiração. Isso que aconteceu comigo serve de exemplo para todos vocês. Não desista dos seus sonhos. Receba!\", escreveu ele.'"
      ]
     },
     "execution_count": 10,
     "metadata": {},
     "output_type": "execute_result"
    }
   ],
   "source": [
    "df.text.loc[0]\n"
   ]
  },
  {
   "cell_type": "code",
   "execution_count": 11,
   "id": "081d0bf8",
   "metadata": {},
   "outputs": [
    {
     "ename": "AttributeError",
     "evalue": "'DataFrame' object has no attribute 'review_text'",
     "output_type": "error",
     "traceback": [
      "\u001b[0;31m---------------------------------------------------------------------------\u001b[0m",
      "\u001b[0;31mAttributeError\u001b[0m                            Traceback (most recent call last)",
      "\u001b[0;32m<ipython-input-11-7d545299a5c9>\u001b[0m in \u001b[0;36m<module>\u001b[0;34m\u001b[0m\n\u001b[0;32m----> 1\u001b[0;31m \u001b[0mdf\u001b[0m\u001b[0;34m.\u001b[0m\u001b[0mreview_text\u001b[0m\u001b[0;34m.\u001b[0m\u001b[0mloc\u001b[0m\u001b[0;34m[\u001b[0m\u001b[0;36m0\u001b[0m\u001b[0;34m]\u001b[0m\u001b[0;34m\u001b[0m\u001b[0;34m\u001b[0m\u001b[0m\n\u001b[0m",
      "\u001b[0;32m~/.local/lib/python3.6/site-packages/pandas/core/generic.py\u001b[0m in \u001b[0;36m__getattr__\u001b[0;34m(self, name)\u001b[0m\n\u001b[1;32m   5139\u001b[0m             \u001b[0;32mif\u001b[0m \u001b[0mself\u001b[0m\u001b[0;34m.\u001b[0m\u001b[0m_info_axis\u001b[0m\u001b[0;34m.\u001b[0m\u001b[0m_can_hold_identifiers_and_holds_name\u001b[0m\u001b[0;34m(\u001b[0m\u001b[0mname\u001b[0m\u001b[0;34m)\u001b[0m\u001b[0;34m:\u001b[0m\u001b[0;34m\u001b[0m\u001b[0;34m\u001b[0m\u001b[0m\n\u001b[1;32m   5140\u001b[0m                 \u001b[0;32mreturn\u001b[0m \u001b[0mself\u001b[0m\u001b[0;34m[\u001b[0m\u001b[0mname\u001b[0m\u001b[0;34m]\u001b[0m\u001b[0;34m\u001b[0m\u001b[0;34m\u001b[0m\u001b[0m\n\u001b[0;32m-> 5141\u001b[0;31m             \u001b[0;32mreturn\u001b[0m \u001b[0mobject\u001b[0m\u001b[0;34m.\u001b[0m\u001b[0m__getattribute__\u001b[0m\u001b[0;34m(\u001b[0m\u001b[0mself\u001b[0m\u001b[0;34m,\u001b[0m \u001b[0mname\u001b[0m\u001b[0;34m)\u001b[0m\u001b[0;34m\u001b[0m\u001b[0;34m\u001b[0m\u001b[0m\n\u001b[0m\u001b[1;32m   5142\u001b[0m \u001b[0;34m\u001b[0m\u001b[0m\n\u001b[1;32m   5143\u001b[0m     \u001b[0;32mdef\u001b[0m \u001b[0m__setattr__\u001b[0m\u001b[0;34m(\u001b[0m\u001b[0mself\u001b[0m\u001b[0;34m,\u001b[0m \u001b[0mname\u001b[0m\u001b[0;34m:\u001b[0m \u001b[0mstr\u001b[0m\u001b[0;34m,\u001b[0m \u001b[0mvalue\u001b[0m\u001b[0;34m)\u001b[0m \u001b[0;34m->\u001b[0m \u001b[0;32mNone\u001b[0m\u001b[0;34m:\u001b[0m\u001b[0;34m\u001b[0m\u001b[0;34m\u001b[0m\u001b[0m\n",
      "\u001b[0;31mAttributeError\u001b[0m: 'DataFrame' object has no attribute 'review_text'"
     ]
    }
   ],
   "source": [
    "df.review_text.loc[0]"
   ]
  },
  {
   "cell_type": "code",
   "execution_count": 12,
   "id": "bc365cb7",
   "metadata": {},
   "outputs": [
    {
     "data": {
      "text/plain": [
       "['na',\n",
       " 'tarde',\n",
       " 'de',\n",
       " 'domingo',\n",
       " 'luva',\n",
       " 'de',\n",
       " 'pedreiro',\n",
       " 'abriu',\n",
       " 'uma',\n",
       " 'live',\n",
       " 'sugeriu',\n",
       " 'que',\n",
       " 'melhor',\n",
       " 'seria',\n",
       " 'pagar',\n",
       " 'pensão',\n",
       " 'atual',\n",
       " 'namorada',\n",
       " 'távila',\n",
       " 'gomes',\n",
       " 'grávida',\n",
       " 'do',\n",
       " 'primeiro',\n",
       " 'filho',\n",
       " 'dele',\n",
       " 'sou',\n",
       " 'inamorável',\n",
       " 'disse',\n",
       " 'ele',\n",
       " 'deixando',\n",
       " 'seus',\n",
       " 'seguidores',\n",
       " 'perplexos',\n",
       " 'com',\n",
       " 'um',\n",
       " 'suposto',\n",
       " 'fim',\n",
       " 'precoce',\n",
       " 'do',\n",
       " 'romance',\n",
       " 'porém',\n",
       " 'mais',\n",
       " 'tarde',\n",
       " 'távila',\n",
       " 'desmentiu',\n",
       " 'que',\n",
       " 'ambos',\n",
       " 'tenham',\n",
       " 'encerrado',\n",
       " 'vínculo',\n",
       " 'em',\n",
       " 'outra',\n",
       " 'live',\n",
       " 'ambos',\n",
       " 'ironizaram',\n",
       " 'perguntas',\n",
       " 'sobre',\n",
       " 'suposto',\n",
       " 'fim',\n",
       " 'do',\n",
       " 'relacionamento',\n",
       " 'conforme',\n",
       " 'luva',\n",
       " 'as',\n",
       " 'frases',\n",
       " 'horas',\n",
       " 'antes',\n",
       " 'teriam',\n",
       " 'sido',\n",
       " 'resenha',\n",
       " 'ou',\n",
       " 'seja',\n",
       " 'brincadeira',\n",
       " 'não',\n",
       " 'pode',\n",
       " 'falar',\n",
       " 'mais',\n",
       " 'nada',\n",
       " 'tudo',\n",
       " 'que',\n",
       " 'eu',\n",
       " 'faço',\n",
       " 'eu',\n",
       " 'estou',\n",
       " 'errado',\n",
       " 'em',\n",
       " 'agosto',\n",
       " 'iran',\n",
       " 'ferreira',\n",
       " 'anunciou',\n",
       " 'que',\n",
       " 'será',\n",
       " 'pai',\n",
       " 'anúncio',\n",
       " 'foi',\n",
       " 'feito',\n",
       " 'nas',\n",
       " 'redes',\n",
       " 'sociais',\n",
       " 'do',\n",
       " 'influenciador',\n",
       " 'futuro',\n",
       " 'bebê',\n",
       " 'já',\n",
       " 'tem',\n",
       " 'nome',\n",
       " 'escolhido',\n",
       " 'cristiano',\n",
       " 'ronaldo',\n",
       " 'jr',\n",
       " 'mais',\n",
       " 'cristiano',\n",
       " 'ronaldo',\n",
       " 'jr',\n",
       " 'vem',\n",
       " 'aí',\n",
       " 'disse',\n",
       " 'luva',\n",
       " 'de',\n",
       " 'pedreiro',\n",
       " 'na',\n",
       " 'postagem',\n",
       " 'ele',\n",
       " 'contou',\n",
       " 'que',\n",
       " 'aguardava',\n",
       " 'um',\n",
       " 'momento',\n",
       " 'especial',\n",
       " 'para',\n",
       " 'fazer',\n",
       " 'anúncio',\n",
       " 'da',\n",
       " 'gestação',\n",
       " 'que',\n",
       " 'já',\n",
       " 'estaria',\n",
       " 'no',\n",
       " 'quinto',\n",
       " 'mês',\n",
       " 'influenciador',\n",
       " 'fã',\n",
       " 'declarado',\n",
       " 'do',\n",
       " 'jogador',\n",
       " 'português',\n",
       " 'quem',\n",
       " 'ele',\n",
       " 'prestará',\n",
       " 'homenagem',\n",
       " 'nomeando',\n",
       " 'seu',\n",
       " 'filho',\n",
       " 'há',\n",
       " 'cerca',\n",
       " 'de',\n",
       " 'um',\n",
       " 'mês',\n",
       " 'iran',\n",
       " 'compartilhou',\n",
       " 'na',\n",
       " 'web',\n",
       " 'ocasião',\n",
       " 'em',\n",
       " 'que',\n",
       " 'conheceu',\n",
       " 'ídolo',\n",
       " 'realizei',\n",
       " 'meu',\n",
       " 'sonho',\n",
       " 'que',\n",
       " 'era',\n",
       " 'conhecer',\n",
       " 'cristiano',\n",
       " 'ronaldo',\n",
       " 'ele',\n",
       " 'sempre',\n",
       " 'foi',\n",
       " 'minha',\n",
       " 'inspiração',\n",
       " 'isso',\n",
       " 'que',\n",
       " 'aconteceu',\n",
       " 'comigo',\n",
       " 'serve',\n",
       " 'de',\n",
       " 'exemplo',\n",
       " 'para',\n",
       " 'todos',\n",
       " 'vocês',\n",
       " 'não',\n",
       " 'desista',\n",
       " 'dos',\n",
       " 'seus',\n",
       " 'sonhos',\n",
       " 'receba',\n",
       " 'escreveu',\n",
       " 'ele']"
      ]
     },
     "execution_count": 12,
     "metadata": {},
     "output_type": "execute_result"
    }
   ],
   "source": [
    "review_text.loc[0]"
   ]
  },
  {
   "cell_type": "code",
   "execution_count": 13,
   "id": "5fd15f7b",
   "metadata": {},
   "outputs": [
    {
     "data": {
      "text/plain": [
       "'Na tarde de domingo (17), Luva de Pedreiro abriu uma live e sugeriu que o melhor seria pagar pensão à atual namorada, Távila Gomes, grávida do primeiro filho dele. \"Sou inamorável\", disse ele, deixando seus seguidores perplexos com um suposto fim precoce do romance.Porém, mais tarde, Távila desmentiu que ambos tenham encerrado o vínculo. Em outra live, ambos ironizaram perguntas sobre o suposto fim do relacionamento. Conforme Luva, as frases horas antes teriam sido \"resenha\", ou seja, brincadeira. \"Não pode falar mais nada. Tudo o que eu faço, eu estou errado.\"Em agosto, Iran Ferreira anunciou que será pai. O anúncio foi feito nas redes sociais do influenciador. O futuro bebê já tem nome escolhido: Cristiano Ronaldo Jr. Mais \"Cristiano Ronaldo Jr vem aí\", disse Luva de Pedreiro na postagem. Ele contou que aguardava um momento especial para fazer o anúncio da gestação, que já estaria no quinto mês.O influenciador é fã declarado do jogador português, a quem ele prestará homenagem nomeando seu filho. Há cerca de um mês, Iran compartilhou na web a ocasião em que conheceu o ídolo.\"Realizei meu sonho que era conhecer Cristiano Ronaldo. Ele sempre foi minha inspiração. Isso que aconteceu comigo serve de exemplo para todos vocês. Não desista dos seus sonhos. Receba!\", escreveu ele.'"
      ]
     },
     "execution_count": 13,
     "metadata": {},
     "output_type": "execute_result"
    }
   ],
   "source": [
    "df.text.loc[0]"
   ]
  },
  {
   "cell_type": "code",
   "execution_count": 14,
   "id": "ae00d4cd",
   "metadata": {},
   "outputs": [
    {
     "ename": "NameError",
     "evalue": "name 'review' is not defined",
     "output_type": "error",
     "traceback": [
      "\u001b[0;31m---------------------------------------------------------------------------\u001b[0m",
      "\u001b[0;31mNameError\u001b[0m                                 Traceback (most recent call last)",
      "\u001b[0;32m<ipython-input-14-32db36c359db>\u001b[0m in \u001b[0;36m<module>\u001b[0;34m\u001b[0m\n\u001b[0;32m----> 1\u001b[0;31m \u001b[0mreview\u001b[0m\u001b[0;34m.\u001b[0m\u001b[0mtext\u001b[0m\u001b[0;34m[\u001b[0m\u001b[0;36m0\u001b[0m\u001b[0;34m]\u001b[0m\u001b[0;34m\u001b[0m\u001b[0;34m\u001b[0m\u001b[0m\n\u001b[0m",
      "\u001b[0;31mNameError\u001b[0m: name 'review' is not defined"
     ]
    }
   ],
   "source": [
    "review.text[0]"
   ]
  },
  {
   "cell_type": "code",
   "execution_count": 15,
   "id": "fff5d9b6",
   "metadata": {
    "scrolled": true
   },
   "outputs": [
    {
     "ename": "NameError",
     "evalue": "name 'review' is not defined",
     "output_type": "error",
     "traceback": [
      "\u001b[0;31m---------------------------------------------------------------------------\u001b[0m",
      "\u001b[0;31mNameError\u001b[0m                                 Traceback (most recent call last)",
      "\u001b[0;32m<ipython-input-15-d45a9260fafe>\u001b[0m in \u001b[0;36m<module>\u001b[0;34m\u001b[0m\n\u001b[0;32m----> 1\u001b[0;31m \u001b[0mreview\u001b[0m\u001b[0;34m.\u001b[0m\u001b[0mtext\u001b[0m\u001b[0;34m\u001b[0m\u001b[0;34m\u001b[0m\u001b[0m\n\u001b[0m",
      "\u001b[0;31mNameError\u001b[0m: name 'review' is not defined"
     ]
    }
   ],
   "source": [
    "review.text"
   ]
  },
  {
   "cell_type": "code",
   "execution_count": null,
   "id": "bbd18460",
   "metadata": {},
   "outputs": [],
   "source": [
    "review_text = df.text.apply(gensim.utils.simple_preprocess)"
   ]
  },
  {
   "cell_type": "code",
   "execution_count": null,
   "id": "4e0d0cb8",
   "metadata": {},
   "outputs": [],
   "source": [
    "review_text\n"
   ]
  },
  {
   "cell_type": "code",
   "execution_count": 1,
   "id": "0136f30f",
   "metadata": {},
   "outputs": [],
   "source": [
    "test = 1\n"
   ]
  },
  {
   "cell_type": "code",
   "execution_count": 2,
   "id": "11cdcc6e",
   "metadata": {},
   "outputs": [
    {
     "data": {
      "text/plain": [
       "1"
      ]
     },
     "execution_count": 2,
     "metadata": {},
     "output_type": "execute_result"
    }
   ],
   "source": [
    "test\n"
   ]
  },
  {
   "cell_type": "code",
   "execution_count": 3,
   "id": "9f601723",
   "metadata": {},
   "outputs": [
    {
     "ename": "NameError",
     "evalue": "name 'df' is not defined",
     "output_type": "error",
     "traceback": [
      "\u001b[0;31m---------------------------------------------------------------------------\u001b[0m",
      "\u001b[0;31mNameError\u001b[0m                                 Traceback (most recent call last)",
      "\u001b[0;32m<ipython-input-3-b4be4022a173>\u001b[0m in \u001b[0;36m<module>\u001b[0;34m\u001b[0m\n\u001b[0;32m----> 1\u001b[0;31m \u001b[0mreview_text\u001b[0m \u001b[0;34m=\u001b[0m \u001b[0mdf\u001b[0m\u001b[0;34m.\u001b[0m\u001b[0mtext\u001b[0m\u001b[0;34m.\u001b[0m\u001b[0mapply\u001b[0m\u001b[0;34m(\u001b[0m\u001b[0mgensim\u001b[0m\u001b[0;34m.\u001b[0m\u001b[0mutils\u001b[0m\u001b[0;34m.\u001b[0m\u001b[0msimple_preprocess\u001b[0m\u001b[0;34m)\u001b[0m\u001b[0;34m\u001b[0m\u001b[0;34m\u001b[0m\u001b[0m\n\u001b[0m\u001b[1;32m      2\u001b[0m \u001b[0mreview_text\u001b[0m\u001b[0;34m\u001b[0m\u001b[0;34m\u001b[0m\u001b[0m\n",
      "\u001b[0;31mNameError\u001b[0m: name 'df' is not defined"
     ]
    }
   ],
   "source": [
    "review_text = df.text.apply(gensim.utils.simple_preprocess)\n",
    "review_text"
   ]
  },
  {
   "cell_type": "code",
   "execution_count": 4,
   "id": "130a39ba",
   "metadata": {},
   "outputs": [],
   "source": [
    "import gensim\n",
    "import pandas as pd"
   ]
  },
  {
   "cell_type": "code",
   "execution_count": 5,
   "id": "f4c23a05",
   "metadata": {},
   "outputs": [
    {
     "ename": "NameError",
     "evalue": "name 'df' is not defined",
     "output_type": "error",
     "traceback": [
      "\u001b[0;31m---------------------------------------------------------------------------\u001b[0m",
      "\u001b[0;31mNameError\u001b[0m                                 Traceback (most recent call last)",
      "\u001b[0;32m<ipython-input-5-b4be4022a173>\u001b[0m in \u001b[0;36m<module>\u001b[0;34m\u001b[0m\n\u001b[0;32m----> 1\u001b[0;31m \u001b[0mreview_text\u001b[0m \u001b[0;34m=\u001b[0m \u001b[0mdf\u001b[0m\u001b[0;34m.\u001b[0m\u001b[0mtext\u001b[0m\u001b[0;34m.\u001b[0m\u001b[0mapply\u001b[0m\u001b[0;34m(\u001b[0m\u001b[0mgensim\u001b[0m\u001b[0;34m.\u001b[0m\u001b[0mutils\u001b[0m\u001b[0;34m.\u001b[0m\u001b[0msimple_preprocess\u001b[0m\u001b[0;34m)\u001b[0m\u001b[0;34m\u001b[0m\u001b[0;34m\u001b[0m\u001b[0m\n\u001b[0m\u001b[1;32m      2\u001b[0m \u001b[0mreview_text\u001b[0m\u001b[0;34m\u001b[0m\u001b[0;34m\u001b[0m\u001b[0m\n",
      "\u001b[0;31mNameError\u001b[0m: name 'df' is not defined"
     ]
    }
   ],
   "source": [
    "review_text = df.text.apply(gensim.utils.simple_preprocess)\n",
    "review_text"
   ]
  },
  {
   "cell_type": "code",
   "execution_count": 6,
   "id": "a54548ea",
   "metadata": {},
   "outputs": [
    {
     "ename": "NameError",
     "evalue": "name 'df' is not defined",
     "output_type": "error",
     "traceback": [
      "\u001b[0;31m---------------------------------------------------------------------------\u001b[0m",
      "\u001b[0;31mNameError\u001b[0m                                 Traceback (most recent call last)",
      "\u001b[0;32m<ipython-input-6-d6026ceb0d96>\u001b[0m in \u001b[0;36m<module>\u001b[0;34m\u001b[0m\n\u001b[0;32m----> 1\u001b[0;31m \u001b[0mdf\u001b[0m\u001b[0;34m.\u001b[0m\u001b[0mtext\u001b[0m\u001b[0;34m[\u001b[0m\u001b[0;36m0\u001b[0m\u001b[0;34m]\u001b[0m\u001b[0;34m\u001b[0m\u001b[0;34m\u001b[0m\u001b[0m\n\u001b[0m",
      "\u001b[0;31mNameError\u001b[0m: name 'df' is not defined"
     ]
    }
   ],
   "source": [
    "df.text[0]\n"
   ]
  },
  {
   "cell_type": "code",
   "execution_count": 7,
   "id": "36fb5995",
   "metadata": {},
   "outputs": [],
   "source": [
    "df = pd.read_json(\"news-articles-ptbr-dataset_train.json\", lines=True)\n"
   ]
  },
  {
   "cell_type": "code",
   "execution_count": 8,
   "id": "5b73e162",
   "metadata": {},
   "outputs": [
    {
     "data": {
      "text/plain": [
       "'Na tarde de domingo (17), Luva de Pedreiro abriu uma live e sugeriu que o melhor seria pagar pensão à atual namorada, Távila Gomes, grávida do primeiro filho dele. \"Sou inamorável\", disse ele, deixando seus seguidores perplexos com um suposto fim precoce do romance.Porém, mais tarde, Távila desmentiu que ambos tenham encerrado o vínculo. Em outra live, ambos ironizaram perguntas sobre o suposto fim do relacionamento. Conforme Luva, as frases horas antes teriam sido \"resenha\", ou seja, brincadeira. \"Não pode falar mais nada. Tudo o que eu faço, eu estou errado.\"Em agosto, Iran Ferreira anunciou que será pai. O anúncio foi feito nas redes sociais do influenciador. O futuro bebê já tem nome escolhido: Cristiano Ronaldo Jr. Mais \"Cristiano Ronaldo Jr vem aí\", disse Luva de Pedreiro na postagem. Ele contou que aguardava um momento especial para fazer o anúncio da gestação, que já estaria no quinto mês.O influenciador é fã declarado do jogador português, a quem ele prestará homenagem nomeando seu filho. Há cerca de um mês, Iran compartilhou na web a ocasião em que conheceu o ídolo.\"Realizei meu sonho que era conhecer Cristiano Ronaldo. Ele sempre foi minha inspiração. Isso que aconteceu comigo serve de exemplo para todos vocês. Não desista dos seus sonhos. Receba!\", escreveu ele.'"
      ]
     },
     "execution_count": 8,
     "metadata": {},
     "output_type": "execute_result"
    }
   ],
   "source": [
    "df.text[0]"
   ]
  },
  {
   "cell_type": "code",
   "execution_count": 9,
   "id": "a83317cc",
   "metadata": {},
   "outputs": [
    {
     "data": {
      "text/html": [
       "<div>\n",
       "<style scoped>\n",
       "    .dataframe tbody tr th:only-of-type {\n",
       "        vertical-align: middle;\n",
       "    }\n",
       "\n",
       "    .dataframe tbody tr th {\n",
       "        vertical-align: top;\n",
       "    }\n",
       "\n",
       "    .dataframe thead th {\n",
       "        text-align: right;\n",
       "    }\n",
       "</style>\n",
       "<table border=\"1\" class=\"dataframe\">\n",
       "  <thead>\n",
       "    <tr style=\"text-align: right;\">\n",
       "      <th></th>\n",
       "      <th>title</th>\n",
       "      <th>text</th>\n",
       "      <th>date</th>\n",
       "      <th>category</th>\n",
       "      <th>category_natural_language</th>\n",
       "      <th>link</th>\n",
       "    </tr>\n",
       "  </thead>\n",
       "  <tbody>\n",
       "    <tr>\n",
       "      <th>0</th>\n",
       "      <td>Após Luva de Pedreiro indicar que pagaria pens...</td>\n",
       "      <td>Na tarde de domingo (17), Luva de Pedreiro abr...</td>\n",
       "      <td>2023-09-18 08:40:00</td>\n",
       "      <td>celebridades</td>\n",
       "      <td>Celebridades</td>\n",
       "      <td>https://f5.folha.uol.com.br/celebridades/2023/...</td>\n",
       "    </tr>\n",
       "    <tr>\n",
       "      <th>1</th>\n",
       "      <td>OMS cobra da China 'acesso total' para investi...</td>\n",
       "      <td>O diretor-geral da OMS (Organização Mundial da...</td>\n",
       "      <td>2023-09-18 09:49:00</td>\n",
       "      <td>equilibrio-e-saude</td>\n",
       "      <td>Equilibrio e Saúde</td>\n",
       "      <td>https://www1.folha.uol.com.br/equilibrioesaude...</td>\n",
       "    </tr>\n",
       "    <tr>\n",
       "      <th>2</th>\n",
       "      <td>Respiração, rins e coração podem ser afetados ...</td>\n",
       "      <td>A última semana de inverno, que termina no pró...</td>\n",
       "      <td>2023-09-18 10:20:00</td>\n",
       "      <td>equilibrio-e-saude</td>\n",
       "      <td>Equilibrio e Saúde</td>\n",
       "      <td>https://www1.folha.uol.com.br/equilibrio/2023/...</td>\n",
       "    </tr>\n",
       "    <tr>\n",
       "      <th>3</th>\n",
       "      <td>Alckmin cita mestre Miyagi, de 'Karatê Kid', e...</td>\n",
       "      <td>O vice-presidente Geraldo Alckmin surpreendeu ...</td>\n",
       "      <td>2023-09-18 08:45:00</td>\n",
       "      <td>poder</td>\n",
       "      <td>Poder</td>\n",
       "      <td>https://www1.folha.uol.com.br/poder/2023/09/al...</td>\n",
       "    </tr>\n",
       "    <tr>\n",
       "      <th>4</th>\n",
       "      <td>Mercado diminui projeção de inflação em semana...</td>\n",
       "      <td>Os economistas consultados pelo BC (Banco Cent...</td>\n",
       "      <td>2023-09-18 08:48:00</td>\n",
       "      <td>mercado</td>\n",
       "      <td>Mercado</td>\n",
       "      <td>https://www1.folha.uol.com.br/mercado/2023/09/...</td>\n",
       "    </tr>\n",
       "  </tbody>\n",
       "</table>\n",
       "</div>"
      ],
      "text/plain": [
       "                                               title  \\\n",
       "0  Após Luva de Pedreiro indicar que pagaria pens...   \n",
       "1  OMS cobra da China 'acesso total' para investi...   \n",
       "2  Respiração, rins e coração podem ser afetados ...   \n",
       "3  Alckmin cita mestre Miyagi, de 'Karatê Kid', e...   \n",
       "4  Mercado diminui projeção de inflação em semana...   \n",
       "\n",
       "                                                text                date  \\\n",
       "0  Na tarde de domingo (17), Luva de Pedreiro abr... 2023-09-18 08:40:00   \n",
       "1  O diretor-geral da OMS (Organização Mundial da... 2023-09-18 09:49:00   \n",
       "2  A última semana de inverno, que termina no pró... 2023-09-18 10:20:00   \n",
       "3  O vice-presidente Geraldo Alckmin surpreendeu ... 2023-09-18 08:45:00   \n",
       "4  Os economistas consultados pelo BC (Banco Cent... 2023-09-18 08:48:00   \n",
       "\n",
       "             category category_natural_language  \\\n",
       "0        celebridades              Celebridades   \n",
       "1  equilibrio-e-saude        Equilibrio e Saúde   \n",
       "2  equilibrio-e-saude        Equilibrio e Saúde   \n",
       "3               poder                     Poder   \n",
       "4             mercado                   Mercado   \n",
       "\n",
       "                                                link  \n",
       "0  https://f5.folha.uol.com.br/celebridades/2023/...  \n",
       "1  https://www1.folha.uol.com.br/equilibrioesaude...  \n",
       "2  https://www1.folha.uol.com.br/equilibrio/2023/...  \n",
       "3  https://www1.folha.uol.com.br/poder/2023/09/al...  \n",
       "4  https://www1.folha.uol.com.br/mercado/2023/09/...  "
      ]
     },
     "execution_count": 9,
     "metadata": {},
     "output_type": "execute_result"
    }
   ],
   "source": [
    "df.head()"
   ]
  },
  {
   "cell_type": "code",
   "execution_count": 10,
   "id": "0a06463a",
   "metadata": {},
   "outputs": [],
   "source": [
    "review_text = df.text.apply(gensim.utils.simple_preprocess)"
   ]
  },
  {
   "cell_type": "code",
   "execution_count": 11,
   "id": "24d3a980",
   "metadata": {},
   "outputs": [
    {
     "data": {
      "text/plain": [
       "0         [na, tarde, de, domingo, luva, de, pedreiro, a...\n",
       "1         [diretor, geral, da, oms, organização, mundial...\n",
       "2         [última, semana, de, inverno, que, termina, no...\n",
       "3         [vice, presidente, geraldo, alckmin, surpreend...\n",
       "4         [os, economistas, consultados, pelo, bc, banco...\n",
       "                                ...                        \n",
       "176109    [atriz, márcia, cabrita, morreu, aos, anos, ne...\n",
       "176110    [confira, que, acontece, nesta, sexta, em, out...\n",
       "176111    [confira, que, acontece, no, capítulo, desta, ...\n",
       "176112    [confira, que, acontece, no, capítulo, desta, ...\n",
       "176113    [cássio, starling, carloscrítico, da, folhao, ...\n",
       "Name: text, Length: 176114, dtype: object"
      ]
     },
     "execution_count": 11,
     "metadata": {},
     "output_type": "execute_result"
    }
   ],
   "source": [
    "review_text"
   ]
  },
  {
   "cell_type": "code",
   "execution_count": 12,
   "id": "713cb633",
   "metadata": {},
   "outputs": [
    {
     "data": {
      "text/plain": [
       "['na',\n",
       " 'tarde',\n",
       " 'de',\n",
       " 'domingo',\n",
       " 'luva',\n",
       " 'de',\n",
       " 'pedreiro',\n",
       " 'abriu',\n",
       " 'uma',\n",
       " 'live',\n",
       " 'sugeriu',\n",
       " 'que',\n",
       " 'melhor',\n",
       " 'seria',\n",
       " 'pagar',\n",
       " 'pensão',\n",
       " 'atual',\n",
       " 'namorada',\n",
       " 'távila',\n",
       " 'gomes',\n",
       " 'grávida',\n",
       " 'do',\n",
       " 'primeiro',\n",
       " 'filho',\n",
       " 'dele',\n",
       " 'sou',\n",
       " 'inamorável',\n",
       " 'disse',\n",
       " 'ele',\n",
       " 'deixando',\n",
       " 'seus',\n",
       " 'seguidores',\n",
       " 'perplexos',\n",
       " 'com',\n",
       " 'um',\n",
       " 'suposto',\n",
       " 'fim',\n",
       " 'precoce',\n",
       " 'do',\n",
       " 'romance',\n",
       " 'porém',\n",
       " 'mais',\n",
       " 'tarde',\n",
       " 'távila',\n",
       " 'desmentiu',\n",
       " 'que',\n",
       " 'ambos',\n",
       " 'tenham',\n",
       " 'encerrado',\n",
       " 'vínculo',\n",
       " 'em',\n",
       " 'outra',\n",
       " 'live',\n",
       " 'ambos',\n",
       " 'ironizaram',\n",
       " 'perguntas',\n",
       " 'sobre',\n",
       " 'suposto',\n",
       " 'fim',\n",
       " 'do',\n",
       " 'relacionamento',\n",
       " 'conforme',\n",
       " 'luva',\n",
       " 'as',\n",
       " 'frases',\n",
       " 'horas',\n",
       " 'antes',\n",
       " 'teriam',\n",
       " 'sido',\n",
       " 'resenha',\n",
       " 'ou',\n",
       " 'seja',\n",
       " 'brincadeira',\n",
       " 'não',\n",
       " 'pode',\n",
       " 'falar',\n",
       " 'mais',\n",
       " 'nada',\n",
       " 'tudo',\n",
       " 'que',\n",
       " 'eu',\n",
       " 'faço',\n",
       " 'eu',\n",
       " 'estou',\n",
       " 'errado',\n",
       " 'em',\n",
       " 'agosto',\n",
       " 'iran',\n",
       " 'ferreira',\n",
       " 'anunciou',\n",
       " 'que',\n",
       " 'será',\n",
       " 'pai',\n",
       " 'anúncio',\n",
       " 'foi',\n",
       " 'feito',\n",
       " 'nas',\n",
       " 'redes',\n",
       " 'sociais',\n",
       " 'do',\n",
       " 'influenciador',\n",
       " 'futuro',\n",
       " 'bebê',\n",
       " 'já',\n",
       " 'tem',\n",
       " 'nome',\n",
       " 'escolhido',\n",
       " 'cristiano',\n",
       " 'ronaldo',\n",
       " 'jr',\n",
       " 'mais',\n",
       " 'cristiano',\n",
       " 'ronaldo',\n",
       " 'jr',\n",
       " 'vem',\n",
       " 'aí',\n",
       " 'disse',\n",
       " 'luva',\n",
       " 'de',\n",
       " 'pedreiro',\n",
       " 'na',\n",
       " 'postagem',\n",
       " 'ele',\n",
       " 'contou',\n",
       " 'que',\n",
       " 'aguardava',\n",
       " 'um',\n",
       " 'momento',\n",
       " 'especial',\n",
       " 'para',\n",
       " 'fazer',\n",
       " 'anúncio',\n",
       " 'da',\n",
       " 'gestação',\n",
       " 'que',\n",
       " 'já',\n",
       " 'estaria',\n",
       " 'no',\n",
       " 'quinto',\n",
       " 'mês',\n",
       " 'influenciador',\n",
       " 'fã',\n",
       " 'declarado',\n",
       " 'do',\n",
       " 'jogador',\n",
       " 'português',\n",
       " 'quem',\n",
       " 'ele',\n",
       " 'prestará',\n",
       " 'homenagem',\n",
       " 'nomeando',\n",
       " 'seu',\n",
       " 'filho',\n",
       " 'há',\n",
       " 'cerca',\n",
       " 'de',\n",
       " 'um',\n",
       " 'mês',\n",
       " 'iran',\n",
       " 'compartilhou',\n",
       " 'na',\n",
       " 'web',\n",
       " 'ocasião',\n",
       " 'em',\n",
       " 'que',\n",
       " 'conheceu',\n",
       " 'ídolo',\n",
       " 'realizei',\n",
       " 'meu',\n",
       " 'sonho',\n",
       " 'que',\n",
       " 'era',\n",
       " 'conhecer',\n",
       " 'cristiano',\n",
       " 'ronaldo',\n",
       " 'ele',\n",
       " 'sempre',\n",
       " 'foi',\n",
       " 'minha',\n",
       " 'inspiração',\n",
       " 'isso',\n",
       " 'que',\n",
       " 'aconteceu',\n",
       " 'comigo',\n",
       " 'serve',\n",
       " 'de',\n",
       " 'exemplo',\n",
       " 'para',\n",
       " 'todos',\n",
       " 'vocês',\n",
       " 'não',\n",
       " 'desista',\n",
       " 'dos',\n",
       " 'seus',\n",
       " 'sonhos',\n",
       " 'receba',\n",
       " 'escreveu',\n",
       " 'ele']"
      ]
     },
     "execution_count": 12,
     "metadata": {},
     "output_type": "execute_result"
    }
   ],
   "source": [
    "\n",
    "review_text.loc[0]"
   ]
  },
  {
   "cell_type": "code",
   "execution_count": 13,
   "id": "9a262815",
   "metadata": {},
   "outputs": [
    {
     "data": {
      "text/plain": [
       "'Na tarde de domingo (17), Luva de Pedreiro abriu uma live e sugeriu que o melhor seria pagar pensão à atual namorada, Távila Gomes, grávida do primeiro filho dele. \"Sou inamorável\", disse ele, deixando seus seguidores perplexos com um suposto fim precoce do romance.Porém, mais tarde, Távila desmentiu que ambos tenham encerrado o vínculo. Em outra live, ambos ironizaram perguntas sobre o suposto fim do relacionamento. Conforme Luva, as frases horas antes teriam sido \"resenha\", ou seja, brincadeira. \"Não pode falar mais nada. Tudo o que eu faço, eu estou errado.\"Em agosto, Iran Ferreira anunciou que será pai. O anúncio foi feito nas redes sociais do influenciador. O futuro bebê já tem nome escolhido: Cristiano Ronaldo Jr. Mais \"Cristiano Ronaldo Jr vem aí\", disse Luva de Pedreiro na postagem. Ele contou que aguardava um momento especial para fazer o anúncio da gestação, que já estaria no quinto mês.O influenciador é fã declarado do jogador português, a quem ele prestará homenagem nomeando seu filho. Há cerca de um mês, Iran compartilhou na web a ocasião em que conheceu o ídolo.\"Realizei meu sonho que era conhecer Cristiano Ronaldo. Ele sempre foi minha inspiração. Isso que aconteceu comigo serve de exemplo para todos vocês. Não desista dos seus sonhos. Receba!\", escreveu ele.'"
      ]
     },
     "execution_count": 13,
     "metadata": {},
     "output_type": "execute_result"
    }
   ],
   "source": [
    "\n",
    "df.text.loc[0]"
   ]
  },
  {
   "cell_type": "code",
   "execution_count": 14,
   "id": "8ae56ff7",
   "metadata": {},
   "outputs": [
    {
     "name": "stderr",
     "output_type": "stream",
     "text": [
      "/home/opc/.local/lib/python3.6/site-packages/gensim/models/base_any2vec.py:743: UserWarning: C extension not loaded, training will be slow. Install a C compiler and reinstall gensim for fast training.\n",
      "  \"C extension not loaded, training will be slow. \"\n"
     ]
    }
   ],
   "source": [
    "model = gensim.models.Word2Vec(\n",
    "    window=10,\n",
    "    min_count=2,\n",
    "    workers=2,\n",
    ")"
   ]
  },
  {
   "cell_type": "code",
   "execution_count": 15,
   "id": "09477d81",
   "metadata": {},
   "outputs": [],
   "source": [
    "model = gensim.models.Word2Vec(\n",
    "    window=10,\n",
    "    min_count=2,\n",
    "    workers=2,\n",
    ")\n"
   ]
  },
  {
   "cell_type": "code",
   "execution_count": 16,
   "id": "7d741262",
   "metadata": {},
   "outputs": [],
   "source": [
    "model.build_vocab(review_text, progress_per=1000)\n"
   ]
  },
  {
   "cell_type": "code",
   "execution_count": null,
   "id": "14251c54",
   "metadata": {},
   "outputs": [],
   "source": [
    "model.train(review_text, total_examples=model.corpus_count, epochs=model.epochs)\n"
   ]
  },
  {
   "cell_type": "code",
   "execution_count": null,
   "id": "0a55b667",
   "metadata": {},
   "outputs": [],
   "source": [
    "model.save(\"./word2vec-news-articles-ptbr-dataset_train.model\")\n"
   ]
  },
  {
   "cell_type": "code",
   "execution_count": null,
   "id": "8cad66fd",
   "metadata": {},
   "outputs": [],
   "source": [
    "model.wv.most_similar(\"ruim\")"
   ]
  },
  {
   "cell_type": "code",
   "execution_count": 1,
   "id": "47cf7710",
   "metadata": {},
   "outputs": [],
   "source": [
    "test = 1\n"
   ]
  },
  {
   "cell_type": "code",
   "execution_count": 2,
   "id": "2682bacd",
   "metadata": {},
   "outputs": [
    {
     "data": {
      "text/plain": [
       "1"
      ]
     },
     "execution_count": 2,
     "metadata": {},
     "output_type": "execute_result"
    }
   ],
   "source": [
    "test\n"
   ]
  },
  {
   "cell_type": "code",
   "execution_count": 3,
   "id": "73aa058d",
   "metadata": {},
   "outputs": [],
   "source": [
    "from tqdm import tqdm\n"
   ]
  },
  {
   "cell_type": "code",
   "execution_count": 4,
   "id": "3a28bbae",
   "metadata": {},
   "outputs": [],
   "source": [
    "import gensim\n",
    "import pandas as pd"
   ]
  },
  {
   "cell_type": "code",
   "execution_count": null,
   "id": "361fa9f4",
   "metadata": {},
   "outputs": [],
   "source": [
    "df = pd.read_json(\"news-articles-ptbr-dataset_train.json\", lines=True)\n"
   ]
  },
  {
   "cell_type": "code",
   "execution_count": 6,
   "id": "d589a44a",
   "metadata": {},
   "outputs": [],
   "source": [
    "review_text = df.text.apply(gensim.utils.simple_preprocess)"
   ]
  },
  {
   "cell_type": "code",
   "execution_count": 7,
   "id": "deaf594d",
   "metadata": {},
   "outputs": [],
   "source": [
    "test = 1\n"
   ]
  },
  {
   "cell_type": "code",
   "execution_count": 8,
   "id": "c325147b",
   "metadata": {},
   "outputs": [
    {
     "data": {
      "text/plain": [
       "1"
      ]
     },
     "execution_count": 8,
     "metadata": {},
     "output_type": "execute_result"
    }
   ],
   "source": [
    "test"
   ]
  },
  {
   "cell_type": "code",
   "execution_count": 9,
   "id": "e44497d2",
   "metadata": {},
   "outputs": [
    {
     "name": "stdout",
     "output_type": "stream",
     "text": [
      "Defaulting to user installation because normal site-packages is not writeable\n",
      "Requirement already satisfied: tqdm in /home/opc/.local/lib/python3.6/site-packages (4.64.1)\n",
      "Requirement already satisfied: importlib-resources in /home/opc/.local/lib/python3.6/site-packages (from tqdm) (5.4.0)\n",
      "Requirement already satisfied: zipp>=3.1.0 in /usr/local/lib/python3.6/site-packages (from importlib-resources->tqdm) (3.6.0)\n"
     ]
    }
   ],
   "source": [
    "!pip install tqdm"
   ]
  },
  {
   "cell_type": "code",
   "execution_count": 10,
   "id": "5d13a77d",
   "metadata": {},
   "outputs": [
    {
     "name": "stderr",
     "output_type": "stream",
     "text": [
      "\r",
      "Building vocab:   0%|                                                                                                                                                                                                                                                                                                                                                                                                                                                                                                                                                                                                                                                                                                                                                                                                                                                                                    | 0/176114 [00:00<?, ?it/s]"
     ]
    }
   ],
   "source": [
    "progress_bar = tqdm(total=len(review_text), desc='Building vocab', ncols=900)\n"
   ]
  },
  {
   "cell_type": "code",
   "execution_count": 11,
   "id": "10e4bce8",
   "metadata": {},
   "outputs": [],
   "source": [
    "def update_progress(*args, **kwargs):\n",
    "    progress_bar.update()"
   ]
  },
  {
   "cell_type": "code",
   "execution_count": 12,
   "id": "5c2be65f",
   "metadata": {},
   "outputs": [
    {
     "data": {
      "text/plain": [
       "'Na tarde de domingo (17), Luva de Pedreiro abriu uma live e sugeriu que o melhor seria pagar pensão à atual namorada, Távila Gomes, grávida do primeiro filho dele. \"Sou inamorável\", disse ele, deixando seus seguidores perplexos com um suposto fim precoce do romance.Porém, mais tarde, Távila desmentiu que ambos tenham encerrado o vínculo. Em outra live, ambos ironizaram perguntas sobre o suposto fim do relacionamento. Conforme Luva, as frases horas antes teriam sido \"resenha\", ou seja, brincadeira. \"Não pode falar mais nada. Tudo o que eu faço, eu estou errado.\"Em agosto, Iran Ferreira anunciou que será pai. O anúncio foi feito nas redes sociais do influenciador. O futuro bebê já tem nome escolhido: Cristiano Ronaldo Jr. Mais \"Cristiano Ronaldo Jr vem aí\", disse Luva de Pedreiro na postagem. Ele contou que aguardava um momento especial para fazer o anúncio da gestação, que já estaria no quinto mês.O influenciador é fã declarado do jogador português, a quem ele prestará homenagem nomeando seu filho. Há cerca de um mês, Iran compartilhou na web a ocasião em que conheceu o ídolo.\"Realizei meu sonho que era conhecer Cristiano Ronaldo. Ele sempre foi minha inspiração. Isso que aconteceu comigo serve de exemplo para todos vocês. Não desista dos seus sonhos. Receba!\", escreveu ele.'"
      ]
     },
     "execution_count": 12,
     "metadata": {},
     "output_type": "execute_result"
    }
   ],
   "source": [
    "df.text.loc[0]"
   ]
  },
  {
   "cell_type": "code",
   "execution_count": 14,
   "id": "ca9cf36a",
   "metadata": {},
   "outputs": [],
   "source": [
    "model = gensim.models.Word2Vec(\n",
    "    window=5,\n",
    "    min_count=2,\n",
    "    workers=2,\n",
    ")"
   ]
  },
  {
   "cell_type": "code",
   "execution_count": null,
   "id": "3bc0340c",
   "metadata": {},
   "outputs": [],
   "source": [
    "model.build_vocab(review_text, progress_per=1000, update=update_progress)"
   ]
  },
  {
   "cell_type": "code",
   "execution_count": null,
   "id": "edd8272d",
   "metadata": {},
   "outputs": [],
   "source": [
    "test = 1"
   ]
  },
  {
   "cell_type": "code",
   "execution_count": null,
   "id": "34186669",
   "metadata": {},
   "outputs": [],
   "source": [
    "test\n"
   ]
  },
  {
   "cell_type": "code",
   "execution_count": null,
   "id": "975c24ff",
   "metadata": {},
   "outputs": [],
   "source": []
  },
  {
   "cell_type": "code",
   "execution_count": null,
   "id": "7ac0203b",
   "metadata": {},
   "outputs": [],
   "source": []
  },
  {
   "cell_type": "code",
   "execution_count": 17,
   "id": "e5085984",
   "metadata": {},
   "outputs": [
    {
     "data": {
      "text/plain": [
       "1"
      ]
     },
     "execution_count": 17,
     "metadata": {},
     "output_type": "execute_result"
    }
   ],
   "source": [
    "test\n"
   ]
  },
  {
   "cell_type": "code",
   "execution_count": 19,
   "id": "ca209aa9",
   "metadata": {},
   "outputs": [],
   "source": [
    "model.save(\"./word2vec-news-articles-ptbr-dataset_train.model\")"
   ]
  },
  {
   "cell_type": "code",
   "execution_count": 20,
   "id": "0e402f4b",
   "metadata": {},
   "outputs": [
    {
     "data": {
      "text/plain": [
       "1"
      ]
     },
     "execution_count": 20,
     "metadata": {},
     "output_type": "execute_result"
    }
   ],
   "source": [
    "test"
   ]
  },
  {
   "cell_type": "code",
   "execution_count": 22,
   "id": "ef3a5e36",
   "metadata": {},
   "outputs": [
    {
     "data": {
      "text/plain": [
       "176114"
      ]
     },
     "execution_count": 22,
     "metadata": {},
     "output_type": "execute_result"
    }
   ],
   "source": [
    "model.corpus_count"
   ]
  },
  {
   "cell_type": "code",
   "execution_count": 25,
   "id": "0845ca04",
   "metadata": {},
   "outputs": [
    {
     "data": {
      "text/plain": [
       "5"
      ]
     },
     "execution_count": 25,
     "metadata": {},
     "output_type": "execute_result"
    }
   ],
   "source": [
    "model.epochs"
   ]
  },
  {
   "cell_type": "code",
   "execution_count": 26,
   "id": "33f43bc5",
   "metadata": {},
   "outputs": [
    {
     "ename": "RuntimeError",
     "evalue": "you must initialize vectors before training the model",
     "output_type": "error",
     "traceback": [
      "\u001b[0;31m---------------------------------------------------------------------------\u001b[0m",
      "\u001b[0;31mRuntimeError\u001b[0m                              Traceback (most recent call last)",
      "\u001b[0;32m<ipython-input-26-032c6836947d>\u001b[0m in \u001b[0;36m<module>\u001b[0;34m\u001b[0m\n\u001b[0;32m----> 1\u001b[0;31m \u001b[0mmodel\u001b[0m\u001b[0;34m.\u001b[0m\u001b[0mtrain\u001b[0m\u001b[0;34m(\u001b[0m\u001b[0mreview_text\u001b[0m\u001b[0;34m,\u001b[0m \u001b[0mtotal_examples\u001b[0m\u001b[0;34m=\u001b[0m\u001b[0mmodel\u001b[0m\u001b[0;34m.\u001b[0m\u001b[0mcorpus_count\u001b[0m\u001b[0;34m,\u001b[0m \u001b[0mepochs\u001b[0m\u001b[0;34m=\u001b[0m\u001b[0mmodel\u001b[0m\u001b[0;34m.\u001b[0m\u001b[0mepochs\u001b[0m\u001b[0;34m)\u001b[0m\u001b[0;34m\u001b[0m\u001b[0;34m\u001b[0m\u001b[0m\n\u001b[0m",
      "\u001b[0;32m~/.local/lib/python3.6/site-packages/gensim/models/word2vec.py\u001b[0m in \u001b[0;36mtrain\u001b[0;34m(self, sentences, corpus_file, total_examples, total_words, epochs, start_alpha, end_alpha, word_count, queue_factor, report_delay, compute_loss, callbacks)\u001b[0m\n\u001b[1;32m    908\u001b[0m             \u001b[0msentences\u001b[0m\u001b[0;34m=\u001b[0m\u001b[0msentences\u001b[0m\u001b[0;34m,\u001b[0m \u001b[0mcorpus_file\u001b[0m\u001b[0;34m=\u001b[0m\u001b[0mcorpus_file\u001b[0m\u001b[0;34m,\u001b[0m \u001b[0mtotal_examples\u001b[0m\u001b[0;34m=\u001b[0m\u001b[0mtotal_examples\u001b[0m\u001b[0;34m,\u001b[0m \u001b[0mtotal_words\u001b[0m\u001b[0;34m=\u001b[0m\u001b[0mtotal_words\u001b[0m\u001b[0;34m,\u001b[0m\u001b[0;34m\u001b[0m\u001b[0;34m\u001b[0m\u001b[0m\n\u001b[1;32m    909\u001b[0m             \u001b[0mepochs\u001b[0m\u001b[0;34m=\u001b[0m\u001b[0mepochs\u001b[0m\u001b[0;34m,\u001b[0m \u001b[0mstart_alpha\u001b[0m\u001b[0;34m=\u001b[0m\u001b[0mstart_alpha\u001b[0m\u001b[0;34m,\u001b[0m \u001b[0mend_alpha\u001b[0m\u001b[0;34m=\u001b[0m\u001b[0mend_alpha\u001b[0m\u001b[0;34m,\u001b[0m \u001b[0mword_count\u001b[0m\u001b[0;34m=\u001b[0m\u001b[0mword_count\u001b[0m\u001b[0;34m,\u001b[0m\u001b[0;34m\u001b[0m\u001b[0;34m\u001b[0m\u001b[0m\n\u001b[0;32m--> 910\u001b[0;31m             queue_factor=queue_factor, report_delay=report_delay, compute_loss=compute_loss, callbacks=callbacks)\n\u001b[0m\u001b[1;32m    911\u001b[0m \u001b[0;34m\u001b[0m\u001b[0m\n\u001b[1;32m    912\u001b[0m     \u001b[0;32mdef\u001b[0m \u001b[0mscore\u001b[0m\u001b[0;34m(\u001b[0m\u001b[0mself\u001b[0m\u001b[0;34m,\u001b[0m \u001b[0msentences\u001b[0m\u001b[0;34m,\u001b[0m \u001b[0mtotal_sentences\u001b[0m\u001b[0;34m=\u001b[0m\u001b[0mint\u001b[0m\u001b[0;34m(\u001b[0m\u001b[0;36m1e6\u001b[0m\u001b[0;34m)\u001b[0m\u001b[0;34m,\u001b[0m \u001b[0mchunksize\u001b[0m\u001b[0;34m=\u001b[0m\u001b[0;36m100\u001b[0m\u001b[0;34m,\u001b[0m \u001b[0mqueue_factor\u001b[0m\u001b[0;34m=\u001b[0m\u001b[0;36m2\u001b[0m\u001b[0;34m,\u001b[0m \u001b[0mreport_delay\u001b[0m\u001b[0;34m=\u001b[0m\u001b[0;36m1\u001b[0m\u001b[0;34m)\u001b[0m\u001b[0;34m:\u001b[0m\u001b[0;34m\u001b[0m\u001b[0;34m\u001b[0m\u001b[0m\n",
      "\u001b[0;32m~/.local/lib/python3.6/site-packages/gensim/models/base_any2vec.py\u001b[0m in \u001b[0;36mtrain\u001b[0;34m(self, sentences, corpus_file, total_examples, total_words, epochs, start_alpha, end_alpha, word_count, queue_factor, report_delay, compute_loss, callbacks, **kwargs)\u001b[0m\n\u001b[1;32m   1079\u001b[0m             \u001b[0mtotal_words\u001b[0m\u001b[0;34m=\u001b[0m\u001b[0mtotal_words\u001b[0m\u001b[0;34m,\u001b[0m \u001b[0mepochs\u001b[0m\u001b[0;34m=\u001b[0m\u001b[0mepochs\u001b[0m\u001b[0;34m,\u001b[0m \u001b[0mstart_alpha\u001b[0m\u001b[0;34m=\u001b[0m\u001b[0mstart_alpha\u001b[0m\u001b[0;34m,\u001b[0m \u001b[0mend_alpha\u001b[0m\u001b[0;34m=\u001b[0m\u001b[0mend_alpha\u001b[0m\u001b[0;34m,\u001b[0m \u001b[0mword_count\u001b[0m\u001b[0;34m=\u001b[0m\u001b[0mword_count\u001b[0m\u001b[0;34m,\u001b[0m\u001b[0;34m\u001b[0m\u001b[0;34m\u001b[0m\u001b[0m\n\u001b[1;32m   1080\u001b[0m             \u001b[0mqueue_factor\u001b[0m\u001b[0;34m=\u001b[0m\u001b[0mqueue_factor\u001b[0m\u001b[0;34m,\u001b[0m \u001b[0mreport_delay\u001b[0m\u001b[0;34m=\u001b[0m\u001b[0mreport_delay\u001b[0m\u001b[0;34m,\u001b[0m \u001b[0mcompute_loss\u001b[0m\u001b[0;34m=\u001b[0m\u001b[0mcompute_loss\u001b[0m\u001b[0;34m,\u001b[0m \u001b[0mcallbacks\u001b[0m\u001b[0;34m=\u001b[0m\u001b[0mcallbacks\u001b[0m\u001b[0;34m,\u001b[0m\u001b[0;34m\u001b[0m\u001b[0;34m\u001b[0m\u001b[0m\n\u001b[0;32m-> 1081\u001b[0;31m             **kwargs)\n\u001b[0m\u001b[1;32m   1082\u001b[0m \u001b[0;34m\u001b[0m\u001b[0m\n\u001b[1;32m   1083\u001b[0m     \u001b[0;32mdef\u001b[0m \u001b[0m_get_job_params\u001b[0m\u001b[0;34m(\u001b[0m\u001b[0mself\u001b[0m\u001b[0;34m,\u001b[0m \u001b[0mcur_epoch\u001b[0m\u001b[0;34m)\u001b[0m\u001b[0;34m:\u001b[0m\u001b[0;34m\u001b[0m\u001b[0;34m\u001b[0m\u001b[0m\n",
      "\u001b[0;32m~/.local/lib/python3.6/site-packages/gensim/models/base_any2vec.py\u001b[0m in \u001b[0;36mtrain\u001b[0;34m(self, data_iterable, corpus_file, epochs, total_examples, total_words, queue_factor, report_delay, callbacks, **kwargs)\u001b[0m\n\u001b[1;32m    534\u001b[0m             \u001b[0mepochs\u001b[0m\u001b[0;34m=\u001b[0m\u001b[0mepochs\u001b[0m\u001b[0;34m,\u001b[0m\u001b[0;34m\u001b[0m\u001b[0;34m\u001b[0m\u001b[0m\n\u001b[1;32m    535\u001b[0m             \u001b[0mtotal_examples\u001b[0m\u001b[0;34m=\u001b[0m\u001b[0mtotal_examples\u001b[0m\u001b[0;34m,\u001b[0m\u001b[0;34m\u001b[0m\u001b[0;34m\u001b[0m\u001b[0m\n\u001b[0;32m--> 536\u001b[0;31m             total_words=total_words, **kwargs)\n\u001b[0m\u001b[1;32m    537\u001b[0m \u001b[0;34m\u001b[0m\u001b[0m\n\u001b[1;32m    538\u001b[0m         \u001b[0;32mfor\u001b[0m \u001b[0mcallback\u001b[0m \u001b[0;32min\u001b[0m \u001b[0mself\u001b[0m\u001b[0;34m.\u001b[0m\u001b[0mcallbacks\u001b[0m\u001b[0;34m:\u001b[0m\u001b[0;34m\u001b[0m\u001b[0;34m\u001b[0m\u001b[0m\n",
      "\u001b[0;32m~/.local/lib/python3.6/site-packages/gensim/models/base_any2vec.py\u001b[0m in \u001b[0;36m_check_training_sanity\u001b[0;34m(self, epochs, total_examples, total_words, **kwargs)\u001b[0m\n\u001b[1;32m   1187\u001b[0m             \u001b[0;32mraise\u001b[0m \u001b[0mRuntimeError\u001b[0m\u001b[0;34m(\u001b[0m\u001b[0;34m\"you must first build vocabulary before training the model\"\u001b[0m\u001b[0;34m)\u001b[0m\u001b[0;34m\u001b[0m\u001b[0;34m\u001b[0m\u001b[0m\n\u001b[1;32m   1188\u001b[0m         \u001b[0;32mif\u001b[0m \u001b[0;32mnot\u001b[0m \u001b[0mlen\u001b[0m\u001b[0;34m(\u001b[0m\u001b[0mself\u001b[0m\u001b[0;34m.\u001b[0m\u001b[0mwv\u001b[0m\u001b[0;34m.\u001b[0m\u001b[0mvectors\u001b[0m\u001b[0;34m)\u001b[0m\u001b[0;34m:\u001b[0m\u001b[0;34m\u001b[0m\u001b[0;34m\u001b[0m\u001b[0m\n\u001b[0;32m-> 1189\u001b[0;31m             \u001b[0;32mraise\u001b[0m \u001b[0mRuntimeError\u001b[0m\u001b[0;34m(\u001b[0m\u001b[0;34m\"you must initialize vectors before training the model\"\u001b[0m\u001b[0;34m)\u001b[0m\u001b[0;34m\u001b[0m\u001b[0;34m\u001b[0m\u001b[0m\n\u001b[0m\u001b[1;32m   1190\u001b[0m \u001b[0;34m\u001b[0m\u001b[0m\n\u001b[1;32m   1191\u001b[0m         \u001b[0;32mif\u001b[0m \u001b[0;32mnot\u001b[0m \u001b[0mhasattr\u001b[0m\u001b[0;34m(\u001b[0m\u001b[0mself\u001b[0m\u001b[0;34m,\u001b[0m \u001b[0;34m'corpus_count'\u001b[0m\u001b[0;34m)\u001b[0m\u001b[0;34m:\u001b[0m\u001b[0;34m\u001b[0m\u001b[0;34m\u001b[0m\u001b[0m\n",
      "\u001b[0;31mRuntimeError\u001b[0m: you must initialize vectors before training the model"
     ]
    }
   ],
   "source": [
    "model.train(review_text, total_examples=model.corpus_count, epochs=model.epochs)"
   ]
  },
  {
   "cell_type": "code",
   "execution_count": 27,
   "id": "bc46626f",
   "metadata": {},
   "outputs": [
    {
     "name": "stdout",
     "output_type": "stream",
     "text": [
      "O vocabulário foi construído.\n"
     ]
    }
   ],
   "source": [
    "if len(model.wv.vocab) > 0:\n",
    "    print(\"O vocabulário foi construído.\")\n",
    "else:\n",
    "    print(\"O vocabulário não foi construído.\")"
   ]
  },
  {
   "cell_type": "code",
   "execution_count": 28,
   "id": "bb993122",
   "metadata": {},
   "outputs": [
    {
     "data": {
      "text/plain": [
       "176114"
      ]
     },
     "execution_count": 28,
     "metadata": {},
     "output_type": "execute_result"
    }
   ],
   "source": [
    "model.corpus_count\n"
   ]
  },
  {
   "cell_type": "code",
   "execution_count": 29,
   "id": "58625efa",
   "metadata": {},
   "outputs": [
    {
     "ename": "RuntimeError",
     "evalue": "you must initialize vectors before training the model",
     "output_type": "error",
     "traceback": [
      "\u001b[0;31m---------------------------------------------------------------------------\u001b[0m",
      "\u001b[0;31mRuntimeError\u001b[0m                              Traceback (most recent call last)",
      "\u001b[0;32m<ipython-input-29-032c6836947d>\u001b[0m in \u001b[0;36m<module>\u001b[0;34m\u001b[0m\n\u001b[0;32m----> 1\u001b[0;31m \u001b[0mmodel\u001b[0m\u001b[0;34m.\u001b[0m\u001b[0mtrain\u001b[0m\u001b[0;34m(\u001b[0m\u001b[0mreview_text\u001b[0m\u001b[0;34m,\u001b[0m \u001b[0mtotal_examples\u001b[0m\u001b[0;34m=\u001b[0m\u001b[0mmodel\u001b[0m\u001b[0;34m.\u001b[0m\u001b[0mcorpus_count\u001b[0m\u001b[0;34m,\u001b[0m \u001b[0mepochs\u001b[0m\u001b[0;34m=\u001b[0m\u001b[0mmodel\u001b[0m\u001b[0;34m.\u001b[0m\u001b[0mepochs\u001b[0m\u001b[0;34m)\u001b[0m\u001b[0;34m\u001b[0m\u001b[0;34m\u001b[0m\u001b[0m\n\u001b[0m",
      "\u001b[0;32m~/.local/lib/python3.6/site-packages/gensim/models/word2vec.py\u001b[0m in \u001b[0;36mtrain\u001b[0;34m(self, sentences, corpus_file, total_examples, total_words, epochs, start_alpha, end_alpha, word_count, queue_factor, report_delay, compute_loss, callbacks)\u001b[0m\n\u001b[1;32m    908\u001b[0m             \u001b[0msentences\u001b[0m\u001b[0;34m=\u001b[0m\u001b[0msentences\u001b[0m\u001b[0;34m,\u001b[0m \u001b[0mcorpus_file\u001b[0m\u001b[0;34m=\u001b[0m\u001b[0mcorpus_file\u001b[0m\u001b[0;34m,\u001b[0m \u001b[0mtotal_examples\u001b[0m\u001b[0;34m=\u001b[0m\u001b[0mtotal_examples\u001b[0m\u001b[0;34m,\u001b[0m \u001b[0mtotal_words\u001b[0m\u001b[0;34m=\u001b[0m\u001b[0mtotal_words\u001b[0m\u001b[0;34m,\u001b[0m\u001b[0;34m\u001b[0m\u001b[0;34m\u001b[0m\u001b[0m\n\u001b[1;32m    909\u001b[0m             \u001b[0mepochs\u001b[0m\u001b[0;34m=\u001b[0m\u001b[0mepochs\u001b[0m\u001b[0;34m,\u001b[0m \u001b[0mstart_alpha\u001b[0m\u001b[0;34m=\u001b[0m\u001b[0mstart_alpha\u001b[0m\u001b[0;34m,\u001b[0m \u001b[0mend_alpha\u001b[0m\u001b[0;34m=\u001b[0m\u001b[0mend_alpha\u001b[0m\u001b[0;34m,\u001b[0m \u001b[0mword_count\u001b[0m\u001b[0;34m=\u001b[0m\u001b[0mword_count\u001b[0m\u001b[0;34m,\u001b[0m\u001b[0;34m\u001b[0m\u001b[0;34m\u001b[0m\u001b[0m\n\u001b[0;32m--> 910\u001b[0;31m             queue_factor=queue_factor, report_delay=report_delay, compute_loss=compute_loss, callbacks=callbacks)\n\u001b[0m\u001b[1;32m    911\u001b[0m \u001b[0;34m\u001b[0m\u001b[0m\n\u001b[1;32m    912\u001b[0m     \u001b[0;32mdef\u001b[0m \u001b[0mscore\u001b[0m\u001b[0;34m(\u001b[0m\u001b[0mself\u001b[0m\u001b[0;34m,\u001b[0m \u001b[0msentences\u001b[0m\u001b[0;34m,\u001b[0m \u001b[0mtotal_sentences\u001b[0m\u001b[0;34m=\u001b[0m\u001b[0mint\u001b[0m\u001b[0;34m(\u001b[0m\u001b[0;36m1e6\u001b[0m\u001b[0;34m)\u001b[0m\u001b[0;34m,\u001b[0m \u001b[0mchunksize\u001b[0m\u001b[0;34m=\u001b[0m\u001b[0;36m100\u001b[0m\u001b[0;34m,\u001b[0m \u001b[0mqueue_factor\u001b[0m\u001b[0;34m=\u001b[0m\u001b[0;36m2\u001b[0m\u001b[0;34m,\u001b[0m \u001b[0mreport_delay\u001b[0m\u001b[0;34m=\u001b[0m\u001b[0;36m1\u001b[0m\u001b[0;34m)\u001b[0m\u001b[0;34m:\u001b[0m\u001b[0;34m\u001b[0m\u001b[0;34m\u001b[0m\u001b[0m\n",
      "\u001b[0;32m~/.local/lib/python3.6/site-packages/gensim/models/base_any2vec.py\u001b[0m in \u001b[0;36mtrain\u001b[0;34m(self, sentences, corpus_file, total_examples, total_words, epochs, start_alpha, end_alpha, word_count, queue_factor, report_delay, compute_loss, callbacks, **kwargs)\u001b[0m\n\u001b[1;32m   1079\u001b[0m             \u001b[0mtotal_words\u001b[0m\u001b[0;34m=\u001b[0m\u001b[0mtotal_words\u001b[0m\u001b[0;34m,\u001b[0m \u001b[0mepochs\u001b[0m\u001b[0;34m=\u001b[0m\u001b[0mepochs\u001b[0m\u001b[0;34m,\u001b[0m \u001b[0mstart_alpha\u001b[0m\u001b[0;34m=\u001b[0m\u001b[0mstart_alpha\u001b[0m\u001b[0;34m,\u001b[0m \u001b[0mend_alpha\u001b[0m\u001b[0;34m=\u001b[0m\u001b[0mend_alpha\u001b[0m\u001b[0;34m,\u001b[0m \u001b[0mword_count\u001b[0m\u001b[0;34m=\u001b[0m\u001b[0mword_count\u001b[0m\u001b[0;34m,\u001b[0m\u001b[0;34m\u001b[0m\u001b[0;34m\u001b[0m\u001b[0m\n\u001b[1;32m   1080\u001b[0m             \u001b[0mqueue_factor\u001b[0m\u001b[0;34m=\u001b[0m\u001b[0mqueue_factor\u001b[0m\u001b[0;34m,\u001b[0m \u001b[0mreport_delay\u001b[0m\u001b[0;34m=\u001b[0m\u001b[0mreport_delay\u001b[0m\u001b[0;34m,\u001b[0m \u001b[0mcompute_loss\u001b[0m\u001b[0;34m=\u001b[0m\u001b[0mcompute_loss\u001b[0m\u001b[0;34m,\u001b[0m \u001b[0mcallbacks\u001b[0m\u001b[0;34m=\u001b[0m\u001b[0mcallbacks\u001b[0m\u001b[0;34m,\u001b[0m\u001b[0;34m\u001b[0m\u001b[0;34m\u001b[0m\u001b[0m\n\u001b[0;32m-> 1081\u001b[0;31m             **kwargs)\n\u001b[0m\u001b[1;32m   1082\u001b[0m \u001b[0;34m\u001b[0m\u001b[0m\n\u001b[1;32m   1083\u001b[0m     \u001b[0;32mdef\u001b[0m \u001b[0m_get_job_params\u001b[0m\u001b[0;34m(\u001b[0m\u001b[0mself\u001b[0m\u001b[0;34m,\u001b[0m \u001b[0mcur_epoch\u001b[0m\u001b[0;34m)\u001b[0m\u001b[0;34m:\u001b[0m\u001b[0;34m\u001b[0m\u001b[0;34m\u001b[0m\u001b[0m\n",
      "\u001b[0;32m~/.local/lib/python3.6/site-packages/gensim/models/base_any2vec.py\u001b[0m in \u001b[0;36mtrain\u001b[0;34m(self, data_iterable, corpus_file, epochs, total_examples, total_words, queue_factor, report_delay, callbacks, **kwargs)\u001b[0m\n\u001b[1;32m    534\u001b[0m             \u001b[0mepochs\u001b[0m\u001b[0;34m=\u001b[0m\u001b[0mepochs\u001b[0m\u001b[0;34m,\u001b[0m\u001b[0;34m\u001b[0m\u001b[0;34m\u001b[0m\u001b[0m\n\u001b[1;32m    535\u001b[0m             \u001b[0mtotal_examples\u001b[0m\u001b[0;34m=\u001b[0m\u001b[0mtotal_examples\u001b[0m\u001b[0;34m,\u001b[0m\u001b[0;34m\u001b[0m\u001b[0;34m\u001b[0m\u001b[0m\n\u001b[0;32m--> 536\u001b[0;31m             total_words=total_words, **kwargs)\n\u001b[0m\u001b[1;32m    537\u001b[0m \u001b[0;34m\u001b[0m\u001b[0m\n\u001b[1;32m    538\u001b[0m         \u001b[0;32mfor\u001b[0m \u001b[0mcallback\u001b[0m \u001b[0;32min\u001b[0m \u001b[0mself\u001b[0m\u001b[0;34m.\u001b[0m\u001b[0mcallbacks\u001b[0m\u001b[0;34m:\u001b[0m\u001b[0;34m\u001b[0m\u001b[0;34m\u001b[0m\u001b[0m\n",
      "\u001b[0;32m~/.local/lib/python3.6/site-packages/gensim/models/base_any2vec.py\u001b[0m in \u001b[0;36m_check_training_sanity\u001b[0;34m(self, epochs, total_examples, total_words, **kwargs)\u001b[0m\n\u001b[1;32m   1187\u001b[0m             \u001b[0;32mraise\u001b[0m \u001b[0mRuntimeError\u001b[0m\u001b[0;34m(\u001b[0m\u001b[0;34m\"you must first build vocabulary before training the model\"\u001b[0m\u001b[0;34m)\u001b[0m\u001b[0;34m\u001b[0m\u001b[0;34m\u001b[0m\u001b[0m\n\u001b[1;32m   1188\u001b[0m         \u001b[0;32mif\u001b[0m \u001b[0;32mnot\u001b[0m \u001b[0mlen\u001b[0m\u001b[0;34m(\u001b[0m\u001b[0mself\u001b[0m\u001b[0;34m.\u001b[0m\u001b[0mwv\u001b[0m\u001b[0;34m.\u001b[0m\u001b[0mvectors\u001b[0m\u001b[0;34m)\u001b[0m\u001b[0;34m:\u001b[0m\u001b[0;34m\u001b[0m\u001b[0;34m\u001b[0m\u001b[0m\n\u001b[0;32m-> 1189\u001b[0;31m             \u001b[0;32mraise\u001b[0m \u001b[0mRuntimeError\u001b[0m\u001b[0;34m(\u001b[0m\u001b[0;34m\"you must initialize vectors before training the model\"\u001b[0m\u001b[0;34m)\u001b[0m\u001b[0;34m\u001b[0m\u001b[0;34m\u001b[0m\u001b[0m\n\u001b[0m\u001b[1;32m   1190\u001b[0m \u001b[0;34m\u001b[0m\u001b[0m\n\u001b[1;32m   1191\u001b[0m         \u001b[0;32mif\u001b[0m \u001b[0;32mnot\u001b[0m \u001b[0mhasattr\u001b[0m\u001b[0;34m(\u001b[0m\u001b[0mself\u001b[0m\u001b[0;34m,\u001b[0m \u001b[0;34m'corpus_count'\u001b[0m\u001b[0;34m)\u001b[0m\u001b[0;34m:\u001b[0m\u001b[0;34m\u001b[0m\u001b[0;34m\u001b[0m\u001b[0m\n",
      "\u001b[0;31mRuntimeError\u001b[0m: you must initialize vectors before training the model"
     ]
    }
   ],
   "source": [
    "model.train(review_text, total_examples=model.corpus_count, epochs=model.epochs)"
   ]
  },
  {
   "cell_type": "code",
   "execution_count": 30,
   "id": "aa156001",
   "metadata": {},
   "outputs": [
    {
     "name": "stdout",
     "output_type": "stream",
     "text": [
      "74883\n"
     ]
    }
   ],
   "source": [
    "print(model.wv.vocab['casa'].count)"
   ]
  },
  {
   "cell_type": "code",
   "execution_count": null,
   "id": "e69b59ab",
   "metadata": {},
   "outputs": [],
   "source": []
  },
  {
   "cell_type": "code",
   "execution_count": null,
   "id": "7f620c88",
   "metadata": {},
   "outputs": [],
   "source": [
    "test\n"
   ]
  },
  {
   "cell_type": "code",
   "execution_count": null,
   "id": "e974559f",
   "metadata": {},
   "outputs": [],
   "source": [
    "test"
   ]
  },
  {
   "cell_type": "code",
   "execution_count": null,
   "id": "c52f43f4",
   "metadata": {},
   "outputs": [],
   "source": [
    "test\n"
   ]
  },
  {
   "cell_type": "code",
   "execution_count": null,
   "id": "96fec4e3",
   "metadata": {},
   "outputs": [],
   "source": [
    "test"
   ]
  },
  {
   "cell_type": "code",
   "execution_count": 1,
   "id": "76a2b74b",
   "metadata": {},
   "outputs": [
    {
     "ename": "NameError",
     "evalue": "name 'test' is not defined",
     "output_type": "error",
     "traceback": [
      "\u001b[0;31m---------------------------------------------------------------------------\u001b[0m",
      "\u001b[0;31mNameError\u001b[0m                                 Traceback (most recent call last)",
      "\u001b[0;32m<ipython-input-1-4e1243bd22c6>\u001b[0m in \u001b[0;36m<module>\u001b[0;34m\u001b[0m\n\u001b[0;32m----> 1\u001b[0;31m \u001b[0mtest\u001b[0m\u001b[0;34m\u001b[0m\u001b[0;34m\u001b[0m\u001b[0m\n\u001b[0m",
      "\u001b[0;31mNameError\u001b[0m: name 'test' is not defined"
     ]
    }
   ],
   "source": [
    "test"
   ]
  },
  {
   "cell_type": "code",
   "execution_count": 2,
   "id": "641185d9",
   "metadata": {},
   "outputs": [
    {
     "ename": "NameError",
     "evalue": "name 'model' is not defined",
     "output_type": "error",
     "traceback": [
      "\u001b[0;31m---------------------------------------------------------------------------\u001b[0m",
      "\u001b[0;31mNameError\u001b[0m                                 Traceback (most recent call last)",
      "\u001b[0;32m<ipython-input-2-78e31519924a>\u001b[0m in \u001b[0;36m<module>\u001b[0;34m\u001b[0m\n\u001b[0;32m----> 1\u001b[0;31m \u001b[0mprint\u001b[0m\u001b[0;34m(\u001b[0m\u001b[0mmodel\u001b[0m\u001b[0;34m.\u001b[0m\u001b[0mwv\u001b[0m\u001b[0;34m.\u001b[0m\u001b[0mvocab\u001b[0m\u001b[0;34m[\u001b[0m\u001b[0;34m'casa'\u001b[0m\u001b[0;34m]\u001b[0m\u001b[0;34m.\u001b[0m\u001b[0mcount\u001b[0m\u001b[0;34m)\u001b[0m\u001b[0;34m\u001b[0m\u001b[0;34m\u001b[0m\u001b[0m\n\u001b[0m",
      "\u001b[0;31mNameError\u001b[0m: name 'model' is not defined"
     ]
    }
   ],
   "source": [
    "print(model.wv.vocab['casa'].count)"
   ]
  },
  {
   "cell_type": "code",
   "execution_count": null,
   "id": "c4e2e086",
   "metadata": {},
   "outputs": [],
   "source": []
  }
 ],
 "metadata": {
  "kernelspec": {
   "display_name": "Python 3",
   "language": "python",
   "name": "python3"
  },
  "language_info": {
   "codemirror_mode": {
    "name": "ipython",
    "version": 3
   },
   "file_extension": ".py",
   "mimetype": "text/x-python",
   "name": "python",
   "nbconvert_exporter": "python",
   "pygments_lexer": "ipython3",
   "version": "3.6.8"
  }
 },
 "nbformat": 4,
 "nbformat_minor": 5
}
