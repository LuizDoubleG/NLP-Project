{
 "cells": [
  {
   "cell_type": "code",
   "execution_count": 1,
   "id": "b78684bc",
   "metadata": {},
   "outputs": [
    {
     "name": "stderr",
     "output_type": "stream",
     "text": [
      "/home/opc/.local/lib/python3.6/site-packages/tqdm/auto.py:22: TqdmWarning: IProgress not found. Please update jupyter and ipywidgets. See https://ipywidgets.readthedocs.io/en/stable/user_install.html\n",
      "  from .autonotebook import tqdm as notebook_tqdm\n",
      "Using custom data configuration iara-project--news-articles-ptbr-dataset-bf5e5acef4982afb\n"
     ]
    },
    {
     "name": "stdout",
     "output_type": "stream",
     "text": [
      "Downloading and preparing dataset parquet/iara-project--news-articles-ptbr-dataset to /home/opc/.cache/huggingface/datasets/iara-project___parquet/iara-project--news-articles-ptbr-dataset-bf5e5acef4982afb/0.0.0/2a3b91fbd88a2c90d1dbbb32b460cf621d31bd5b05b934492fdef7d8d6f236ec...\n"
     ]
    },
    {
     "name": "stderr",
     "output_type": "stream",
     "text": [
      "Downloading data files:   0%|          | 0/2 [00:00<?, ?it/s]\n",
      "Downloading data:   0%|          | 0.00/194M [00:00<?, ?B/s]\u001b[A\n",
      "Downloading data:   0%|          | 33.8k/194M [00:00<10:24, 311kB/s]\u001b[A\n",
      "Downloading data:   0%|          | 89.1k/194M [00:00<08:31, 380kB/s]\u001b[A\n",
      "Downloading data:   0%|          | 152k/194M [00:00<07:11, 450kB/s] \u001b[A\n",
      "Downloading data:   0%|          | 315k/194M [00:00<03:51, 837kB/s]\u001b[A\n",
      "Downloading data:   0%|          | 547k/194M [00:00<02:27, 1.32MB/s]\u001b[A\n",
      "Downloading data:   1%|          | 991k/194M [00:00<01:23, 2.30MB/s]\u001b[A\n",
      "Downloading data:   1%|          | 1.82M/194M [00:00<00:46, 4.16MB/s]\u001b[A\n",
      "Downloading data:   2%|▏         | 3.35M/194M [00:00<00:25, 7.58MB/s]\u001b[A\n",
      "Downloading data:   3%|▎         | 6.20M/194M [00:00<00:13, 14.0MB/s]\u001b[A\n",
      "Downloading data:   5%|▍         | 8.84M/194M [00:01<00:10, 17.8MB/s]\u001b[A\n",
      "Downloading data:   6%|▌         | 11.5M/194M [00:01<00:08, 20.3MB/s]\u001b[A\n",
      "Downloading data:   7%|▋         | 14.2M/194M [00:01<00:08, 22.3MB/s]\u001b[A\n",
      "Downloading data:   9%|▊         | 16.9M/194M [00:01<00:07, 23.8MB/s]\u001b[A\n",
      "Downloading data:  10%|█         | 19.7M/194M [00:01<00:07, 24.9MB/s]\u001b[A\n",
      "Downloading data:  11%|█▏        | 22.2M/194M [00:01<00:06, 25.0MB/s]\u001b[A\n",
      "Downloading data:  13%|█▎        | 25.0M/194M [00:01<00:06, 25.8MB/s]\u001b[A\n",
      "Downloading data:  14%|█▍        | 27.6M/194M [00:01<00:06, 26.0MB/s]\u001b[A\n",
      "Downloading data:  16%|█▌        | 30.2M/194M [00:01<00:06, 26.1MB/s]\u001b[A\n",
      "Downloading data:  17%|█▋        | 33.0M/194M [00:01<00:06, 26.6MB/s]\u001b[A\n",
      "Downloading data:  18%|█▊        | 35.8M/194M [00:02<00:05, 26.9MB/s]\u001b[A\n",
      "Downloading data:  20%|█▉        | 38.5M/194M [00:02<00:05, 26.9MB/s]\u001b[A\n",
      "Downloading data:  21%|██        | 41.3M/194M [00:02<00:05, 27.0MB/s]\u001b[A\n",
      "Downloading data:  23%|██▎       | 44.1M/194M [00:02<00:05, 27.4MB/s]\u001b[A\n",
      "Downloading data:  24%|██▍       | 46.8M/194M [00:02<00:05, 27.4MB/s]\u001b[A\n",
      "Downloading data:  26%|██▌       | 49.6M/194M [00:02<00:05, 27.3MB/s]\u001b[A\n",
      "Downloading data:  27%|██▋       | 52.3M/194M [00:02<00:05, 27.1MB/s]\u001b[A\n",
      "Downloading data:  28%|██▊       | 55.2M/194M [00:02<00:05, 27.4MB/s]\u001b[A\n",
      "Downloading data:  30%|██▉       | 58.0M/194M [00:02<00:04, 27.6MB/s]\u001b[A\n",
      "Downloading data:  31%|███       | 60.7M/194M [00:02<00:04, 27.5MB/s]\u001b[A\n",
      "Downloading data:  33%|███▎      | 63.5M/194M [00:03<00:04, 27.3MB/s]\u001b[A\n",
      "Downloading data:  34%|███▍      | 66.2M/194M [00:03<00:04, 27.2MB/s]\u001b[A\n",
      "Downloading data:  35%|███▌      | 68.9M/194M [00:03<00:04, 27.1MB/s]\u001b[A\n",
      "Downloading data:  37%|███▋      | 71.6M/194M [00:03<00:04, 27.0MB/s]\u001b[A\n",
      "Downloading data:  38%|███▊      | 74.3M/194M [00:03<00:04, 27.0MB/s]\u001b[A\n",
      "Downloading data:  40%|███▉      | 77.2M/194M [00:03<00:04, 27.4MB/s]\u001b[A\n",
      "Downloading data:  41%|████      | 80.1M/194M [00:03<00:04, 27.7MB/s]\u001b[A\n",
      "Downloading data:  43%|████▎     | 82.8M/194M [00:03<00:04, 27.6MB/s]\u001b[A\n",
      "Downloading data:  44%|████▍     | 85.6M/194M [00:03<00:03, 27.6MB/s]\u001b[A\n",
      "Downloading data:  45%|████▌     | 88.3M/194M [00:03<00:03, 27.4MB/s]\u001b[A\n",
      "Downloading data:  47%|████▋     | 91.1M/194M [00:04<00:03, 27.2MB/s]\u001b[A\n",
      "Downloading data:  48%|████▊     | 93.8M/194M [00:04<00:03, 27.1MB/s]\u001b[A\n",
      "Downloading data:  50%|████▉     | 96.5M/194M [00:04<00:03, 26.9MB/s]\u001b[A\n",
      "Downloading data:  51%|█████     | 99.3M/194M [00:04<00:03, 27.1MB/s]\u001b[A\n",
      "Downloading data:  53%|█████▎    | 102M/194M [00:04<00:03, 27.6MB/s] \u001b[A\n",
      "Downloading data:  54%|█████▍    | 105M/194M [00:04<00:03, 27.4MB/s]\u001b[A\n",
      "Downloading data:  55%|█████▌    | 108M/194M [00:04<00:03, 27.3MB/s]\u001b[A\n",
      "Downloading data:  57%|█████▋    | 110M/194M [00:04<00:03, 27.1MB/s]\u001b[A\n",
      "Downloading data:  58%|█████▊    | 113M/194M [00:04<00:02, 27.3MB/s]\u001b[A\n",
      "Downloading data:  60%|█████▉    | 116M/194M [00:05<00:02, 27.1MB/s]\u001b[A\n",
      "Downloading data:  61%|██████    | 119M/194M [00:05<00:02, 27.0MB/s]\u001b[A\n",
      "Downloading data:  62%|██████▏   | 121M/194M [00:05<00:02, 27.0MB/s]\u001b[A\n",
      "Downloading data:  64%|██████▍   | 124M/194M [00:05<00:02, 27.0MB/s]\u001b[A\n",
      "Downloading data:  65%|██████▌   | 127M/194M [00:05<00:02, 27.0MB/s]\u001b[A\n",
      "Downloading data:  67%|██████▋   | 129M/194M [00:05<00:02, 27.0MB/s]\u001b[A\n",
      "Downloading data:  68%|██████▊   | 132M/194M [00:05<00:02, 27.1MB/s]\u001b[A\n",
      "Downloading data:  69%|██████▉   | 135M/194M [00:05<00:02, 27.0MB/s]\u001b[A\n",
      "Downloading data:  71%|███████   | 138M/194M [00:05<00:02, 27.0MB/s]\u001b[A\n",
      "Downloading data:  72%|███████▏  | 140M/194M [00:05<00:02, 26.9MB/s]\u001b[A\n",
      "Downloading data:  74%|███████▎  | 143M/194M [00:06<00:01, 26.9MB/s]\u001b[A\n",
      "Downloading data:  75%|███████▌  | 146M/194M [00:06<00:01, 27.7MB/s]\u001b[A\n",
      "Downloading data:  77%|███████▋  | 149M/194M [00:06<00:01, 27.5MB/s]\u001b[A\n",
      "Downloading data:  78%|███████▊  | 151M/194M [00:06<00:01, 27.3MB/s]\u001b[A\n",
      "Downloading data:  79%|███████▉  | 154M/194M [00:06<00:01, 27.1MB/s]\u001b[A\n",
      "Downloading data:  81%|████████  | 157M/194M [00:06<00:01, 26.9MB/s]\u001b[A\n",
      "Downloading data:  82%|████████▏ | 160M/194M [00:06<00:01, 27.4MB/s]\u001b[A\n",
      "Downloading data:  84%|████████▎ | 163M/194M [00:06<00:01, 27.3MB/s]\u001b[A\n",
      "Downloading data:  85%|████████▌ | 165M/194M [00:06<00:01, 27.4MB/s]\u001b[A\n",
      "Downloading data:  87%|████████▋ | 168M/194M [00:06<00:00, 27.6MB/s]\u001b[A\n",
      "Downloading data:  88%|████████▊ | 171M/194M [00:07<00:00, 27.6MB/s]\u001b[A\n",
      "Downloading data:  89%|████████▉ | 174M/194M [00:07<00:00, 27.4MB/s]\u001b[A\n",
      "Downloading data:  91%|█████████ | 176M/194M [00:07<00:00, 27.2MB/s]\u001b[A\n",
      "Downloading data:  92%|█████████▏| 179M/194M [00:07<00:00, 27.1MB/s]\u001b[A\n",
      "Downloading data:  94%|█████████▎| 182M/194M [00:07<00:00, 27.0MB/s]\u001b[A\n",
      "Downloading data:  95%|█████████▍| 185M/194M [00:07<00:00, 27.0MB/s]\u001b[A\n",
      "Downloading data:  96%|█████████▋| 187M/194M [00:07<00:00, 27.5MB/s]\u001b[A\n",
      "Downloading data:  98%|█████████▊| 190M/194M [00:07<00:00, 27.8MB/s]\u001b[A\n",
      "Downloading data: 100%|██████████| 194M/194M [00:07<00:00, 24.6MB/s]\u001b[A\n",
      "\n",
      "Downloading data:   0%|          | 0.00/195M [00:00<?, ?B/s]\u001b[A\n",
      "Downloading data:   0%|          | 32.8k/195M [00:00<10:25, 311kB/s]\u001b[A\n",
      "Downloading data:   0%|          | 86.0k/195M [00:00<07:44, 419kB/s]\u001b[A\n",
      "Downloading data:   0%|          | 138k/195M [00:00<07:13, 448kB/s] \u001b[A\n",
      "Downloading data:   0%|          | 286k/195M [00:00<03:52, 836kB/s]\u001b[A\n",
      "Downloading data:   0%|          | 484k/195M [00:00<02:38, 1.23MB/s]\u001b[A\n",
      "Downloading data:   0%|          | 854k/195M [00:00<01:41, 1.90MB/s]\u001b[A\n",
      "Downloading data:   1%|          | 1.73M/195M [00:00<00:49, 3.93MB/s]\u001b[A\n",
      "Downloading data:   2%|▏         | 3.46M/195M [00:00<00:24, 7.77MB/s]\u001b[A\n",
      "Downloading data:   3%|▎         | 6.29M/195M [00:00<00:13, 13.8MB/s]\u001b[A\n",
      "Downloading data:   5%|▍         | 9.05M/195M [00:01<00:10, 17.9MB/s]\u001b[A\n",
      "Downloading data:   6%|▌         | 11.8M/195M [00:01<00:08, 20.9MB/s]\u001b[A\n",
      "Downloading data:   8%|▊         | 14.6M/195M [00:01<00:07, 22.9MB/s]\u001b[A\n",
      "Downloading data:   9%|▉         | 17.4M/195M [00:01<00:07, 24.5MB/s]\u001b[A\n",
      "Downloading data:  10%|█         | 20.3M/195M [00:01<00:06, 25.6MB/s]\u001b[A\n",
      "Downloading data:  12%|█▏        | 22.9M/195M [00:01<00:06, 25.9MB/s]\u001b[A\n",
      "Downloading data:  13%|█▎        | 25.8M/195M [00:01<00:06, 26.7MB/s]\u001b[A\n",
      "Downloading data:  15%|█▍        | 28.7M/195M [00:01<00:06, 27.3MB/s]\u001b[A\n",
      "Downloading data:  16%|█▌        | 31.5M/195M [00:01<00:05, 27.7MB/s]\u001b[A\n",
      "Downloading data:  18%|█▊        | 34.3M/195M [00:01<00:05, 27.8MB/s]\u001b[A\n",
      "Downloading data:  19%|█▉        | 37.2M/195M [00:02<00:05, 28.1MB/s]\u001b[A\n",
      "Downloading data:  21%|██        | 40.0M/195M [00:02<00:05, 28.1MB/s]\u001b[A\n",
      "Downloading data:  22%|██▏       | 42.8M/195M [00:02<00:05, 28.1MB/s]\u001b[A\n",
      "Downloading data:  23%|██▎       | 45.7M/195M [00:02<00:05, 27.9MB/s]\u001b[A\n",
      "Downloading data:  25%|██▍       | 48.6M/195M [00:02<00:05, 28.3MB/s]\u001b[A\n",
      "Downloading data:  26%|██▋       | 51.5M/195M [00:02<00:05, 28.3MB/s]\u001b[A\n",
      "Downloading data:  28%|██▊       | 54.3M/195M [00:02<00:04, 28.3MB/s]\u001b[A\n",
      "Downloading data:  29%|██▉       | 57.1M/195M [00:02<00:04, 28.2MB/s]\u001b[A\n",
      "Downloading data:  31%|███       | 60.0M/195M [00:02<00:04, 28.1MB/s]\u001b[A\n",
      "Downloading data:  32%|███▏      | 62.8M/195M [00:02<00:04, 27.9MB/s]\u001b[A\n",
      "Downloading data:  34%|███▎      | 65.6M/195M [00:03<00:04, 28.0MB/s]\u001b[A\n",
      "Downloading data:  35%|███▌      | 68.6M/195M [00:03<00:04, 28.5MB/s]\u001b[A\n",
      "Downloading data:  37%|███▋      | 71.5M/195M [00:03<00:04, 28.6MB/s]\u001b[A\n",
      "Downloading data:  38%|███▊      | 74.4M/195M [00:03<00:04, 28.4MB/s]\u001b[A\n",
      "Downloading data:  40%|███▉      | 77.2M/195M [00:03<00:04, 28.4MB/s]\u001b[A\n",
      "Downloading data:  41%|████      | 80.1M/195M [00:03<00:04, 28.5MB/s]\u001b[A\n",
      "Downloading data:  43%|████▎     | 82.9M/195M [00:03<00:03, 28.3MB/s]\u001b[A\n",
      "Downloading data:  44%|████▍     | 85.8M/195M [00:03<00:03, 28.2MB/s]\u001b[A\n",
      "Downloading data:  46%|████▌     | 88.6M/195M [00:03<00:03, 28.0MB/s]\u001b[A\n",
      "Downloading data:  47%|████▋     | 91.5M/195M [00:03<00:03, 28.1MB/s]\u001b[A\n",
      "Downloading data:  48%|████▊     | 94.3M/195M [00:04<00:03, 28.1MB/s]\u001b[A\n",
      "Downloading data:  50%|████▉     | 97.1M/195M [00:04<00:03, 28.1MB/s]\u001b[A\n",
      "Downloading data:  51%|█████▏    | 100M/195M [00:04<00:03, 28.1MB/s] \u001b[A\n",
      "Downloading data:  53%|█████▎    | 103M/195M [00:04<00:03, 28.4MB/s]\u001b[A\n",
      "Downloading data:  54%|█████▍    | 106M/195M [00:04<00:03, 28.3MB/s]\u001b[A\n",
      "Downloading data:  56%|█████▌    | 109M/195M [00:04<00:02, 28.8MB/s]\u001b[A\n",
      "Downloading data:  57%|█████▋    | 112M/195M [00:04<00:02, 28.6MB/s]\u001b[A\n",
      "Downloading data:  59%|█████▉    | 114M/195M [00:04<00:02, 28.4MB/s]\u001b[A\n",
      "Downloading data:  60%|██████    | 117M/195M [00:04<00:02, 27.9MB/s]\u001b[A\n",
      "Downloading data:  62%|██████▏   | 120M/195M [00:05<00:02, 28.3MB/s]\u001b[A\n",
      "Downloading data:  63%|██████▎   | 123M/195M [00:05<00:02, 28.5MB/s]\u001b[A\n",
      "Downloading data:  65%|██████▍   | 126M/195M [00:05<00:02, 28.5MB/s]\u001b[A\n",
      "Downloading data:  66%|██████▌   | 129M/195M [00:05<00:02, 28.4MB/s]\u001b[A\n",
      "Downloading data:  68%|██████▊   | 132M/195M [00:05<00:02, 28.1MB/s]\u001b[A\n",
      "Downloading data:  69%|██████▉   | 135M/195M [00:05<00:02, 28.1MB/s]\u001b[A\n",
      "Downloading data:  71%|███████   | 137M/195M [00:05<00:02, 28.0MB/s]\u001b[A\n",
      "Downloading data:  72%|███████▏  | 140M/195M [00:05<00:01, 28.0MB/s]\u001b[A\n",
      "Downloading data:  73%|███████▎  | 143M/195M [00:05<00:01, 28.1MB/s]\u001b[A\n",
      "Downloading data:  75%|███████▍  | 146M/195M [00:05<00:01, 28.0MB/s]\u001b[A\n",
      "Downloading data:  76%|███████▋  | 149M/195M [00:06<00:01, 27.9MB/s]\u001b[A\n",
      "Downloading data:  78%|███████▊  | 152M/195M [00:06<00:01, 28.4MB/s]\u001b[A\n",
      "Downloading data:  79%|███████▉  | 155M/195M [00:06<00:01, 28.9MB/s]\u001b[A\n",
      "Downloading data:  81%|████████  | 158M/195M [00:06<00:01, 28.7MB/s]\u001b[A\n",
      "Downloading data:  82%|████████▏ | 160M/195M [00:06<00:01, 28.4MB/s]\u001b[A\n",
      "Downloading data:  84%|████████▍ | 163M/195M [00:06<00:01, 28.4MB/s]\u001b[A\n",
      "Downloading data:  85%|████████▌ | 166M/195M [00:06<00:01, 28.2MB/s]\u001b[A\n",
      "Downloading data:  87%|████████▋ | 169M/195M [00:06<00:00, 28.2MB/s]\u001b[A\n",
      "Downloading data:  88%|████████▊ | 172M/195M [00:06<00:00, 28.1MB/s]\u001b[A\n",
      "Downloading data:  90%|████████▉ | 175M/195M [00:06<00:00, 28.1MB/s]\u001b[A\n",
      "Downloading data:  91%|█████████ | 177M/195M [00:07<00:00, 28.0MB/s]\u001b[A\n",
      "Downloading data:  93%|█████████▎| 180M/195M [00:07<00:00, 28.0MB/s]\u001b[A\n",
      "Downloading data:  94%|█████████▍| 183M/195M [00:07<00:00, 28.2MB/s]\u001b[A\n",
      "Downloading data:  96%|█████████▌| 186M/195M [00:07<00:00, 28.8MB/s]\u001b[A\n",
      "Downloading data:  97%|█████████▋| 189M/195M [00:07<00:00, 28.6MB/s]\u001b[A\n",
      "Downloading data: 100%|██████████| 195M/195M [00:07<00:00, 25.5MB/s]\u001b[A\n",
      "Downloading data files:  50%|█████     | 1/2 [00:18<00:18, 18.92s/it]\n",
      "Downloading data:   0%|          | 0.00/226M [00:00<?, ?B/s]\u001b[A\n",
      "Downloading data:   0%|          | 49.2k/226M [00:00<07:43, 488kB/s]\u001b[A\n",
      "Downloading data:   0%|          | 98.3k/226M [00:00<07:53, 479kB/s]\u001b[A\n",
      "Downloading data:   0%|          | 146k/226M [00:00<08:16, 456kB/s] \u001b[A\n",
      "Downloading data:   0%|          | 284k/226M [00:00<04:44, 794kB/s]\u001b[A\n",
      "Downloading data:   0%|          | 476k/226M [00:00<03:10, 1.19MB/s]\u001b[A\n",
      "Downloading data:   0%|          | 892k/226M [00:00<01:44, 2.15MB/s]\u001b[A\n",
      "Downloading data:   1%|          | 1.62M/226M [00:00<00:59, 3.79MB/s]\u001b[A\n",
      "Downloading data:   1%|▏         | 3.02M/226M [00:00<00:31, 6.99MB/s]\u001b[A\n",
      "Downloading data:   2%|▏         | 5.62M/226M [00:00<00:17, 12.8MB/s]\u001b[A\n",
      "Downloading data:   4%|▎         | 8.33M/226M [00:01<00:12, 17.2MB/s]\u001b[A\n",
      "Downloading data:   5%|▍         | 11.0M/226M [00:01<00:10, 20.2MB/s]\u001b[A\n",
      "Downloading data:   6%|▌         | 13.8M/226M [00:01<00:09, 22.4MB/s]\u001b[A\n",
      "Downloading data:   7%|▋         | 16.6M/226M [00:01<00:08, 23.9MB/s]\u001b[A\n",
      "Downloading data:   9%|▊         | 19.3M/226M [00:01<00:08, 25.0MB/s]\u001b[A\n",
      "Downloading data:  10%|▉         | 21.8M/226M [00:01<00:08, 24.9MB/s]\u001b[A\n",
      "Downloading data:  11%|█         | 24.6M/226M [00:01<00:07, 25.7MB/s]\u001b[A\n",
      "Downloading data:  12%|█▏        | 27.3M/226M [00:01<00:07, 26.0MB/s]\u001b[A\n",
      "Downloading data:  13%|█▎        | 30.0M/226M [00:01<00:07, 26.3MB/s]\u001b[A\n",
      "Downloading data:  14%|█▍        | 32.8M/226M [00:01<00:07, 26.7MB/s]\u001b[A\n",
      "Downloading data:  16%|█▌        | 35.6M/226M [00:02<00:07, 27.0MB/s]\u001b[A\n",
      "Downloading data:  17%|█▋        | 38.4M/226M [00:02<00:06, 27.2MB/s]\u001b[A\n",
      "Downloading data:  18%|█▊        | 41.1M/226M [00:02<00:06, 27.2MB/s]\u001b[A\n",
      "Downloading data:  19%|█▉        | 43.8M/226M [00:02<00:06, 27.3MB/s]\u001b[A\n",
      "Downloading data:  21%|██        | 46.6M/226M [00:02<00:06, 27.5MB/s]\u001b[A\n",
      "Downloading data:  22%|██▏       | 49.4M/226M [00:02<00:06, 27.7MB/s]\u001b[A\n",
      "Downloading data:  23%|██▎       | 52.2M/226M [00:02<00:06, 27.6MB/s]\u001b[A\n",
      "Downloading data:  24%|██▍       | 55.0M/226M [00:02<00:06, 27.5MB/s]\u001b[A\n",
      "Downloading data:  25%|██▌       | 57.7M/226M [00:02<00:06, 27.4MB/s]\u001b[A\n",
      "Downloading data:  27%|██▋       | 60.5M/226M [00:02<00:06, 27.3MB/s]\u001b[A\n",
      "Downloading data:  28%|██▊       | 63.2M/226M [00:03<00:05, 27.2MB/s]\u001b[A\n",
      "Downloading data:  29%|██▉       | 66.0M/226M [00:03<00:05, 27.4MB/s]\u001b[A\n",
      "Downloading data:  30%|███       | 68.7M/226M [00:03<00:05, 27.2MB/s]\u001b[A\n",
      "Downloading data:  32%|███▏      | 71.6M/226M [00:03<00:05, 27.6MB/s]\u001b[A\n",
      "Downloading data:  33%|███▎      | 74.4M/226M [00:03<00:05, 27.7MB/s]\u001b[A\n",
      "Downloading data:  34%|███▍      | 77.2M/226M [00:03<00:05, 27.6MB/s]\u001b[A\n",
      "Downloading data:  35%|███▌      | 79.9M/226M [00:03<00:05, 27.6MB/s]\u001b[A\n",
      "Downloading data:  37%|███▋      | 82.7M/226M [00:03<00:05, 27.5MB/s]\u001b[A\n",
      "Downloading data:  38%|███▊      | 85.5M/226M [00:03<00:05, 26.3MB/s]\u001b[A\n",
      "Downloading data:  39%|███▉      | 88.1M/226M [00:03<00:05, 25.4MB/s]\u001b[A\n",
      "Downloading data:  40%|████      | 90.7M/226M [00:04<00:05, 25.4MB/s]\u001b[A\n",
      "Downloading data:  41%|████      | 93.3M/226M [00:04<00:05, 25.8MB/s]\u001b[A\n",
      "Downloading data:  42%|████▏     | 96.0M/226M [00:04<00:04, 26.1MB/s]\u001b[A\n",
      "Downloading data:  44%|████▎     | 98.8M/226M [00:04<00:04, 26.6MB/s]\u001b[A\n",
      "Downloading data:  45%|████▍     | 102M/226M [00:04<00:04, 26.7MB/s] \u001b[A\n",
      "Downloading data:  46%|████▌     | 104M/226M [00:04<00:04, 26.7MB/s]\u001b[A\n",
      "Downloading data:  47%|████▋     | 107M/226M [00:04<00:04, 27.2MB/s]\u001b[A\n",
      "Downloading data:  49%|████▊     | 110M/226M [00:04<00:04, 27.7MB/s]\u001b[A\n",
      "Downloading data:  50%|████▉     | 113M/226M [00:04<00:04, 27.4MB/s]\u001b[A\n",
      "Downloading data:  51%|█████     | 115M/226M [00:04<00:04, 27.3MB/s]\u001b[A\n",
      "Downloading data:  52%|█████▏    | 118M/226M [00:05<00:03, 27.2MB/s]\u001b[A\n",
      "Downloading data:  53%|█████▎    | 121M/226M [00:05<00:03, 27.3MB/s]\u001b[A\n",
      "Downloading data:  55%|█████▍    | 124M/226M [00:05<00:03, 27.6MB/s]\u001b[A\n",
      "Downloading data:  56%|█████▌    | 127M/226M [00:05<00:03, 27.3MB/s]\u001b[A\n",
      "Downloading data:  57%|█████▋    | 129M/226M [00:05<00:03, 27.2MB/s]\u001b[A\n",
      "Downloading data:  58%|█████▊    | 132M/226M [00:05<00:03, 27.3MB/s]\u001b[A\n",
      "Downloading data:  59%|█████▉    | 135M/226M [00:05<00:03, 27.2MB/s]\u001b[A\n",
      "Downloading data:  61%|██████    | 137M/226M [00:05<00:03, 27.1MB/s]\u001b[A\n",
      "Downloading data:  62%|██████▏   | 140M/226M [00:05<00:03, 27.0MB/s]\u001b[A\n",
      "Downloading data:  63%|██████▎   | 143M/226M [00:05<00:03, 27.5MB/s]\u001b[A\n",
      "Downloading data:  64%|██████▍   | 146M/226M [00:06<00:02, 27.8MB/s]\u001b[A\n",
      "Downloading data:  66%|██████▌   | 149M/226M [00:06<00:02, 27.4MB/s]\u001b[A\n",
      "Downloading data:  67%|██████▋   | 151M/226M [00:06<00:02, 27.4MB/s]\u001b[A\n",
      "Downloading data:  68%|██████▊   | 154M/226M [00:06<00:02, 26.8MB/s]\u001b[A\n",
      "Downloading data:  69%|██████▉   | 157M/226M [00:06<00:02, 26.9MB/s]\u001b[A\n",
      "Downloading data:  70%|███████   | 160M/226M [00:06<00:02, 27.0MB/s]\u001b[A\n",
      "Downloading data:  72%|███████▏  | 162M/226M [00:06<00:02, 26.9MB/s]\u001b[A\n",
      "Downloading data:  73%|███████▎  | 165M/226M [00:06<00:02, 27.1MB/s]\u001b[A\n",
      "Downloading data:  74%|███████▍  | 168M/226M [00:06<00:02, 27.1MB/s]\u001b[A\n",
      "Downloading data:  75%|███████▌  | 171M/226M [00:07<00:02, 27.3MB/s]\u001b[A\n",
      "Downloading data:  77%|███████▋  | 173M/226M [00:07<00:01, 27.1MB/s]\u001b[A\n"
     ]
    },
    {
     "name": "stderr",
     "output_type": "stream",
     "text": [
      "Downloading data:  78%|███████▊  | 176M/226M [00:07<00:01, 27.1MB/s]\u001b[A\n",
      "Downloading data:  79%|███████▉  | 179M/226M [00:07<00:01, 27.2MB/s]\u001b[A\n",
      "Downloading data:  80%|████████  | 181M/226M [00:07<00:01, 27.3MB/s]\u001b[A\n",
      "Downloading data:  81%|████████▏ | 184M/226M [00:07<00:01, 27.3MB/s]\u001b[A\n",
      "Downloading data:  83%|████████▎ | 187M/226M [00:07<00:01, 27.4MB/s]\u001b[A\n",
      "Downloading data:  84%|████████▍ | 190M/226M [00:07<00:01, 27.3MB/s]\u001b[A\n",
      "Downloading data:  85%|████████▍ | 192M/226M [00:07<00:01, 27.3MB/s]\u001b[A\n",
      "Downloading data:  86%|████████▌ | 195M/226M [00:07<00:01, 27.2MB/s]\u001b[A\n",
      "Downloading data:  87%|████████▋ | 198M/226M [00:08<00:01, 27.1MB/s]\u001b[A\n",
      "Downloading data:  89%|████████▊ | 201M/226M [00:08<00:00, 27.0MB/s]\u001b[A\n",
      "Downloading data:  90%|████████▉ | 203M/226M [00:08<00:00, 27.4MB/s]\u001b[A\n",
      "Downloading data:  91%|█████████ | 206M/226M [00:08<00:00, 27.3MB/s]\u001b[A\n",
      "Downloading data:  92%|█████████▏| 209M/226M [00:08<00:00, 27.3MB/s]\u001b[A\n",
      "Downloading data:  93%|█████████▎| 212M/226M [00:08<00:00, 27.0MB/s]\u001b[A\n",
      "Downloading data:  95%|█████████▍| 214M/226M [00:08<00:00, 27.0MB/s]\u001b[A\n",
      "Downloading data:  96%|█████████▌| 217M/226M [00:08<00:00, 27.0MB/s]\u001b[A\n",
      "Downloading data:  97%|█████████▋| 220M/226M [00:08<00:00, 26.9MB/s]\u001b[A\n",
      "Downloading data:  98%|█████████▊| 223M/226M [00:08<00:00, 27.2MB/s]\u001b[A\n",
      "Downloading data: 100%|██████████| 226M/226M [00:09<00:00, 25.0MB/s]\u001b[A\n",
      "\n",
      "Downloading data:   0%|          | 0.00/155M [00:00<?, ?B/s]\u001b[A\n",
      "Downloading data:   0%|          | 35.8k/155M [00:00<07:29, 344kB/s]\u001b[A\n",
      "Downloading data:   0%|          | 85.0k/155M [00:00<06:11, 416kB/s]\u001b[A\n",
      "Downloading data:   0%|          | 139k/155M [00:00<05:49, 443kB/s] \u001b[A\n",
      "Downloading data:   0%|          | 287k/155M [00:00<03:11, 808kB/s]\u001b[A\n",
      "Downloading data:   0%|          | 477k/155M [00:00<02:10, 1.18MB/s]\u001b[A\n",
      "Downloading data:   1%|          | 886k/155M [00:00<01:12, 2.12MB/s]\u001b[A\n",
      "Downloading data:   1%|          | 1.62M/155M [00:00<00:40, 3.77MB/s]\u001b[A\n",
      "Downloading data:   2%|▏         | 3.00M/155M [00:00<00:22, 6.90MB/s]\u001b[A\n",
      "Downloading data:   4%|▎         | 5.57M/155M [00:00<00:11, 12.7MB/s]\u001b[A\n",
      "Downloading data:   5%|▌         | 8.27M/155M [00:01<00:08, 17.1MB/s]\u001b[A\n",
      "Downloading data:   7%|▋         | 11.0M/155M [00:01<00:07, 20.3MB/s]\u001b[A\n",
      "Downloading data:   9%|▉         | 13.7M/155M [00:01<00:06, 22.2MB/s]\u001b[A\n",
      "Downloading data:  11%|█         | 16.5M/155M [00:01<00:05, 24.0MB/s]\u001b[A\n",
      "Downloading data:  12%|█▏        | 19.3M/155M [00:01<00:05, 25.1MB/s]\u001b[A\n",
      "Downloading data:  14%|█▍        | 21.8M/155M [00:01<00:05, 25.0MB/s]\u001b[A\n",
      "Downloading data:  16%|█▌        | 24.6M/155M [00:01<00:05, 25.8MB/s]\u001b[A\n",
      "Downloading data:  18%|█▊        | 27.2M/155M [00:01<00:04, 25.8MB/s]\u001b[A\n",
      "Downloading data:  19%|█▉        | 29.9M/155M [00:01<00:04, 26.4MB/s]\u001b[A\n",
      "Downloading data:  21%|██        | 32.7M/155M [00:01<00:04, 26.8MB/s]\u001b[A\n",
      "Downloading data:  23%|██▎       | 35.5M/155M [00:02<00:04, 27.0MB/s]\u001b[A\n",
      "Downloading data:  25%|██▍       | 38.3M/155M [00:02<00:04, 27.3MB/s]\u001b[A\n",
      "Downloading data:  26%|██▋       | 41.0M/155M [00:02<00:04, 27.3MB/s]\u001b[A\n",
      "Downloading data:  28%|██▊       | 43.8M/155M [00:02<00:04, 27.4MB/s]\u001b[A\n",
      "Downloading data:  30%|███       | 46.6M/155M [00:02<00:03, 27.6MB/s]\u001b[A\n",
      "Downloading data:  32%|███▏      | 49.4M/155M [00:02<00:03, 27.5MB/s]\u001b[A\n",
      "Downloading data:  34%|███▎      | 52.1M/155M [00:02<00:03, 27.4MB/s]\u001b[A\n",
      "Downloading data:  35%|███▌      | 54.9M/155M [00:02<00:03, 27.2MB/s]\u001b[A\n",
      "Downloading data:  37%|███▋      | 57.7M/155M [00:02<00:03, 27.4MB/s]\u001b[A\n",
      "Downloading data:  39%|███▉      | 60.5M/155M [00:02<00:03, 27.7MB/s]\u001b[A\n",
      "Downloading data:  41%|████      | 63.3M/155M [00:03<00:03, 27.5MB/s]\u001b[A\n",
      "Downloading data:  43%|████▎     | 66.1M/155M [00:03<00:03, 27.2MB/s]\u001b[A\n",
      "Downloading data:  44%|████▍     | 68.9M/155M [00:03<00:03, 27.4MB/s]\u001b[A\n",
      "Downloading data:  46%|████▋     | 71.7M/155M [00:03<00:03, 27.4MB/s]\u001b[A\n",
      "Downloading data:  48%|████▊     | 74.4M/155M [00:03<00:02, 27.5MB/s]\u001b[A\n",
      "Downloading data:  50%|████▉     | 77.2M/155M [00:03<00:02, 27.6MB/s]\u001b[A\n",
      "Downloading data:  52%|█████▏    | 80.0M/155M [00:03<00:02, 27.6MB/s]\u001b[A\n",
      "Downloading data:  53%|█████▎    | 82.8M/155M [00:03<00:02, 27.7MB/s]\u001b[A\n",
      "Downloading data:  55%|█████▌    | 85.6M/155M [00:03<00:02, 27.5MB/s]\u001b[A\n",
      "Downloading data:  57%|█████▋    | 88.3M/155M [00:03<00:02, 27.3MB/s]\u001b[A\n",
      "Downloading data:  59%|█████▉    | 91.0M/155M [00:04<00:02, 27.2MB/s]\u001b[A\n",
      "Downloading data:  61%|██████    | 93.8M/155M [00:04<00:02, 27.4MB/s]\u001b[A\n",
      "Downloading data:  62%|██████▏   | 96.6M/155M [00:04<00:02, 27.6MB/s]\u001b[A\n",
      "Downloading data:  64%|██████▍   | 99.4M/155M [00:04<00:02, 27.5MB/s]\u001b[A\n",
      "Downloading data:  66%|██████▌   | 102M/155M [00:04<00:01, 26.8MB/s] \u001b[A\n",
      "Downloading data:  68%|██████▊   | 105M/155M [00:04<00:01, 26.2MB/s]\u001b[A\n",
      "Downloading data:  69%|██████▉   | 107M/155M [00:04<00:01, 26.3MB/s]\u001b[A\n",
      "Downloading data:  71%|███████   | 110M/155M [00:04<00:01, 26.5MB/s]\u001b[A\n",
      "Downloading data:  73%|███████▎  | 113M/155M [00:04<00:01, 27.6MB/s]\u001b[A\n",
      "Downloading data:  75%|███████▍  | 116M/155M [00:04<00:01, 27.4MB/s]\u001b[A\n",
      "Downloading data:  77%|███████▋  | 119M/155M [00:05<00:01, 27.3MB/s]\u001b[A\n",
      "Downloading data:  78%|███████▊  | 121M/155M [00:05<00:01, 27.2MB/s]\u001b[A\n",
      "Downloading data:  80%|████████  | 124M/155M [00:05<00:01, 27.1MB/s]\u001b[A\n",
      "Downloading data:  82%|████████▏ | 127M/155M [00:05<00:01, 26.9MB/s]\u001b[A\n",
      "Downloading data:  84%|████████▎ | 130M/155M [00:05<00:00, 27.2MB/s]\u001b[A\n",
      "Downloading data:  86%|████████▌ | 132M/155M [00:05<00:00, 27.3MB/s]\u001b[A\n",
      "Downloading data:  87%|████████▋ | 135M/155M [00:05<00:00, 27.4MB/s]\u001b[A\n",
      "Downloading data:  89%|████████▉ | 138M/155M [00:05<00:00, 27.5MB/s]\u001b[A\n",
      "Downloading data:  91%|█████████ | 141M/155M [00:05<00:00, 27.6MB/s]\u001b[A\n",
      "Downloading data:  93%|█████████▎| 144M/155M [00:05<00:00, 27.6MB/s]\u001b[A\n",
      "Downloading data:  94%|█████████▍| 146M/155M [00:06<00:00, 27.5MB/s]\u001b[A\n",
      "Downloading data:  96%|█████████▋| 149M/155M [00:06<00:00, 27.3MB/s]\u001b[A\n",
      "Downloading data:  98%|█████████▊| 152M/155M [00:06<00:00, 27.2MB/s]\u001b[A\n",
      "Downloading data: 100%|██████████| 155M/155M [00:06<00:00, 24.2MB/s]\u001b[A\n",
      "Downloading data files: 100%|██████████| 2/2 [00:37<00:00, 18.88s/it]\n",
      "Extracting data files: 100%|██████████| 2/2 [00:00<00:00, 702.92it/s]\n",
      "                                 \r"
     ]
    },
    {
     "name": "stdout",
     "output_type": "stream",
     "text": [
      "Dataset parquet downloaded and prepared to /home/opc/.cache/huggingface/datasets/iara-project___parquet/iara-project--news-articles-ptbr-dataset-bf5e5acef4982afb/0.0.0/2a3b91fbd88a2c90d1dbbb32b460cf621d31bd5b05b934492fdef7d8d6f236ec. Subsequent calls will reuse this data.\n"
     ]
    },
    {
     "name": "stderr",
     "output_type": "stream",
     "text": [
      "100%|██████████| 2/2 [00:00<00:00,  2.21it/s]\n"
     ]
    }
   ],
   "source": [
    "from datasets import load_dataset\n",
    "\n",
    "dataset = load_dataset('iara-project/news-articles-ptbr-dataset')"
   ]
  },
  {
   "cell_type": "code",
   "execution_count": 2,
   "id": "627264ad",
   "metadata": {},
   "outputs": [
    {
     "name": "stderr",
     "output_type": "stream",
     "text": [
      "Creating json from Arrow format: 100%|██████████| 18/18 [00:08<00:00,  2.12ba/s]\n"
     ]
    },
    {
     "data": {
      "text/plain": [
       "708805859"
      ]
     },
     "execution_count": 2,
     "metadata": {},
     "output_type": "execute_result"
    }
   ],
   "source": [
    "dataset['train'].to_json('iara-project/news-articles-ptbr-dataset_train.json')"
   ]
  },
  {
   "cell_type": "code",
   "execution_count": 3,
   "id": "a505e05a",
   "metadata": {},
   "outputs": [],
   "source": [
    "import gensim\n",
    "import pandas as pd"
   ]
  },
  {
   "cell_type": "code",
   "execution_count": 4,
   "id": "c244cacc",
   "metadata": {},
   "outputs": [],
   "source": [
    "import gensim\n",
    "import pandas as pd\n"
   ]
  },
  {
   "cell_type": "code",
   "execution_count": 5,
   "id": "3b7cd3d1",
   "metadata": {},
   "outputs": [
    {
     "ename": "ValueError",
     "evalue": "Unexpected character found when decoding 'null'",
     "output_type": "error",
     "traceback": [
      "\u001b[0;31m---------------------------------------------------------------------------\u001b[0m",
      "\u001b[0;31mValueError\u001b[0m                                Traceback (most recent call last)",
      "\u001b[0;32m<ipython-input-5-b20f6913d82d>\u001b[0m in \u001b[0;36m<module>\u001b[0;34m\u001b[0m\n\u001b[0;32m----> 1\u001b[0;31m \u001b[0mdf\u001b[0m \u001b[0;34m=\u001b[0m \u001b[0mpd\u001b[0m\u001b[0;34m.\u001b[0m\u001b[0mread_json\u001b[0m\u001b[0;34m(\u001b[0m\u001b[0;34m\"news-articles-ptbr-dataset_train.json\"\u001b[0m\u001b[0;34m,\u001b[0m \u001b[0mlines\u001b[0m\u001b[0;34m=\u001b[0m\u001b[0;32mTrue\u001b[0m\u001b[0;34m)\u001b[0m\u001b[0;34m\u001b[0m\u001b[0;34m\u001b[0m\u001b[0m\n\u001b[0m",
      "\u001b[0;32m~/.local/lib/python3.6/site-packages/pandas/util/_decorators.py\u001b[0m in \u001b[0;36mwrapper\u001b[0;34m(*args, **kwargs)\u001b[0m\n\u001b[1;32m    197\u001b[0m                 \u001b[0;32melse\u001b[0m\u001b[0;34m:\u001b[0m\u001b[0;34m\u001b[0m\u001b[0;34m\u001b[0m\u001b[0m\n\u001b[1;32m    198\u001b[0m                     \u001b[0mkwargs\u001b[0m\u001b[0;34m[\u001b[0m\u001b[0mnew_arg_name\u001b[0m\u001b[0;34m]\u001b[0m \u001b[0;34m=\u001b[0m \u001b[0mnew_arg_value\u001b[0m\u001b[0;34m\u001b[0m\u001b[0;34m\u001b[0m\u001b[0m\n\u001b[0;32m--> 199\u001b[0;31m             \u001b[0;32mreturn\u001b[0m \u001b[0mfunc\u001b[0m\u001b[0;34m(\u001b[0m\u001b[0;34m*\u001b[0m\u001b[0margs\u001b[0m\u001b[0;34m,\u001b[0m \u001b[0;34m**\u001b[0m\u001b[0mkwargs\u001b[0m\u001b[0;34m)\u001b[0m\u001b[0;34m\u001b[0m\u001b[0;34m\u001b[0m\u001b[0m\n\u001b[0m\u001b[1;32m    200\u001b[0m \u001b[0;34m\u001b[0m\u001b[0m\n\u001b[1;32m    201\u001b[0m         \u001b[0;32mreturn\u001b[0m \u001b[0mcast\u001b[0m\u001b[0;34m(\u001b[0m\u001b[0mF\u001b[0m\u001b[0;34m,\u001b[0m \u001b[0mwrapper\u001b[0m\u001b[0;34m)\u001b[0m\u001b[0;34m\u001b[0m\u001b[0;34m\u001b[0m\u001b[0m\n",
      "\u001b[0;32m~/.local/lib/python3.6/site-packages/pandas/util/_decorators.py\u001b[0m in \u001b[0;36mwrapper\u001b[0;34m(*args, **kwargs)\u001b[0m\n\u001b[1;32m    294\u001b[0m                 )\n\u001b[1;32m    295\u001b[0m                 \u001b[0mwarnings\u001b[0m\u001b[0;34m.\u001b[0m\u001b[0mwarn\u001b[0m\u001b[0;34m(\u001b[0m\u001b[0mmsg\u001b[0m\u001b[0;34m,\u001b[0m \u001b[0mFutureWarning\u001b[0m\u001b[0;34m,\u001b[0m \u001b[0mstacklevel\u001b[0m\u001b[0;34m=\u001b[0m\u001b[0mstacklevel\u001b[0m\u001b[0;34m)\u001b[0m\u001b[0;34m\u001b[0m\u001b[0;34m\u001b[0m\u001b[0m\n\u001b[0;32m--> 296\u001b[0;31m             \u001b[0;32mreturn\u001b[0m \u001b[0mfunc\u001b[0m\u001b[0;34m(\u001b[0m\u001b[0;34m*\u001b[0m\u001b[0margs\u001b[0m\u001b[0;34m,\u001b[0m \u001b[0;34m**\u001b[0m\u001b[0mkwargs\u001b[0m\u001b[0;34m)\u001b[0m\u001b[0;34m\u001b[0m\u001b[0;34m\u001b[0m\u001b[0m\n\u001b[0m\u001b[1;32m    297\u001b[0m \u001b[0;34m\u001b[0m\u001b[0m\n\u001b[1;32m    298\u001b[0m         \u001b[0;32mreturn\u001b[0m \u001b[0mwrapper\u001b[0m\u001b[0;34m\u001b[0m\u001b[0;34m\u001b[0m\u001b[0m\n",
      "\u001b[0;32m~/.local/lib/python3.6/site-packages/pandas/io/json/_json.py\u001b[0m in \u001b[0;36mread_json\u001b[0;34m(path_or_buf, orient, typ, dtype, convert_axes, convert_dates, keep_default_dates, numpy, precise_float, date_unit, encoding, lines, chunksize, compression, nrows)\u001b[0m\n\u001b[1;32m    616\u001b[0m         \u001b[0;32mreturn\u001b[0m \u001b[0mjson_reader\u001b[0m\u001b[0;34m\u001b[0m\u001b[0;34m\u001b[0m\u001b[0m\n\u001b[1;32m    617\u001b[0m \u001b[0;34m\u001b[0m\u001b[0m\n\u001b[0;32m--> 618\u001b[0;31m     \u001b[0mresult\u001b[0m \u001b[0;34m=\u001b[0m \u001b[0mjson_reader\u001b[0m\u001b[0;34m.\u001b[0m\u001b[0mread\u001b[0m\u001b[0;34m(\u001b[0m\u001b[0;34m)\u001b[0m\u001b[0;34m\u001b[0m\u001b[0;34m\u001b[0m\u001b[0m\n\u001b[0m\u001b[1;32m    619\u001b[0m     \u001b[0;32mif\u001b[0m \u001b[0mshould_close\u001b[0m\u001b[0;34m:\u001b[0m\u001b[0;34m\u001b[0m\u001b[0;34m\u001b[0m\u001b[0m\n\u001b[1;32m    620\u001b[0m         \u001b[0mfilepath_or_buffer\u001b[0m\u001b[0;34m.\u001b[0m\u001b[0mclose\u001b[0m\u001b[0;34m(\u001b[0m\u001b[0;34m)\u001b[0m\u001b[0;34m\u001b[0m\u001b[0;34m\u001b[0m\u001b[0m\n",
      "\u001b[0;32m~/.local/lib/python3.6/site-packages/pandas/io/json/_json.py\u001b[0m in \u001b[0;36mread\u001b[0;34m(self)\u001b[0m\n\u001b[1;32m    751\u001b[0m                 \u001b[0mdata\u001b[0m \u001b[0;34m=\u001b[0m \u001b[0mensure_str\u001b[0m\u001b[0;34m(\u001b[0m\u001b[0mself\u001b[0m\u001b[0;34m.\u001b[0m\u001b[0mdata\u001b[0m\u001b[0;34m)\u001b[0m\u001b[0;34m\u001b[0m\u001b[0;34m\u001b[0m\u001b[0m\n\u001b[1;32m    752\u001b[0m                 \u001b[0mdata\u001b[0m \u001b[0;34m=\u001b[0m \u001b[0mdata\u001b[0m\u001b[0;34m.\u001b[0m\u001b[0msplit\u001b[0m\u001b[0;34m(\u001b[0m\u001b[0;34m\"\\n\"\u001b[0m\u001b[0;34m)\u001b[0m\u001b[0;34m\u001b[0m\u001b[0;34m\u001b[0m\u001b[0m\n\u001b[0;32m--> 753\u001b[0;31m                 \u001b[0mobj\u001b[0m \u001b[0;34m=\u001b[0m \u001b[0mself\u001b[0m\u001b[0;34m.\u001b[0m\u001b[0m_get_object_parser\u001b[0m\u001b[0;34m(\u001b[0m\u001b[0mself\u001b[0m\u001b[0;34m.\u001b[0m\u001b[0m_combine_lines\u001b[0m\u001b[0;34m(\u001b[0m\u001b[0mdata\u001b[0m\u001b[0;34m)\u001b[0m\u001b[0;34m)\u001b[0m\u001b[0;34m\u001b[0m\u001b[0;34m\u001b[0m\u001b[0m\n\u001b[0m\u001b[1;32m    754\u001b[0m         \u001b[0;32melse\u001b[0m\u001b[0;34m:\u001b[0m\u001b[0;34m\u001b[0m\u001b[0;34m\u001b[0m\u001b[0m\n\u001b[1;32m    755\u001b[0m             \u001b[0mobj\u001b[0m \u001b[0;34m=\u001b[0m \u001b[0mself\u001b[0m\u001b[0;34m.\u001b[0m\u001b[0m_get_object_parser\u001b[0m\u001b[0;34m(\u001b[0m\u001b[0mself\u001b[0m\u001b[0;34m.\u001b[0m\u001b[0mdata\u001b[0m\u001b[0;34m)\u001b[0m\u001b[0;34m\u001b[0m\u001b[0;34m\u001b[0m\u001b[0m\n",
      "\u001b[0;32m~/.local/lib/python3.6/site-packages/pandas/io/json/_json.py\u001b[0m in \u001b[0;36m_get_object_parser\u001b[0;34m(self, json)\u001b[0m\n\u001b[1;32m    775\u001b[0m         \u001b[0mobj\u001b[0m \u001b[0;34m=\u001b[0m \u001b[0;32mNone\u001b[0m\u001b[0;34m\u001b[0m\u001b[0;34m\u001b[0m\u001b[0m\n\u001b[1;32m    776\u001b[0m         \u001b[0;32mif\u001b[0m \u001b[0mtyp\u001b[0m \u001b[0;34m==\u001b[0m \u001b[0;34m\"frame\"\u001b[0m\u001b[0;34m:\u001b[0m\u001b[0;34m\u001b[0m\u001b[0;34m\u001b[0m\u001b[0m\n\u001b[0;32m--> 777\u001b[0;31m             \u001b[0mobj\u001b[0m \u001b[0;34m=\u001b[0m \u001b[0mFrameParser\u001b[0m\u001b[0;34m(\u001b[0m\u001b[0mjson\u001b[0m\u001b[0;34m,\u001b[0m \u001b[0;34m**\u001b[0m\u001b[0mkwargs\u001b[0m\u001b[0;34m)\u001b[0m\u001b[0;34m.\u001b[0m\u001b[0mparse\u001b[0m\u001b[0;34m(\u001b[0m\u001b[0;34m)\u001b[0m\u001b[0;34m\u001b[0m\u001b[0;34m\u001b[0m\u001b[0m\n\u001b[0m\u001b[1;32m    778\u001b[0m \u001b[0;34m\u001b[0m\u001b[0m\n\u001b[1;32m    779\u001b[0m         \u001b[0;32mif\u001b[0m \u001b[0mtyp\u001b[0m \u001b[0;34m==\u001b[0m \u001b[0;34m\"series\"\u001b[0m \u001b[0;32mor\u001b[0m \u001b[0mobj\u001b[0m \u001b[0;32mis\u001b[0m \u001b[0;32mNone\u001b[0m\u001b[0;34m:\u001b[0m\u001b[0;34m\u001b[0m\u001b[0;34m\u001b[0m\u001b[0m\n",
      "\u001b[0;32m~/.local/lib/python3.6/site-packages/pandas/io/json/_json.py\u001b[0m in \u001b[0;36mparse\u001b[0;34m(self)\u001b[0m\n\u001b[1;32m    884\u001b[0m \u001b[0;34m\u001b[0m\u001b[0m\n\u001b[1;32m    885\u001b[0m         \u001b[0;32melse\u001b[0m\u001b[0;34m:\u001b[0m\u001b[0;34m\u001b[0m\u001b[0;34m\u001b[0m\u001b[0m\n\u001b[0;32m--> 886\u001b[0;31m             \u001b[0mself\u001b[0m\u001b[0;34m.\u001b[0m\u001b[0m_parse_no_numpy\u001b[0m\u001b[0;34m(\u001b[0m\u001b[0;34m)\u001b[0m\u001b[0;34m\u001b[0m\u001b[0;34m\u001b[0m\u001b[0m\n\u001b[0m\u001b[1;32m    887\u001b[0m \u001b[0;34m\u001b[0m\u001b[0m\n\u001b[1;32m    888\u001b[0m         \u001b[0;32mif\u001b[0m \u001b[0mself\u001b[0m\u001b[0;34m.\u001b[0m\u001b[0mobj\u001b[0m \u001b[0;32mis\u001b[0m \u001b[0;32mNone\u001b[0m\u001b[0;34m:\u001b[0m\u001b[0;34m\u001b[0m\u001b[0;34m\u001b[0m\u001b[0m\n",
      "\u001b[0;32m~/.local/lib/python3.6/site-packages/pandas/io/json/_json.py\u001b[0m in \u001b[0;36m_parse_no_numpy\u001b[0;34m(self)\u001b[0m\n\u001b[1;32m   1117\u001b[0m         \u001b[0;32mif\u001b[0m \u001b[0morient\u001b[0m \u001b[0;34m==\u001b[0m \u001b[0;34m\"columns\"\u001b[0m\u001b[0;34m:\u001b[0m\u001b[0;34m\u001b[0m\u001b[0;34m\u001b[0m\u001b[0m\n\u001b[1;32m   1118\u001b[0m             self.obj = DataFrame(\n\u001b[0;32m-> 1119\u001b[0;31m                 \u001b[0mloads\u001b[0m\u001b[0;34m(\u001b[0m\u001b[0mjson\u001b[0m\u001b[0;34m,\u001b[0m \u001b[0mprecise_float\u001b[0m\u001b[0;34m=\u001b[0m\u001b[0mself\u001b[0m\u001b[0;34m.\u001b[0m\u001b[0mprecise_float\u001b[0m\u001b[0;34m)\u001b[0m\u001b[0;34m,\u001b[0m \u001b[0mdtype\u001b[0m\u001b[0;34m=\u001b[0m\u001b[0;32mNone\u001b[0m\u001b[0;34m\u001b[0m\u001b[0;34m\u001b[0m\u001b[0m\n\u001b[0m\u001b[1;32m   1120\u001b[0m             )\n\u001b[1;32m   1121\u001b[0m         \u001b[0;32melif\u001b[0m \u001b[0morient\u001b[0m \u001b[0;34m==\u001b[0m \u001b[0;34m\"split\"\u001b[0m\u001b[0;34m:\u001b[0m\u001b[0;34m\u001b[0m\u001b[0;34m\u001b[0m\u001b[0m\n",
      "\u001b[0;31mValueError\u001b[0m: Unexpected character found when decoding 'null'"
     ]
    }
   ],
   "source": [
    "df = pd.read_json(\"news-articles-ptbr-dataset_train.json\", lines=True)"
   ]
  },
  {
   "cell_type": "code",
   "execution_count": 6,
   "id": "f16521a1",
   "metadata": {},
   "outputs": [
    {
     "ename": "FileNotFoundError",
     "evalue": "[Errno 2] No such file or directory: 'news-articles-ptbr-dataset_train.json'",
     "output_type": "error",
     "traceback": [
      "\u001b[0;31m---------------------------------------------------------------------------\u001b[0m",
      "\u001b[0;31mFileNotFoundError\u001b[0m                         Traceback (most recent call last)",
      "\u001b[0;32m<ipython-input-6-9349e87331fe>\u001b[0m in \u001b[0;36m<module>\u001b[0;34m\u001b[0m\n\u001b[1;32m      1\u001b[0m \u001b[0;32mimport\u001b[0m \u001b[0mjson\u001b[0m\u001b[0;34m\u001b[0m\u001b[0;34m\u001b[0m\u001b[0m\n\u001b[1;32m      2\u001b[0m \u001b[0;34m\u001b[0m\u001b[0m\n\u001b[0;32m----> 3\u001b[0;31m \u001b[0;32mwith\u001b[0m \u001b[0mopen\u001b[0m\u001b[0;34m(\u001b[0m\u001b[0;34m\"news-articles-ptbr-dataset_train.json\"\u001b[0m\u001b[0;34m,\u001b[0m \u001b[0;34m\"r\"\u001b[0m\u001b[0;34m)\u001b[0m \u001b[0;32mas\u001b[0m \u001b[0mfile\u001b[0m\u001b[0;34m:\u001b[0m\u001b[0;34m\u001b[0m\u001b[0;34m\u001b[0m\u001b[0m\n\u001b[0m\u001b[1;32m      4\u001b[0m     \u001b[0;32mfor\u001b[0m \u001b[0mi\u001b[0m\u001b[0;34m,\u001b[0m \u001b[0mline\u001b[0m \u001b[0;32min\u001b[0m \u001b[0menumerate\u001b[0m\u001b[0;34m(\u001b[0m\u001b[0mfile\u001b[0m\u001b[0;34m)\u001b[0m\u001b[0;34m:\u001b[0m\u001b[0;34m\u001b[0m\u001b[0;34m\u001b[0m\u001b[0m\n\u001b[1;32m      5\u001b[0m         \u001b[0;32mtry\u001b[0m\u001b[0;34m:\u001b[0m\u001b[0;34m\u001b[0m\u001b[0;34m\u001b[0m\u001b[0m\n",
      "\u001b[0;31mFileNotFoundError\u001b[0m: [Errno 2] No such file or directory: 'news-articles-ptbr-dataset_train.json'"
     ]
    }
   ],
   "source": [
    "import json\n",
    "\n",
    "with open(\"news-articles-ptbr-dataset_train.json\", \"r\") as file:\n",
    "    for i, line in enumerate(file):\n",
    "        try:\n",
    "            json.loads(line)\n",
    "        except json.JSONDecodeError:\n",
    "            print(f\"Error decoding JSON on line {i + 1}\")"
   ]
  },
  {
   "cell_type": "code",
   "execution_count": 7,
   "id": "893dd2cb",
   "metadata": {},
   "outputs": [],
   "source": [
    "import json\n",
    "\n",
    "with open(\"/home/opc/Projeto NLP PT-BR/iara-project/news-articles-ptbr-dataset_train.json\", \"r\") as file:\n",
    "    for i, line in enumerate(file):\n",
    "        try:\n",
    "            json.loads(line)\n",
    "        except json.JSONDecodeError:\n",
    "            print(f\"Error decoding JSON on line {i + 1}\")"
   ]
  },
  {
   "cell_type": "code",
   "execution_count": 8,
   "id": "9f6445b1",
   "metadata": {},
   "outputs": [
    {
     "ename": "ValueError",
     "evalue": "Unexpected character found when decoding 'null'",
     "output_type": "error",
     "traceback": [
      "\u001b[0;31m---------------------------------------------------------------------------\u001b[0m",
      "\u001b[0;31mValueError\u001b[0m                                Traceback (most recent call last)",
      "\u001b[0;32m<ipython-input-8-b20f6913d82d>\u001b[0m in \u001b[0;36m<module>\u001b[0;34m\u001b[0m\n\u001b[0;32m----> 1\u001b[0;31m \u001b[0mdf\u001b[0m \u001b[0;34m=\u001b[0m \u001b[0mpd\u001b[0m\u001b[0;34m.\u001b[0m\u001b[0mread_json\u001b[0m\u001b[0;34m(\u001b[0m\u001b[0;34m\"news-articles-ptbr-dataset_train.json\"\u001b[0m\u001b[0;34m,\u001b[0m \u001b[0mlines\u001b[0m\u001b[0;34m=\u001b[0m\u001b[0;32mTrue\u001b[0m\u001b[0;34m)\u001b[0m\u001b[0;34m\u001b[0m\u001b[0;34m\u001b[0m\u001b[0m\n\u001b[0m",
      "\u001b[0;32m~/.local/lib/python3.6/site-packages/pandas/util/_decorators.py\u001b[0m in \u001b[0;36mwrapper\u001b[0;34m(*args, **kwargs)\u001b[0m\n\u001b[1;32m    197\u001b[0m                 \u001b[0;32melse\u001b[0m\u001b[0;34m:\u001b[0m\u001b[0;34m\u001b[0m\u001b[0;34m\u001b[0m\u001b[0m\n\u001b[1;32m    198\u001b[0m                     \u001b[0mkwargs\u001b[0m\u001b[0;34m[\u001b[0m\u001b[0mnew_arg_name\u001b[0m\u001b[0;34m]\u001b[0m \u001b[0;34m=\u001b[0m \u001b[0mnew_arg_value\u001b[0m\u001b[0;34m\u001b[0m\u001b[0;34m\u001b[0m\u001b[0m\n\u001b[0;32m--> 199\u001b[0;31m             \u001b[0;32mreturn\u001b[0m \u001b[0mfunc\u001b[0m\u001b[0;34m(\u001b[0m\u001b[0;34m*\u001b[0m\u001b[0margs\u001b[0m\u001b[0;34m,\u001b[0m \u001b[0;34m**\u001b[0m\u001b[0mkwargs\u001b[0m\u001b[0;34m)\u001b[0m\u001b[0;34m\u001b[0m\u001b[0;34m\u001b[0m\u001b[0m\n\u001b[0m\u001b[1;32m    200\u001b[0m \u001b[0;34m\u001b[0m\u001b[0m\n\u001b[1;32m    201\u001b[0m         \u001b[0;32mreturn\u001b[0m \u001b[0mcast\u001b[0m\u001b[0;34m(\u001b[0m\u001b[0mF\u001b[0m\u001b[0;34m,\u001b[0m \u001b[0mwrapper\u001b[0m\u001b[0;34m)\u001b[0m\u001b[0;34m\u001b[0m\u001b[0;34m\u001b[0m\u001b[0m\n",
      "\u001b[0;32m~/.local/lib/python3.6/site-packages/pandas/util/_decorators.py\u001b[0m in \u001b[0;36mwrapper\u001b[0;34m(*args, **kwargs)\u001b[0m\n\u001b[1;32m    294\u001b[0m                 )\n\u001b[1;32m    295\u001b[0m                 \u001b[0mwarnings\u001b[0m\u001b[0;34m.\u001b[0m\u001b[0mwarn\u001b[0m\u001b[0;34m(\u001b[0m\u001b[0mmsg\u001b[0m\u001b[0;34m,\u001b[0m \u001b[0mFutureWarning\u001b[0m\u001b[0;34m,\u001b[0m \u001b[0mstacklevel\u001b[0m\u001b[0;34m=\u001b[0m\u001b[0mstacklevel\u001b[0m\u001b[0;34m)\u001b[0m\u001b[0;34m\u001b[0m\u001b[0;34m\u001b[0m\u001b[0m\n\u001b[0;32m--> 296\u001b[0;31m             \u001b[0;32mreturn\u001b[0m \u001b[0mfunc\u001b[0m\u001b[0;34m(\u001b[0m\u001b[0;34m*\u001b[0m\u001b[0margs\u001b[0m\u001b[0;34m,\u001b[0m \u001b[0;34m**\u001b[0m\u001b[0mkwargs\u001b[0m\u001b[0;34m)\u001b[0m\u001b[0;34m\u001b[0m\u001b[0;34m\u001b[0m\u001b[0m\n\u001b[0m\u001b[1;32m    297\u001b[0m \u001b[0;34m\u001b[0m\u001b[0m\n\u001b[1;32m    298\u001b[0m         \u001b[0;32mreturn\u001b[0m \u001b[0mwrapper\u001b[0m\u001b[0;34m\u001b[0m\u001b[0;34m\u001b[0m\u001b[0m\n",
      "\u001b[0;32m~/.local/lib/python3.6/site-packages/pandas/io/json/_json.py\u001b[0m in \u001b[0;36mread_json\u001b[0;34m(path_or_buf, orient, typ, dtype, convert_axes, convert_dates, keep_default_dates, numpy, precise_float, date_unit, encoding, lines, chunksize, compression, nrows)\u001b[0m\n\u001b[1;32m    616\u001b[0m         \u001b[0;32mreturn\u001b[0m \u001b[0mjson_reader\u001b[0m\u001b[0;34m\u001b[0m\u001b[0;34m\u001b[0m\u001b[0m\n\u001b[1;32m    617\u001b[0m \u001b[0;34m\u001b[0m\u001b[0m\n\u001b[0;32m--> 618\u001b[0;31m     \u001b[0mresult\u001b[0m \u001b[0;34m=\u001b[0m \u001b[0mjson_reader\u001b[0m\u001b[0;34m.\u001b[0m\u001b[0mread\u001b[0m\u001b[0;34m(\u001b[0m\u001b[0;34m)\u001b[0m\u001b[0;34m\u001b[0m\u001b[0;34m\u001b[0m\u001b[0m\n\u001b[0m\u001b[1;32m    619\u001b[0m     \u001b[0;32mif\u001b[0m \u001b[0mshould_close\u001b[0m\u001b[0;34m:\u001b[0m\u001b[0;34m\u001b[0m\u001b[0;34m\u001b[0m\u001b[0m\n\u001b[1;32m    620\u001b[0m         \u001b[0mfilepath_or_buffer\u001b[0m\u001b[0;34m.\u001b[0m\u001b[0mclose\u001b[0m\u001b[0;34m(\u001b[0m\u001b[0;34m)\u001b[0m\u001b[0;34m\u001b[0m\u001b[0;34m\u001b[0m\u001b[0m\n",
      "\u001b[0;32m~/.local/lib/python3.6/site-packages/pandas/io/json/_json.py\u001b[0m in \u001b[0;36mread\u001b[0;34m(self)\u001b[0m\n\u001b[1;32m    751\u001b[0m                 \u001b[0mdata\u001b[0m \u001b[0;34m=\u001b[0m \u001b[0mensure_str\u001b[0m\u001b[0;34m(\u001b[0m\u001b[0mself\u001b[0m\u001b[0;34m.\u001b[0m\u001b[0mdata\u001b[0m\u001b[0;34m)\u001b[0m\u001b[0;34m\u001b[0m\u001b[0;34m\u001b[0m\u001b[0m\n\u001b[1;32m    752\u001b[0m                 \u001b[0mdata\u001b[0m \u001b[0;34m=\u001b[0m \u001b[0mdata\u001b[0m\u001b[0;34m.\u001b[0m\u001b[0msplit\u001b[0m\u001b[0;34m(\u001b[0m\u001b[0;34m\"\\n\"\u001b[0m\u001b[0;34m)\u001b[0m\u001b[0;34m\u001b[0m\u001b[0;34m\u001b[0m\u001b[0m\n\u001b[0;32m--> 753\u001b[0;31m                 \u001b[0mobj\u001b[0m \u001b[0;34m=\u001b[0m \u001b[0mself\u001b[0m\u001b[0;34m.\u001b[0m\u001b[0m_get_object_parser\u001b[0m\u001b[0;34m(\u001b[0m\u001b[0mself\u001b[0m\u001b[0;34m.\u001b[0m\u001b[0m_combine_lines\u001b[0m\u001b[0;34m(\u001b[0m\u001b[0mdata\u001b[0m\u001b[0;34m)\u001b[0m\u001b[0;34m)\u001b[0m\u001b[0;34m\u001b[0m\u001b[0;34m\u001b[0m\u001b[0m\n\u001b[0m\u001b[1;32m    754\u001b[0m         \u001b[0;32melse\u001b[0m\u001b[0;34m:\u001b[0m\u001b[0;34m\u001b[0m\u001b[0;34m\u001b[0m\u001b[0m\n\u001b[1;32m    755\u001b[0m             \u001b[0mobj\u001b[0m \u001b[0;34m=\u001b[0m \u001b[0mself\u001b[0m\u001b[0;34m.\u001b[0m\u001b[0m_get_object_parser\u001b[0m\u001b[0;34m(\u001b[0m\u001b[0mself\u001b[0m\u001b[0;34m.\u001b[0m\u001b[0mdata\u001b[0m\u001b[0;34m)\u001b[0m\u001b[0;34m\u001b[0m\u001b[0;34m\u001b[0m\u001b[0m\n",
      "\u001b[0;32m~/.local/lib/python3.6/site-packages/pandas/io/json/_json.py\u001b[0m in \u001b[0;36m_get_object_parser\u001b[0;34m(self, json)\u001b[0m\n\u001b[1;32m    775\u001b[0m         \u001b[0mobj\u001b[0m \u001b[0;34m=\u001b[0m \u001b[0;32mNone\u001b[0m\u001b[0;34m\u001b[0m\u001b[0;34m\u001b[0m\u001b[0m\n\u001b[1;32m    776\u001b[0m         \u001b[0;32mif\u001b[0m \u001b[0mtyp\u001b[0m \u001b[0;34m==\u001b[0m \u001b[0;34m\"frame\"\u001b[0m\u001b[0;34m:\u001b[0m\u001b[0;34m\u001b[0m\u001b[0;34m\u001b[0m\u001b[0m\n\u001b[0;32m--> 777\u001b[0;31m             \u001b[0mobj\u001b[0m \u001b[0;34m=\u001b[0m \u001b[0mFrameParser\u001b[0m\u001b[0;34m(\u001b[0m\u001b[0mjson\u001b[0m\u001b[0;34m,\u001b[0m \u001b[0;34m**\u001b[0m\u001b[0mkwargs\u001b[0m\u001b[0;34m)\u001b[0m\u001b[0;34m.\u001b[0m\u001b[0mparse\u001b[0m\u001b[0;34m(\u001b[0m\u001b[0;34m)\u001b[0m\u001b[0;34m\u001b[0m\u001b[0;34m\u001b[0m\u001b[0m\n\u001b[0m\u001b[1;32m    778\u001b[0m \u001b[0;34m\u001b[0m\u001b[0m\n\u001b[1;32m    779\u001b[0m         \u001b[0;32mif\u001b[0m \u001b[0mtyp\u001b[0m \u001b[0;34m==\u001b[0m \u001b[0;34m\"series\"\u001b[0m \u001b[0;32mor\u001b[0m \u001b[0mobj\u001b[0m \u001b[0;32mis\u001b[0m \u001b[0;32mNone\u001b[0m\u001b[0;34m:\u001b[0m\u001b[0;34m\u001b[0m\u001b[0;34m\u001b[0m\u001b[0m\n",
      "\u001b[0;32m~/.local/lib/python3.6/site-packages/pandas/io/json/_json.py\u001b[0m in \u001b[0;36mparse\u001b[0;34m(self)\u001b[0m\n\u001b[1;32m    884\u001b[0m \u001b[0;34m\u001b[0m\u001b[0m\n\u001b[1;32m    885\u001b[0m         \u001b[0;32melse\u001b[0m\u001b[0;34m:\u001b[0m\u001b[0;34m\u001b[0m\u001b[0;34m\u001b[0m\u001b[0m\n\u001b[0;32m--> 886\u001b[0;31m             \u001b[0mself\u001b[0m\u001b[0;34m.\u001b[0m\u001b[0m_parse_no_numpy\u001b[0m\u001b[0;34m(\u001b[0m\u001b[0;34m)\u001b[0m\u001b[0;34m\u001b[0m\u001b[0;34m\u001b[0m\u001b[0m\n\u001b[0m\u001b[1;32m    887\u001b[0m \u001b[0;34m\u001b[0m\u001b[0m\n\u001b[1;32m    888\u001b[0m         \u001b[0;32mif\u001b[0m \u001b[0mself\u001b[0m\u001b[0;34m.\u001b[0m\u001b[0mobj\u001b[0m \u001b[0;32mis\u001b[0m \u001b[0;32mNone\u001b[0m\u001b[0;34m:\u001b[0m\u001b[0;34m\u001b[0m\u001b[0;34m\u001b[0m\u001b[0m\n",
      "\u001b[0;32m~/.local/lib/python3.6/site-packages/pandas/io/json/_json.py\u001b[0m in \u001b[0;36m_parse_no_numpy\u001b[0;34m(self)\u001b[0m\n\u001b[1;32m   1117\u001b[0m         \u001b[0;32mif\u001b[0m \u001b[0morient\u001b[0m \u001b[0;34m==\u001b[0m \u001b[0;34m\"columns\"\u001b[0m\u001b[0;34m:\u001b[0m\u001b[0;34m\u001b[0m\u001b[0;34m\u001b[0m\u001b[0m\n\u001b[1;32m   1118\u001b[0m             self.obj = DataFrame(\n\u001b[0;32m-> 1119\u001b[0;31m                 \u001b[0mloads\u001b[0m\u001b[0;34m(\u001b[0m\u001b[0mjson\u001b[0m\u001b[0;34m,\u001b[0m \u001b[0mprecise_float\u001b[0m\u001b[0;34m=\u001b[0m\u001b[0mself\u001b[0m\u001b[0;34m.\u001b[0m\u001b[0mprecise_float\u001b[0m\u001b[0;34m)\u001b[0m\u001b[0;34m,\u001b[0m \u001b[0mdtype\u001b[0m\u001b[0;34m=\u001b[0m\u001b[0;32mNone\u001b[0m\u001b[0;34m\u001b[0m\u001b[0;34m\u001b[0m\u001b[0m\n\u001b[0m\u001b[1;32m   1120\u001b[0m             )\n\u001b[1;32m   1121\u001b[0m         \u001b[0;32melif\u001b[0m \u001b[0morient\u001b[0m \u001b[0;34m==\u001b[0m \u001b[0;34m\"split\"\u001b[0m\u001b[0;34m:\u001b[0m\u001b[0;34m\u001b[0m\u001b[0;34m\u001b[0m\u001b[0m\n",
      "\u001b[0;31mValueError\u001b[0m: Unexpected character found when decoding 'null'"
     ]
    }
   ],
   "source": [
    "df = pd.read_json(\"news-articles-ptbr-dataset_train.json\", lines=True)"
   ]
  },
  {
   "cell_type": "code",
   "execution_count": 9,
   "id": "13d4728e",
   "metadata": {},
   "outputs": [
    {
     "ename": "ValueError",
     "evalue": "Unexpected character found when decoding 'null'",
     "output_type": "error",
     "traceback": [
      "\u001b[0;31m---------------------------------------------------------------------------\u001b[0m",
      "\u001b[0;31mValueError\u001b[0m                                Traceback (most recent call last)",
      "\u001b[0;32m<ipython-input-9-8f9d0dcdaec1>\u001b[0m in \u001b[0;36m<module>\u001b[0;34m\u001b[0m\n\u001b[0;32m----> 1\u001b[0;31m \u001b[0mdf\u001b[0m \u001b[0;34m=\u001b[0m \u001b[0mpd\u001b[0m\u001b[0;34m.\u001b[0m\u001b[0mread_json\u001b[0m\u001b[0;34m(\u001b[0m\u001b[0;34m'news-articles-ptbr-dataset_train.json'\u001b[0m\u001b[0;34m,\u001b[0m \u001b[0mlines\u001b[0m\u001b[0;34m=\u001b[0m\u001b[0;32mTrue\u001b[0m\u001b[0;34m,\u001b[0m \u001b[0mencoding\u001b[0m\u001b[0;34m=\u001b[0m\u001b[0;34m'utf-8'\u001b[0m\u001b[0;34m)\u001b[0m\u001b[0;34m\u001b[0m\u001b[0;34m\u001b[0m\u001b[0m\n\u001b[0m",
      "\u001b[0;32m~/.local/lib/python3.6/site-packages/pandas/util/_decorators.py\u001b[0m in \u001b[0;36mwrapper\u001b[0;34m(*args, **kwargs)\u001b[0m\n\u001b[1;32m    197\u001b[0m                 \u001b[0;32melse\u001b[0m\u001b[0;34m:\u001b[0m\u001b[0;34m\u001b[0m\u001b[0;34m\u001b[0m\u001b[0m\n\u001b[1;32m    198\u001b[0m                     \u001b[0mkwargs\u001b[0m\u001b[0;34m[\u001b[0m\u001b[0mnew_arg_name\u001b[0m\u001b[0;34m]\u001b[0m \u001b[0;34m=\u001b[0m \u001b[0mnew_arg_value\u001b[0m\u001b[0;34m\u001b[0m\u001b[0;34m\u001b[0m\u001b[0m\n\u001b[0;32m--> 199\u001b[0;31m             \u001b[0;32mreturn\u001b[0m \u001b[0mfunc\u001b[0m\u001b[0;34m(\u001b[0m\u001b[0;34m*\u001b[0m\u001b[0margs\u001b[0m\u001b[0;34m,\u001b[0m \u001b[0;34m**\u001b[0m\u001b[0mkwargs\u001b[0m\u001b[0;34m)\u001b[0m\u001b[0;34m\u001b[0m\u001b[0;34m\u001b[0m\u001b[0m\n\u001b[0m\u001b[1;32m    200\u001b[0m \u001b[0;34m\u001b[0m\u001b[0m\n\u001b[1;32m    201\u001b[0m         \u001b[0;32mreturn\u001b[0m \u001b[0mcast\u001b[0m\u001b[0;34m(\u001b[0m\u001b[0mF\u001b[0m\u001b[0;34m,\u001b[0m \u001b[0mwrapper\u001b[0m\u001b[0;34m)\u001b[0m\u001b[0;34m\u001b[0m\u001b[0;34m\u001b[0m\u001b[0m\n",
      "\u001b[0;32m~/.local/lib/python3.6/site-packages/pandas/util/_decorators.py\u001b[0m in \u001b[0;36mwrapper\u001b[0;34m(*args, **kwargs)\u001b[0m\n\u001b[1;32m    294\u001b[0m                 )\n\u001b[1;32m    295\u001b[0m                 \u001b[0mwarnings\u001b[0m\u001b[0;34m.\u001b[0m\u001b[0mwarn\u001b[0m\u001b[0;34m(\u001b[0m\u001b[0mmsg\u001b[0m\u001b[0;34m,\u001b[0m \u001b[0mFutureWarning\u001b[0m\u001b[0;34m,\u001b[0m \u001b[0mstacklevel\u001b[0m\u001b[0;34m=\u001b[0m\u001b[0mstacklevel\u001b[0m\u001b[0;34m)\u001b[0m\u001b[0;34m\u001b[0m\u001b[0;34m\u001b[0m\u001b[0m\n\u001b[0;32m--> 296\u001b[0;31m             \u001b[0;32mreturn\u001b[0m \u001b[0mfunc\u001b[0m\u001b[0;34m(\u001b[0m\u001b[0;34m*\u001b[0m\u001b[0margs\u001b[0m\u001b[0;34m,\u001b[0m \u001b[0;34m**\u001b[0m\u001b[0mkwargs\u001b[0m\u001b[0;34m)\u001b[0m\u001b[0;34m\u001b[0m\u001b[0;34m\u001b[0m\u001b[0m\n\u001b[0m\u001b[1;32m    297\u001b[0m \u001b[0;34m\u001b[0m\u001b[0m\n\u001b[1;32m    298\u001b[0m         \u001b[0;32mreturn\u001b[0m \u001b[0mwrapper\u001b[0m\u001b[0;34m\u001b[0m\u001b[0;34m\u001b[0m\u001b[0m\n",
      "\u001b[0;32m~/.local/lib/python3.6/site-packages/pandas/io/json/_json.py\u001b[0m in \u001b[0;36mread_json\u001b[0;34m(path_or_buf, orient, typ, dtype, convert_axes, convert_dates, keep_default_dates, numpy, precise_float, date_unit, encoding, lines, chunksize, compression, nrows)\u001b[0m\n\u001b[1;32m    616\u001b[0m         \u001b[0;32mreturn\u001b[0m \u001b[0mjson_reader\u001b[0m\u001b[0;34m\u001b[0m\u001b[0;34m\u001b[0m\u001b[0m\n\u001b[1;32m    617\u001b[0m \u001b[0;34m\u001b[0m\u001b[0m\n\u001b[0;32m--> 618\u001b[0;31m     \u001b[0mresult\u001b[0m \u001b[0;34m=\u001b[0m \u001b[0mjson_reader\u001b[0m\u001b[0;34m.\u001b[0m\u001b[0mread\u001b[0m\u001b[0;34m(\u001b[0m\u001b[0;34m)\u001b[0m\u001b[0;34m\u001b[0m\u001b[0;34m\u001b[0m\u001b[0m\n\u001b[0m\u001b[1;32m    619\u001b[0m     \u001b[0;32mif\u001b[0m \u001b[0mshould_close\u001b[0m\u001b[0;34m:\u001b[0m\u001b[0;34m\u001b[0m\u001b[0;34m\u001b[0m\u001b[0m\n\u001b[1;32m    620\u001b[0m         \u001b[0mfilepath_or_buffer\u001b[0m\u001b[0;34m.\u001b[0m\u001b[0mclose\u001b[0m\u001b[0;34m(\u001b[0m\u001b[0;34m)\u001b[0m\u001b[0;34m\u001b[0m\u001b[0;34m\u001b[0m\u001b[0m\n",
      "\u001b[0;32m~/.local/lib/python3.6/site-packages/pandas/io/json/_json.py\u001b[0m in \u001b[0;36mread\u001b[0;34m(self)\u001b[0m\n\u001b[1;32m    751\u001b[0m                 \u001b[0mdata\u001b[0m \u001b[0;34m=\u001b[0m \u001b[0mensure_str\u001b[0m\u001b[0;34m(\u001b[0m\u001b[0mself\u001b[0m\u001b[0;34m.\u001b[0m\u001b[0mdata\u001b[0m\u001b[0;34m)\u001b[0m\u001b[0;34m\u001b[0m\u001b[0;34m\u001b[0m\u001b[0m\n\u001b[1;32m    752\u001b[0m                 \u001b[0mdata\u001b[0m \u001b[0;34m=\u001b[0m \u001b[0mdata\u001b[0m\u001b[0;34m.\u001b[0m\u001b[0msplit\u001b[0m\u001b[0;34m(\u001b[0m\u001b[0;34m\"\\n\"\u001b[0m\u001b[0;34m)\u001b[0m\u001b[0;34m\u001b[0m\u001b[0;34m\u001b[0m\u001b[0m\n\u001b[0;32m--> 753\u001b[0;31m                 \u001b[0mobj\u001b[0m \u001b[0;34m=\u001b[0m \u001b[0mself\u001b[0m\u001b[0;34m.\u001b[0m\u001b[0m_get_object_parser\u001b[0m\u001b[0;34m(\u001b[0m\u001b[0mself\u001b[0m\u001b[0;34m.\u001b[0m\u001b[0m_combine_lines\u001b[0m\u001b[0;34m(\u001b[0m\u001b[0mdata\u001b[0m\u001b[0;34m)\u001b[0m\u001b[0;34m)\u001b[0m\u001b[0;34m\u001b[0m\u001b[0;34m\u001b[0m\u001b[0m\n\u001b[0m\u001b[1;32m    754\u001b[0m         \u001b[0;32melse\u001b[0m\u001b[0;34m:\u001b[0m\u001b[0;34m\u001b[0m\u001b[0;34m\u001b[0m\u001b[0m\n\u001b[1;32m    755\u001b[0m             \u001b[0mobj\u001b[0m \u001b[0;34m=\u001b[0m \u001b[0mself\u001b[0m\u001b[0;34m.\u001b[0m\u001b[0m_get_object_parser\u001b[0m\u001b[0;34m(\u001b[0m\u001b[0mself\u001b[0m\u001b[0;34m.\u001b[0m\u001b[0mdata\u001b[0m\u001b[0;34m)\u001b[0m\u001b[0;34m\u001b[0m\u001b[0;34m\u001b[0m\u001b[0m\n",
      "\u001b[0;32m~/.local/lib/python3.6/site-packages/pandas/io/json/_json.py\u001b[0m in \u001b[0;36m_get_object_parser\u001b[0;34m(self, json)\u001b[0m\n\u001b[1;32m    775\u001b[0m         \u001b[0mobj\u001b[0m \u001b[0;34m=\u001b[0m \u001b[0;32mNone\u001b[0m\u001b[0;34m\u001b[0m\u001b[0;34m\u001b[0m\u001b[0m\n\u001b[1;32m    776\u001b[0m         \u001b[0;32mif\u001b[0m \u001b[0mtyp\u001b[0m \u001b[0;34m==\u001b[0m \u001b[0;34m\"frame\"\u001b[0m\u001b[0;34m:\u001b[0m\u001b[0;34m\u001b[0m\u001b[0;34m\u001b[0m\u001b[0m\n\u001b[0;32m--> 777\u001b[0;31m             \u001b[0mobj\u001b[0m \u001b[0;34m=\u001b[0m \u001b[0mFrameParser\u001b[0m\u001b[0;34m(\u001b[0m\u001b[0mjson\u001b[0m\u001b[0;34m,\u001b[0m \u001b[0;34m**\u001b[0m\u001b[0mkwargs\u001b[0m\u001b[0;34m)\u001b[0m\u001b[0;34m.\u001b[0m\u001b[0mparse\u001b[0m\u001b[0;34m(\u001b[0m\u001b[0;34m)\u001b[0m\u001b[0;34m\u001b[0m\u001b[0;34m\u001b[0m\u001b[0m\n\u001b[0m\u001b[1;32m    778\u001b[0m \u001b[0;34m\u001b[0m\u001b[0m\n\u001b[1;32m    779\u001b[0m         \u001b[0;32mif\u001b[0m \u001b[0mtyp\u001b[0m \u001b[0;34m==\u001b[0m \u001b[0;34m\"series\"\u001b[0m \u001b[0;32mor\u001b[0m \u001b[0mobj\u001b[0m \u001b[0;32mis\u001b[0m \u001b[0;32mNone\u001b[0m\u001b[0;34m:\u001b[0m\u001b[0;34m\u001b[0m\u001b[0;34m\u001b[0m\u001b[0m\n",
      "\u001b[0;32m~/.local/lib/python3.6/site-packages/pandas/io/json/_json.py\u001b[0m in \u001b[0;36mparse\u001b[0;34m(self)\u001b[0m\n\u001b[1;32m    884\u001b[0m \u001b[0;34m\u001b[0m\u001b[0m\n\u001b[1;32m    885\u001b[0m         \u001b[0;32melse\u001b[0m\u001b[0;34m:\u001b[0m\u001b[0;34m\u001b[0m\u001b[0;34m\u001b[0m\u001b[0m\n\u001b[0;32m--> 886\u001b[0;31m             \u001b[0mself\u001b[0m\u001b[0;34m.\u001b[0m\u001b[0m_parse_no_numpy\u001b[0m\u001b[0;34m(\u001b[0m\u001b[0;34m)\u001b[0m\u001b[0;34m\u001b[0m\u001b[0;34m\u001b[0m\u001b[0m\n\u001b[0m\u001b[1;32m    887\u001b[0m \u001b[0;34m\u001b[0m\u001b[0m\n\u001b[1;32m    888\u001b[0m         \u001b[0;32mif\u001b[0m \u001b[0mself\u001b[0m\u001b[0;34m.\u001b[0m\u001b[0mobj\u001b[0m \u001b[0;32mis\u001b[0m \u001b[0;32mNone\u001b[0m\u001b[0;34m:\u001b[0m\u001b[0;34m\u001b[0m\u001b[0;34m\u001b[0m\u001b[0m\n",
      "\u001b[0;32m~/.local/lib/python3.6/site-packages/pandas/io/json/_json.py\u001b[0m in \u001b[0;36m_parse_no_numpy\u001b[0;34m(self)\u001b[0m\n\u001b[1;32m   1117\u001b[0m         \u001b[0;32mif\u001b[0m \u001b[0morient\u001b[0m \u001b[0;34m==\u001b[0m \u001b[0;34m\"columns\"\u001b[0m\u001b[0;34m:\u001b[0m\u001b[0;34m\u001b[0m\u001b[0;34m\u001b[0m\u001b[0m\n\u001b[1;32m   1118\u001b[0m             self.obj = DataFrame(\n\u001b[0;32m-> 1119\u001b[0;31m                 \u001b[0mloads\u001b[0m\u001b[0;34m(\u001b[0m\u001b[0mjson\u001b[0m\u001b[0;34m,\u001b[0m \u001b[0mprecise_float\u001b[0m\u001b[0;34m=\u001b[0m\u001b[0mself\u001b[0m\u001b[0;34m.\u001b[0m\u001b[0mprecise_float\u001b[0m\u001b[0;34m)\u001b[0m\u001b[0;34m,\u001b[0m \u001b[0mdtype\u001b[0m\u001b[0;34m=\u001b[0m\u001b[0;32mNone\u001b[0m\u001b[0;34m\u001b[0m\u001b[0;34m\u001b[0m\u001b[0m\n\u001b[0m\u001b[1;32m   1120\u001b[0m             )\n\u001b[1;32m   1121\u001b[0m         \u001b[0;32melif\u001b[0m \u001b[0morient\u001b[0m \u001b[0;34m==\u001b[0m \u001b[0;34m\"split\"\u001b[0m\u001b[0;34m:\u001b[0m\u001b[0;34m\u001b[0m\u001b[0;34m\u001b[0m\u001b[0m\n",
      "\u001b[0;31mValueError\u001b[0m: Unexpected character found when decoding 'null'"
     ]
    }
   ],
   "source": [
    "df = pd.read_json('news-articles-ptbr-dataset_train.json', lines=True, encoding='utf-8')"
   ]
  },
  {
   "cell_type": "code",
   "execution_count": 10,
   "id": "b1a44623",
   "metadata": {},
   "outputs": [
    {
     "ename": "ValueError",
     "evalue": "Unexpected character found when decoding 'null'",
     "output_type": "error",
     "traceback": [
      "\u001b[0;31m---------------------------------------------------------------------------\u001b[0m",
      "\u001b[0;31mValueError\u001b[0m                                Traceback (most recent call last)",
      "\u001b[0;32m<ipython-input-10-ee8343751c5c>\u001b[0m in \u001b[0;36m<module>\u001b[0;34m\u001b[0m\n\u001b[0;32m----> 1\u001b[0;31m \u001b[0mdf\u001b[0m \u001b[0;34m=\u001b[0m \u001b[0mpd\u001b[0m\u001b[0;34m.\u001b[0m\u001b[0mread_json\u001b[0m\u001b[0;34m(\u001b[0m\u001b[0;34m'news-articles-ptbr-dataset_train.json'\u001b[0m\u001b[0;34m,\u001b[0m \u001b[0mlines\u001b[0m\u001b[0;34m=\u001b[0m\u001b[0;32mTrue\u001b[0m\u001b[0;34m,\u001b[0m \u001b[0mencoding\u001b[0m\u001b[0;34m=\u001b[0m\u001b[0;34m'latin1'\u001b[0m\u001b[0;34m)\u001b[0m\u001b[0;34m\u001b[0m\u001b[0;34m\u001b[0m\u001b[0m\n\u001b[0m",
      "\u001b[0;32m~/.local/lib/python3.6/site-packages/pandas/util/_decorators.py\u001b[0m in \u001b[0;36mwrapper\u001b[0;34m(*args, **kwargs)\u001b[0m\n\u001b[1;32m    197\u001b[0m                 \u001b[0;32melse\u001b[0m\u001b[0;34m:\u001b[0m\u001b[0;34m\u001b[0m\u001b[0;34m\u001b[0m\u001b[0m\n\u001b[1;32m    198\u001b[0m                     \u001b[0mkwargs\u001b[0m\u001b[0;34m[\u001b[0m\u001b[0mnew_arg_name\u001b[0m\u001b[0;34m]\u001b[0m \u001b[0;34m=\u001b[0m \u001b[0mnew_arg_value\u001b[0m\u001b[0;34m\u001b[0m\u001b[0;34m\u001b[0m\u001b[0m\n\u001b[0;32m--> 199\u001b[0;31m             \u001b[0;32mreturn\u001b[0m \u001b[0mfunc\u001b[0m\u001b[0;34m(\u001b[0m\u001b[0;34m*\u001b[0m\u001b[0margs\u001b[0m\u001b[0;34m,\u001b[0m \u001b[0;34m**\u001b[0m\u001b[0mkwargs\u001b[0m\u001b[0;34m)\u001b[0m\u001b[0;34m\u001b[0m\u001b[0;34m\u001b[0m\u001b[0m\n\u001b[0m\u001b[1;32m    200\u001b[0m \u001b[0;34m\u001b[0m\u001b[0m\n\u001b[1;32m    201\u001b[0m         \u001b[0;32mreturn\u001b[0m \u001b[0mcast\u001b[0m\u001b[0;34m(\u001b[0m\u001b[0mF\u001b[0m\u001b[0;34m,\u001b[0m \u001b[0mwrapper\u001b[0m\u001b[0;34m)\u001b[0m\u001b[0;34m\u001b[0m\u001b[0;34m\u001b[0m\u001b[0m\n",
      "\u001b[0;32m~/.local/lib/python3.6/site-packages/pandas/util/_decorators.py\u001b[0m in \u001b[0;36mwrapper\u001b[0;34m(*args, **kwargs)\u001b[0m\n\u001b[1;32m    294\u001b[0m                 )\n\u001b[1;32m    295\u001b[0m                 \u001b[0mwarnings\u001b[0m\u001b[0;34m.\u001b[0m\u001b[0mwarn\u001b[0m\u001b[0;34m(\u001b[0m\u001b[0mmsg\u001b[0m\u001b[0;34m,\u001b[0m \u001b[0mFutureWarning\u001b[0m\u001b[0;34m,\u001b[0m \u001b[0mstacklevel\u001b[0m\u001b[0;34m=\u001b[0m\u001b[0mstacklevel\u001b[0m\u001b[0;34m)\u001b[0m\u001b[0;34m\u001b[0m\u001b[0;34m\u001b[0m\u001b[0m\n\u001b[0;32m--> 296\u001b[0;31m             \u001b[0;32mreturn\u001b[0m \u001b[0mfunc\u001b[0m\u001b[0;34m(\u001b[0m\u001b[0;34m*\u001b[0m\u001b[0margs\u001b[0m\u001b[0;34m,\u001b[0m \u001b[0;34m**\u001b[0m\u001b[0mkwargs\u001b[0m\u001b[0;34m)\u001b[0m\u001b[0;34m\u001b[0m\u001b[0;34m\u001b[0m\u001b[0m\n\u001b[0m\u001b[1;32m    297\u001b[0m \u001b[0;34m\u001b[0m\u001b[0m\n\u001b[1;32m    298\u001b[0m         \u001b[0;32mreturn\u001b[0m \u001b[0mwrapper\u001b[0m\u001b[0;34m\u001b[0m\u001b[0;34m\u001b[0m\u001b[0m\n",
      "\u001b[0;32m~/.local/lib/python3.6/site-packages/pandas/io/json/_json.py\u001b[0m in \u001b[0;36mread_json\u001b[0;34m(path_or_buf, orient, typ, dtype, convert_axes, convert_dates, keep_default_dates, numpy, precise_float, date_unit, encoding, lines, chunksize, compression, nrows)\u001b[0m\n\u001b[1;32m    616\u001b[0m         \u001b[0;32mreturn\u001b[0m \u001b[0mjson_reader\u001b[0m\u001b[0;34m\u001b[0m\u001b[0;34m\u001b[0m\u001b[0m\n\u001b[1;32m    617\u001b[0m \u001b[0;34m\u001b[0m\u001b[0m\n\u001b[0;32m--> 618\u001b[0;31m     \u001b[0mresult\u001b[0m \u001b[0;34m=\u001b[0m \u001b[0mjson_reader\u001b[0m\u001b[0;34m.\u001b[0m\u001b[0mread\u001b[0m\u001b[0;34m(\u001b[0m\u001b[0;34m)\u001b[0m\u001b[0;34m\u001b[0m\u001b[0;34m\u001b[0m\u001b[0m\n\u001b[0m\u001b[1;32m    619\u001b[0m     \u001b[0;32mif\u001b[0m \u001b[0mshould_close\u001b[0m\u001b[0;34m:\u001b[0m\u001b[0;34m\u001b[0m\u001b[0;34m\u001b[0m\u001b[0m\n\u001b[1;32m    620\u001b[0m         \u001b[0mfilepath_or_buffer\u001b[0m\u001b[0;34m.\u001b[0m\u001b[0mclose\u001b[0m\u001b[0;34m(\u001b[0m\u001b[0;34m)\u001b[0m\u001b[0;34m\u001b[0m\u001b[0;34m\u001b[0m\u001b[0m\n",
      "\u001b[0;32m~/.local/lib/python3.6/site-packages/pandas/io/json/_json.py\u001b[0m in \u001b[0;36mread\u001b[0;34m(self)\u001b[0m\n\u001b[1;32m    751\u001b[0m                 \u001b[0mdata\u001b[0m \u001b[0;34m=\u001b[0m \u001b[0mensure_str\u001b[0m\u001b[0;34m(\u001b[0m\u001b[0mself\u001b[0m\u001b[0;34m.\u001b[0m\u001b[0mdata\u001b[0m\u001b[0;34m)\u001b[0m\u001b[0;34m\u001b[0m\u001b[0;34m\u001b[0m\u001b[0m\n\u001b[1;32m    752\u001b[0m                 \u001b[0mdata\u001b[0m \u001b[0;34m=\u001b[0m \u001b[0mdata\u001b[0m\u001b[0;34m.\u001b[0m\u001b[0msplit\u001b[0m\u001b[0;34m(\u001b[0m\u001b[0;34m\"\\n\"\u001b[0m\u001b[0;34m)\u001b[0m\u001b[0;34m\u001b[0m\u001b[0;34m\u001b[0m\u001b[0m\n\u001b[0;32m--> 753\u001b[0;31m                 \u001b[0mobj\u001b[0m \u001b[0;34m=\u001b[0m \u001b[0mself\u001b[0m\u001b[0;34m.\u001b[0m\u001b[0m_get_object_parser\u001b[0m\u001b[0;34m(\u001b[0m\u001b[0mself\u001b[0m\u001b[0;34m.\u001b[0m\u001b[0m_combine_lines\u001b[0m\u001b[0;34m(\u001b[0m\u001b[0mdata\u001b[0m\u001b[0;34m)\u001b[0m\u001b[0;34m)\u001b[0m\u001b[0;34m\u001b[0m\u001b[0;34m\u001b[0m\u001b[0m\n\u001b[0m\u001b[1;32m    754\u001b[0m         \u001b[0;32melse\u001b[0m\u001b[0;34m:\u001b[0m\u001b[0;34m\u001b[0m\u001b[0;34m\u001b[0m\u001b[0m\n\u001b[1;32m    755\u001b[0m             \u001b[0mobj\u001b[0m \u001b[0;34m=\u001b[0m \u001b[0mself\u001b[0m\u001b[0;34m.\u001b[0m\u001b[0m_get_object_parser\u001b[0m\u001b[0;34m(\u001b[0m\u001b[0mself\u001b[0m\u001b[0;34m.\u001b[0m\u001b[0mdata\u001b[0m\u001b[0;34m)\u001b[0m\u001b[0;34m\u001b[0m\u001b[0;34m\u001b[0m\u001b[0m\n",
      "\u001b[0;32m~/.local/lib/python3.6/site-packages/pandas/io/json/_json.py\u001b[0m in \u001b[0;36m_get_object_parser\u001b[0;34m(self, json)\u001b[0m\n\u001b[1;32m    775\u001b[0m         \u001b[0mobj\u001b[0m \u001b[0;34m=\u001b[0m \u001b[0;32mNone\u001b[0m\u001b[0;34m\u001b[0m\u001b[0;34m\u001b[0m\u001b[0m\n\u001b[1;32m    776\u001b[0m         \u001b[0;32mif\u001b[0m \u001b[0mtyp\u001b[0m \u001b[0;34m==\u001b[0m \u001b[0;34m\"frame\"\u001b[0m\u001b[0;34m:\u001b[0m\u001b[0;34m\u001b[0m\u001b[0;34m\u001b[0m\u001b[0m\n\u001b[0;32m--> 777\u001b[0;31m             \u001b[0mobj\u001b[0m \u001b[0;34m=\u001b[0m \u001b[0mFrameParser\u001b[0m\u001b[0;34m(\u001b[0m\u001b[0mjson\u001b[0m\u001b[0;34m,\u001b[0m \u001b[0;34m**\u001b[0m\u001b[0mkwargs\u001b[0m\u001b[0;34m)\u001b[0m\u001b[0;34m.\u001b[0m\u001b[0mparse\u001b[0m\u001b[0;34m(\u001b[0m\u001b[0;34m)\u001b[0m\u001b[0;34m\u001b[0m\u001b[0;34m\u001b[0m\u001b[0m\n\u001b[0m\u001b[1;32m    778\u001b[0m \u001b[0;34m\u001b[0m\u001b[0m\n\u001b[1;32m    779\u001b[0m         \u001b[0;32mif\u001b[0m \u001b[0mtyp\u001b[0m \u001b[0;34m==\u001b[0m \u001b[0;34m\"series\"\u001b[0m \u001b[0;32mor\u001b[0m \u001b[0mobj\u001b[0m \u001b[0;32mis\u001b[0m \u001b[0;32mNone\u001b[0m\u001b[0;34m:\u001b[0m\u001b[0;34m\u001b[0m\u001b[0;34m\u001b[0m\u001b[0m\n",
      "\u001b[0;32m~/.local/lib/python3.6/site-packages/pandas/io/json/_json.py\u001b[0m in \u001b[0;36mparse\u001b[0;34m(self)\u001b[0m\n\u001b[1;32m    884\u001b[0m \u001b[0;34m\u001b[0m\u001b[0m\n\u001b[1;32m    885\u001b[0m         \u001b[0;32melse\u001b[0m\u001b[0;34m:\u001b[0m\u001b[0;34m\u001b[0m\u001b[0;34m\u001b[0m\u001b[0m\n\u001b[0;32m--> 886\u001b[0;31m             \u001b[0mself\u001b[0m\u001b[0;34m.\u001b[0m\u001b[0m_parse_no_numpy\u001b[0m\u001b[0;34m(\u001b[0m\u001b[0;34m)\u001b[0m\u001b[0;34m\u001b[0m\u001b[0;34m\u001b[0m\u001b[0m\n\u001b[0m\u001b[1;32m    887\u001b[0m \u001b[0;34m\u001b[0m\u001b[0m\n\u001b[1;32m    888\u001b[0m         \u001b[0;32mif\u001b[0m \u001b[0mself\u001b[0m\u001b[0;34m.\u001b[0m\u001b[0mobj\u001b[0m \u001b[0;32mis\u001b[0m \u001b[0;32mNone\u001b[0m\u001b[0;34m:\u001b[0m\u001b[0;34m\u001b[0m\u001b[0;34m\u001b[0m\u001b[0m\n",
      "\u001b[0;32m~/.local/lib/python3.6/site-packages/pandas/io/json/_json.py\u001b[0m in \u001b[0;36m_parse_no_numpy\u001b[0;34m(self)\u001b[0m\n\u001b[1;32m   1117\u001b[0m         \u001b[0;32mif\u001b[0m \u001b[0morient\u001b[0m \u001b[0;34m==\u001b[0m \u001b[0;34m\"columns\"\u001b[0m\u001b[0;34m:\u001b[0m\u001b[0;34m\u001b[0m\u001b[0;34m\u001b[0m\u001b[0m\n\u001b[1;32m   1118\u001b[0m             self.obj = DataFrame(\n\u001b[0;32m-> 1119\u001b[0;31m                 \u001b[0mloads\u001b[0m\u001b[0;34m(\u001b[0m\u001b[0mjson\u001b[0m\u001b[0;34m,\u001b[0m \u001b[0mprecise_float\u001b[0m\u001b[0;34m=\u001b[0m\u001b[0mself\u001b[0m\u001b[0;34m.\u001b[0m\u001b[0mprecise_float\u001b[0m\u001b[0;34m)\u001b[0m\u001b[0;34m,\u001b[0m \u001b[0mdtype\u001b[0m\u001b[0;34m=\u001b[0m\u001b[0;32mNone\u001b[0m\u001b[0;34m\u001b[0m\u001b[0;34m\u001b[0m\u001b[0m\n\u001b[0m\u001b[1;32m   1120\u001b[0m             )\n\u001b[1;32m   1121\u001b[0m         \u001b[0;32melif\u001b[0m \u001b[0morient\u001b[0m \u001b[0;34m==\u001b[0m \u001b[0;34m\"split\"\u001b[0m\u001b[0;34m:\u001b[0m\u001b[0;34m\u001b[0m\u001b[0;34m\u001b[0m\u001b[0m\n",
      "\u001b[0;31mValueError\u001b[0m: Unexpected character found when decoding 'null'"
     ]
    }
   ],
   "source": [
    "df = pd.read_json('news-articles-ptbr-dataset_train.json', lines=True, encoding='latin1')"
   ]
  },
  {
   "cell_type": "code",
   "execution_count": 11,
   "id": "e442ca17",
   "metadata": {},
   "outputs": [],
   "source": [
    "df = pd.read_json('/home/opc/Projeto NLP PT-BR/iara-project/news-articles-ptbr-dataset_train.json', lines=True, encoding='utf-8')"
   ]
  },
  {
   "cell_type": "code",
   "execution_count": 12,
   "id": "398e908a",
   "metadata": {},
   "outputs": [
    {
     "data": {
      "text/html": [
       "<div>\n",
       "<style scoped>\n",
       "    .dataframe tbody tr th:only-of-type {\n",
       "        vertical-align: middle;\n",
       "    }\n",
       "\n",
       "    .dataframe tbody tr th {\n",
       "        vertical-align: top;\n",
       "    }\n",
       "\n",
       "    .dataframe thead th {\n",
       "        text-align: right;\n",
       "    }\n",
       "</style>\n",
       "<table border=\"1\" class=\"dataframe\">\n",
       "  <thead>\n",
       "    <tr style=\"text-align: right;\">\n",
       "      <th></th>\n",
       "      <th>title</th>\n",
       "      <th>text</th>\n",
       "      <th>date</th>\n",
       "      <th>category</th>\n",
       "      <th>category_natural_language</th>\n",
       "      <th>link</th>\n",
       "    </tr>\n",
       "  </thead>\n",
       "  <tbody>\n",
       "    <tr>\n",
       "      <th>0</th>\n",
       "      <td>Após Luva de Pedreiro indicar que pagaria pens...</td>\n",
       "      <td>Na tarde de domingo (17), Luva de Pedreiro abr...</td>\n",
       "      <td>2023-09-18 08:40:00</td>\n",
       "      <td>celebridades</td>\n",
       "      <td>Celebridades</td>\n",
       "      <td>https://f5.folha.uol.com.br/celebridades/2023/...</td>\n",
       "    </tr>\n",
       "    <tr>\n",
       "      <th>1</th>\n",
       "      <td>OMS cobra da China 'acesso total' para investi...</td>\n",
       "      <td>O diretor-geral da OMS (Organização Mundial da...</td>\n",
       "      <td>2023-09-18 09:49:00</td>\n",
       "      <td>equilibrio-e-saude</td>\n",
       "      <td>Equilibrio e Saúde</td>\n",
       "      <td>https://www1.folha.uol.com.br/equilibrioesaude...</td>\n",
       "    </tr>\n",
       "    <tr>\n",
       "      <th>2</th>\n",
       "      <td>Respiração, rins e coração podem ser afetados ...</td>\n",
       "      <td>A última semana de inverno, que termina no pró...</td>\n",
       "      <td>2023-09-18 10:20:00</td>\n",
       "      <td>equilibrio-e-saude</td>\n",
       "      <td>Equilibrio e Saúde</td>\n",
       "      <td>https://www1.folha.uol.com.br/equilibrio/2023/...</td>\n",
       "    </tr>\n",
       "    <tr>\n",
       "      <th>3</th>\n",
       "      <td>Alckmin cita mestre Miyagi, de 'Karatê Kid', e...</td>\n",
       "      <td>O vice-presidente Geraldo Alckmin surpreendeu ...</td>\n",
       "      <td>2023-09-18 08:45:00</td>\n",
       "      <td>poder</td>\n",
       "      <td>Poder</td>\n",
       "      <td>https://www1.folha.uol.com.br/poder/2023/09/al...</td>\n",
       "    </tr>\n",
       "    <tr>\n",
       "      <th>4</th>\n",
       "      <td>Mercado diminui projeção de inflação em semana...</td>\n",
       "      <td>Os economistas consultados pelo BC (Banco Cent...</td>\n",
       "      <td>2023-09-18 08:48:00</td>\n",
       "      <td>mercado</td>\n",
       "      <td>Mercado</td>\n",
       "      <td>https://www1.folha.uol.com.br/mercado/2023/09/...</td>\n",
       "    </tr>\n",
       "  </tbody>\n",
       "</table>\n",
       "</div>"
      ],
      "text/plain": [
       "                                               title  \\\n",
       "0  Após Luva de Pedreiro indicar que pagaria pens...   \n",
       "1  OMS cobra da China 'acesso total' para investi...   \n",
       "2  Respiração, rins e coração podem ser afetados ...   \n",
       "3  Alckmin cita mestre Miyagi, de 'Karatê Kid', e...   \n",
       "4  Mercado diminui projeção de inflação em semana...   \n",
       "\n",
       "                                                text                date  \\\n",
       "0  Na tarde de domingo (17), Luva de Pedreiro abr... 2023-09-18 08:40:00   \n",
       "1  O diretor-geral da OMS (Organização Mundial da... 2023-09-18 09:49:00   \n",
       "2  A última semana de inverno, que termina no pró... 2023-09-18 10:20:00   \n",
       "3  O vice-presidente Geraldo Alckmin surpreendeu ... 2023-09-18 08:45:00   \n",
       "4  Os economistas consultados pelo BC (Banco Cent... 2023-09-18 08:48:00   \n",
       "\n",
       "             category category_natural_language  \\\n",
       "0        celebridades              Celebridades   \n",
       "1  equilibrio-e-saude        Equilibrio e Saúde   \n",
       "2  equilibrio-e-saude        Equilibrio e Saúde   \n",
       "3               poder                     Poder   \n",
       "4             mercado                   Mercado   \n",
       "\n",
       "                                                link  \n",
       "0  https://f5.folha.uol.com.br/celebridades/2023/...  \n",
       "1  https://www1.folha.uol.com.br/equilibrioesaude...  \n",
       "2  https://www1.folha.uol.com.br/equilibrio/2023/...  \n",
       "3  https://www1.folha.uol.com.br/poder/2023/09/al...  \n",
       "4  https://www1.folha.uol.com.br/mercado/2023/09/...  "
      ]
     },
     "execution_count": 12,
     "metadata": {},
     "output_type": "execute_result"
    }
   ],
   "source": [
    "df.head()"
   ]
  },
  {
   "cell_type": "code",
   "execution_count": 13,
   "id": "256be2ca",
   "metadata": {},
   "outputs": [
    {
     "data": {
      "text/html": [
       "<div>\n",
       "<style scoped>\n",
       "    .dataframe tbody tr th:only-of-type {\n",
       "        vertical-align: middle;\n",
       "    }\n",
       "\n",
       "    .dataframe tbody tr th {\n",
       "        vertical-align: top;\n",
       "    }\n",
       "\n",
       "    .dataframe thead th {\n",
       "        text-align: right;\n",
       "    }\n",
       "</style>\n",
       "<table border=\"1\" class=\"dataframe\">\n",
       "  <thead>\n",
       "    <tr style=\"text-align: right;\">\n",
       "      <th></th>\n",
       "      <th>title</th>\n",
       "      <th>text</th>\n",
       "      <th>date</th>\n",
       "      <th>category</th>\n",
       "      <th>category_natural_language</th>\n",
       "      <th>link</th>\n",
       "    </tr>\n",
       "  </thead>\n",
       "  <tbody>\n",
       "    <tr>\n",
       "      <th>0</th>\n",
       "      <td>Após Luva de Pedreiro indicar que pagaria pens...</td>\n",
       "      <td>Na tarde de domingo (17), Luva de Pedreiro abr...</td>\n",
       "      <td>2023-09-18 08:40:00</td>\n",
       "      <td>celebridades</td>\n",
       "      <td>Celebridades</td>\n",
       "      <td>https://f5.folha.uol.com.br/celebridades/2023/...</td>\n",
       "    </tr>\n",
       "    <tr>\n",
       "      <th>1</th>\n",
       "      <td>OMS cobra da China 'acesso total' para investi...</td>\n",
       "      <td>O diretor-geral da OMS (Organização Mundial da...</td>\n",
       "      <td>2023-09-18 09:49:00</td>\n",
       "      <td>equilibrio-e-saude</td>\n",
       "      <td>Equilibrio e Saúde</td>\n",
       "      <td>https://www1.folha.uol.com.br/equilibrioesaude...</td>\n",
       "    </tr>\n",
       "    <tr>\n",
       "      <th>2</th>\n",
       "      <td>Respiração, rins e coração podem ser afetados ...</td>\n",
       "      <td>A última semana de inverno, que termina no pró...</td>\n",
       "      <td>2023-09-18 10:20:00</td>\n",
       "      <td>equilibrio-e-saude</td>\n",
       "      <td>Equilibrio e Saúde</td>\n",
       "      <td>https://www1.folha.uol.com.br/equilibrio/2023/...</td>\n",
       "    </tr>\n",
       "    <tr>\n",
       "      <th>3</th>\n",
       "      <td>Alckmin cita mestre Miyagi, de 'Karatê Kid', e...</td>\n",
       "      <td>O vice-presidente Geraldo Alckmin surpreendeu ...</td>\n",
       "      <td>2023-09-18 08:45:00</td>\n",
       "      <td>poder</td>\n",
       "      <td>Poder</td>\n",
       "      <td>https://www1.folha.uol.com.br/poder/2023/09/al...</td>\n",
       "    </tr>\n",
       "    <tr>\n",
       "      <th>4</th>\n",
       "      <td>Mercado diminui projeção de inflação em semana...</td>\n",
       "      <td>Os economistas consultados pelo BC (Banco Cent...</td>\n",
       "      <td>2023-09-18 08:48:00</td>\n",
       "      <td>mercado</td>\n",
       "      <td>Mercado</td>\n",
       "      <td>https://www1.folha.uol.com.br/mercado/2023/09/...</td>\n",
       "    </tr>\n",
       "  </tbody>\n",
       "</table>\n",
       "</div>"
      ],
      "text/plain": [
       "                                               title  \\\n",
       "0  Após Luva de Pedreiro indicar que pagaria pens...   \n",
       "1  OMS cobra da China 'acesso total' para investi...   \n",
       "2  Respiração, rins e coração podem ser afetados ...   \n",
       "3  Alckmin cita mestre Miyagi, de 'Karatê Kid', e...   \n",
       "4  Mercado diminui projeção de inflação em semana...   \n",
       "\n",
       "                                                text                date  \\\n",
       "0  Na tarde de domingo (17), Luva de Pedreiro abr... 2023-09-18 08:40:00   \n",
       "1  O diretor-geral da OMS (Organização Mundial da... 2023-09-18 09:49:00   \n",
       "2  A última semana de inverno, que termina no pró... 2023-09-18 10:20:00   \n",
       "3  O vice-presidente Geraldo Alckmin surpreendeu ... 2023-09-18 08:45:00   \n",
       "4  Os economistas consultados pelo BC (Banco Cent... 2023-09-18 08:48:00   \n",
       "\n",
       "             category category_natural_language  \\\n",
       "0        celebridades              Celebridades   \n",
       "1  equilibrio-e-saude        Equilibrio e Saúde   \n",
       "2  equilibrio-e-saude        Equilibrio e Saúde   \n",
       "3               poder                     Poder   \n",
       "4             mercado                   Mercado   \n",
       "\n",
       "                                                link  \n",
       "0  https://f5.folha.uol.com.br/celebridades/2023/...  \n",
       "1  https://www1.folha.uol.com.br/equilibrioesaude...  \n",
       "2  https://www1.folha.uol.com.br/equilibrio/2023/...  \n",
       "3  https://www1.folha.uol.com.br/poder/2023/09/al...  \n",
       "4  https://www1.folha.uol.com.br/mercado/2023/09/...  "
      ]
     },
     "execution_count": 13,
     "metadata": {},
     "output_type": "execute_result"
    }
   ],
   "source": [
    "df.head()"
   ]
  },
  {
   "cell_type": "code",
   "execution_count": 14,
   "id": "31c17e93",
   "metadata": {},
   "outputs": [
    {
     "data": {
      "text/plain": [
       "(176114, 6)"
      ]
     },
     "execution_count": 14,
     "metadata": {},
     "output_type": "execute_result"
    }
   ],
   "source": [
    "df.shape"
   ]
  },
  {
   "cell_type": "code",
   "execution_count": 15,
   "id": "a50e83e8",
   "metadata": {},
   "outputs": [
    {
     "ename": "AttributeError",
     "evalue": "'DataFrame' object has no attribute 'reviewTest'",
     "output_type": "error",
     "traceback": [
      "\u001b[0;31m---------------------------------------------------------------------------\u001b[0m",
      "\u001b[0;31mAttributeError\u001b[0m                            Traceback (most recent call last)",
      "\u001b[0;32m<ipython-input-15-987d70909901>\u001b[0m in \u001b[0;36m<module>\u001b[0;34m\u001b[0m\n\u001b[0;32m----> 1\u001b[0;31m \u001b[0mdf\u001b[0m\u001b[0;34m.\u001b[0m\u001b[0mreviewTest\u001b[0m\u001b[0;34m[\u001b[0m\u001b[0;36m0\u001b[0m\u001b[0;34m]\u001b[0m\u001b[0;34m\u001b[0m\u001b[0;34m\u001b[0m\u001b[0m\n\u001b[0m",
      "\u001b[0;32m~/.local/lib/python3.6/site-packages/pandas/core/generic.py\u001b[0m in \u001b[0;36m__getattr__\u001b[0;34m(self, name)\u001b[0m\n\u001b[1;32m   5139\u001b[0m             \u001b[0;32mif\u001b[0m \u001b[0mself\u001b[0m\u001b[0;34m.\u001b[0m\u001b[0m_info_axis\u001b[0m\u001b[0;34m.\u001b[0m\u001b[0m_can_hold_identifiers_and_holds_name\u001b[0m\u001b[0;34m(\u001b[0m\u001b[0mname\u001b[0m\u001b[0;34m)\u001b[0m\u001b[0;34m:\u001b[0m\u001b[0;34m\u001b[0m\u001b[0;34m\u001b[0m\u001b[0m\n\u001b[1;32m   5140\u001b[0m                 \u001b[0;32mreturn\u001b[0m \u001b[0mself\u001b[0m\u001b[0;34m[\u001b[0m\u001b[0mname\u001b[0m\u001b[0;34m]\u001b[0m\u001b[0;34m\u001b[0m\u001b[0;34m\u001b[0m\u001b[0m\n\u001b[0;32m-> 5141\u001b[0;31m             \u001b[0;32mreturn\u001b[0m \u001b[0mobject\u001b[0m\u001b[0;34m.\u001b[0m\u001b[0m__getattribute__\u001b[0m\u001b[0;34m(\u001b[0m\u001b[0mself\u001b[0m\u001b[0;34m,\u001b[0m \u001b[0mname\u001b[0m\u001b[0;34m)\u001b[0m\u001b[0;34m\u001b[0m\u001b[0;34m\u001b[0m\u001b[0m\n\u001b[0m\u001b[1;32m   5142\u001b[0m \u001b[0;34m\u001b[0m\u001b[0m\n\u001b[1;32m   5143\u001b[0m     \u001b[0;32mdef\u001b[0m \u001b[0m__setattr__\u001b[0m\u001b[0;34m(\u001b[0m\u001b[0mself\u001b[0m\u001b[0;34m,\u001b[0m \u001b[0mname\u001b[0m\u001b[0;34m:\u001b[0m \u001b[0mstr\u001b[0m\u001b[0;34m,\u001b[0m \u001b[0mvalue\u001b[0m\u001b[0;34m)\u001b[0m \u001b[0;34m->\u001b[0m \u001b[0;32mNone\u001b[0m\u001b[0;34m:\u001b[0m\u001b[0;34m\u001b[0m\u001b[0;34m\u001b[0m\u001b[0m\n",
      "\u001b[0;31mAttributeError\u001b[0m: 'DataFrame' object has no attribute 'reviewTest'"
     ]
    }
   ],
   "source": [
    "df.reviewTest[0]"
   ]
  },
  {
   "cell_type": "code",
   "execution_count": 16,
   "id": "58acb384",
   "metadata": {},
   "outputs": [
    {
     "data": {
      "text/plain": [
       "'Na tarde de domingo (17), Luva de Pedreiro abriu uma live e sugeriu que o melhor seria pagar pensão à atual namorada, Távila Gomes, grávida do primeiro filho dele. \"Sou inamorável\", disse ele, deixando seus seguidores perplexos com um suposto fim precoce do romance.Porém, mais tarde, Távila desmentiu que ambos tenham encerrado o vínculo. Em outra live, ambos ironizaram perguntas sobre o suposto fim do relacionamento. Conforme Luva, as frases horas antes teriam sido \"resenha\", ou seja, brincadeira. \"Não pode falar mais nada. Tudo o que eu faço, eu estou errado.\"Em agosto, Iran Ferreira anunciou que será pai. O anúncio foi feito nas redes sociais do influenciador. O futuro bebê já tem nome escolhido: Cristiano Ronaldo Jr. Mais \"Cristiano Ronaldo Jr vem aí\", disse Luva de Pedreiro na postagem. Ele contou que aguardava um momento especial para fazer o anúncio da gestação, que já estaria no quinto mês.O influenciador é fã declarado do jogador português, a quem ele prestará homenagem nomeando seu filho. Há cerca de um mês, Iran compartilhou na web a ocasião em que conheceu o ídolo.\"Realizei meu sonho que era conhecer Cristiano Ronaldo. Ele sempre foi minha inspiração. Isso que aconteceu comigo serve de exemplo para todos vocês. Não desista dos seus sonhos. Receba!\", escreveu ele.'"
      ]
     },
     "execution_count": 16,
     "metadata": {},
     "output_type": "execute_result"
    }
   ],
   "source": [
    "df.text[0]"
   ]
  },
  {
   "cell_type": "code",
   "execution_count": 17,
   "id": "ed3b2e36",
   "metadata": {},
   "outputs": [
    {
     "data": {
      "text/plain": [
       "'Após Luva de Pedreiro indicar que pagaria pensão, Távila Gomes desmente término'"
      ]
     },
     "execution_count": 17,
     "metadata": {},
     "output_type": "execute_result"
    }
   ],
   "source": [
    "df.title[0]"
   ]
  },
  {
   "cell_type": "code",
   "execution_count": 18,
   "id": "211a2521",
   "metadata": {
    "scrolled": false
   },
   "outputs": [
    {
     "data": {
      "text/plain": [
       "['na',\n",
       " 'tarde',\n",
       " 'de',\n",
       " 'domingo',\n",
       " 'luva',\n",
       " 'de',\n",
       " 'pedreiro',\n",
       " 'abriu',\n",
       " 'uma',\n",
       " 'live',\n",
       " 'sugeriu',\n",
       " 'que',\n",
       " 'melhor',\n",
       " 'seria',\n",
       " 'pagar',\n",
       " 'pensão',\n",
       " 'atual',\n",
       " 'namorada',\n",
       " 'távila',\n",
       " 'gomes',\n",
       " 'grávida',\n",
       " 'do',\n",
       " 'primeiro',\n",
       " 'filho',\n",
       " 'dele',\n",
       " 'sou',\n",
       " 'inamorável',\n",
       " 'disse',\n",
       " 'ele',\n",
       " 'deixando',\n",
       " 'seus',\n",
       " 'seguidores',\n",
       " 'perplexos',\n",
       " 'com',\n",
       " 'um',\n",
       " 'suposto',\n",
       " 'fim',\n",
       " 'precoce',\n",
       " 'do',\n",
       " 'romance',\n",
       " 'porém',\n",
       " 'mais',\n",
       " 'tarde',\n",
       " 'távila',\n",
       " 'desmentiu',\n",
       " 'que',\n",
       " 'ambos',\n",
       " 'tenham',\n",
       " 'encerrado',\n",
       " 'vínculo',\n",
       " 'em',\n",
       " 'outra',\n",
       " 'live',\n",
       " 'ambos',\n",
       " 'ironizaram',\n",
       " 'perguntas',\n",
       " 'sobre',\n",
       " 'suposto',\n",
       " 'fim',\n",
       " 'do',\n",
       " 'relacionamento',\n",
       " 'conforme',\n",
       " 'luva',\n",
       " 'as',\n",
       " 'frases',\n",
       " 'horas',\n",
       " 'antes',\n",
       " 'teriam',\n",
       " 'sido',\n",
       " 'resenha',\n",
       " 'ou',\n",
       " 'seja',\n",
       " 'brincadeira',\n",
       " 'não',\n",
       " 'pode',\n",
       " 'falar',\n",
       " 'mais',\n",
       " 'nada',\n",
       " 'tudo',\n",
       " 'que',\n",
       " 'eu',\n",
       " 'faço',\n",
       " 'eu',\n",
       " 'estou',\n",
       " 'errado',\n",
       " 'em',\n",
       " 'agosto',\n",
       " 'iran',\n",
       " 'ferreira',\n",
       " 'anunciou',\n",
       " 'que',\n",
       " 'será',\n",
       " 'pai',\n",
       " 'anúncio',\n",
       " 'foi',\n",
       " 'feito',\n",
       " 'nas',\n",
       " 'redes',\n",
       " 'sociais',\n",
       " 'do',\n",
       " 'influenciador',\n",
       " 'futuro',\n",
       " 'bebê',\n",
       " 'já',\n",
       " 'tem',\n",
       " 'nome',\n",
       " 'escolhido',\n",
       " 'cristiano',\n",
       " 'ronaldo',\n",
       " 'jr',\n",
       " 'mais',\n",
       " 'cristiano',\n",
       " 'ronaldo',\n",
       " 'jr',\n",
       " 'vem',\n",
       " 'aí',\n",
       " 'disse',\n",
       " 'luva',\n",
       " 'de',\n",
       " 'pedreiro',\n",
       " 'na',\n",
       " 'postagem',\n",
       " 'ele',\n",
       " 'contou',\n",
       " 'que',\n",
       " 'aguardava',\n",
       " 'um',\n",
       " 'momento',\n",
       " 'especial',\n",
       " 'para',\n",
       " 'fazer',\n",
       " 'anúncio',\n",
       " 'da',\n",
       " 'gestação',\n",
       " 'que',\n",
       " 'já',\n",
       " 'estaria',\n",
       " 'no',\n",
       " 'quinto',\n",
       " 'mês',\n",
       " 'influenciador',\n",
       " 'fã',\n",
       " 'declarado',\n",
       " 'do',\n",
       " 'jogador',\n",
       " 'português',\n",
       " 'quem',\n",
       " 'ele',\n",
       " 'prestará',\n",
       " 'homenagem',\n",
       " 'nomeando',\n",
       " 'seu',\n",
       " 'filho',\n",
       " 'há',\n",
       " 'cerca',\n",
       " 'de',\n",
       " 'um',\n",
       " 'mês',\n",
       " 'iran',\n",
       " 'compartilhou',\n",
       " 'na',\n",
       " 'web',\n",
       " 'ocasião',\n",
       " 'em',\n",
       " 'que',\n",
       " 'conheceu',\n",
       " 'ídolo',\n",
       " 'realizei',\n",
       " 'meu',\n",
       " 'sonho',\n",
       " 'que',\n",
       " 'era',\n",
       " 'conhecer',\n",
       " 'cristiano',\n",
       " 'ronaldo',\n",
       " 'ele',\n",
       " 'sempre',\n",
       " 'foi',\n",
       " 'minha',\n",
       " 'inspiração',\n",
       " 'isso',\n",
       " 'que',\n",
       " 'aconteceu',\n",
       " 'comigo',\n",
       " 'serve',\n",
       " 'de',\n",
       " 'exemplo',\n",
       " 'para',\n",
       " 'todos',\n",
       " 'vocês',\n",
       " 'não',\n",
       " 'desista',\n",
       " 'dos',\n",
       " 'seus',\n",
       " 'sonhos',\n",
       " 'receba',\n",
       " 'escreveu',\n",
       " 'ele']"
      ]
     },
     "execution_count": 18,
     "metadata": {},
     "output_type": "execute_result"
    }
   ],
   "source": [
    "gensim.utils.simple_preprocess('Na tarde de domingo (17), Luva de Pedreiro abriu uma live e sugeriu que o melhor seria pagar pensão à atual namorada, Távila Gomes, grávida do primeiro filho dele. \"Sou inamorável\", disse ele, deixando seus seguidores perplexos com um suposto fim precoce do romance.Porém, mais tarde, Távila desmentiu que ambos tenham encerrado o vínculo. Em outra live, ambos ironizaram perguntas sobre o suposto fim do relacionamento. Conforme Luva, as frases horas antes teriam sido \"resenha\", ou seja, brincadeira. \"Não pode falar mais nada. Tudo o que eu faço, eu estou errado.\"Em agosto, Iran Ferreira anunciou que será pai. O anúncio foi feito nas redes sociais do influenciador. O futuro bebê já tem nome escolhido: Cristiano Ronaldo Jr. Mais \"Cristiano Ronaldo Jr vem aí\", disse Luva de Pedreiro na postagem. Ele contou que aguardava um momento especial para fazer o anúncio da gestação, que já estaria no quinto mês.O influenciador é fã declarado do jogador português, a quem ele prestará homenagem nomeando seu filho. Há cerca de um mês, Iran compartilhou na web a ocasião em que conheceu o ídolo.\"Realizei meu sonho que era conhecer Cristiano Ronaldo. Ele sempre foi minha inspiração. Isso que aconteceu comigo serve de exemplo para todos vocês. Não desista dos seus sonhos. Receba!\", escreveu ele.')"
   ]
  },
  {
   "cell_type": "code",
   "execution_count": null,
   "id": "e02b10e5",
   "metadata": {},
   "outputs": [],
   "source": [
    "review_text = df.text.apply(gensim.utils.simple_preprocess)"
   ]
  },
  {
   "cell_type": "code",
   "execution_count": null,
   "id": "870a7952",
   "metadata": {},
   "outputs": [],
   "source": []
  },
  {
   "cell_type": "code",
   "execution_count": null,
   "id": "8635d869",
   "metadata": {},
   "outputs": [],
   "source": [
    "review_text"
   ]
  },
  {
   "cell_type": "code",
   "execution_count": null,
   "id": "bd7cc0ea",
   "metadata": {},
   "outputs": [],
   "source": [
    "\n"
   ]
  },
  {
   "cell_type": "code",
   "execution_count": null,
   "id": "280dc104",
   "metadata": {},
   "outputs": [],
   "source": []
  },
  {
   "cell_type": "code",
   "execution_count": null,
   "id": "5c4e2930",
   "metadata": {},
   "outputs": [],
   "source": []
  },
  {
   "cell_type": "code",
   "execution_count": null,
   "id": "570c8972",
   "metadata": {},
   "outputs": [],
   "source": []
  },
  {
   "cell_type": "code",
   "execution_count": null,
   "id": "8e0a8f18",
   "metadata": {},
   "outputs": [],
   "source": []
  },
  {
   "cell_type": "code",
   "execution_count": null,
   "id": "e760f368",
   "metadata": {},
   "outputs": [],
   "source": []
  },
  {
   "cell_type": "code",
   "execution_count": null,
   "id": "26ba01a2",
   "metadata": {},
   "outputs": [],
   "source": []
  },
  {
   "cell_type": "code",
   "execution_count": null,
   "id": "967af264",
   "metadata": {},
   "outputs": [],
   "source": []
  },
  {
   "cell_type": "code",
   "execution_count": null,
   "id": "d9e5c2f9",
   "metadata": {},
   "outputs": [],
   "source": []
  },
  {
   "cell_type": "code",
   "execution_count": null,
   "id": "a5d48ef4",
   "metadata": {},
   "outputs": [],
   "source": [
    "test"
   ]
  },
  {
   "cell_type": "code",
   "execution_count": 1,
   "id": "600928e1",
   "metadata": {},
   "outputs": [
    {
     "ename": "NameError",
     "evalue": "name 'test' is not defined",
     "output_type": "error",
     "traceback": [
      "\u001b[0;31m---------------------------------------------------------------------------\u001b[0m",
      "\u001b[0;31mNameError\u001b[0m                                 Traceback (most recent call last)",
      "\u001b[0;32m<ipython-input-1-4e1243bd22c6>\u001b[0m in \u001b[0;36m<module>\u001b[0;34m\u001b[0m\n\u001b[0;32m----> 1\u001b[0;31m \u001b[0mtest\u001b[0m\u001b[0;34m\u001b[0m\u001b[0;34m\u001b[0m\u001b[0m\n\u001b[0m",
      "\u001b[0;31mNameError\u001b[0m: name 'test' is not defined"
     ]
    }
   ],
   "source": [
    "test"
   ]
  },
  {
   "cell_type": "code",
   "execution_count": 2,
   "id": "98da4d40",
   "metadata": {},
   "outputs": [],
   "source": [
    "import gensim\n",
    "import pandas as pd"
   ]
  },
  {
   "cell_type": "code",
   "execution_count": null,
   "id": "4141350d",
   "metadata": {
    "scrolled": true
   },
   "outputs": [
    {
     "data": {
      "text/plain": [
       "'Na tarde de domingo (17), Luva de Pedreiro abriu uma live e sugeriu que o melhor seria pagar pensão à atual namorada, Távila Gomes, grávida do primeiro filho dele. \"Sou inamorável\", disse ele, deixando seus seguidores perplexos com um suposto fim precoce do romance.Porém, mais tarde, Távila desmentiu que ambos tenham encerrado o vínculo. Em outra live, ambos ironizaram perguntas sobre o suposto fim do relacionamento. Conforme Luva, as frases horas antes teriam sido \"resenha\", ou seja, brincadeira. \"Não pode falar mais nada. Tudo o que eu faço, eu estou errado.\"Em agosto, Iran Ferreira anunciou que será pai. O anúncio foi feito nas redes sociais do influenciador. O futuro bebê já tem nome escolhido: Cristiano Ronaldo Jr. Mais \"Cristiano Ronaldo Jr vem aí\", disse Luva de Pedreiro na postagem. Ele contou que aguardava um momento especial para fazer o anúncio da gestação, que já estaria no quinto mês.O influenciador é fã declarado do jogador português, a quem ele prestará homenagem nomeando seu filho. Há cerca de um mês, Iran compartilhou na web a ocasião em que conheceu o ídolo.\"Realizei meu sonho que era conhecer Cristiano Ronaldo. Ele sempre foi minha inspiração. Isso que aconteceu comigo serve de exemplo para todos vocês. Não desista dos seus sonhos. Receba!\", escreveu ele.'"
      ]
     },
     "execution_count": 9,
     "metadata": {},
     "output_type": "execute_result"
    }
   ],
   "source": [
    "df.text[0]"
   ]
  },
  {
   "cell_type": "code",
   "execution_count": 4,
   "id": "d157fb5f",
   "metadata": {},
   "outputs": [],
   "source": [
    "df = pd.read_json('news-articles-ptbr-dataset_train.json', lines=True, encoding='utf-8')"
   ]
  },
  {
   "cell_type": "code",
   "execution_count": 5,
   "id": "f72607c2",
   "metadata": {},
   "outputs": [
    {
     "data": {
      "text/html": [
       "<div>\n",
       "<style scoped>\n",
       "    .dataframe tbody tr th:only-of-type {\n",
       "        vertical-align: middle;\n",
       "    }\n",
       "\n",
       "    .dataframe tbody tr th {\n",
       "        vertical-align: top;\n",
       "    }\n",
       "\n",
       "    .dataframe thead th {\n",
       "        text-align: right;\n",
       "    }\n",
       "</style>\n",
       "<table border=\"1\" class=\"dataframe\">\n",
       "  <thead>\n",
       "    <tr style=\"text-align: right;\">\n",
       "      <th></th>\n",
       "      <th>title</th>\n",
       "      <th>text</th>\n",
       "      <th>date</th>\n",
       "      <th>category</th>\n",
       "      <th>category_natural_language</th>\n",
       "      <th>link</th>\n",
       "    </tr>\n",
       "  </thead>\n",
       "  <tbody>\n",
       "    <tr>\n",
       "      <th>0</th>\n",
       "      <td>Após Luva de Pedreiro indicar que pagaria pens...</td>\n",
       "      <td>Na tarde de domingo (17), Luva de Pedreiro abr...</td>\n",
       "      <td>2023-09-18 08:40:00</td>\n",
       "      <td>celebridades</td>\n",
       "      <td>Celebridades</td>\n",
       "      <td>https://f5.folha.uol.com.br/celebridades/2023/...</td>\n",
       "    </tr>\n",
       "    <tr>\n",
       "      <th>1</th>\n",
       "      <td>OMS cobra da China 'acesso total' para investi...</td>\n",
       "      <td>O diretor-geral da OMS (Organização Mundial da...</td>\n",
       "      <td>2023-09-18 09:49:00</td>\n",
       "      <td>equilibrio-e-saude</td>\n",
       "      <td>Equilibrio e Saúde</td>\n",
       "      <td>https://www1.folha.uol.com.br/equilibrioesaude...</td>\n",
       "    </tr>\n",
       "    <tr>\n",
       "      <th>2</th>\n",
       "      <td>Respiração, rins e coração podem ser afetados ...</td>\n",
       "      <td>A última semana de inverno, que termina no pró...</td>\n",
       "      <td>2023-09-18 10:20:00</td>\n",
       "      <td>equilibrio-e-saude</td>\n",
       "      <td>Equilibrio e Saúde</td>\n",
       "      <td>https://www1.folha.uol.com.br/equilibrio/2023/...</td>\n",
       "    </tr>\n",
       "    <tr>\n",
       "      <th>3</th>\n",
       "      <td>Alckmin cita mestre Miyagi, de 'Karatê Kid', e...</td>\n",
       "      <td>O vice-presidente Geraldo Alckmin surpreendeu ...</td>\n",
       "      <td>2023-09-18 08:45:00</td>\n",
       "      <td>poder</td>\n",
       "      <td>Poder</td>\n",
       "      <td>https://www1.folha.uol.com.br/poder/2023/09/al...</td>\n",
       "    </tr>\n",
       "    <tr>\n",
       "      <th>4</th>\n",
       "      <td>Mercado diminui projeção de inflação em semana...</td>\n",
       "      <td>Os economistas consultados pelo BC (Banco Cent...</td>\n",
       "      <td>2023-09-18 08:48:00</td>\n",
       "      <td>mercado</td>\n",
       "      <td>Mercado</td>\n",
       "      <td>https://www1.folha.uol.com.br/mercado/2023/09/...</td>\n",
       "    </tr>\n",
       "  </tbody>\n",
       "</table>\n",
       "</div>"
      ],
      "text/plain": [
       "                                               title  \\\n",
       "0  Após Luva de Pedreiro indicar que pagaria pens...   \n",
       "1  OMS cobra da China 'acesso total' para investi...   \n",
       "2  Respiração, rins e coração podem ser afetados ...   \n",
       "3  Alckmin cita mestre Miyagi, de 'Karatê Kid', e...   \n",
       "4  Mercado diminui projeção de inflação em semana...   \n",
       "\n",
       "                                                text                date  \\\n",
       "0  Na tarde de domingo (17), Luva de Pedreiro abr... 2023-09-18 08:40:00   \n",
       "1  O diretor-geral da OMS (Organização Mundial da... 2023-09-18 09:49:00   \n",
       "2  A última semana de inverno, que termina no pró... 2023-09-18 10:20:00   \n",
       "3  O vice-presidente Geraldo Alckmin surpreendeu ... 2023-09-18 08:45:00   \n",
       "4  Os economistas consultados pelo BC (Banco Cent... 2023-09-18 08:48:00   \n",
       "\n",
       "             category category_natural_language  \\\n",
       "0        celebridades              Celebridades   \n",
       "1  equilibrio-e-saude        Equilibrio e Saúde   \n",
       "2  equilibrio-e-saude        Equilibrio e Saúde   \n",
       "3               poder                     Poder   \n",
       "4             mercado                   Mercado   \n",
       "\n",
       "                                                link  \n",
       "0  https://f5.folha.uol.com.br/celebridades/2023/...  \n",
       "1  https://www1.folha.uol.com.br/equilibrioesaude...  \n",
       "2  https://www1.folha.uol.com.br/equilibrio/2023/...  \n",
       "3  https://www1.folha.uol.com.br/poder/2023/09/al...  \n",
       "4  https://www1.folha.uol.com.br/mercado/2023/09/...  "
      ]
     },
     "execution_count": 5,
     "metadata": {},
     "output_type": "execute_result"
    }
   ],
   "source": [
    "df.head()"
   ]
  },
  {
   "cell_type": "code",
   "execution_count": 6,
   "id": "3f86dcc0",
   "metadata": {},
   "outputs": [
    {
     "data": {
      "text/plain": [
       "'Na tarde de domingo (17), Luva de Pedreiro abriu uma live e sugeriu que o melhor seria pagar pensão à atual namorada, Távila Gomes, grávida do primeiro filho dele. \"Sou inamorável\", disse ele, deixando seus seguidores perplexos com um suposto fim precoce do romance.Porém, mais tarde, Távila desmentiu que ambos tenham encerrado o vínculo. Em outra live, ambos ironizaram perguntas sobre o suposto fim do relacionamento. Conforme Luva, as frases horas antes teriam sido \"resenha\", ou seja, brincadeira. \"Não pode falar mais nada. Tudo o que eu faço, eu estou errado.\"Em agosto, Iran Ferreira anunciou que será pai. O anúncio foi feito nas redes sociais do influenciador. O futuro bebê já tem nome escolhido: Cristiano Ronaldo Jr. Mais \"Cristiano Ronaldo Jr vem aí\", disse Luva de Pedreiro na postagem. Ele contou que aguardava um momento especial para fazer o anúncio da gestação, que já estaria no quinto mês.O influenciador é fã declarado do jogador português, a quem ele prestará homenagem nomeando seu filho. Há cerca de um mês, Iran compartilhou na web a ocasião em que conheceu o ídolo.\"Realizei meu sonho que era conhecer Cristiano Ronaldo. Ele sempre foi minha inspiração. Isso que aconteceu comigo serve de exemplo para todos vocês. Não desista dos seus sonhos. Receba!\", escreveu ele.'"
      ]
     },
     "execution_count": 6,
     "metadata": {},
     "output_type": "execute_result"
    }
   ],
   "source": [
    "df.text[0]"
   ]
  },
  {
   "cell_type": "code",
   "execution_count": 7,
   "id": "97d02790",
   "metadata": {},
   "outputs": [],
   "source": [
    "review_text = df.text.apply(gensim.utils.simple_preprocess)"
   ]
  },
  {
   "cell_type": "code",
   "execution_count": null,
   "id": "b989b137",
   "metadata": {},
   "outputs": [
    {
     "data": {
      "text/plain": [
       "0         [na, tarde, de, domingo, luva, de, pedreiro, a...\n",
       "1         [diretor, geral, da, oms, organização, mundial...\n",
       "2         [última, semana, de, inverno, que, termina, no...\n",
       "3         [vice, presidente, geraldo, alckmin, surpreend...\n",
       "4         [os, economistas, consultados, pelo, bc, banco...\n",
       "                                ...                        \n",
       "176109    [atriz, márcia, cabrita, morreu, aos, anos, ne...\n",
       "176110    [confira, que, acontece, nesta, sexta, em, out...\n",
       "176111    [confira, que, acontece, no, capítulo, desta, ...\n",
       "176112    [confira, que, acontece, no, capítulo, desta, ...\n",
       "176113    [cássio, starling, carloscrítico, da, folhao, ...\n",
       "Name: text, Length: 176114, dtype: object"
      ]
     },
     "execution_count": 8,
     "metadata": {},
     "output_type": "execute_result"
    }
   ],
   "source": [
    "review_text"
   ]
  },
  {
   "cell_type": "code",
   "execution_count": 10,
   "id": "93b66f66",
   "metadata": {},
   "outputs": [
    {
     "data": {
      "text/plain": [
       "'Na tarde de domingo (17), Luva de Pedreiro abriu uma live e sugeriu que o melhor seria pagar pensão à atual namorada, Távila Gomes, grávida do primeiro filho dele. \"Sou inamorável\", disse ele, deixando seus seguidores perplexos com um suposto fim precoce do romance.Porém, mais tarde, Távila desmentiu que ambos tenham encerrado o vínculo. Em outra live, ambos ironizaram perguntas sobre o suposto fim do relacionamento. Conforme Luva, as frases horas antes teriam sido \"resenha\", ou seja, brincadeira. \"Não pode falar mais nada. Tudo o que eu faço, eu estou errado.\"Em agosto, Iran Ferreira anunciou que será pai. O anúncio foi feito nas redes sociais do influenciador. O futuro bebê já tem nome escolhido: Cristiano Ronaldo Jr. Mais \"Cristiano Ronaldo Jr vem aí\", disse Luva de Pedreiro na postagem. Ele contou que aguardava um momento especial para fazer o anúncio da gestação, que já estaria no quinto mês.O influenciador é fã declarado do jogador português, a quem ele prestará homenagem nomeando seu filho. Há cerca de um mês, Iran compartilhou na web a ocasião em que conheceu o ídolo.\"Realizei meu sonho que era conhecer Cristiano Ronaldo. Ele sempre foi minha inspiração. Isso que aconteceu comigo serve de exemplo para todos vocês. Não desista dos seus sonhos. Receba!\", escreveu ele.'"
      ]
     },
     "execution_count": 10,
     "metadata": {},
     "output_type": "execute_result"
    }
   ],
   "source": [
    "df.text.loc[0]\n"
   ]
  },
  {
   "cell_type": "code",
   "execution_count": 11,
   "id": "081d0bf8",
   "metadata": {},
   "outputs": [
    {
     "ename": "AttributeError",
     "evalue": "'DataFrame' object has no attribute 'review_text'",
     "output_type": "error",
     "traceback": [
      "\u001b[0;31m---------------------------------------------------------------------------\u001b[0m",
      "\u001b[0;31mAttributeError\u001b[0m                            Traceback (most recent call last)",
      "\u001b[0;32m<ipython-input-11-7d545299a5c9>\u001b[0m in \u001b[0;36m<module>\u001b[0;34m\u001b[0m\n\u001b[0;32m----> 1\u001b[0;31m \u001b[0mdf\u001b[0m\u001b[0;34m.\u001b[0m\u001b[0mreview_text\u001b[0m\u001b[0;34m.\u001b[0m\u001b[0mloc\u001b[0m\u001b[0;34m[\u001b[0m\u001b[0;36m0\u001b[0m\u001b[0;34m]\u001b[0m\u001b[0;34m\u001b[0m\u001b[0;34m\u001b[0m\u001b[0m\n\u001b[0m",
      "\u001b[0;32m~/.local/lib/python3.6/site-packages/pandas/core/generic.py\u001b[0m in \u001b[0;36m__getattr__\u001b[0;34m(self, name)\u001b[0m\n\u001b[1;32m   5139\u001b[0m             \u001b[0;32mif\u001b[0m \u001b[0mself\u001b[0m\u001b[0;34m.\u001b[0m\u001b[0m_info_axis\u001b[0m\u001b[0;34m.\u001b[0m\u001b[0m_can_hold_identifiers_and_holds_name\u001b[0m\u001b[0;34m(\u001b[0m\u001b[0mname\u001b[0m\u001b[0;34m)\u001b[0m\u001b[0;34m:\u001b[0m\u001b[0;34m\u001b[0m\u001b[0;34m\u001b[0m\u001b[0m\n\u001b[1;32m   5140\u001b[0m                 \u001b[0;32mreturn\u001b[0m \u001b[0mself\u001b[0m\u001b[0;34m[\u001b[0m\u001b[0mname\u001b[0m\u001b[0;34m]\u001b[0m\u001b[0;34m\u001b[0m\u001b[0;34m\u001b[0m\u001b[0m\n\u001b[0;32m-> 5141\u001b[0;31m             \u001b[0;32mreturn\u001b[0m \u001b[0mobject\u001b[0m\u001b[0;34m.\u001b[0m\u001b[0m__getattribute__\u001b[0m\u001b[0;34m(\u001b[0m\u001b[0mself\u001b[0m\u001b[0;34m,\u001b[0m \u001b[0mname\u001b[0m\u001b[0;34m)\u001b[0m\u001b[0;34m\u001b[0m\u001b[0;34m\u001b[0m\u001b[0m\n\u001b[0m\u001b[1;32m   5142\u001b[0m \u001b[0;34m\u001b[0m\u001b[0m\n\u001b[1;32m   5143\u001b[0m     \u001b[0;32mdef\u001b[0m \u001b[0m__setattr__\u001b[0m\u001b[0;34m(\u001b[0m\u001b[0mself\u001b[0m\u001b[0;34m,\u001b[0m \u001b[0mname\u001b[0m\u001b[0;34m:\u001b[0m \u001b[0mstr\u001b[0m\u001b[0;34m,\u001b[0m \u001b[0mvalue\u001b[0m\u001b[0;34m)\u001b[0m \u001b[0;34m->\u001b[0m \u001b[0;32mNone\u001b[0m\u001b[0;34m:\u001b[0m\u001b[0;34m\u001b[0m\u001b[0;34m\u001b[0m\u001b[0m\n",
      "\u001b[0;31mAttributeError\u001b[0m: 'DataFrame' object has no attribute 'review_text'"
     ]
    }
   ],
   "source": [
    "df.review_text.loc[0]"
   ]
  },
  {
   "cell_type": "code",
   "execution_count": 12,
   "id": "bc365cb7",
   "metadata": {},
   "outputs": [
    {
     "data": {
      "text/plain": [
       "['na',\n",
       " 'tarde',\n",
       " 'de',\n",
       " 'domingo',\n",
       " 'luva',\n",
       " 'de',\n",
       " 'pedreiro',\n",
       " 'abriu',\n",
       " 'uma',\n",
       " 'live',\n",
       " 'sugeriu',\n",
       " 'que',\n",
       " 'melhor',\n",
       " 'seria',\n",
       " 'pagar',\n",
       " 'pensão',\n",
       " 'atual',\n",
       " 'namorada',\n",
       " 'távila',\n",
       " 'gomes',\n",
       " 'grávida',\n",
       " 'do',\n",
       " 'primeiro',\n",
       " 'filho',\n",
       " 'dele',\n",
       " 'sou',\n",
       " 'inamorável',\n",
       " 'disse',\n",
       " 'ele',\n",
       " 'deixando',\n",
       " 'seus',\n",
       " 'seguidores',\n",
       " 'perplexos',\n",
       " 'com',\n",
       " 'um',\n",
       " 'suposto',\n",
       " 'fim',\n",
       " 'precoce',\n",
       " 'do',\n",
       " 'romance',\n",
       " 'porém',\n",
       " 'mais',\n",
       " 'tarde',\n",
       " 'távila',\n",
       " 'desmentiu',\n",
       " 'que',\n",
       " 'ambos',\n",
       " 'tenham',\n",
       " 'encerrado',\n",
       " 'vínculo',\n",
       " 'em',\n",
       " 'outra',\n",
       " 'live',\n",
       " 'ambos',\n",
       " 'ironizaram',\n",
       " 'perguntas',\n",
       " 'sobre',\n",
       " 'suposto',\n",
       " 'fim',\n",
       " 'do',\n",
       " 'relacionamento',\n",
       " 'conforme',\n",
       " 'luva',\n",
       " 'as',\n",
       " 'frases',\n",
       " 'horas',\n",
       " 'antes',\n",
       " 'teriam',\n",
       " 'sido',\n",
       " 'resenha',\n",
       " 'ou',\n",
       " 'seja',\n",
       " 'brincadeira',\n",
       " 'não',\n",
       " 'pode',\n",
       " 'falar',\n",
       " 'mais',\n",
       " 'nada',\n",
       " 'tudo',\n",
       " 'que',\n",
       " 'eu',\n",
       " 'faço',\n",
       " 'eu',\n",
       " 'estou',\n",
       " 'errado',\n",
       " 'em',\n",
       " 'agosto',\n",
       " 'iran',\n",
       " 'ferreira',\n",
       " 'anunciou',\n",
       " 'que',\n",
       " 'será',\n",
       " 'pai',\n",
       " 'anúncio',\n",
       " 'foi',\n",
       " 'feito',\n",
       " 'nas',\n",
       " 'redes',\n",
       " 'sociais',\n",
       " 'do',\n",
       " 'influenciador',\n",
       " 'futuro',\n",
       " 'bebê',\n",
       " 'já',\n",
       " 'tem',\n",
       " 'nome',\n",
       " 'escolhido',\n",
       " 'cristiano',\n",
       " 'ronaldo',\n",
       " 'jr',\n",
       " 'mais',\n",
       " 'cristiano',\n",
       " 'ronaldo',\n",
       " 'jr',\n",
       " 'vem',\n",
       " 'aí',\n",
       " 'disse',\n",
       " 'luva',\n",
       " 'de',\n",
       " 'pedreiro',\n",
       " 'na',\n",
       " 'postagem',\n",
       " 'ele',\n",
       " 'contou',\n",
       " 'que',\n",
       " 'aguardava',\n",
       " 'um',\n",
       " 'momento',\n",
       " 'especial',\n",
       " 'para',\n",
       " 'fazer',\n",
       " 'anúncio',\n",
       " 'da',\n",
       " 'gestação',\n",
       " 'que',\n",
       " 'já',\n",
       " 'estaria',\n",
       " 'no',\n",
       " 'quinto',\n",
       " 'mês',\n",
       " 'influenciador',\n",
       " 'fã',\n",
       " 'declarado',\n",
       " 'do',\n",
       " 'jogador',\n",
       " 'português',\n",
       " 'quem',\n",
       " 'ele',\n",
       " 'prestará',\n",
       " 'homenagem',\n",
       " 'nomeando',\n",
       " 'seu',\n",
       " 'filho',\n",
       " 'há',\n",
       " 'cerca',\n",
       " 'de',\n",
       " 'um',\n",
       " 'mês',\n",
       " 'iran',\n",
       " 'compartilhou',\n",
       " 'na',\n",
       " 'web',\n",
       " 'ocasião',\n",
       " 'em',\n",
       " 'que',\n",
       " 'conheceu',\n",
       " 'ídolo',\n",
       " 'realizei',\n",
       " 'meu',\n",
       " 'sonho',\n",
       " 'que',\n",
       " 'era',\n",
       " 'conhecer',\n",
       " 'cristiano',\n",
       " 'ronaldo',\n",
       " 'ele',\n",
       " 'sempre',\n",
       " 'foi',\n",
       " 'minha',\n",
       " 'inspiração',\n",
       " 'isso',\n",
       " 'que',\n",
       " 'aconteceu',\n",
       " 'comigo',\n",
       " 'serve',\n",
       " 'de',\n",
       " 'exemplo',\n",
       " 'para',\n",
       " 'todos',\n",
       " 'vocês',\n",
       " 'não',\n",
       " 'desista',\n",
       " 'dos',\n",
       " 'seus',\n",
       " 'sonhos',\n",
       " 'receba',\n",
       " 'escreveu',\n",
       " 'ele']"
      ]
     },
     "execution_count": 12,
     "metadata": {},
     "output_type": "execute_result"
    }
   ],
   "source": [
    "review_text.loc[0]"
   ]
  },
  {
   "cell_type": "code",
   "execution_count": 13,
   "id": "5fd15f7b",
   "metadata": {},
   "outputs": [
    {
     "data": {
      "text/plain": [
       "'Na tarde de domingo (17), Luva de Pedreiro abriu uma live e sugeriu que o melhor seria pagar pensão à atual namorada, Távila Gomes, grávida do primeiro filho dele. \"Sou inamorável\", disse ele, deixando seus seguidores perplexos com um suposto fim precoce do romance.Porém, mais tarde, Távila desmentiu que ambos tenham encerrado o vínculo. Em outra live, ambos ironizaram perguntas sobre o suposto fim do relacionamento. Conforme Luva, as frases horas antes teriam sido \"resenha\", ou seja, brincadeira. \"Não pode falar mais nada. Tudo o que eu faço, eu estou errado.\"Em agosto, Iran Ferreira anunciou que será pai. O anúncio foi feito nas redes sociais do influenciador. O futuro bebê já tem nome escolhido: Cristiano Ronaldo Jr. Mais \"Cristiano Ronaldo Jr vem aí\", disse Luva de Pedreiro na postagem. Ele contou que aguardava um momento especial para fazer o anúncio da gestação, que já estaria no quinto mês.O influenciador é fã declarado do jogador português, a quem ele prestará homenagem nomeando seu filho. Há cerca de um mês, Iran compartilhou na web a ocasião em que conheceu o ídolo.\"Realizei meu sonho que era conhecer Cristiano Ronaldo. Ele sempre foi minha inspiração. Isso que aconteceu comigo serve de exemplo para todos vocês. Não desista dos seus sonhos. Receba!\", escreveu ele.'"
      ]
     },
     "execution_count": 13,
     "metadata": {},
     "output_type": "execute_result"
    }
   ],
   "source": [
    "df.text.loc[0]"
   ]
  },
  {
   "cell_type": "code",
   "execution_count": 14,
   "id": "ae00d4cd",
   "metadata": {},
   "outputs": [
    {
     "ename": "NameError",
     "evalue": "name 'review' is not defined",
     "output_type": "error",
     "traceback": [
      "\u001b[0;31m---------------------------------------------------------------------------\u001b[0m",
      "\u001b[0;31mNameError\u001b[0m                                 Traceback (most recent call last)",
      "\u001b[0;32m<ipython-input-14-32db36c359db>\u001b[0m in \u001b[0;36m<module>\u001b[0;34m\u001b[0m\n\u001b[0;32m----> 1\u001b[0;31m \u001b[0mreview\u001b[0m\u001b[0;34m.\u001b[0m\u001b[0mtext\u001b[0m\u001b[0;34m[\u001b[0m\u001b[0;36m0\u001b[0m\u001b[0;34m]\u001b[0m\u001b[0;34m\u001b[0m\u001b[0;34m\u001b[0m\u001b[0m\n\u001b[0m",
      "\u001b[0;31mNameError\u001b[0m: name 'review' is not defined"
     ]
    }
   ],
   "source": [
    "review.text[0]"
   ]
  },
  {
   "cell_type": "code",
   "execution_count": 15,
   "id": "fff5d9b6",
   "metadata": {
    "scrolled": true
   },
   "outputs": [
    {
     "ename": "NameError",
     "evalue": "name 'review' is not defined",
     "output_type": "error",
     "traceback": [
      "\u001b[0;31m---------------------------------------------------------------------------\u001b[0m",
      "\u001b[0;31mNameError\u001b[0m                                 Traceback (most recent call last)",
      "\u001b[0;32m<ipython-input-15-d45a9260fafe>\u001b[0m in \u001b[0;36m<module>\u001b[0;34m\u001b[0m\n\u001b[0;32m----> 1\u001b[0;31m \u001b[0mreview\u001b[0m\u001b[0;34m.\u001b[0m\u001b[0mtext\u001b[0m\u001b[0;34m\u001b[0m\u001b[0;34m\u001b[0m\u001b[0m\n\u001b[0m",
      "\u001b[0;31mNameError\u001b[0m: name 'review' is not defined"
     ]
    }
   ],
   "source": [
    "review.text"
   ]
  },
  {
   "cell_type": "code",
   "execution_count": null,
   "id": "bbd18460",
   "metadata": {},
   "outputs": [],
   "source": [
    "review_text = df.text.apply(gensim.utils.simple_preprocess)"
   ]
  },
  {
   "cell_type": "code",
   "execution_count": null,
   "id": "4e0d0cb8",
   "metadata": {},
   "outputs": [],
   "source": [
    "review_text\n"
   ]
  },
  {
   "cell_type": "code",
   "execution_count": 1,
   "id": "0136f30f",
   "metadata": {},
   "outputs": [],
   "source": [
    "test = 1\n"
   ]
  },
  {
   "cell_type": "code",
   "execution_count": 2,
   "id": "11cdcc6e",
   "metadata": {},
   "outputs": [
    {
     "data": {
      "text/plain": [
       "1"
      ]
     },
     "execution_count": 2,
     "metadata": {},
     "output_type": "execute_result"
    }
   ],
   "source": [
    "test\n"
   ]
  },
  {
   "cell_type": "code",
   "execution_count": 3,
   "id": "9f601723",
   "metadata": {},
   "outputs": [
    {
     "ename": "NameError",
     "evalue": "name 'df' is not defined",
     "output_type": "error",
     "traceback": [
      "\u001b[0;31m---------------------------------------------------------------------------\u001b[0m",
      "\u001b[0;31mNameError\u001b[0m                                 Traceback (most recent call last)",
      "\u001b[0;32m<ipython-input-3-b4be4022a173>\u001b[0m in \u001b[0;36m<module>\u001b[0;34m\u001b[0m\n\u001b[0;32m----> 1\u001b[0;31m \u001b[0mreview_text\u001b[0m \u001b[0;34m=\u001b[0m \u001b[0mdf\u001b[0m\u001b[0;34m.\u001b[0m\u001b[0mtext\u001b[0m\u001b[0;34m.\u001b[0m\u001b[0mapply\u001b[0m\u001b[0;34m(\u001b[0m\u001b[0mgensim\u001b[0m\u001b[0;34m.\u001b[0m\u001b[0mutils\u001b[0m\u001b[0;34m.\u001b[0m\u001b[0msimple_preprocess\u001b[0m\u001b[0;34m)\u001b[0m\u001b[0;34m\u001b[0m\u001b[0;34m\u001b[0m\u001b[0m\n\u001b[0m\u001b[1;32m      2\u001b[0m \u001b[0mreview_text\u001b[0m\u001b[0;34m\u001b[0m\u001b[0;34m\u001b[0m\u001b[0m\n",
      "\u001b[0;31mNameError\u001b[0m: name 'df' is not defined"
     ]
    }
   ],
   "source": [
    "review_text = df.text.apply(gensim.utils.simple_preprocess)\n",
    "review_text"
   ]
  },
  {
   "cell_type": "code",
   "execution_count": 4,
   "id": "130a39ba",
   "metadata": {},
   "outputs": [],
   "source": [
    "import gensim\n",
    "import pandas as pd"
   ]
  },
  {
   "cell_type": "code",
   "execution_count": 5,
   "id": "f4c23a05",
   "metadata": {},
   "outputs": [
    {
     "ename": "NameError",
     "evalue": "name 'df' is not defined",
     "output_type": "error",
     "traceback": [
      "\u001b[0;31m---------------------------------------------------------------------------\u001b[0m",
      "\u001b[0;31mNameError\u001b[0m                                 Traceback (most recent call last)",
      "\u001b[0;32m<ipython-input-5-b4be4022a173>\u001b[0m in \u001b[0;36m<module>\u001b[0;34m\u001b[0m\n\u001b[0;32m----> 1\u001b[0;31m \u001b[0mreview_text\u001b[0m \u001b[0;34m=\u001b[0m \u001b[0mdf\u001b[0m\u001b[0;34m.\u001b[0m\u001b[0mtext\u001b[0m\u001b[0;34m.\u001b[0m\u001b[0mapply\u001b[0m\u001b[0;34m(\u001b[0m\u001b[0mgensim\u001b[0m\u001b[0;34m.\u001b[0m\u001b[0mutils\u001b[0m\u001b[0;34m.\u001b[0m\u001b[0msimple_preprocess\u001b[0m\u001b[0;34m)\u001b[0m\u001b[0;34m\u001b[0m\u001b[0;34m\u001b[0m\u001b[0m\n\u001b[0m\u001b[1;32m      2\u001b[0m \u001b[0mreview_text\u001b[0m\u001b[0;34m\u001b[0m\u001b[0;34m\u001b[0m\u001b[0m\n",
      "\u001b[0;31mNameError\u001b[0m: name 'df' is not defined"
     ]
    }
   ],
   "source": [
    "review_text = df.text.apply(gensim.utils.simple_preprocess)\n",
    "review_text"
   ]
  },
  {
   "cell_type": "code",
   "execution_count": 6,
   "id": "a54548ea",
   "metadata": {},
   "outputs": [
    {
     "ename": "NameError",
     "evalue": "name 'df' is not defined",
     "output_type": "error",
     "traceback": [
      "\u001b[0;31m---------------------------------------------------------------------------\u001b[0m",
      "\u001b[0;31mNameError\u001b[0m                                 Traceback (most recent call last)",
      "\u001b[0;32m<ipython-input-6-d6026ceb0d96>\u001b[0m in \u001b[0;36m<module>\u001b[0;34m\u001b[0m\n\u001b[0;32m----> 1\u001b[0;31m \u001b[0mdf\u001b[0m\u001b[0;34m.\u001b[0m\u001b[0mtext\u001b[0m\u001b[0;34m[\u001b[0m\u001b[0;36m0\u001b[0m\u001b[0;34m]\u001b[0m\u001b[0;34m\u001b[0m\u001b[0;34m\u001b[0m\u001b[0m\n\u001b[0m",
      "\u001b[0;31mNameError\u001b[0m: name 'df' is not defined"
     ]
    }
   ],
   "source": [
    "df.text[0]\n"
   ]
  },
  {
   "cell_type": "code",
   "execution_count": 7,
   "id": "36fb5995",
   "metadata": {},
   "outputs": [],
   "source": [
    "df = pd.read_json(\"news-articles-ptbr-dataset_train.json\", lines=True)\n"
   ]
  },
  {
   "cell_type": "code",
   "execution_count": 8,
   "id": "5b73e162",
   "metadata": {},
   "outputs": [
    {
     "data": {
      "text/plain": [
       "'Na tarde de domingo (17), Luva de Pedreiro abriu uma live e sugeriu que o melhor seria pagar pensão à atual namorada, Távila Gomes, grávida do primeiro filho dele. \"Sou inamorável\", disse ele, deixando seus seguidores perplexos com um suposto fim precoce do romance.Porém, mais tarde, Távila desmentiu que ambos tenham encerrado o vínculo. Em outra live, ambos ironizaram perguntas sobre o suposto fim do relacionamento. Conforme Luva, as frases horas antes teriam sido \"resenha\", ou seja, brincadeira. \"Não pode falar mais nada. Tudo o que eu faço, eu estou errado.\"Em agosto, Iran Ferreira anunciou que será pai. O anúncio foi feito nas redes sociais do influenciador. O futuro bebê já tem nome escolhido: Cristiano Ronaldo Jr. Mais \"Cristiano Ronaldo Jr vem aí\", disse Luva de Pedreiro na postagem. Ele contou que aguardava um momento especial para fazer o anúncio da gestação, que já estaria no quinto mês.O influenciador é fã declarado do jogador português, a quem ele prestará homenagem nomeando seu filho. Há cerca de um mês, Iran compartilhou na web a ocasião em que conheceu o ídolo.\"Realizei meu sonho que era conhecer Cristiano Ronaldo. Ele sempre foi minha inspiração. Isso que aconteceu comigo serve de exemplo para todos vocês. Não desista dos seus sonhos. Receba!\", escreveu ele.'"
      ]
     },
     "execution_count": 8,
     "metadata": {},
     "output_type": "execute_result"
    }
   ],
   "source": [
    "df.text[0]"
   ]
  },
  {
   "cell_type": "code",
   "execution_count": 9,
   "id": "a83317cc",
   "metadata": {},
   "outputs": [
    {
     "data": {
      "text/html": [
       "<div>\n",
       "<style scoped>\n",
       "    .dataframe tbody tr th:only-of-type {\n",
       "        vertical-align: middle;\n",
       "    }\n",
       "\n",
       "    .dataframe tbody tr th {\n",
       "        vertical-align: top;\n",
       "    }\n",
       "\n",
       "    .dataframe thead th {\n",
       "        text-align: right;\n",
       "    }\n",
       "</style>\n",
       "<table border=\"1\" class=\"dataframe\">\n",
       "  <thead>\n",
       "    <tr style=\"text-align: right;\">\n",
       "      <th></th>\n",
       "      <th>title</th>\n",
       "      <th>text</th>\n",
       "      <th>date</th>\n",
       "      <th>category</th>\n",
       "      <th>category_natural_language</th>\n",
       "      <th>link</th>\n",
       "    </tr>\n",
       "  </thead>\n",
       "  <tbody>\n",
       "    <tr>\n",
       "      <th>0</th>\n",
       "      <td>Após Luva de Pedreiro indicar que pagaria pens...</td>\n",
       "      <td>Na tarde de domingo (17), Luva de Pedreiro abr...</td>\n",
       "      <td>2023-09-18 08:40:00</td>\n",
       "      <td>celebridades</td>\n",
       "      <td>Celebridades</td>\n",
       "      <td>https://f5.folha.uol.com.br/celebridades/2023/...</td>\n",
       "    </tr>\n",
       "    <tr>\n",
       "      <th>1</th>\n",
       "      <td>OMS cobra da China 'acesso total' para investi...</td>\n",
       "      <td>O diretor-geral da OMS (Organização Mundial da...</td>\n",
       "      <td>2023-09-18 09:49:00</td>\n",
       "      <td>equilibrio-e-saude</td>\n",
       "      <td>Equilibrio e Saúde</td>\n",
       "      <td>https://www1.folha.uol.com.br/equilibrioesaude...</td>\n",
       "    </tr>\n",
       "    <tr>\n",
       "      <th>2</th>\n",
       "      <td>Respiração, rins e coração podem ser afetados ...</td>\n",
       "      <td>A última semana de inverno, que termina no pró...</td>\n",
       "      <td>2023-09-18 10:20:00</td>\n",
       "      <td>equilibrio-e-saude</td>\n",
       "      <td>Equilibrio e Saúde</td>\n",
       "      <td>https://www1.folha.uol.com.br/equilibrio/2023/...</td>\n",
       "    </tr>\n",
       "    <tr>\n",
       "      <th>3</th>\n",
       "      <td>Alckmin cita mestre Miyagi, de 'Karatê Kid', e...</td>\n",
       "      <td>O vice-presidente Geraldo Alckmin surpreendeu ...</td>\n",
       "      <td>2023-09-18 08:45:00</td>\n",
       "      <td>poder</td>\n",
       "      <td>Poder</td>\n",
       "      <td>https://www1.folha.uol.com.br/poder/2023/09/al...</td>\n",
       "    </tr>\n",
       "    <tr>\n",
       "      <th>4</th>\n",
       "      <td>Mercado diminui projeção de inflação em semana...</td>\n",
       "      <td>Os economistas consultados pelo BC (Banco Cent...</td>\n",
       "      <td>2023-09-18 08:48:00</td>\n",
       "      <td>mercado</td>\n",
       "      <td>Mercado</td>\n",
       "      <td>https://www1.folha.uol.com.br/mercado/2023/09/...</td>\n",
       "    </tr>\n",
       "  </tbody>\n",
       "</table>\n",
       "</div>"
      ],
      "text/plain": [
       "                                               title  \\\n",
       "0  Após Luva de Pedreiro indicar que pagaria pens...   \n",
       "1  OMS cobra da China 'acesso total' para investi...   \n",
       "2  Respiração, rins e coração podem ser afetados ...   \n",
       "3  Alckmin cita mestre Miyagi, de 'Karatê Kid', e...   \n",
       "4  Mercado diminui projeção de inflação em semana...   \n",
       "\n",
       "                                                text                date  \\\n",
       "0  Na tarde de domingo (17), Luva de Pedreiro abr... 2023-09-18 08:40:00   \n",
       "1  O diretor-geral da OMS (Organização Mundial da... 2023-09-18 09:49:00   \n",
       "2  A última semana de inverno, que termina no pró... 2023-09-18 10:20:00   \n",
       "3  O vice-presidente Geraldo Alckmin surpreendeu ... 2023-09-18 08:45:00   \n",
       "4  Os economistas consultados pelo BC (Banco Cent... 2023-09-18 08:48:00   \n",
       "\n",
       "             category category_natural_language  \\\n",
       "0        celebridades              Celebridades   \n",
       "1  equilibrio-e-saude        Equilibrio e Saúde   \n",
       "2  equilibrio-e-saude        Equilibrio e Saúde   \n",
       "3               poder                     Poder   \n",
       "4             mercado                   Mercado   \n",
       "\n",
       "                                                link  \n",
       "0  https://f5.folha.uol.com.br/celebridades/2023/...  \n",
       "1  https://www1.folha.uol.com.br/equilibrioesaude...  \n",
       "2  https://www1.folha.uol.com.br/equilibrio/2023/...  \n",
       "3  https://www1.folha.uol.com.br/poder/2023/09/al...  \n",
       "4  https://www1.folha.uol.com.br/mercado/2023/09/...  "
      ]
     },
     "execution_count": 9,
     "metadata": {},
     "output_type": "execute_result"
    }
   ],
   "source": [
    "df.head()"
   ]
  },
  {
   "cell_type": "code",
   "execution_count": 10,
   "id": "0a06463a",
   "metadata": {},
   "outputs": [],
   "source": [
    "review_text = df.text.apply(gensim.utils.simple_preprocess)"
   ]
  },
  {
   "cell_type": "code",
   "execution_count": 11,
   "id": "24d3a980",
   "metadata": {},
   "outputs": [
    {
     "data": {
      "text/plain": [
       "0         [na, tarde, de, domingo, luva, de, pedreiro, a...\n",
       "1         [diretor, geral, da, oms, organização, mundial...\n",
       "2         [última, semana, de, inverno, que, termina, no...\n",
       "3         [vice, presidente, geraldo, alckmin, surpreend...\n",
       "4         [os, economistas, consultados, pelo, bc, banco...\n",
       "                                ...                        \n",
       "176109    [atriz, márcia, cabrita, morreu, aos, anos, ne...\n",
       "176110    [confira, que, acontece, nesta, sexta, em, out...\n",
       "176111    [confira, que, acontece, no, capítulo, desta, ...\n",
       "176112    [confira, que, acontece, no, capítulo, desta, ...\n",
       "176113    [cássio, starling, carloscrítico, da, folhao, ...\n",
       "Name: text, Length: 176114, dtype: object"
      ]
     },
     "execution_count": 11,
     "metadata": {},
     "output_type": "execute_result"
    }
   ],
   "source": [
    "review_text"
   ]
  },
  {
   "cell_type": "code",
   "execution_count": 12,
   "id": "713cb633",
   "metadata": {},
   "outputs": [
    {
     "data": {
      "text/plain": [
       "['na',\n",
       " 'tarde',\n",
       " 'de',\n",
       " 'domingo',\n",
       " 'luva',\n",
       " 'de',\n",
       " 'pedreiro',\n",
       " 'abriu',\n",
       " 'uma',\n",
       " 'live',\n",
       " 'sugeriu',\n",
       " 'que',\n",
       " 'melhor',\n",
       " 'seria',\n",
       " 'pagar',\n",
       " 'pensão',\n",
       " 'atual',\n",
       " 'namorada',\n",
       " 'távila',\n",
       " 'gomes',\n",
       " 'grávida',\n",
       " 'do',\n",
       " 'primeiro',\n",
       " 'filho',\n",
       " 'dele',\n",
       " 'sou',\n",
       " 'inamorável',\n",
       " 'disse',\n",
       " 'ele',\n",
       " 'deixando',\n",
       " 'seus',\n",
       " 'seguidores',\n",
       " 'perplexos',\n",
       " 'com',\n",
       " 'um',\n",
       " 'suposto',\n",
       " 'fim',\n",
       " 'precoce',\n",
       " 'do',\n",
       " 'romance',\n",
       " 'porém',\n",
       " 'mais',\n",
       " 'tarde',\n",
       " 'távila',\n",
       " 'desmentiu',\n",
       " 'que',\n",
       " 'ambos',\n",
       " 'tenham',\n",
       " 'encerrado',\n",
       " 'vínculo',\n",
       " 'em',\n",
       " 'outra',\n",
       " 'live',\n",
       " 'ambos',\n",
       " 'ironizaram',\n",
       " 'perguntas',\n",
       " 'sobre',\n",
       " 'suposto',\n",
       " 'fim',\n",
       " 'do',\n",
       " 'relacionamento',\n",
       " 'conforme',\n",
       " 'luva',\n",
       " 'as',\n",
       " 'frases',\n",
       " 'horas',\n",
       " 'antes',\n",
       " 'teriam',\n",
       " 'sido',\n",
       " 'resenha',\n",
       " 'ou',\n",
       " 'seja',\n",
       " 'brincadeira',\n",
       " 'não',\n",
       " 'pode',\n",
       " 'falar',\n",
       " 'mais',\n",
       " 'nada',\n",
       " 'tudo',\n",
       " 'que',\n",
       " 'eu',\n",
       " 'faço',\n",
       " 'eu',\n",
       " 'estou',\n",
       " 'errado',\n",
       " 'em',\n",
       " 'agosto',\n",
       " 'iran',\n",
       " 'ferreira',\n",
       " 'anunciou',\n",
       " 'que',\n",
       " 'será',\n",
       " 'pai',\n",
       " 'anúncio',\n",
       " 'foi',\n",
       " 'feito',\n",
       " 'nas',\n",
       " 'redes',\n",
       " 'sociais',\n",
       " 'do',\n",
       " 'influenciador',\n",
       " 'futuro',\n",
       " 'bebê',\n",
       " 'já',\n",
       " 'tem',\n",
       " 'nome',\n",
       " 'escolhido',\n",
       " 'cristiano',\n",
       " 'ronaldo',\n",
       " 'jr',\n",
       " 'mais',\n",
       " 'cristiano',\n",
       " 'ronaldo',\n",
       " 'jr',\n",
       " 'vem',\n",
       " 'aí',\n",
       " 'disse',\n",
       " 'luva',\n",
       " 'de',\n",
       " 'pedreiro',\n",
       " 'na',\n",
       " 'postagem',\n",
       " 'ele',\n",
       " 'contou',\n",
       " 'que',\n",
       " 'aguardava',\n",
       " 'um',\n",
       " 'momento',\n",
       " 'especial',\n",
       " 'para',\n",
       " 'fazer',\n",
       " 'anúncio',\n",
       " 'da',\n",
       " 'gestação',\n",
       " 'que',\n",
       " 'já',\n",
       " 'estaria',\n",
       " 'no',\n",
       " 'quinto',\n",
       " 'mês',\n",
       " 'influenciador',\n",
       " 'fã',\n",
       " 'declarado',\n",
       " 'do',\n",
       " 'jogador',\n",
       " 'português',\n",
       " 'quem',\n",
       " 'ele',\n",
       " 'prestará',\n",
       " 'homenagem',\n",
       " 'nomeando',\n",
       " 'seu',\n",
       " 'filho',\n",
       " 'há',\n",
       " 'cerca',\n",
       " 'de',\n",
       " 'um',\n",
       " 'mês',\n",
       " 'iran',\n",
       " 'compartilhou',\n",
       " 'na',\n",
       " 'web',\n",
       " 'ocasião',\n",
       " 'em',\n",
       " 'que',\n",
       " 'conheceu',\n",
       " 'ídolo',\n",
       " 'realizei',\n",
       " 'meu',\n",
       " 'sonho',\n",
       " 'que',\n",
       " 'era',\n",
       " 'conhecer',\n",
       " 'cristiano',\n",
       " 'ronaldo',\n",
       " 'ele',\n",
       " 'sempre',\n",
       " 'foi',\n",
       " 'minha',\n",
       " 'inspiração',\n",
       " 'isso',\n",
       " 'que',\n",
       " 'aconteceu',\n",
       " 'comigo',\n",
       " 'serve',\n",
       " 'de',\n",
       " 'exemplo',\n",
       " 'para',\n",
       " 'todos',\n",
       " 'vocês',\n",
       " 'não',\n",
       " 'desista',\n",
       " 'dos',\n",
       " 'seus',\n",
       " 'sonhos',\n",
       " 'receba',\n",
       " 'escreveu',\n",
       " 'ele']"
      ]
     },
     "execution_count": 12,
     "metadata": {},
     "output_type": "execute_result"
    }
   ],
   "source": [
    "\n",
    "review_text.loc[0]"
   ]
  },
  {
   "cell_type": "code",
   "execution_count": 13,
   "id": "9a262815",
   "metadata": {},
   "outputs": [
    {
     "data": {
      "text/plain": [
       "'Na tarde de domingo (17), Luva de Pedreiro abriu uma live e sugeriu que o melhor seria pagar pensão à atual namorada, Távila Gomes, grávida do primeiro filho dele. \"Sou inamorável\", disse ele, deixando seus seguidores perplexos com um suposto fim precoce do romance.Porém, mais tarde, Távila desmentiu que ambos tenham encerrado o vínculo. Em outra live, ambos ironizaram perguntas sobre o suposto fim do relacionamento. Conforme Luva, as frases horas antes teriam sido \"resenha\", ou seja, brincadeira. \"Não pode falar mais nada. Tudo o que eu faço, eu estou errado.\"Em agosto, Iran Ferreira anunciou que será pai. O anúncio foi feito nas redes sociais do influenciador. O futuro bebê já tem nome escolhido: Cristiano Ronaldo Jr. Mais \"Cristiano Ronaldo Jr vem aí\", disse Luva de Pedreiro na postagem. Ele contou que aguardava um momento especial para fazer o anúncio da gestação, que já estaria no quinto mês.O influenciador é fã declarado do jogador português, a quem ele prestará homenagem nomeando seu filho. Há cerca de um mês, Iran compartilhou na web a ocasião em que conheceu o ídolo.\"Realizei meu sonho que era conhecer Cristiano Ronaldo. Ele sempre foi minha inspiração. Isso que aconteceu comigo serve de exemplo para todos vocês. Não desista dos seus sonhos. Receba!\", escreveu ele.'"
      ]
     },
     "execution_count": 13,
     "metadata": {},
     "output_type": "execute_result"
    }
   ],
   "source": [
    "\n",
    "df.text.loc[0]"
   ]
  },
  {
   "cell_type": "code",
   "execution_count": 14,
   "id": "8ae56ff7",
   "metadata": {},
   "outputs": [
    {
     "name": "stderr",
     "output_type": "stream",
     "text": [
      "/home/opc/.local/lib/python3.6/site-packages/gensim/models/base_any2vec.py:743: UserWarning: C extension not loaded, training will be slow. Install a C compiler and reinstall gensim for fast training.\n",
      "  \"C extension not loaded, training will be slow. \"\n"
     ]
    }
   ],
   "source": [
    "model = gensim.models.Word2Vec(\n",
    "    window=10,\n",
    "    min_count=2,\n",
    "    workers=2,\n",
    ")"
   ]
  },
  {
   "cell_type": "code",
   "execution_count": 15,
   "id": "09477d81",
   "metadata": {},
   "outputs": [],
   "source": [
    "model = gensim.models.Word2Vec(\n",
    "    window=10,\n",
    "    min_count=2,\n",
    "    workers=2,\n",
    ")\n"
   ]
  },
  {
   "cell_type": "code",
   "execution_count": 16,
   "id": "7d741262",
   "metadata": {},
   "outputs": [],
   "source": [
    "model.build_vocab(review_text, progress_per=1000)\n"
   ]
  },
  {
   "cell_type": "code",
   "execution_count": null,
   "id": "14251c54",
   "metadata": {},
   "outputs": [],
   "source": [
    "model.train(review_text, total_examples=model.corpus_count, epochs=model.epochs)\n"
   ]
  },
  {
   "cell_type": "code",
   "execution_count": null,
   "id": "0a55b667",
   "metadata": {},
   "outputs": [],
   "source": [
    "model.save(\"./word2vec-news-articles-ptbr-dataset_train.model\")\n"
   ]
  },
  {
   "cell_type": "code",
   "execution_count": null,
   "id": "8cad66fd",
   "metadata": {},
   "outputs": [],
   "source": [
    "model.wv.most_similar(\"ruim\")"
   ]
  },
  {
   "cell_type": "code",
   "execution_count": 1,
   "id": "47cf7710",
   "metadata": {},
   "outputs": [],
   "source": [
    "test = 1\n"
   ]
  },
  {
   "cell_type": "code",
   "execution_count": 2,
   "id": "2682bacd",
   "metadata": {},
   "outputs": [
    {
     "data": {
      "text/plain": [
       "1"
      ]
     },
     "execution_count": 2,
     "metadata": {},
     "output_type": "execute_result"
    }
   ],
   "source": [
    "test\n"
   ]
  },
  {
   "cell_type": "code",
   "execution_count": 3,
   "id": "73aa058d",
   "metadata": {},
   "outputs": [],
   "source": [
    "from tqdm import tqdm\n"
   ]
  },
  {
   "cell_type": "code",
   "execution_count": 4,
   "id": "3a28bbae",
   "metadata": {},
   "outputs": [],
   "source": [
    "import gensim\n",
    "import pandas as pd"
   ]
  },
  {
   "cell_type": "code",
   "execution_count": null,
   "id": "361fa9f4",
   "metadata": {},
   "outputs": [],
   "source": [
    "df = pd.read_json(\"news-articles-ptbr-dataset_train.json\", lines=True)\n"
   ]
  },
  {
   "cell_type": "code",
   "execution_count": 6,
   "id": "d589a44a",
   "metadata": {},
   "outputs": [],
   "source": [
    "review_text = df.text.apply(gensim.utils.simple_preprocess)"
   ]
  },
  {
   "cell_type": "code",
   "execution_count": 7,
   "id": "deaf594d",
   "metadata": {},
   "outputs": [],
   "source": [
    "test = 1\n"
   ]
  },
  {
   "cell_type": "code",
   "execution_count": 8,
   "id": "c325147b",
   "metadata": {},
   "outputs": [
    {
     "data": {
      "text/plain": [
       "1"
      ]
     },
     "execution_count": 8,
     "metadata": {},
     "output_type": "execute_result"
    }
   ],
   "source": [
    "test"
   ]
  },
  {
   "cell_type": "code",
   "execution_count": 9,
   "id": "e44497d2",
   "metadata": {},
   "outputs": [
    {
     "name": "stdout",
     "output_type": "stream",
     "text": [
      "Defaulting to user installation because normal site-packages is not writeable\n",
      "Requirement already satisfied: tqdm in /home/opc/.local/lib/python3.6/site-packages (4.64.1)\n",
      "Requirement already satisfied: importlib-resources in /home/opc/.local/lib/python3.6/site-packages (from tqdm) (5.4.0)\n",
      "Requirement already satisfied: zipp>=3.1.0 in /usr/local/lib/python3.6/site-packages (from importlib-resources->tqdm) (3.6.0)\n"
     ]
    }
   ],
   "source": [
    "!pip install tqdm"
   ]
  },
  {
   "cell_type": "code",
   "execution_count": 10,
   "id": "5d13a77d",
   "metadata": {},
   "outputs": [
    {
     "name": "stderr",
     "output_type": "stream",
     "text": [
      "\r",
      "Building vocab:   0%|                                                                                                                                                                                                                                                                                                                                                                                                                                                                                                                                                                                                                                                                                                                                                                                                                                                                                    | 0/176114 [00:00<?, ?it/s]"
     ]
    }
   ],
   "source": [
    "progress_bar = tqdm(total=len(review_text), desc='Building vocab', ncols=900)\n"
   ]
  },
  {
   "cell_type": "code",
   "execution_count": 11,
   "id": "10e4bce8",
   "metadata": {},
   "outputs": [],
   "source": [
    "def update_progress(*args, **kwargs):\n",
    "    progress_bar.update()"
   ]
  },
  {
   "cell_type": "code",
   "execution_count": 12,
   "id": "5c2be65f",
   "metadata": {},
   "outputs": [
    {
     "data": {
      "text/plain": [
       "'Na tarde de domingo (17), Luva de Pedreiro abriu uma live e sugeriu que o melhor seria pagar pensão à atual namorada, Távila Gomes, grávida do primeiro filho dele. \"Sou inamorável\", disse ele, deixando seus seguidores perplexos com um suposto fim precoce do romance.Porém, mais tarde, Távila desmentiu que ambos tenham encerrado o vínculo. Em outra live, ambos ironizaram perguntas sobre o suposto fim do relacionamento. Conforme Luva, as frases horas antes teriam sido \"resenha\", ou seja, brincadeira. \"Não pode falar mais nada. Tudo o que eu faço, eu estou errado.\"Em agosto, Iran Ferreira anunciou que será pai. O anúncio foi feito nas redes sociais do influenciador. O futuro bebê já tem nome escolhido: Cristiano Ronaldo Jr. Mais \"Cristiano Ronaldo Jr vem aí\", disse Luva de Pedreiro na postagem. Ele contou que aguardava um momento especial para fazer o anúncio da gestação, que já estaria no quinto mês.O influenciador é fã declarado do jogador português, a quem ele prestará homenagem nomeando seu filho. Há cerca de um mês, Iran compartilhou na web a ocasião em que conheceu o ídolo.\"Realizei meu sonho que era conhecer Cristiano Ronaldo. Ele sempre foi minha inspiração. Isso que aconteceu comigo serve de exemplo para todos vocês. Não desista dos seus sonhos. Receba!\", escreveu ele.'"
      ]
     },
     "execution_count": 12,
     "metadata": {},
     "output_type": "execute_result"
    }
   ],
   "source": [
    "df.text.loc[0]"
   ]
  },
  {
   "cell_type": "code",
   "execution_count": 14,
   "id": "ca9cf36a",
   "metadata": {},
   "outputs": [],
   "source": [
    "model = gensim.models.Word2Vec(\n",
    "    window=5,\n",
    "    min_count=2,\n",
    "    workers=2,\n",
    ")"
   ]
  },
  {
   "cell_type": "code",
   "execution_count": null,
   "id": "3bc0340c",
   "metadata": {},
   "outputs": [],
   "source": [
    "model.build_vocab(review_text, progress_per=1000, update=update_progress)"
   ]
  },
  {
   "cell_type": "code",
   "execution_count": null,
   "id": "edd8272d",
   "metadata": {},
   "outputs": [],
   "source": [
    "test = 1"
   ]
  },
  {
   "cell_type": "code",
   "execution_count": null,
   "id": "34186669",
   "metadata": {},
   "outputs": [],
   "source": [
    "test\n"
   ]
  },
  {
   "cell_type": "code",
   "execution_count": null,
   "id": "975c24ff",
   "metadata": {},
   "outputs": [],
   "source": []
  },
  {
   "cell_type": "code",
   "execution_count": null,
   "id": "7ac0203b",
   "metadata": {},
   "outputs": [],
   "source": []
  },
  {
   "cell_type": "code",
   "execution_count": 17,
   "id": "e5085984",
   "metadata": {},
   "outputs": [
    {
     "data": {
      "text/plain": [
       "1"
      ]
     },
     "execution_count": 17,
     "metadata": {},
     "output_type": "execute_result"
    }
   ],
   "source": [
    "test\n"
   ]
  },
  {
   "cell_type": "code",
   "execution_count": 19,
   "id": "ca209aa9",
   "metadata": {},
   "outputs": [],
   "source": [
    "model.save(\"./word2vec-news-articles-ptbr-dataset_train.model\")"
   ]
  },
  {
   "cell_type": "code",
   "execution_count": 20,
   "id": "0e402f4b",
   "metadata": {},
   "outputs": [
    {
     "data": {
      "text/plain": [
       "1"
      ]
     },
     "execution_count": 20,
     "metadata": {},
     "output_type": "execute_result"
    }
   ],
   "source": [
    "test"
   ]
  },
  {
   "cell_type": "code",
   "execution_count": 22,
   "id": "ef3a5e36",
   "metadata": {},
   "outputs": [
    {
     "data": {
      "text/plain": [
       "176114"
      ]
     },
     "execution_count": 22,
     "metadata": {},
     "output_type": "execute_result"
    }
   ],
   "source": [
    "model.corpus_count"
   ]
  },
  {
   "cell_type": "code",
   "execution_count": 25,
   "id": "0845ca04",
   "metadata": {},
   "outputs": [
    {
     "data": {
      "text/plain": [
       "5"
      ]
     },
     "execution_count": 25,
     "metadata": {},
     "output_type": "execute_result"
    }
   ],
   "source": [
    "model.epochs"
   ]
  },
  {
   "cell_type": "code",
   "execution_count": 26,
   "id": "33f43bc5",
   "metadata": {},
   "outputs": [
    {
     "ename": "RuntimeError",
     "evalue": "you must initialize vectors before training the model",
     "output_type": "error",
     "traceback": [
      "\u001b[0;31m---------------------------------------------------------------------------\u001b[0m",
      "\u001b[0;31mRuntimeError\u001b[0m                              Traceback (most recent call last)",
      "\u001b[0;32m<ipython-input-26-032c6836947d>\u001b[0m in \u001b[0;36m<module>\u001b[0;34m\u001b[0m\n\u001b[0;32m----> 1\u001b[0;31m \u001b[0mmodel\u001b[0m\u001b[0;34m.\u001b[0m\u001b[0mtrain\u001b[0m\u001b[0;34m(\u001b[0m\u001b[0mreview_text\u001b[0m\u001b[0;34m,\u001b[0m \u001b[0mtotal_examples\u001b[0m\u001b[0;34m=\u001b[0m\u001b[0mmodel\u001b[0m\u001b[0;34m.\u001b[0m\u001b[0mcorpus_count\u001b[0m\u001b[0;34m,\u001b[0m \u001b[0mepochs\u001b[0m\u001b[0;34m=\u001b[0m\u001b[0mmodel\u001b[0m\u001b[0;34m.\u001b[0m\u001b[0mepochs\u001b[0m\u001b[0;34m)\u001b[0m\u001b[0;34m\u001b[0m\u001b[0;34m\u001b[0m\u001b[0m\n\u001b[0m",
      "\u001b[0;32m~/.local/lib/python3.6/site-packages/gensim/models/word2vec.py\u001b[0m in \u001b[0;36mtrain\u001b[0;34m(self, sentences, corpus_file, total_examples, total_words, epochs, start_alpha, end_alpha, word_count, queue_factor, report_delay, compute_loss, callbacks)\u001b[0m\n\u001b[1;32m    908\u001b[0m             \u001b[0msentences\u001b[0m\u001b[0;34m=\u001b[0m\u001b[0msentences\u001b[0m\u001b[0;34m,\u001b[0m \u001b[0mcorpus_file\u001b[0m\u001b[0;34m=\u001b[0m\u001b[0mcorpus_file\u001b[0m\u001b[0;34m,\u001b[0m \u001b[0mtotal_examples\u001b[0m\u001b[0;34m=\u001b[0m\u001b[0mtotal_examples\u001b[0m\u001b[0;34m,\u001b[0m \u001b[0mtotal_words\u001b[0m\u001b[0;34m=\u001b[0m\u001b[0mtotal_words\u001b[0m\u001b[0;34m,\u001b[0m\u001b[0;34m\u001b[0m\u001b[0;34m\u001b[0m\u001b[0m\n\u001b[1;32m    909\u001b[0m             \u001b[0mepochs\u001b[0m\u001b[0;34m=\u001b[0m\u001b[0mepochs\u001b[0m\u001b[0;34m,\u001b[0m \u001b[0mstart_alpha\u001b[0m\u001b[0;34m=\u001b[0m\u001b[0mstart_alpha\u001b[0m\u001b[0;34m,\u001b[0m \u001b[0mend_alpha\u001b[0m\u001b[0;34m=\u001b[0m\u001b[0mend_alpha\u001b[0m\u001b[0;34m,\u001b[0m \u001b[0mword_count\u001b[0m\u001b[0;34m=\u001b[0m\u001b[0mword_count\u001b[0m\u001b[0;34m,\u001b[0m\u001b[0;34m\u001b[0m\u001b[0;34m\u001b[0m\u001b[0m\n\u001b[0;32m--> 910\u001b[0;31m             queue_factor=queue_factor, report_delay=report_delay, compute_loss=compute_loss, callbacks=callbacks)\n\u001b[0m\u001b[1;32m    911\u001b[0m \u001b[0;34m\u001b[0m\u001b[0m\n\u001b[1;32m    912\u001b[0m     \u001b[0;32mdef\u001b[0m \u001b[0mscore\u001b[0m\u001b[0;34m(\u001b[0m\u001b[0mself\u001b[0m\u001b[0;34m,\u001b[0m \u001b[0msentences\u001b[0m\u001b[0;34m,\u001b[0m \u001b[0mtotal_sentences\u001b[0m\u001b[0;34m=\u001b[0m\u001b[0mint\u001b[0m\u001b[0;34m(\u001b[0m\u001b[0;36m1e6\u001b[0m\u001b[0;34m)\u001b[0m\u001b[0;34m,\u001b[0m \u001b[0mchunksize\u001b[0m\u001b[0;34m=\u001b[0m\u001b[0;36m100\u001b[0m\u001b[0;34m,\u001b[0m \u001b[0mqueue_factor\u001b[0m\u001b[0;34m=\u001b[0m\u001b[0;36m2\u001b[0m\u001b[0;34m,\u001b[0m \u001b[0mreport_delay\u001b[0m\u001b[0;34m=\u001b[0m\u001b[0;36m1\u001b[0m\u001b[0;34m)\u001b[0m\u001b[0;34m:\u001b[0m\u001b[0;34m\u001b[0m\u001b[0;34m\u001b[0m\u001b[0m\n",
      "\u001b[0;32m~/.local/lib/python3.6/site-packages/gensim/models/base_any2vec.py\u001b[0m in \u001b[0;36mtrain\u001b[0;34m(self, sentences, corpus_file, total_examples, total_words, epochs, start_alpha, end_alpha, word_count, queue_factor, report_delay, compute_loss, callbacks, **kwargs)\u001b[0m\n\u001b[1;32m   1079\u001b[0m             \u001b[0mtotal_words\u001b[0m\u001b[0;34m=\u001b[0m\u001b[0mtotal_words\u001b[0m\u001b[0;34m,\u001b[0m \u001b[0mepochs\u001b[0m\u001b[0;34m=\u001b[0m\u001b[0mepochs\u001b[0m\u001b[0;34m,\u001b[0m \u001b[0mstart_alpha\u001b[0m\u001b[0;34m=\u001b[0m\u001b[0mstart_alpha\u001b[0m\u001b[0;34m,\u001b[0m \u001b[0mend_alpha\u001b[0m\u001b[0;34m=\u001b[0m\u001b[0mend_alpha\u001b[0m\u001b[0;34m,\u001b[0m \u001b[0mword_count\u001b[0m\u001b[0;34m=\u001b[0m\u001b[0mword_count\u001b[0m\u001b[0;34m,\u001b[0m\u001b[0;34m\u001b[0m\u001b[0;34m\u001b[0m\u001b[0m\n\u001b[1;32m   1080\u001b[0m             \u001b[0mqueue_factor\u001b[0m\u001b[0;34m=\u001b[0m\u001b[0mqueue_factor\u001b[0m\u001b[0;34m,\u001b[0m \u001b[0mreport_delay\u001b[0m\u001b[0;34m=\u001b[0m\u001b[0mreport_delay\u001b[0m\u001b[0;34m,\u001b[0m \u001b[0mcompute_loss\u001b[0m\u001b[0;34m=\u001b[0m\u001b[0mcompute_loss\u001b[0m\u001b[0;34m,\u001b[0m \u001b[0mcallbacks\u001b[0m\u001b[0;34m=\u001b[0m\u001b[0mcallbacks\u001b[0m\u001b[0;34m,\u001b[0m\u001b[0;34m\u001b[0m\u001b[0;34m\u001b[0m\u001b[0m\n\u001b[0;32m-> 1081\u001b[0;31m             **kwargs)\n\u001b[0m\u001b[1;32m   1082\u001b[0m \u001b[0;34m\u001b[0m\u001b[0m\n\u001b[1;32m   1083\u001b[0m     \u001b[0;32mdef\u001b[0m \u001b[0m_get_job_params\u001b[0m\u001b[0;34m(\u001b[0m\u001b[0mself\u001b[0m\u001b[0;34m,\u001b[0m \u001b[0mcur_epoch\u001b[0m\u001b[0;34m)\u001b[0m\u001b[0;34m:\u001b[0m\u001b[0;34m\u001b[0m\u001b[0;34m\u001b[0m\u001b[0m\n",
      "\u001b[0;32m~/.local/lib/python3.6/site-packages/gensim/models/base_any2vec.py\u001b[0m in \u001b[0;36mtrain\u001b[0;34m(self, data_iterable, corpus_file, epochs, total_examples, total_words, queue_factor, report_delay, callbacks, **kwargs)\u001b[0m\n\u001b[1;32m    534\u001b[0m             \u001b[0mepochs\u001b[0m\u001b[0;34m=\u001b[0m\u001b[0mepochs\u001b[0m\u001b[0;34m,\u001b[0m\u001b[0;34m\u001b[0m\u001b[0;34m\u001b[0m\u001b[0m\n\u001b[1;32m    535\u001b[0m             \u001b[0mtotal_examples\u001b[0m\u001b[0;34m=\u001b[0m\u001b[0mtotal_examples\u001b[0m\u001b[0;34m,\u001b[0m\u001b[0;34m\u001b[0m\u001b[0;34m\u001b[0m\u001b[0m\n\u001b[0;32m--> 536\u001b[0;31m             total_words=total_words, **kwargs)\n\u001b[0m\u001b[1;32m    537\u001b[0m \u001b[0;34m\u001b[0m\u001b[0m\n\u001b[1;32m    538\u001b[0m         \u001b[0;32mfor\u001b[0m \u001b[0mcallback\u001b[0m \u001b[0;32min\u001b[0m \u001b[0mself\u001b[0m\u001b[0;34m.\u001b[0m\u001b[0mcallbacks\u001b[0m\u001b[0;34m:\u001b[0m\u001b[0;34m\u001b[0m\u001b[0;34m\u001b[0m\u001b[0m\n",
      "\u001b[0;32m~/.local/lib/python3.6/site-packages/gensim/models/base_any2vec.py\u001b[0m in \u001b[0;36m_check_training_sanity\u001b[0;34m(self, epochs, total_examples, total_words, **kwargs)\u001b[0m\n\u001b[1;32m   1187\u001b[0m             \u001b[0;32mraise\u001b[0m \u001b[0mRuntimeError\u001b[0m\u001b[0;34m(\u001b[0m\u001b[0;34m\"you must first build vocabulary before training the model\"\u001b[0m\u001b[0;34m)\u001b[0m\u001b[0;34m\u001b[0m\u001b[0;34m\u001b[0m\u001b[0m\n\u001b[1;32m   1188\u001b[0m         \u001b[0;32mif\u001b[0m \u001b[0;32mnot\u001b[0m \u001b[0mlen\u001b[0m\u001b[0;34m(\u001b[0m\u001b[0mself\u001b[0m\u001b[0;34m.\u001b[0m\u001b[0mwv\u001b[0m\u001b[0;34m.\u001b[0m\u001b[0mvectors\u001b[0m\u001b[0;34m)\u001b[0m\u001b[0;34m:\u001b[0m\u001b[0;34m\u001b[0m\u001b[0;34m\u001b[0m\u001b[0m\n\u001b[0;32m-> 1189\u001b[0;31m             \u001b[0;32mraise\u001b[0m \u001b[0mRuntimeError\u001b[0m\u001b[0;34m(\u001b[0m\u001b[0;34m\"you must initialize vectors before training the model\"\u001b[0m\u001b[0;34m)\u001b[0m\u001b[0;34m\u001b[0m\u001b[0;34m\u001b[0m\u001b[0m\n\u001b[0m\u001b[1;32m   1190\u001b[0m \u001b[0;34m\u001b[0m\u001b[0m\n\u001b[1;32m   1191\u001b[0m         \u001b[0;32mif\u001b[0m \u001b[0;32mnot\u001b[0m \u001b[0mhasattr\u001b[0m\u001b[0;34m(\u001b[0m\u001b[0mself\u001b[0m\u001b[0;34m,\u001b[0m \u001b[0;34m'corpus_count'\u001b[0m\u001b[0;34m)\u001b[0m\u001b[0;34m:\u001b[0m\u001b[0;34m\u001b[0m\u001b[0;34m\u001b[0m\u001b[0m\n",
      "\u001b[0;31mRuntimeError\u001b[0m: you must initialize vectors before training the model"
     ]
    }
   ],
   "source": [
    "model.train(review_text, total_examples=model.corpus_count, epochs=model.epochs)"
   ]
  },
  {
   "cell_type": "code",
   "execution_count": 27,
   "id": "bc46626f",
   "metadata": {},
   "outputs": [
    {
     "name": "stdout",
     "output_type": "stream",
     "text": [
      "O vocabulário foi construído.\n"
     ]
    }
   ],
   "source": [
    "if len(model.wv.vocab) > 0:\n",
    "    print(\"O vocabulário foi construído.\")\n",
    "else:\n",
    "    print(\"O vocabulário não foi construído.\")"
   ]
  },
  {
   "cell_type": "code",
   "execution_count": 28,
   "id": "bb993122",
   "metadata": {},
   "outputs": [
    {
     "data": {
      "text/plain": [
       "176114"
      ]
     },
     "execution_count": 28,
     "metadata": {},
     "output_type": "execute_result"
    }
   ],
   "source": [
    "model.corpus_count\n"
   ]
  },
  {
   "cell_type": "code",
   "execution_count": 40,
   "id": "58625efa",
   "metadata": {},
   "outputs": [
    {
     "ename": "RuntimeError",
     "evalue": "you must initialize vectors before training the model",
     "output_type": "error",
     "traceback": [
      "\u001b[0;31m---------------------------------------------------------------------------\u001b[0m",
      "\u001b[0;31mRuntimeError\u001b[0m                              Traceback (most recent call last)",
      "\u001b[0;32m<ipython-input-40-032c6836947d>\u001b[0m in \u001b[0;36m<module>\u001b[0;34m\u001b[0m\n\u001b[0;32m----> 1\u001b[0;31m \u001b[0mmodel\u001b[0m\u001b[0;34m.\u001b[0m\u001b[0mtrain\u001b[0m\u001b[0;34m(\u001b[0m\u001b[0mreview_text\u001b[0m\u001b[0;34m,\u001b[0m \u001b[0mtotal_examples\u001b[0m\u001b[0;34m=\u001b[0m\u001b[0mmodel\u001b[0m\u001b[0;34m.\u001b[0m\u001b[0mcorpus_count\u001b[0m\u001b[0;34m,\u001b[0m \u001b[0mepochs\u001b[0m\u001b[0;34m=\u001b[0m\u001b[0mmodel\u001b[0m\u001b[0;34m.\u001b[0m\u001b[0mepochs\u001b[0m\u001b[0;34m)\u001b[0m\u001b[0;34m\u001b[0m\u001b[0;34m\u001b[0m\u001b[0m\n\u001b[0m",
      "\u001b[0;32m~/.local/lib/python3.6/site-packages/gensim/models/word2vec.py\u001b[0m in \u001b[0;36mtrain\u001b[0;34m(self, sentences, corpus_file, total_examples, total_words, epochs, start_alpha, end_alpha, word_count, queue_factor, report_delay, compute_loss, callbacks)\u001b[0m\n\u001b[1;32m    908\u001b[0m             \u001b[0msentences\u001b[0m\u001b[0;34m=\u001b[0m\u001b[0msentences\u001b[0m\u001b[0;34m,\u001b[0m \u001b[0mcorpus_file\u001b[0m\u001b[0;34m=\u001b[0m\u001b[0mcorpus_file\u001b[0m\u001b[0;34m,\u001b[0m \u001b[0mtotal_examples\u001b[0m\u001b[0;34m=\u001b[0m\u001b[0mtotal_examples\u001b[0m\u001b[0;34m,\u001b[0m \u001b[0mtotal_words\u001b[0m\u001b[0;34m=\u001b[0m\u001b[0mtotal_words\u001b[0m\u001b[0;34m,\u001b[0m\u001b[0;34m\u001b[0m\u001b[0;34m\u001b[0m\u001b[0m\n\u001b[1;32m    909\u001b[0m             \u001b[0mepochs\u001b[0m\u001b[0;34m=\u001b[0m\u001b[0mepochs\u001b[0m\u001b[0;34m,\u001b[0m \u001b[0mstart_alpha\u001b[0m\u001b[0;34m=\u001b[0m\u001b[0mstart_alpha\u001b[0m\u001b[0;34m,\u001b[0m \u001b[0mend_alpha\u001b[0m\u001b[0;34m=\u001b[0m\u001b[0mend_alpha\u001b[0m\u001b[0;34m,\u001b[0m \u001b[0mword_count\u001b[0m\u001b[0;34m=\u001b[0m\u001b[0mword_count\u001b[0m\u001b[0;34m,\u001b[0m\u001b[0;34m\u001b[0m\u001b[0;34m\u001b[0m\u001b[0m\n\u001b[0;32m--> 910\u001b[0;31m             queue_factor=queue_factor, report_delay=report_delay, compute_loss=compute_loss, callbacks=callbacks)\n\u001b[0m\u001b[1;32m    911\u001b[0m \u001b[0;34m\u001b[0m\u001b[0m\n\u001b[1;32m    912\u001b[0m     \u001b[0;32mdef\u001b[0m \u001b[0mscore\u001b[0m\u001b[0;34m(\u001b[0m\u001b[0mself\u001b[0m\u001b[0;34m,\u001b[0m \u001b[0msentences\u001b[0m\u001b[0;34m,\u001b[0m \u001b[0mtotal_sentences\u001b[0m\u001b[0;34m=\u001b[0m\u001b[0mint\u001b[0m\u001b[0;34m(\u001b[0m\u001b[0;36m1e6\u001b[0m\u001b[0;34m)\u001b[0m\u001b[0;34m,\u001b[0m \u001b[0mchunksize\u001b[0m\u001b[0;34m=\u001b[0m\u001b[0;36m100\u001b[0m\u001b[0;34m,\u001b[0m \u001b[0mqueue_factor\u001b[0m\u001b[0;34m=\u001b[0m\u001b[0;36m2\u001b[0m\u001b[0;34m,\u001b[0m \u001b[0mreport_delay\u001b[0m\u001b[0;34m=\u001b[0m\u001b[0;36m1\u001b[0m\u001b[0;34m)\u001b[0m\u001b[0;34m:\u001b[0m\u001b[0;34m\u001b[0m\u001b[0;34m\u001b[0m\u001b[0m\n",
      "\u001b[0;32m~/.local/lib/python3.6/site-packages/gensim/models/base_any2vec.py\u001b[0m in \u001b[0;36mtrain\u001b[0;34m(self, sentences, corpus_file, total_examples, total_words, epochs, start_alpha, end_alpha, word_count, queue_factor, report_delay, compute_loss, callbacks, **kwargs)\u001b[0m\n\u001b[1;32m   1079\u001b[0m             \u001b[0mtotal_words\u001b[0m\u001b[0;34m=\u001b[0m\u001b[0mtotal_words\u001b[0m\u001b[0;34m,\u001b[0m \u001b[0mepochs\u001b[0m\u001b[0;34m=\u001b[0m\u001b[0mepochs\u001b[0m\u001b[0;34m,\u001b[0m \u001b[0mstart_alpha\u001b[0m\u001b[0;34m=\u001b[0m\u001b[0mstart_alpha\u001b[0m\u001b[0;34m,\u001b[0m \u001b[0mend_alpha\u001b[0m\u001b[0;34m=\u001b[0m\u001b[0mend_alpha\u001b[0m\u001b[0;34m,\u001b[0m \u001b[0mword_count\u001b[0m\u001b[0;34m=\u001b[0m\u001b[0mword_count\u001b[0m\u001b[0;34m,\u001b[0m\u001b[0;34m\u001b[0m\u001b[0;34m\u001b[0m\u001b[0m\n\u001b[1;32m   1080\u001b[0m             \u001b[0mqueue_factor\u001b[0m\u001b[0;34m=\u001b[0m\u001b[0mqueue_factor\u001b[0m\u001b[0;34m,\u001b[0m \u001b[0mreport_delay\u001b[0m\u001b[0;34m=\u001b[0m\u001b[0mreport_delay\u001b[0m\u001b[0;34m,\u001b[0m \u001b[0mcompute_loss\u001b[0m\u001b[0;34m=\u001b[0m\u001b[0mcompute_loss\u001b[0m\u001b[0;34m,\u001b[0m \u001b[0mcallbacks\u001b[0m\u001b[0;34m=\u001b[0m\u001b[0mcallbacks\u001b[0m\u001b[0;34m,\u001b[0m\u001b[0;34m\u001b[0m\u001b[0;34m\u001b[0m\u001b[0m\n\u001b[0;32m-> 1081\u001b[0;31m             **kwargs)\n\u001b[0m\u001b[1;32m   1082\u001b[0m \u001b[0;34m\u001b[0m\u001b[0m\n\u001b[1;32m   1083\u001b[0m     \u001b[0;32mdef\u001b[0m \u001b[0m_get_job_params\u001b[0m\u001b[0;34m(\u001b[0m\u001b[0mself\u001b[0m\u001b[0;34m,\u001b[0m \u001b[0mcur_epoch\u001b[0m\u001b[0;34m)\u001b[0m\u001b[0;34m:\u001b[0m\u001b[0;34m\u001b[0m\u001b[0;34m\u001b[0m\u001b[0m\n",
      "\u001b[0;32m~/.local/lib/python3.6/site-packages/gensim/models/base_any2vec.py\u001b[0m in \u001b[0;36mtrain\u001b[0;34m(self, data_iterable, corpus_file, epochs, total_examples, total_words, queue_factor, report_delay, callbacks, **kwargs)\u001b[0m\n\u001b[1;32m    534\u001b[0m             \u001b[0mepochs\u001b[0m\u001b[0;34m=\u001b[0m\u001b[0mepochs\u001b[0m\u001b[0;34m,\u001b[0m\u001b[0;34m\u001b[0m\u001b[0;34m\u001b[0m\u001b[0m\n\u001b[1;32m    535\u001b[0m             \u001b[0mtotal_examples\u001b[0m\u001b[0;34m=\u001b[0m\u001b[0mtotal_examples\u001b[0m\u001b[0;34m,\u001b[0m\u001b[0;34m\u001b[0m\u001b[0;34m\u001b[0m\u001b[0m\n\u001b[0;32m--> 536\u001b[0;31m             total_words=total_words, **kwargs)\n\u001b[0m\u001b[1;32m    537\u001b[0m \u001b[0;34m\u001b[0m\u001b[0m\n\u001b[1;32m    538\u001b[0m         \u001b[0;32mfor\u001b[0m \u001b[0mcallback\u001b[0m \u001b[0;32min\u001b[0m \u001b[0mself\u001b[0m\u001b[0;34m.\u001b[0m\u001b[0mcallbacks\u001b[0m\u001b[0;34m:\u001b[0m\u001b[0;34m\u001b[0m\u001b[0;34m\u001b[0m\u001b[0m\n",
      "\u001b[0;32m~/.local/lib/python3.6/site-packages/gensim/models/base_any2vec.py\u001b[0m in \u001b[0;36m_check_training_sanity\u001b[0;34m(self, epochs, total_examples, total_words, **kwargs)\u001b[0m\n\u001b[1;32m   1187\u001b[0m             \u001b[0;32mraise\u001b[0m \u001b[0mRuntimeError\u001b[0m\u001b[0;34m(\u001b[0m\u001b[0;34m\"you must first build vocabulary before training the model\"\u001b[0m\u001b[0;34m)\u001b[0m\u001b[0;34m\u001b[0m\u001b[0;34m\u001b[0m\u001b[0m\n\u001b[1;32m   1188\u001b[0m         \u001b[0;32mif\u001b[0m \u001b[0;32mnot\u001b[0m \u001b[0mlen\u001b[0m\u001b[0;34m(\u001b[0m\u001b[0mself\u001b[0m\u001b[0;34m.\u001b[0m\u001b[0mwv\u001b[0m\u001b[0;34m.\u001b[0m\u001b[0mvectors\u001b[0m\u001b[0;34m)\u001b[0m\u001b[0;34m:\u001b[0m\u001b[0;34m\u001b[0m\u001b[0;34m\u001b[0m\u001b[0m\n\u001b[0;32m-> 1189\u001b[0;31m             \u001b[0;32mraise\u001b[0m \u001b[0mRuntimeError\u001b[0m\u001b[0;34m(\u001b[0m\u001b[0;34m\"you must initialize vectors before training the model\"\u001b[0m\u001b[0;34m)\u001b[0m\u001b[0;34m\u001b[0m\u001b[0;34m\u001b[0m\u001b[0m\n\u001b[0m\u001b[1;32m   1190\u001b[0m \u001b[0;34m\u001b[0m\u001b[0m\n\u001b[1;32m   1191\u001b[0m         \u001b[0;32mif\u001b[0m \u001b[0;32mnot\u001b[0m \u001b[0mhasattr\u001b[0m\u001b[0;34m(\u001b[0m\u001b[0mself\u001b[0m\u001b[0;34m,\u001b[0m \u001b[0;34m'corpus_count'\u001b[0m\u001b[0;34m)\u001b[0m\u001b[0;34m:\u001b[0m\u001b[0;34m\u001b[0m\u001b[0;34m\u001b[0m\u001b[0m\n",
      "\u001b[0;31mRuntimeError\u001b[0m: you must initialize vectors before training the model"
     ]
    }
   ],
   "source": [
    "model.train(review_text, total_examples=model.corpus_count, epochs=model.epochs)"
   ]
  },
  {
   "cell_type": "code",
   "execution_count": 30,
   "id": "aa156001",
   "metadata": {},
   "outputs": [
    {
     "name": "stdout",
     "output_type": "stream",
     "text": [
      "74883\n"
     ]
    }
   ],
   "source": [
    "print(model.wv.vocab['casa'].count)"
   ]
  },
  {
   "cell_type": "code",
   "execution_count": null,
   "id": "e69b59ab",
   "metadata": {},
   "outputs": [],
   "source": []
  },
  {
   "cell_type": "code",
   "execution_count": null,
   "id": "7f620c88",
   "metadata": {},
   "outputs": [],
   "source": [
    "test\n"
   ]
  },
  {
   "cell_type": "code",
   "execution_count": null,
   "id": "e974559f",
   "metadata": {},
   "outputs": [],
   "source": [
    "test"
   ]
  },
  {
   "cell_type": "code",
   "execution_count": 31,
   "id": "c52f43f4",
   "metadata": {},
   "outputs": [
    {
     "data": {
      "text/plain": [
       "1"
      ]
     },
     "execution_count": 31,
     "metadata": {},
     "output_type": "execute_result"
    }
   ],
   "source": [
    "test\n"
   ]
  },
  {
   "cell_type": "code",
   "execution_count": 32,
   "id": "5bce245b",
   "metadata": {},
   "outputs": [
    {
     "data": {
      "text/plain": [
       "1"
      ]
     },
     "execution_count": 32,
     "metadata": {},
     "output_type": "execute_result"
    }
   ],
   "source": [
    "test"
   ]
  },
  {
   "cell_type": "code",
   "execution_count": 33,
   "id": "50ce884c",
   "metadata": {},
   "outputs": [
    {
     "data": {
      "text/plain": [
       "1"
      ]
     },
     "execution_count": 33,
     "metadata": {},
     "output_type": "execute_result"
    }
   ],
   "source": [
    "test"
   ]
  },
  {
   "cell_type": "code",
   "execution_count": 34,
   "id": "6cb8cbe5",
   "metadata": {},
   "outputs": [
    {
     "data": {
      "text/plain": [
       "1"
      ]
     },
     "execution_count": 34,
     "metadata": {},
     "output_type": "execute_result"
    }
   ],
   "source": [
    "test"
   ]
  },
  {
   "cell_type": "code",
   "execution_count": 39,
   "id": "7e7b51f0",
   "metadata": {},
   "outputs": [
    {
     "name": "stdout",
     "output_type": "stream",
     "text": [
      "74883\n"
     ]
    }
   ],
   "source": [
    "print(model.wv.vocab['casa'].count)"
   ]
  },
  {
   "cell_type": "code",
   "execution_count": 37,
   "id": "cdb15950",
   "metadata": {},
   "outputs": [
    {
     "name": "stdout",
     "output_type": "stream",
     "text": [
      "review_text não é uma lista.\n"
     ]
    }
   ],
   "source": [
    "# Verificar se review_text é uma lista\n",
    "if isinstance(review_text, list):\n",
    "    print(\"review_text é uma lista.\")\n",
    "    \n",
    "    # Verificar se cada item em review_text é também uma lista\n",
    "    if all(isinstance(item, list) for item in review_text):\n",
    "        print(\"Cada item em review_text é uma lista.\")\n",
    "        \n",
    "        # Verificar se cada item em cada lista é uma string\n",
    "        if all(isinstance(subitem, str) for item in review_text for subitem in item):\n",
    "            print(\"Cada item em cada lista é uma string.\")\n",
    "        else:\n",
    "            print(\"Algum item em uma das listas não é uma string.\")\n",
    "    else:\n",
    "        print(\"Algum item em review_text não é uma lista.\")\n",
    "else:\n",
    "    print(\"review_text não é uma lista.\")"
   ]
  },
  {
   "cell_type": "code",
   "execution_count": 38,
   "id": "0570ac5f",
   "metadata": {},
   "outputs": [
    {
     "ename": "AttributeError",
     "evalue": "'Series' object has no attribute 'split'",
     "output_type": "error",
     "traceback": [
      "\u001b[0;31m---------------------------------------------------------------------------\u001b[0m",
      "\u001b[0;31mAttributeError\u001b[0m                            Traceback (most recent call last)",
      "\u001b[0;32m<ipython-input-38-a888a6ab67fa>\u001b[0m in \u001b[0;36m<module>\u001b[0;34m\u001b[0m\n\u001b[1;32m      1\u001b[0m \u001b[0;31m# Dividir a string em sentenças\u001b[0m\u001b[0;34m\u001b[0m\u001b[0;34m\u001b[0m\u001b[0;34m\u001b[0m\u001b[0m\n\u001b[0;32m----> 2\u001b[0;31m \u001b[0msentences\u001b[0m \u001b[0;34m=\u001b[0m \u001b[0mreview_text\u001b[0m\u001b[0;34m.\u001b[0m\u001b[0msplit\u001b[0m\u001b[0;34m(\u001b[0m\u001b[0;34m'.'\u001b[0m\u001b[0;34m)\u001b[0m\u001b[0;34m\u001b[0m\u001b[0;34m\u001b[0m\u001b[0m\n\u001b[0m\u001b[1;32m      3\u001b[0m \u001b[0;34m\u001b[0m\u001b[0m\n\u001b[1;32m      4\u001b[0m \u001b[0;31m# Dividir cada sentença em palavras\u001b[0m\u001b[0;34m\u001b[0m\u001b[0;34m\u001b[0m\u001b[0;34m\u001b[0m\u001b[0m\n\u001b[1;32m      5\u001b[0m \u001b[0mreview_text\u001b[0m \u001b[0;34m=\u001b[0m \u001b[0;34m[\u001b[0m\u001b[0msentence\u001b[0m\u001b[0;34m.\u001b[0m\u001b[0msplit\u001b[0m\u001b[0;34m(\u001b[0m\u001b[0;34m)\u001b[0m \u001b[0;32mfor\u001b[0m \u001b[0msentence\u001b[0m \u001b[0;32min\u001b[0m \u001b[0msentences\u001b[0m\u001b[0;34m]\u001b[0m\u001b[0;34m\u001b[0m\u001b[0;34m\u001b[0m\u001b[0m\n",
      "\u001b[0;32m~/.local/lib/python3.6/site-packages/pandas/core/generic.py\u001b[0m in \u001b[0;36m__getattr__\u001b[0;34m(self, name)\u001b[0m\n\u001b[1;32m   5139\u001b[0m             \u001b[0;32mif\u001b[0m \u001b[0mself\u001b[0m\u001b[0;34m.\u001b[0m\u001b[0m_info_axis\u001b[0m\u001b[0;34m.\u001b[0m\u001b[0m_can_hold_identifiers_and_holds_name\u001b[0m\u001b[0;34m(\u001b[0m\u001b[0mname\u001b[0m\u001b[0;34m)\u001b[0m\u001b[0;34m:\u001b[0m\u001b[0;34m\u001b[0m\u001b[0;34m\u001b[0m\u001b[0m\n\u001b[1;32m   5140\u001b[0m                 \u001b[0;32mreturn\u001b[0m \u001b[0mself\u001b[0m\u001b[0;34m[\u001b[0m\u001b[0mname\u001b[0m\u001b[0;34m]\u001b[0m\u001b[0;34m\u001b[0m\u001b[0;34m\u001b[0m\u001b[0m\n\u001b[0;32m-> 5141\u001b[0;31m             \u001b[0;32mreturn\u001b[0m \u001b[0mobject\u001b[0m\u001b[0;34m.\u001b[0m\u001b[0m__getattribute__\u001b[0m\u001b[0;34m(\u001b[0m\u001b[0mself\u001b[0m\u001b[0;34m,\u001b[0m \u001b[0mname\u001b[0m\u001b[0;34m)\u001b[0m\u001b[0;34m\u001b[0m\u001b[0;34m\u001b[0m\u001b[0m\n\u001b[0m\u001b[1;32m   5142\u001b[0m \u001b[0;34m\u001b[0m\u001b[0m\n\u001b[1;32m   5143\u001b[0m     \u001b[0;32mdef\u001b[0m \u001b[0m__setattr__\u001b[0m\u001b[0;34m(\u001b[0m\u001b[0mself\u001b[0m\u001b[0;34m,\u001b[0m \u001b[0mname\u001b[0m\u001b[0;34m:\u001b[0m \u001b[0mstr\u001b[0m\u001b[0;34m,\u001b[0m \u001b[0mvalue\u001b[0m\u001b[0;34m)\u001b[0m \u001b[0;34m->\u001b[0m \u001b[0;32mNone\u001b[0m\u001b[0;34m:\u001b[0m\u001b[0;34m\u001b[0m\u001b[0;34m\u001b[0m\u001b[0m\n",
      "\u001b[0;31mAttributeError\u001b[0m: 'Series' object has no attribute 'split'"
     ]
    }
   ],
   "source": [
    "# Dividir a string em sentenças\n",
    "sentences = review_text.split('.')\n",
    "\n",
    "# Dividir cada sentença em palavras\n",
    "review_text = [sentence.split() for sentence in sentences]"
   ]
  },
  {
   "cell_type": "code",
   "execution_count": 41,
   "id": "f15f576e",
   "metadata": {},
   "outputs": [
    {
     "ename": "RuntimeError",
     "evalue": "you must initialize vectors before training the model",
     "output_type": "error",
     "traceback": [
      "\u001b[0;31m---------------------------------------------------------------------------\u001b[0m",
      "\u001b[0;31mRuntimeError\u001b[0m                              Traceback (most recent call last)",
      "\u001b[0;32m<ipython-input-41-032c6836947d>\u001b[0m in \u001b[0;36m<module>\u001b[0;34m\u001b[0m\n\u001b[0;32m----> 1\u001b[0;31m \u001b[0mmodel\u001b[0m\u001b[0;34m.\u001b[0m\u001b[0mtrain\u001b[0m\u001b[0;34m(\u001b[0m\u001b[0mreview_text\u001b[0m\u001b[0;34m,\u001b[0m \u001b[0mtotal_examples\u001b[0m\u001b[0;34m=\u001b[0m\u001b[0mmodel\u001b[0m\u001b[0;34m.\u001b[0m\u001b[0mcorpus_count\u001b[0m\u001b[0;34m,\u001b[0m \u001b[0mepochs\u001b[0m\u001b[0;34m=\u001b[0m\u001b[0mmodel\u001b[0m\u001b[0;34m.\u001b[0m\u001b[0mepochs\u001b[0m\u001b[0;34m)\u001b[0m\u001b[0;34m\u001b[0m\u001b[0;34m\u001b[0m\u001b[0m\n\u001b[0m",
      "\u001b[0;32m~/.local/lib/python3.6/site-packages/gensim/models/word2vec.py\u001b[0m in \u001b[0;36mtrain\u001b[0;34m(self, sentences, corpus_file, total_examples, total_words, epochs, start_alpha, end_alpha, word_count, queue_factor, report_delay, compute_loss, callbacks)\u001b[0m\n\u001b[1;32m    908\u001b[0m             \u001b[0msentences\u001b[0m\u001b[0;34m=\u001b[0m\u001b[0msentences\u001b[0m\u001b[0;34m,\u001b[0m \u001b[0mcorpus_file\u001b[0m\u001b[0;34m=\u001b[0m\u001b[0mcorpus_file\u001b[0m\u001b[0;34m,\u001b[0m \u001b[0mtotal_examples\u001b[0m\u001b[0;34m=\u001b[0m\u001b[0mtotal_examples\u001b[0m\u001b[0;34m,\u001b[0m \u001b[0mtotal_words\u001b[0m\u001b[0;34m=\u001b[0m\u001b[0mtotal_words\u001b[0m\u001b[0;34m,\u001b[0m\u001b[0;34m\u001b[0m\u001b[0;34m\u001b[0m\u001b[0m\n\u001b[1;32m    909\u001b[0m             \u001b[0mepochs\u001b[0m\u001b[0;34m=\u001b[0m\u001b[0mepochs\u001b[0m\u001b[0;34m,\u001b[0m \u001b[0mstart_alpha\u001b[0m\u001b[0;34m=\u001b[0m\u001b[0mstart_alpha\u001b[0m\u001b[0;34m,\u001b[0m \u001b[0mend_alpha\u001b[0m\u001b[0;34m=\u001b[0m\u001b[0mend_alpha\u001b[0m\u001b[0;34m,\u001b[0m \u001b[0mword_count\u001b[0m\u001b[0;34m=\u001b[0m\u001b[0mword_count\u001b[0m\u001b[0;34m,\u001b[0m\u001b[0;34m\u001b[0m\u001b[0;34m\u001b[0m\u001b[0m\n\u001b[0;32m--> 910\u001b[0;31m             queue_factor=queue_factor, report_delay=report_delay, compute_loss=compute_loss, callbacks=callbacks)\n\u001b[0m\u001b[1;32m    911\u001b[0m \u001b[0;34m\u001b[0m\u001b[0m\n\u001b[1;32m    912\u001b[0m     \u001b[0;32mdef\u001b[0m \u001b[0mscore\u001b[0m\u001b[0;34m(\u001b[0m\u001b[0mself\u001b[0m\u001b[0;34m,\u001b[0m \u001b[0msentences\u001b[0m\u001b[0;34m,\u001b[0m \u001b[0mtotal_sentences\u001b[0m\u001b[0;34m=\u001b[0m\u001b[0mint\u001b[0m\u001b[0;34m(\u001b[0m\u001b[0;36m1e6\u001b[0m\u001b[0;34m)\u001b[0m\u001b[0;34m,\u001b[0m \u001b[0mchunksize\u001b[0m\u001b[0;34m=\u001b[0m\u001b[0;36m100\u001b[0m\u001b[0;34m,\u001b[0m \u001b[0mqueue_factor\u001b[0m\u001b[0;34m=\u001b[0m\u001b[0;36m2\u001b[0m\u001b[0;34m,\u001b[0m \u001b[0mreport_delay\u001b[0m\u001b[0;34m=\u001b[0m\u001b[0;36m1\u001b[0m\u001b[0;34m)\u001b[0m\u001b[0;34m:\u001b[0m\u001b[0;34m\u001b[0m\u001b[0;34m\u001b[0m\u001b[0m\n",
      "\u001b[0;32m~/.local/lib/python3.6/site-packages/gensim/models/base_any2vec.py\u001b[0m in \u001b[0;36mtrain\u001b[0;34m(self, sentences, corpus_file, total_examples, total_words, epochs, start_alpha, end_alpha, word_count, queue_factor, report_delay, compute_loss, callbacks, **kwargs)\u001b[0m\n\u001b[1;32m   1079\u001b[0m             \u001b[0mtotal_words\u001b[0m\u001b[0;34m=\u001b[0m\u001b[0mtotal_words\u001b[0m\u001b[0;34m,\u001b[0m \u001b[0mepochs\u001b[0m\u001b[0;34m=\u001b[0m\u001b[0mepochs\u001b[0m\u001b[0;34m,\u001b[0m \u001b[0mstart_alpha\u001b[0m\u001b[0;34m=\u001b[0m\u001b[0mstart_alpha\u001b[0m\u001b[0;34m,\u001b[0m \u001b[0mend_alpha\u001b[0m\u001b[0;34m=\u001b[0m\u001b[0mend_alpha\u001b[0m\u001b[0;34m,\u001b[0m \u001b[0mword_count\u001b[0m\u001b[0;34m=\u001b[0m\u001b[0mword_count\u001b[0m\u001b[0;34m,\u001b[0m\u001b[0;34m\u001b[0m\u001b[0;34m\u001b[0m\u001b[0m\n\u001b[1;32m   1080\u001b[0m             \u001b[0mqueue_factor\u001b[0m\u001b[0;34m=\u001b[0m\u001b[0mqueue_factor\u001b[0m\u001b[0;34m,\u001b[0m \u001b[0mreport_delay\u001b[0m\u001b[0;34m=\u001b[0m\u001b[0mreport_delay\u001b[0m\u001b[0;34m,\u001b[0m \u001b[0mcompute_loss\u001b[0m\u001b[0;34m=\u001b[0m\u001b[0mcompute_loss\u001b[0m\u001b[0;34m,\u001b[0m \u001b[0mcallbacks\u001b[0m\u001b[0;34m=\u001b[0m\u001b[0mcallbacks\u001b[0m\u001b[0;34m,\u001b[0m\u001b[0;34m\u001b[0m\u001b[0;34m\u001b[0m\u001b[0m\n\u001b[0;32m-> 1081\u001b[0;31m             **kwargs)\n\u001b[0m\u001b[1;32m   1082\u001b[0m \u001b[0;34m\u001b[0m\u001b[0m\n\u001b[1;32m   1083\u001b[0m     \u001b[0;32mdef\u001b[0m \u001b[0m_get_job_params\u001b[0m\u001b[0;34m(\u001b[0m\u001b[0mself\u001b[0m\u001b[0;34m,\u001b[0m \u001b[0mcur_epoch\u001b[0m\u001b[0;34m)\u001b[0m\u001b[0;34m:\u001b[0m\u001b[0;34m\u001b[0m\u001b[0;34m\u001b[0m\u001b[0m\n",
      "\u001b[0;32m~/.local/lib/python3.6/site-packages/gensim/models/base_any2vec.py\u001b[0m in \u001b[0;36mtrain\u001b[0;34m(self, data_iterable, corpus_file, epochs, total_examples, total_words, queue_factor, report_delay, callbacks, **kwargs)\u001b[0m\n\u001b[1;32m    534\u001b[0m             \u001b[0mepochs\u001b[0m\u001b[0;34m=\u001b[0m\u001b[0mepochs\u001b[0m\u001b[0;34m,\u001b[0m\u001b[0;34m\u001b[0m\u001b[0;34m\u001b[0m\u001b[0m\n\u001b[1;32m    535\u001b[0m             \u001b[0mtotal_examples\u001b[0m\u001b[0;34m=\u001b[0m\u001b[0mtotal_examples\u001b[0m\u001b[0;34m,\u001b[0m\u001b[0;34m\u001b[0m\u001b[0;34m\u001b[0m\u001b[0m\n\u001b[0;32m--> 536\u001b[0;31m             total_words=total_words, **kwargs)\n\u001b[0m\u001b[1;32m    537\u001b[0m \u001b[0;34m\u001b[0m\u001b[0m\n\u001b[1;32m    538\u001b[0m         \u001b[0;32mfor\u001b[0m \u001b[0mcallback\u001b[0m \u001b[0;32min\u001b[0m \u001b[0mself\u001b[0m\u001b[0;34m.\u001b[0m\u001b[0mcallbacks\u001b[0m\u001b[0;34m:\u001b[0m\u001b[0;34m\u001b[0m\u001b[0;34m\u001b[0m\u001b[0m\n",
      "\u001b[0;32m~/.local/lib/python3.6/site-packages/gensim/models/base_any2vec.py\u001b[0m in \u001b[0;36m_check_training_sanity\u001b[0;34m(self, epochs, total_examples, total_words, **kwargs)\u001b[0m\n\u001b[1;32m   1187\u001b[0m             \u001b[0;32mraise\u001b[0m \u001b[0mRuntimeError\u001b[0m\u001b[0;34m(\u001b[0m\u001b[0;34m\"you must first build vocabulary before training the model\"\u001b[0m\u001b[0;34m)\u001b[0m\u001b[0;34m\u001b[0m\u001b[0;34m\u001b[0m\u001b[0m\n\u001b[1;32m   1188\u001b[0m         \u001b[0;32mif\u001b[0m \u001b[0;32mnot\u001b[0m \u001b[0mlen\u001b[0m\u001b[0;34m(\u001b[0m\u001b[0mself\u001b[0m\u001b[0;34m.\u001b[0m\u001b[0mwv\u001b[0m\u001b[0;34m.\u001b[0m\u001b[0mvectors\u001b[0m\u001b[0;34m)\u001b[0m\u001b[0;34m:\u001b[0m\u001b[0;34m\u001b[0m\u001b[0;34m\u001b[0m\u001b[0m\n\u001b[0;32m-> 1189\u001b[0;31m             \u001b[0;32mraise\u001b[0m \u001b[0mRuntimeError\u001b[0m\u001b[0;34m(\u001b[0m\u001b[0;34m\"you must initialize vectors before training the model\"\u001b[0m\u001b[0;34m)\u001b[0m\u001b[0;34m\u001b[0m\u001b[0;34m\u001b[0m\u001b[0m\n\u001b[0m\u001b[1;32m   1190\u001b[0m \u001b[0;34m\u001b[0m\u001b[0m\n\u001b[1;32m   1191\u001b[0m         \u001b[0;32mif\u001b[0m \u001b[0;32mnot\u001b[0m \u001b[0mhasattr\u001b[0m\u001b[0;34m(\u001b[0m\u001b[0mself\u001b[0m\u001b[0;34m,\u001b[0m \u001b[0;34m'corpus_count'\u001b[0m\u001b[0;34m)\u001b[0m\u001b[0;34m:\u001b[0m\u001b[0;34m\u001b[0m\u001b[0;34m\u001b[0m\u001b[0m\n",
      "\u001b[0;31mRuntimeError\u001b[0m: you must initialize vectors before training the model"
     ]
    }
   ],
   "source": [
    "model.train(review_text, total_examples=model.corpus_count, epochs=model.epochs)"
   ]
  },
  {
   "cell_type": "code",
   "execution_count": 43,
   "id": "f36bca4b",
   "metadata": {},
   "outputs": [
    {
     "ename": "TypeError",
     "evalue": "'float' object is not iterable",
     "output_type": "error",
     "traceback": [
      "\u001b[0;31m---------------------------------------------------------------------------\u001b[0m",
      "\u001b[0;31mTypeError\u001b[0m                                 Traceback (most recent call last)",
      "\u001b[0;32m<ipython-input-43-54bcd63cf10b>\u001b[0m in \u001b[0;36m<module>\u001b[0;34m\u001b[0m\n\u001b[1;32m      3\u001b[0m \u001b[0;34m\u001b[0m\u001b[0m\n\u001b[1;32m      4\u001b[0m \u001b[0;31m# Dividir cada sentença em palavras\u001b[0m\u001b[0;34m\u001b[0m\u001b[0;34m\u001b[0m\u001b[0;34m\u001b[0m\u001b[0m\n\u001b[0;32m----> 5\u001b[0;31m \u001b[0mreview_text\u001b[0m \u001b[0;34m=\u001b[0m \u001b[0msentences\u001b[0m\u001b[0;34m.\u001b[0m\u001b[0mapply\u001b[0m\u001b[0;34m(\u001b[0m\u001b[0;32mlambda\u001b[0m \u001b[0mx\u001b[0m\u001b[0;34m:\u001b[0m \u001b[0;34m[\u001b[0m\u001b[0msentence\u001b[0m\u001b[0;34m.\u001b[0m\u001b[0msplit\u001b[0m\u001b[0;34m(\u001b[0m\u001b[0;34m)\u001b[0m \u001b[0;32mfor\u001b[0m \u001b[0msentence\u001b[0m \u001b[0;32min\u001b[0m \u001b[0mx\u001b[0m\u001b[0;34m]\u001b[0m\u001b[0;34m)\u001b[0m\u001b[0;34m\u001b[0m\u001b[0;34m\u001b[0m\u001b[0m\n\u001b[0m",
      "\u001b[0;32m~/.local/lib/python3.6/site-packages/pandas/core/series.py\u001b[0m in \u001b[0;36mapply\u001b[0;34m(self, func, convert_dtype, args, **kwds)\u001b[0m\n\u001b[1;32m   4211\u001b[0m             \u001b[0;32melse\u001b[0m\u001b[0;34m:\u001b[0m\u001b[0;34m\u001b[0m\u001b[0;34m\u001b[0m\u001b[0m\n\u001b[1;32m   4212\u001b[0m                 \u001b[0mvalues\u001b[0m \u001b[0;34m=\u001b[0m \u001b[0mself\u001b[0m\u001b[0;34m.\u001b[0m\u001b[0mastype\u001b[0m\u001b[0;34m(\u001b[0m\u001b[0mobject\u001b[0m\u001b[0;34m)\u001b[0m\u001b[0;34m.\u001b[0m\u001b[0m_values\u001b[0m\u001b[0;34m\u001b[0m\u001b[0;34m\u001b[0m\u001b[0m\n\u001b[0;32m-> 4213\u001b[0;31m                 \u001b[0mmapped\u001b[0m \u001b[0;34m=\u001b[0m \u001b[0mlib\u001b[0m\u001b[0;34m.\u001b[0m\u001b[0mmap_infer\u001b[0m\u001b[0;34m(\u001b[0m\u001b[0mvalues\u001b[0m\u001b[0;34m,\u001b[0m \u001b[0mf\u001b[0m\u001b[0;34m,\u001b[0m \u001b[0mconvert\u001b[0m\u001b[0;34m=\u001b[0m\u001b[0mconvert_dtype\u001b[0m\u001b[0;34m)\u001b[0m\u001b[0;34m\u001b[0m\u001b[0;34m\u001b[0m\u001b[0m\n\u001b[0m\u001b[1;32m   4214\u001b[0m \u001b[0;34m\u001b[0m\u001b[0m\n\u001b[1;32m   4215\u001b[0m         \u001b[0;32mif\u001b[0m \u001b[0mlen\u001b[0m\u001b[0;34m(\u001b[0m\u001b[0mmapped\u001b[0m\u001b[0;34m)\u001b[0m \u001b[0;32mand\u001b[0m \u001b[0misinstance\u001b[0m\u001b[0;34m(\u001b[0m\u001b[0mmapped\u001b[0m\u001b[0;34m[\u001b[0m\u001b[0;36m0\u001b[0m\u001b[0;34m]\u001b[0m\u001b[0;34m,\u001b[0m \u001b[0mSeries\u001b[0m\u001b[0;34m)\u001b[0m\u001b[0;34m:\u001b[0m\u001b[0;34m\u001b[0m\u001b[0;34m\u001b[0m\u001b[0m\n",
      "\u001b[0;32mpandas/_libs/lib.pyx\u001b[0m in \u001b[0;36mpandas._libs.lib.map_infer\u001b[0;34m()\u001b[0m\n",
      "\u001b[0;32m<ipython-input-43-54bcd63cf10b>\u001b[0m in \u001b[0;36m<lambda>\u001b[0;34m(x)\u001b[0m\n\u001b[1;32m      3\u001b[0m \u001b[0;34m\u001b[0m\u001b[0m\n\u001b[1;32m      4\u001b[0m \u001b[0;31m# Dividir cada sentença em palavras\u001b[0m\u001b[0;34m\u001b[0m\u001b[0;34m\u001b[0m\u001b[0;34m\u001b[0m\u001b[0m\n\u001b[0;32m----> 5\u001b[0;31m \u001b[0mreview_text\u001b[0m \u001b[0;34m=\u001b[0m \u001b[0msentences\u001b[0m\u001b[0;34m.\u001b[0m\u001b[0mapply\u001b[0m\u001b[0;34m(\u001b[0m\u001b[0;32mlambda\u001b[0m \u001b[0mx\u001b[0m\u001b[0;34m:\u001b[0m \u001b[0;34m[\u001b[0m\u001b[0msentence\u001b[0m\u001b[0;34m.\u001b[0m\u001b[0msplit\u001b[0m\u001b[0;34m(\u001b[0m\u001b[0;34m)\u001b[0m \u001b[0;32mfor\u001b[0m \u001b[0msentence\u001b[0m \u001b[0;32min\u001b[0m \u001b[0mx\u001b[0m\u001b[0;34m]\u001b[0m\u001b[0;34m)\u001b[0m\u001b[0;34m\u001b[0m\u001b[0;34m\u001b[0m\u001b[0m\n\u001b[0m",
      "\u001b[0;31mTypeError\u001b[0m: 'float' object is not iterable"
     ]
    }
   ],
   "source": [
    "# Dividir cada texto em sentenças\n",
    "sentences = review_text.str.split('.')\n",
    "\n",
    "# Dividir cada sentença em palavras\n",
    "review_text = sentences.apply(lambda x: [sentence.split() for sentence in x])"
   ]
  },
  {
   "cell_type": "code",
   "execution_count": 45,
   "id": "0101c1df",
   "metadata": {},
   "outputs": [
    {
     "name": "stdout",
     "output_type": "stream",
     "text": [
      "74883\n"
     ]
    }
   ],
   "source": [
    "print(model.wv.vocab['casa'].count)"
   ]
  },
  {
   "cell_type": "code",
   "execution_count": null,
   "id": "47bac7bc",
   "metadata": {},
   "outputs": [],
   "source": [
    "test"
   ]
  },
  {
   "cell_type": "code",
   "execution_count": 44,
   "id": "89f55930",
   "metadata": {},
   "outputs": [
    {
     "data": {
      "text/plain": [
       "1"
      ]
     },
     "execution_count": 44,
     "metadata": {},
     "output_type": "execute_result"
    }
   ],
   "source": [
    "test"
   ]
  },
  {
   "cell_type": "code",
   "execution_count": 46,
   "id": "5adcc190",
   "metadata": {},
   "outputs": [
    {
     "ename": "RuntimeError",
     "evalue": "you must initialize vectors before training the model",
     "output_type": "error",
     "traceback": [
      "\u001b[0;31m---------------------------------------------------------------------------\u001b[0m",
      "\u001b[0;31mRuntimeError\u001b[0m                              Traceback (most recent call last)",
      "\u001b[0;32m<ipython-input-46-032c6836947d>\u001b[0m in \u001b[0;36m<module>\u001b[0;34m\u001b[0m\n\u001b[0;32m----> 1\u001b[0;31m \u001b[0mmodel\u001b[0m\u001b[0;34m.\u001b[0m\u001b[0mtrain\u001b[0m\u001b[0;34m(\u001b[0m\u001b[0mreview_text\u001b[0m\u001b[0;34m,\u001b[0m \u001b[0mtotal_examples\u001b[0m\u001b[0;34m=\u001b[0m\u001b[0mmodel\u001b[0m\u001b[0;34m.\u001b[0m\u001b[0mcorpus_count\u001b[0m\u001b[0;34m,\u001b[0m \u001b[0mepochs\u001b[0m\u001b[0;34m=\u001b[0m\u001b[0mmodel\u001b[0m\u001b[0;34m.\u001b[0m\u001b[0mepochs\u001b[0m\u001b[0;34m)\u001b[0m\u001b[0;34m\u001b[0m\u001b[0;34m\u001b[0m\u001b[0m\n\u001b[0m",
      "\u001b[0;32m~/.local/lib/python3.6/site-packages/gensim/models/word2vec.py\u001b[0m in \u001b[0;36mtrain\u001b[0;34m(self, sentences, corpus_file, total_examples, total_words, epochs, start_alpha, end_alpha, word_count, queue_factor, report_delay, compute_loss, callbacks)\u001b[0m\n\u001b[1;32m    908\u001b[0m             \u001b[0msentences\u001b[0m\u001b[0;34m=\u001b[0m\u001b[0msentences\u001b[0m\u001b[0;34m,\u001b[0m \u001b[0mcorpus_file\u001b[0m\u001b[0;34m=\u001b[0m\u001b[0mcorpus_file\u001b[0m\u001b[0;34m,\u001b[0m \u001b[0mtotal_examples\u001b[0m\u001b[0;34m=\u001b[0m\u001b[0mtotal_examples\u001b[0m\u001b[0;34m,\u001b[0m \u001b[0mtotal_words\u001b[0m\u001b[0;34m=\u001b[0m\u001b[0mtotal_words\u001b[0m\u001b[0;34m,\u001b[0m\u001b[0;34m\u001b[0m\u001b[0;34m\u001b[0m\u001b[0m\n\u001b[1;32m    909\u001b[0m             \u001b[0mepochs\u001b[0m\u001b[0;34m=\u001b[0m\u001b[0mepochs\u001b[0m\u001b[0;34m,\u001b[0m \u001b[0mstart_alpha\u001b[0m\u001b[0;34m=\u001b[0m\u001b[0mstart_alpha\u001b[0m\u001b[0;34m,\u001b[0m \u001b[0mend_alpha\u001b[0m\u001b[0;34m=\u001b[0m\u001b[0mend_alpha\u001b[0m\u001b[0;34m,\u001b[0m \u001b[0mword_count\u001b[0m\u001b[0;34m=\u001b[0m\u001b[0mword_count\u001b[0m\u001b[0;34m,\u001b[0m\u001b[0;34m\u001b[0m\u001b[0;34m\u001b[0m\u001b[0m\n\u001b[0;32m--> 910\u001b[0;31m             queue_factor=queue_factor, report_delay=report_delay, compute_loss=compute_loss, callbacks=callbacks)\n\u001b[0m\u001b[1;32m    911\u001b[0m \u001b[0;34m\u001b[0m\u001b[0m\n\u001b[1;32m    912\u001b[0m     \u001b[0;32mdef\u001b[0m \u001b[0mscore\u001b[0m\u001b[0;34m(\u001b[0m\u001b[0mself\u001b[0m\u001b[0;34m,\u001b[0m \u001b[0msentences\u001b[0m\u001b[0;34m,\u001b[0m \u001b[0mtotal_sentences\u001b[0m\u001b[0;34m=\u001b[0m\u001b[0mint\u001b[0m\u001b[0;34m(\u001b[0m\u001b[0;36m1e6\u001b[0m\u001b[0;34m)\u001b[0m\u001b[0;34m,\u001b[0m \u001b[0mchunksize\u001b[0m\u001b[0;34m=\u001b[0m\u001b[0;36m100\u001b[0m\u001b[0;34m,\u001b[0m \u001b[0mqueue_factor\u001b[0m\u001b[0;34m=\u001b[0m\u001b[0;36m2\u001b[0m\u001b[0;34m,\u001b[0m \u001b[0mreport_delay\u001b[0m\u001b[0;34m=\u001b[0m\u001b[0;36m1\u001b[0m\u001b[0;34m)\u001b[0m\u001b[0;34m:\u001b[0m\u001b[0;34m\u001b[0m\u001b[0;34m\u001b[0m\u001b[0m\n",
      "\u001b[0;32m~/.local/lib/python3.6/site-packages/gensim/models/base_any2vec.py\u001b[0m in \u001b[0;36mtrain\u001b[0;34m(self, sentences, corpus_file, total_examples, total_words, epochs, start_alpha, end_alpha, word_count, queue_factor, report_delay, compute_loss, callbacks, **kwargs)\u001b[0m\n\u001b[1;32m   1079\u001b[0m             \u001b[0mtotal_words\u001b[0m\u001b[0;34m=\u001b[0m\u001b[0mtotal_words\u001b[0m\u001b[0;34m,\u001b[0m \u001b[0mepochs\u001b[0m\u001b[0;34m=\u001b[0m\u001b[0mepochs\u001b[0m\u001b[0;34m,\u001b[0m \u001b[0mstart_alpha\u001b[0m\u001b[0;34m=\u001b[0m\u001b[0mstart_alpha\u001b[0m\u001b[0;34m,\u001b[0m \u001b[0mend_alpha\u001b[0m\u001b[0;34m=\u001b[0m\u001b[0mend_alpha\u001b[0m\u001b[0;34m,\u001b[0m \u001b[0mword_count\u001b[0m\u001b[0;34m=\u001b[0m\u001b[0mword_count\u001b[0m\u001b[0;34m,\u001b[0m\u001b[0;34m\u001b[0m\u001b[0;34m\u001b[0m\u001b[0m\n\u001b[1;32m   1080\u001b[0m             \u001b[0mqueue_factor\u001b[0m\u001b[0;34m=\u001b[0m\u001b[0mqueue_factor\u001b[0m\u001b[0;34m,\u001b[0m \u001b[0mreport_delay\u001b[0m\u001b[0;34m=\u001b[0m\u001b[0mreport_delay\u001b[0m\u001b[0;34m,\u001b[0m \u001b[0mcompute_loss\u001b[0m\u001b[0;34m=\u001b[0m\u001b[0mcompute_loss\u001b[0m\u001b[0;34m,\u001b[0m \u001b[0mcallbacks\u001b[0m\u001b[0;34m=\u001b[0m\u001b[0mcallbacks\u001b[0m\u001b[0;34m,\u001b[0m\u001b[0;34m\u001b[0m\u001b[0;34m\u001b[0m\u001b[0m\n\u001b[0;32m-> 1081\u001b[0;31m             **kwargs)\n\u001b[0m\u001b[1;32m   1082\u001b[0m \u001b[0;34m\u001b[0m\u001b[0m\n\u001b[1;32m   1083\u001b[0m     \u001b[0;32mdef\u001b[0m \u001b[0m_get_job_params\u001b[0m\u001b[0;34m(\u001b[0m\u001b[0mself\u001b[0m\u001b[0;34m,\u001b[0m \u001b[0mcur_epoch\u001b[0m\u001b[0;34m)\u001b[0m\u001b[0;34m:\u001b[0m\u001b[0;34m\u001b[0m\u001b[0;34m\u001b[0m\u001b[0m\n",
      "\u001b[0;32m~/.local/lib/python3.6/site-packages/gensim/models/base_any2vec.py\u001b[0m in \u001b[0;36mtrain\u001b[0;34m(self, data_iterable, corpus_file, epochs, total_examples, total_words, queue_factor, report_delay, callbacks, **kwargs)\u001b[0m\n\u001b[1;32m    534\u001b[0m             \u001b[0mepochs\u001b[0m\u001b[0;34m=\u001b[0m\u001b[0mepochs\u001b[0m\u001b[0;34m,\u001b[0m\u001b[0;34m\u001b[0m\u001b[0;34m\u001b[0m\u001b[0m\n\u001b[1;32m    535\u001b[0m             \u001b[0mtotal_examples\u001b[0m\u001b[0;34m=\u001b[0m\u001b[0mtotal_examples\u001b[0m\u001b[0;34m,\u001b[0m\u001b[0;34m\u001b[0m\u001b[0;34m\u001b[0m\u001b[0m\n\u001b[0;32m--> 536\u001b[0;31m             total_words=total_words, **kwargs)\n\u001b[0m\u001b[1;32m    537\u001b[0m \u001b[0;34m\u001b[0m\u001b[0m\n\u001b[1;32m    538\u001b[0m         \u001b[0;32mfor\u001b[0m \u001b[0mcallback\u001b[0m \u001b[0;32min\u001b[0m \u001b[0mself\u001b[0m\u001b[0;34m.\u001b[0m\u001b[0mcallbacks\u001b[0m\u001b[0;34m:\u001b[0m\u001b[0;34m\u001b[0m\u001b[0;34m\u001b[0m\u001b[0m\n",
      "\u001b[0;32m~/.local/lib/python3.6/site-packages/gensim/models/base_any2vec.py\u001b[0m in \u001b[0;36m_check_training_sanity\u001b[0;34m(self, epochs, total_examples, total_words, **kwargs)\u001b[0m\n\u001b[1;32m   1187\u001b[0m             \u001b[0;32mraise\u001b[0m \u001b[0mRuntimeError\u001b[0m\u001b[0;34m(\u001b[0m\u001b[0;34m\"you must first build vocabulary before training the model\"\u001b[0m\u001b[0;34m)\u001b[0m\u001b[0;34m\u001b[0m\u001b[0;34m\u001b[0m\u001b[0m\n\u001b[1;32m   1188\u001b[0m         \u001b[0;32mif\u001b[0m \u001b[0;32mnot\u001b[0m \u001b[0mlen\u001b[0m\u001b[0;34m(\u001b[0m\u001b[0mself\u001b[0m\u001b[0;34m.\u001b[0m\u001b[0mwv\u001b[0m\u001b[0;34m.\u001b[0m\u001b[0mvectors\u001b[0m\u001b[0;34m)\u001b[0m\u001b[0;34m:\u001b[0m\u001b[0;34m\u001b[0m\u001b[0;34m\u001b[0m\u001b[0m\n\u001b[0;32m-> 1189\u001b[0;31m             \u001b[0;32mraise\u001b[0m \u001b[0mRuntimeError\u001b[0m\u001b[0;34m(\u001b[0m\u001b[0;34m\"you must initialize vectors before training the model\"\u001b[0m\u001b[0;34m)\u001b[0m\u001b[0;34m\u001b[0m\u001b[0;34m\u001b[0m\u001b[0m\n\u001b[0m\u001b[1;32m   1190\u001b[0m \u001b[0;34m\u001b[0m\u001b[0m\n\u001b[1;32m   1191\u001b[0m         \u001b[0;32mif\u001b[0m \u001b[0;32mnot\u001b[0m \u001b[0mhasattr\u001b[0m\u001b[0;34m(\u001b[0m\u001b[0mself\u001b[0m\u001b[0;34m,\u001b[0m \u001b[0;34m'corpus_count'\u001b[0m\u001b[0;34m)\u001b[0m\u001b[0;34m:\u001b[0m\u001b[0;34m\u001b[0m\u001b[0;34m\u001b[0m\u001b[0m\n",
      "\u001b[0;31mRuntimeError\u001b[0m: you must initialize vectors before training the model"
     ]
    }
   ],
   "source": [
    "model.train(review_text, total_examples=model.corpus_count, epochs=model.epochs)"
   ]
  },
  {
   "cell_type": "code",
   "execution_count": 47,
   "id": "c54b6801",
   "metadata": {},
   "outputs": [
    {
     "name": "stdout",
     "output_type": "stream",
     "text": [
      "review_text não é uma lista.\n"
     ]
    }
   ],
   "source": [
    "# Verifique se review_text é uma lista\n",
    "if isinstance(review_text, list):\n",
    "    # Verifique se todos os elementos são strings e não são vazios\n",
    "    if all(isinstance(item, str) and len(item) > 0 for item in review_text):\n",
    "        print(\"review_text é uma lista de palavras não vazias.\")\n",
    "    else:\n",
    "        print(\"review_text contém strings vazias ou não é composto apenas por strings.\")\n",
    "else:\n",
    "    print(\"review_text não é uma lista.\")"
   ]
  },
  {
   "cell_type": "code",
   "execution_count": 48,
   "id": "0e34b393",
   "metadata": {},
   "outputs": [
    {
     "data": {
      "text/plain": [
       "['na',\n",
       " 'tarde',\n",
       " 'de',\n",
       " 'domingo',\n",
       " 'luva',\n",
       " 'de',\n",
       " 'pedreiro',\n",
       " 'abriu',\n",
       " 'uma',\n",
       " 'live',\n",
       " 'sugeriu',\n",
       " 'que',\n",
       " 'melhor',\n",
       " 'seria',\n",
       " 'pagar',\n",
       " 'pensão',\n",
       " 'atual',\n",
       " 'namorada',\n",
       " 'távila',\n",
       " 'gomes',\n",
       " 'grávida',\n",
       " 'do',\n",
       " 'primeiro',\n",
       " 'filho',\n",
       " 'dele',\n",
       " 'sou',\n",
       " 'inamorável',\n",
       " 'disse',\n",
       " 'ele',\n",
       " 'deixando',\n",
       " 'seus',\n",
       " 'seguidores',\n",
       " 'perplexos',\n",
       " 'com',\n",
       " 'um',\n",
       " 'suposto',\n",
       " 'fim',\n",
       " 'precoce',\n",
       " 'do',\n",
       " 'romance',\n",
       " 'porém',\n",
       " 'mais',\n",
       " 'tarde',\n",
       " 'távila',\n",
       " 'desmentiu',\n",
       " 'que',\n",
       " 'ambos',\n",
       " 'tenham',\n",
       " 'encerrado',\n",
       " 'vínculo',\n",
       " 'em',\n",
       " 'outra',\n",
       " 'live',\n",
       " 'ambos',\n",
       " 'ironizaram',\n",
       " 'perguntas',\n",
       " 'sobre',\n",
       " 'suposto',\n",
       " 'fim',\n",
       " 'do',\n",
       " 'relacionamento',\n",
       " 'conforme',\n",
       " 'luva',\n",
       " 'as',\n",
       " 'frases',\n",
       " 'horas',\n",
       " 'antes',\n",
       " 'teriam',\n",
       " 'sido',\n",
       " 'resenha',\n",
       " 'ou',\n",
       " 'seja',\n",
       " 'brincadeira',\n",
       " 'não',\n",
       " 'pode',\n",
       " 'falar',\n",
       " 'mais',\n",
       " 'nada',\n",
       " 'tudo',\n",
       " 'que',\n",
       " 'eu',\n",
       " 'faço',\n",
       " 'eu',\n",
       " 'estou',\n",
       " 'errado',\n",
       " 'em',\n",
       " 'agosto',\n",
       " 'iran',\n",
       " 'ferreira',\n",
       " 'anunciou',\n",
       " 'que',\n",
       " 'será',\n",
       " 'pai',\n",
       " 'anúncio',\n",
       " 'foi',\n",
       " 'feito',\n",
       " 'nas',\n",
       " 'redes',\n",
       " 'sociais',\n",
       " 'do',\n",
       " 'influenciador',\n",
       " 'futuro',\n",
       " 'bebê',\n",
       " 'já',\n",
       " 'tem',\n",
       " 'nome',\n",
       " 'escolhido',\n",
       " 'cristiano',\n",
       " 'ronaldo',\n",
       " 'jr',\n",
       " 'mais',\n",
       " 'cristiano',\n",
       " 'ronaldo',\n",
       " 'jr',\n",
       " 'vem',\n",
       " 'aí',\n",
       " 'disse',\n",
       " 'luva',\n",
       " 'de',\n",
       " 'pedreiro',\n",
       " 'na',\n",
       " 'postagem',\n",
       " 'ele',\n",
       " 'contou',\n",
       " 'que',\n",
       " 'aguardava',\n",
       " 'um',\n",
       " 'momento',\n",
       " 'especial',\n",
       " 'para',\n",
       " 'fazer',\n",
       " 'anúncio',\n",
       " 'da',\n",
       " 'gestação',\n",
       " 'que',\n",
       " 'já',\n",
       " 'estaria',\n",
       " 'no',\n",
       " 'quinto',\n",
       " 'mês',\n",
       " 'influenciador',\n",
       " 'fã',\n",
       " 'declarado',\n",
       " 'do',\n",
       " 'jogador',\n",
       " 'português',\n",
       " 'quem',\n",
       " 'ele',\n",
       " 'prestará',\n",
       " 'homenagem',\n",
       " 'nomeando',\n",
       " 'seu',\n",
       " 'filho',\n",
       " 'há',\n",
       " 'cerca',\n",
       " 'de',\n",
       " 'um',\n",
       " 'mês',\n",
       " 'iran',\n",
       " 'compartilhou',\n",
       " 'na',\n",
       " 'web',\n",
       " 'ocasião',\n",
       " 'em',\n",
       " 'que',\n",
       " 'conheceu',\n",
       " 'ídolo',\n",
       " 'realizei',\n",
       " 'meu',\n",
       " 'sonho',\n",
       " 'que',\n",
       " 'era',\n",
       " 'conhecer',\n",
       " 'cristiano',\n",
       " 'ronaldo',\n",
       " 'ele',\n",
       " 'sempre',\n",
       " 'foi',\n",
       " 'minha',\n",
       " 'inspiração',\n",
       " 'isso',\n",
       " 'que',\n",
       " 'aconteceu',\n",
       " 'comigo',\n",
       " 'serve',\n",
       " 'de',\n",
       " 'exemplo',\n",
       " 'para',\n",
       " 'todos',\n",
       " 'vocês',\n",
       " 'não',\n",
       " 'desista',\n",
       " 'dos',\n",
       " 'seus',\n",
       " 'sonhos',\n",
       " 'receba',\n",
       " 'escreveu',\n",
       " 'ele']"
      ]
     },
     "execution_count": 48,
     "metadata": {},
     "output_type": "execute_result"
    }
   ],
   "source": [
    "review_text.loc[0]"
   ]
  },
  {
   "cell_type": "code",
   "execution_count": 49,
   "id": "70ca21e3",
   "metadata": {},
   "outputs": [
    {
     "data": {
      "text/plain": [
       "'Na tarde de domingo (17), Luva de Pedreiro abriu uma live e sugeriu que o melhor seria pagar pensão à atual namorada, Távila Gomes, grávida do primeiro filho dele. \"Sou inamorável\", disse ele, deixando seus seguidores perplexos com um suposto fim precoce do romance.Porém, mais tarde, Távila desmentiu que ambos tenham encerrado o vínculo. Em outra live, ambos ironizaram perguntas sobre o suposto fim do relacionamento. Conforme Luva, as frases horas antes teriam sido \"resenha\", ou seja, brincadeira. \"Não pode falar mais nada. Tudo o que eu faço, eu estou errado.\"Em agosto, Iran Ferreira anunciou que será pai. O anúncio foi feito nas redes sociais do influenciador. O futuro bebê já tem nome escolhido: Cristiano Ronaldo Jr. Mais \"Cristiano Ronaldo Jr vem aí\", disse Luva de Pedreiro na postagem. Ele contou que aguardava um momento especial para fazer o anúncio da gestação, que já estaria no quinto mês.O influenciador é fã declarado do jogador português, a quem ele prestará homenagem nomeando seu filho. Há cerca de um mês, Iran compartilhou na web a ocasião em que conheceu o ídolo.\"Realizei meu sonho que era conhecer Cristiano Ronaldo. Ele sempre foi minha inspiração. Isso que aconteceu comigo serve de exemplo para todos vocês. Não desista dos seus sonhos. Receba!\", escreveu ele.'"
      ]
     },
     "execution_count": 49,
     "metadata": {},
     "output_type": "execute_result"
    }
   ],
   "source": [
    "df.text.loc[0]"
   ]
  },
  {
   "cell_type": "code",
   "execution_count": 50,
   "id": "6b68986e",
   "metadata": {},
   "outputs": [
    {
     "ename": "IndexError",
     "evalue": "index 19429 is out of bounds for axis 0 with size 0",
     "output_type": "error",
     "traceback": [
      "\u001b[0;31m---------------------------------------------------------------------------\u001b[0m",
      "\u001b[0;31mIndexError\u001b[0m                                Traceback (most recent call last)",
      "\u001b[0;32m<ipython-input-50-688918227c5e>\u001b[0m in \u001b[0;36m<module>\u001b[0;34m\u001b[0m\n\u001b[0;32m----> 1\u001b[0;31m \u001b[0mmodel\u001b[0m\u001b[0;34m.\u001b[0m\u001b[0mwv\u001b[0m\u001b[0;34m.\u001b[0m\u001b[0mmost_similar\u001b[0m\u001b[0;34m(\u001b[0m\u001b[0;34m\"bad\"\u001b[0m\u001b[0;34m)\u001b[0m\u001b[0;34m\u001b[0m\u001b[0;34m\u001b[0m\u001b[0m\n\u001b[0m",
      "\u001b[0;32m~/.local/lib/python3.6/site-packages/gensim/models/keyedvectors.py\u001b[0m in \u001b[0;36mmost_similar\u001b[0;34m(self, positive, negative, topn, restrict_vocab, indexer)\u001b[0m\n\u001b[1;32m    551\u001b[0m                 \u001b[0mmean\u001b[0m\u001b[0;34m.\u001b[0m\u001b[0mappend\u001b[0m\u001b[0;34m(\u001b[0m\u001b[0mweight\u001b[0m \u001b[0;34m*\u001b[0m \u001b[0mword\u001b[0m\u001b[0;34m)\u001b[0m\u001b[0;34m\u001b[0m\u001b[0;34m\u001b[0m\u001b[0m\n\u001b[1;32m    552\u001b[0m             \u001b[0;32melse\u001b[0m\u001b[0;34m:\u001b[0m\u001b[0;34m\u001b[0m\u001b[0;34m\u001b[0m\u001b[0m\n\u001b[0;32m--> 553\u001b[0;31m                 \u001b[0mmean\u001b[0m\u001b[0;34m.\u001b[0m\u001b[0mappend\u001b[0m\u001b[0;34m(\u001b[0m\u001b[0mweight\u001b[0m \u001b[0;34m*\u001b[0m \u001b[0mself\u001b[0m\u001b[0;34m.\u001b[0m\u001b[0mword_vec\u001b[0m\u001b[0;34m(\u001b[0m\u001b[0mword\u001b[0m\u001b[0;34m,\u001b[0m \u001b[0muse_norm\u001b[0m\u001b[0;34m=\u001b[0m\u001b[0;32mTrue\u001b[0m\u001b[0;34m)\u001b[0m\u001b[0;34m)\u001b[0m\u001b[0;34m\u001b[0m\u001b[0;34m\u001b[0m\u001b[0m\n\u001b[0m\u001b[1;32m    554\u001b[0m                 \u001b[0;32mif\u001b[0m \u001b[0mword\u001b[0m \u001b[0;32min\u001b[0m \u001b[0mself\u001b[0m\u001b[0;34m.\u001b[0m\u001b[0mvocab\u001b[0m\u001b[0;34m:\u001b[0m\u001b[0;34m\u001b[0m\u001b[0;34m\u001b[0m\u001b[0m\n\u001b[1;32m    555\u001b[0m                     \u001b[0mall_words\u001b[0m\u001b[0;34m.\u001b[0m\u001b[0madd\u001b[0m\u001b[0;34m(\u001b[0m\u001b[0mself\u001b[0m\u001b[0;34m.\u001b[0m\u001b[0mvocab\u001b[0m\u001b[0;34m[\u001b[0m\u001b[0mword\u001b[0m\u001b[0;34m]\u001b[0m\u001b[0;34m.\u001b[0m\u001b[0mindex\u001b[0m\u001b[0;34m)\u001b[0m\u001b[0;34m\u001b[0m\u001b[0;34m\u001b[0m\u001b[0m\n",
      "\u001b[0;32m~/.local/lib/python3.6/site-packages/gensim/models/keyedvectors.py\u001b[0m in \u001b[0;36mword_vec\u001b[0;34m(self, word, use_norm)\u001b[0m\n\u001b[1;32m    459\u001b[0m         \u001b[0;32mif\u001b[0m \u001b[0mword\u001b[0m \u001b[0;32min\u001b[0m \u001b[0mself\u001b[0m\u001b[0;34m.\u001b[0m\u001b[0mvocab\u001b[0m\u001b[0;34m:\u001b[0m\u001b[0;34m\u001b[0m\u001b[0;34m\u001b[0m\u001b[0m\n\u001b[1;32m    460\u001b[0m             \u001b[0;32mif\u001b[0m \u001b[0muse_norm\u001b[0m\u001b[0;34m:\u001b[0m\u001b[0;34m\u001b[0m\u001b[0;34m\u001b[0m\u001b[0m\n\u001b[0;32m--> 461\u001b[0;31m                 \u001b[0mresult\u001b[0m \u001b[0;34m=\u001b[0m \u001b[0mself\u001b[0m\u001b[0;34m.\u001b[0m\u001b[0mvectors_norm\u001b[0m\u001b[0;34m[\u001b[0m\u001b[0mself\u001b[0m\u001b[0;34m.\u001b[0m\u001b[0mvocab\u001b[0m\u001b[0;34m[\u001b[0m\u001b[0mword\u001b[0m\u001b[0;34m]\u001b[0m\u001b[0;34m.\u001b[0m\u001b[0mindex\u001b[0m\u001b[0;34m]\u001b[0m\u001b[0;34m\u001b[0m\u001b[0;34m\u001b[0m\u001b[0m\n\u001b[0m\u001b[1;32m    462\u001b[0m             \u001b[0;32melse\u001b[0m\u001b[0;34m:\u001b[0m\u001b[0;34m\u001b[0m\u001b[0;34m\u001b[0m\u001b[0m\n\u001b[1;32m    463\u001b[0m                 \u001b[0mresult\u001b[0m \u001b[0;34m=\u001b[0m \u001b[0mself\u001b[0m\u001b[0;34m.\u001b[0m\u001b[0mvectors\u001b[0m\u001b[0;34m[\u001b[0m\u001b[0mself\u001b[0m\u001b[0;34m.\u001b[0m\u001b[0mvocab\u001b[0m\u001b[0;34m[\u001b[0m\u001b[0mword\u001b[0m\u001b[0;34m]\u001b[0m\u001b[0;34m.\u001b[0m\u001b[0mindex\u001b[0m\u001b[0;34m]\u001b[0m\u001b[0;34m\u001b[0m\u001b[0;34m\u001b[0m\u001b[0m\n",
      "\u001b[0;31mIndexError\u001b[0m: index 19429 is out of bounds for axis 0 with size 0"
     ]
    }
   ],
   "source": [
    "model.wv.most_similar(\"bad\")"
   ]
  },
  {
   "cell_type": "code",
   "execution_count": 51,
   "id": "c7f2499e",
   "metadata": {},
   "outputs": [
    {
     "ename": "IndexError",
     "evalue": "index 3608 is out of bounds for axis 0 with size 0",
     "output_type": "error",
     "traceback": [
      "\u001b[0;31m---------------------------------------------------------------------------\u001b[0m",
      "\u001b[0;31mIndexError\u001b[0m                                Traceback (most recent call last)",
      "\u001b[0;32m<ipython-input-51-0381744d62e0>\u001b[0m in \u001b[0;36m<module>\u001b[0;34m\u001b[0m\n\u001b[0;32m----> 1\u001b[0;31m \u001b[0mmodel\u001b[0m\u001b[0;34m.\u001b[0m\u001b[0mwv\u001b[0m\u001b[0;34m.\u001b[0m\u001b[0mmost_similar\u001b[0m\u001b[0;34m(\u001b[0m\u001b[0;34m\"ruim\"\u001b[0m\u001b[0;34m)\u001b[0m\u001b[0;34m\u001b[0m\u001b[0;34m\u001b[0m\u001b[0m\n\u001b[0m",
      "\u001b[0;32m~/.local/lib/python3.6/site-packages/gensim/models/keyedvectors.py\u001b[0m in \u001b[0;36mmost_similar\u001b[0;34m(self, positive, negative, topn, restrict_vocab, indexer)\u001b[0m\n\u001b[1;32m    551\u001b[0m                 \u001b[0mmean\u001b[0m\u001b[0;34m.\u001b[0m\u001b[0mappend\u001b[0m\u001b[0;34m(\u001b[0m\u001b[0mweight\u001b[0m \u001b[0;34m*\u001b[0m \u001b[0mword\u001b[0m\u001b[0;34m)\u001b[0m\u001b[0;34m\u001b[0m\u001b[0;34m\u001b[0m\u001b[0m\n\u001b[1;32m    552\u001b[0m             \u001b[0;32melse\u001b[0m\u001b[0;34m:\u001b[0m\u001b[0;34m\u001b[0m\u001b[0;34m\u001b[0m\u001b[0m\n\u001b[0;32m--> 553\u001b[0;31m                 \u001b[0mmean\u001b[0m\u001b[0;34m.\u001b[0m\u001b[0mappend\u001b[0m\u001b[0;34m(\u001b[0m\u001b[0mweight\u001b[0m \u001b[0;34m*\u001b[0m \u001b[0mself\u001b[0m\u001b[0;34m.\u001b[0m\u001b[0mword_vec\u001b[0m\u001b[0;34m(\u001b[0m\u001b[0mword\u001b[0m\u001b[0;34m,\u001b[0m \u001b[0muse_norm\u001b[0m\u001b[0;34m=\u001b[0m\u001b[0;32mTrue\u001b[0m\u001b[0;34m)\u001b[0m\u001b[0;34m)\u001b[0m\u001b[0;34m\u001b[0m\u001b[0;34m\u001b[0m\u001b[0m\n\u001b[0m\u001b[1;32m    554\u001b[0m                 \u001b[0;32mif\u001b[0m \u001b[0mword\u001b[0m \u001b[0;32min\u001b[0m \u001b[0mself\u001b[0m\u001b[0;34m.\u001b[0m\u001b[0mvocab\u001b[0m\u001b[0;34m:\u001b[0m\u001b[0;34m\u001b[0m\u001b[0;34m\u001b[0m\u001b[0m\n\u001b[1;32m    555\u001b[0m                     \u001b[0mall_words\u001b[0m\u001b[0;34m.\u001b[0m\u001b[0madd\u001b[0m\u001b[0;34m(\u001b[0m\u001b[0mself\u001b[0m\u001b[0;34m.\u001b[0m\u001b[0mvocab\u001b[0m\u001b[0;34m[\u001b[0m\u001b[0mword\u001b[0m\u001b[0;34m]\u001b[0m\u001b[0;34m.\u001b[0m\u001b[0mindex\u001b[0m\u001b[0;34m)\u001b[0m\u001b[0;34m\u001b[0m\u001b[0;34m\u001b[0m\u001b[0m\n",
      "\u001b[0;32m~/.local/lib/python3.6/site-packages/gensim/models/keyedvectors.py\u001b[0m in \u001b[0;36mword_vec\u001b[0;34m(self, word, use_norm)\u001b[0m\n\u001b[1;32m    459\u001b[0m         \u001b[0;32mif\u001b[0m \u001b[0mword\u001b[0m \u001b[0;32min\u001b[0m \u001b[0mself\u001b[0m\u001b[0;34m.\u001b[0m\u001b[0mvocab\u001b[0m\u001b[0;34m:\u001b[0m\u001b[0;34m\u001b[0m\u001b[0;34m\u001b[0m\u001b[0m\n\u001b[1;32m    460\u001b[0m             \u001b[0;32mif\u001b[0m \u001b[0muse_norm\u001b[0m\u001b[0;34m:\u001b[0m\u001b[0;34m\u001b[0m\u001b[0;34m\u001b[0m\u001b[0m\n\u001b[0;32m--> 461\u001b[0;31m                 \u001b[0mresult\u001b[0m \u001b[0;34m=\u001b[0m \u001b[0mself\u001b[0m\u001b[0;34m.\u001b[0m\u001b[0mvectors_norm\u001b[0m\u001b[0;34m[\u001b[0m\u001b[0mself\u001b[0m\u001b[0;34m.\u001b[0m\u001b[0mvocab\u001b[0m\u001b[0;34m[\u001b[0m\u001b[0mword\u001b[0m\u001b[0;34m]\u001b[0m\u001b[0;34m.\u001b[0m\u001b[0mindex\u001b[0m\u001b[0;34m]\u001b[0m\u001b[0;34m\u001b[0m\u001b[0;34m\u001b[0m\u001b[0m\n\u001b[0m\u001b[1;32m    462\u001b[0m             \u001b[0;32melse\u001b[0m\u001b[0;34m:\u001b[0m\u001b[0;34m\u001b[0m\u001b[0;34m\u001b[0m\u001b[0m\n\u001b[1;32m    463\u001b[0m                 \u001b[0mresult\u001b[0m \u001b[0;34m=\u001b[0m \u001b[0mself\u001b[0m\u001b[0;34m.\u001b[0m\u001b[0mvectors\u001b[0m\u001b[0;34m[\u001b[0m\u001b[0mself\u001b[0m\u001b[0;34m.\u001b[0m\u001b[0mvocab\u001b[0m\u001b[0;34m[\u001b[0m\u001b[0mword\u001b[0m\u001b[0;34m]\u001b[0m\u001b[0;34m.\u001b[0m\u001b[0mindex\u001b[0m\u001b[0;34m]\u001b[0m\u001b[0;34m\u001b[0m\u001b[0;34m\u001b[0m\u001b[0m\n",
      "\u001b[0;31mIndexError\u001b[0m: index 3608 is out of bounds for axis 0 with size 0"
     ]
    }
   ],
   "source": [
    "model.wv.most_similar(\"ruim\")"
   ]
  },
  {
   "cell_type": "code",
   "execution_count": 52,
   "id": "283cfde2",
   "metadata": {},
   "outputs": [
    {
     "ename": "IndexError",
     "evalue": "index 141 is out of bounds for axis 0 with size 0",
     "output_type": "error",
     "traceback": [
      "\u001b[0;31m---------------------------------------------------------------------------\u001b[0m",
      "\u001b[0;31mIndexError\u001b[0m                                Traceback (most recent call last)",
      "\u001b[0;32m<ipython-input-52-c3ec49149456>\u001b[0m in \u001b[0;36m<module>\u001b[0;34m\u001b[0m\n\u001b[0;32m----> 1\u001b[0;31m \u001b[0mmodel\u001b[0m\u001b[0;34m.\u001b[0m\u001b[0mwv\u001b[0m\u001b[0;34m.\u001b[0m\u001b[0mmost_similar\u001b[0m\u001b[0;34m(\u001b[0m\u001b[0;34m\"receba\"\u001b[0m\u001b[0;34m)\u001b[0m\u001b[0;34m\u001b[0m\u001b[0;34m\u001b[0m\u001b[0m\n\u001b[0m",
      "\u001b[0;32m~/.local/lib/python3.6/site-packages/gensim/models/keyedvectors.py\u001b[0m in \u001b[0;36mmost_similar\u001b[0;34m(self, positive, negative, topn, restrict_vocab, indexer)\u001b[0m\n\u001b[1;32m    551\u001b[0m                 \u001b[0mmean\u001b[0m\u001b[0;34m.\u001b[0m\u001b[0mappend\u001b[0m\u001b[0;34m(\u001b[0m\u001b[0mweight\u001b[0m \u001b[0;34m*\u001b[0m \u001b[0mword\u001b[0m\u001b[0;34m)\u001b[0m\u001b[0;34m\u001b[0m\u001b[0;34m\u001b[0m\u001b[0m\n\u001b[1;32m    552\u001b[0m             \u001b[0;32melse\u001b[0m\u001b[0;34m:\u001b[0m\u001b[0;34m\u001b[0m\u001b[0;34m\u001b[0m\u001b[0m\n\u001b[0;32m--> 553\u001b[0;31m                 \u001b[0mmean\u001b[0m\u001b[0;34m.\u001b[0m\u001b[0mappend\u001b[0m\u001b[0;34m(\u001b[0m\u001b[0mweight\u001b[0m \u001b[0;34m*\u001b[0m \u001b[0mself\u001b[0m\u001b[0;34m.\u001b[0m\u001b[0mword_vec\u001b[0m\u001b[0;34m(\u001b[0m\u001b[0mword\u001b[0m\u001b[0;34m,\u001b[0m \u001b[0muse_norm\u001b[0m\u001b[0;34m=\u001b[0m\u001b[0;32mTrue\u001b[0m\u001b[0;34m)\u001b[0m\u001b[0;34m)\u001b[0m\u001b[0;34m\u001b[0m\u001b[0;34m\u001b[0m\u001b[0m\n\u001b[0m\u001b[1;32m    554\u001b[0m                 \u001b[0;32mif\u001b[0m \u001b[0mword\u001b[0m \u001b[0;32min\u001b[0m \u001b[0mself\u001b[0m\u001b[0;34m.\u001b[0m\u001b[0mvocab\u001b[0m\u001b[0;34m:\u001b[0m\u001b[0;34m\u001b[0m\u001b[0;34m\u001b[0m\u001b[0m\n\u001b[1;32m    555\u001b[0m                     \u001b[0mall_words\u001b[0m\u001b[0;34m.\u001b[0m\u001b[0madd\u001b[0m\u001b[0;34m(\u001b[0m\u001b[0mself\u001b[0m\u001b[0;34m.\u001b[0m\u001b[0mvocab\u001b[0m\u001b[0;34m[\u001b[0m\u001b[0mword\u001b[0m\u001b[0;34m]\u001b[0m\u001b[0;34m.\u001b[0m\u001b[0mindex\u001b[0m\u001b[0;34m)\u001b[0m\u001b[0;34m\u001b[0m\u001b[0;34m\u001b[0m\u001b[0m\n",
      "\u001b[0;32m~/.local/lib/python3.6/site-packages/gensim/models/keyedvectors.py\u001b[0m in \u001b[0;36mword_vec\u001b[0;34m(self, word, use_norm)\u001b[0m\n\u001b[1;32m    459\u001b[0m         \u001b[0;32mif\u001b[0m \u001b[0mword\u001b[0m \u001b[0;32min\u001b[0m \u001b[0mself\u001b[0m\u001b[0;34m.\u001b[0m\u001b[0mvocab\u001b[0m\u001b[0;34m:\u001b[0m\u001b[0;34m\u001b[0m\u001b[0;34m\u001b[0m\u001b[0m\n\u001b[1;32m    460\u001b[0m             \u001b[0;32mif\u001b[0m \u001b[0muse_norm\u001b[0m\u001b[0;34m:\u001b[0m\u001b[0;34m\u001b[0m\u001b[0;34m\u001b[0m\u001b[0m\n\u001b[0;32m--> 461\u001b[0;31m                 \u001b[0mresult\u001b[0m \u001b[0;34m=\u001b[0m \u001b[0mself\u001b[0m\u001b[0;34m.\u001b[0m\u001b[0mvectors_norm\u001b[0m\u001b[0;34m[\u001b[0m\u001b[0mself\u001b[0m\u001b[0;34m.\u001b[0m\u001b[0mvocab\u001b[0m\u001b[0;34m[\u001b[0m\u001b[0mword\u001b[0m\u001b[0;34m]\u001b[0m\u001b[0;34m.\u001b[0m\u001b[0mindex\u001b[0m\u001b[0;34m]\u001b[0m\u001b[0;34m\u001b[0m\u001b[0;34m\u001b[0m\u001b[0m\n\u001b[0m\u001b[1;32m    462\u001b[0m             \u001b[0;32melse\u001b[0m\u001b[0;34m:\u001b[0m\u001b[0;34m\u001b[0m\u001b[0;34m\u001b[0m\u001b[0m\n\u001b[1;32m    463\u001b[0m                 \u001b[0mresult\u001b[0m \u001b[0;34m=\u001b[0m \u001b[0mself\u001b[0m\u001b[0;34m.\u001b[0m\u001b[0mvectors\u001b[0m\u001b[0;34m[\u001b[0m\u001b[0mself\u001b[0m\u001b[0;34m.\u001b[0m\u001b[0mvocab\u001b[0m\u001b[0;34m[\u001b[0m\u001b[0mword\u001b[0m\u001b[0;34m]\u001b[0m\u001b[0;34m.\u001b[0m\u001b[0mindex\u001b[0m\u001b[0;34m]\u001b[0m\u001b[0;34m\u001b[0m\u001b[0;34m\u001b[0m\u001b[0m\n",
      "\u001b[0;31mIndexError\u001b[0m: index 141 is out of bounds for axis 0 with size 0"
     ]
    }
   ],
   "source": [
    "model.wv.most_similar(\"receba\")"
   ]
  },
  {
   "cell_type": "code",
   "execution_count": 53,
   "id": "e9541d9f",
   "metadata": {},
   "outputs": [
    {
     "ename": "IndexError",
     "evalue": "index 2 is out of bounds for axis 0 with size 0",
     "output_type": "error",
     "traceback": [
      "\u001b[0;31m---------------------------------------------------------------------------\u001b[0m",
      "\u001b[0;31mIndexError\u001b[0m                                Traceback (most recent call last)",
      "\u001b[0;32m<ipython-input-53-7cf45a69e5e3>\u001b[0m in \u001b[0;36m<module>\u001b[0;34m\u001b[0m\n\u001b[0;32m----> 1\u001b[0;31m \u001b[0mmodel\u001b[0m\u001b[0;34m.\u001b[0m\u001b[0mwv\u001b[0m\u001b[0;34m.\u001b[0m\u001b[0mmost_similar\u001b[0m\u001b[0;34m(\u001b[0m\u001b[0;34m\"de\"\u001b[0m\u001b[0;34m)\u001b[0m\u001b[0;34m\u001b[0m\u001b[0;34m\u001b[0m\u001b[0m\n\u001b[0m",
      "\u001b[0;32m~/.local/lib/python3.6/site-packages/gensim/models/keyedvectors.py\u001b[0m in \u001b[0;36mmost_similar\u001b[0;34m(self, positive, negative, topn, restrict_vocab, indexer)\u001b[0m\n\u001b[1;32m    551\u001b[0m                 \u001b[0mmean\u001b[0m\u001b[0;34m.\u001b[0m\u001b[0mappend\u001b[0m\u001b[0;34m(\u001b[0m\u001b[0mweight\u001b[0m \u001b[0;34m*\u001b[0m \u001b[0mword\u001b[0m\u001b[0;34m)\u001b[0m\u001b[0;34m\u001b[0m\u001b[0;34m\u001b[0m\u001b[0m\n\u001b[1;32m    552\u001b[0m             \u001b[0;32melse\u001b[0m\u001b[0;34m:\u001b[0m\u001b[0;34m\u001b[0m\u001b[0;34m\u001b[0m\u001b[0m\n\u001b[0;32m--> 553\u001b[0;31m                 \u001b[0mmean\u001b[0m\u001b[0;34m.\u001b[0m\u001b[0mappend\u001b[0m\u001b[0;34m(\u001b[0m\u001b[0mweight\u001b[0m \u001b[0;34m*\u001b[0m \u001b[0mself\u001b[0m\u001b[0;34m.\u001b[0m\u001b[0mword_vec\u001b[0m\u001b[0;34m(\u001b[0m\u001b[0mword\u001b[0m\u001b[0;34m,\u001b[0m \u001b[0muse_norm\u001b[0m\u001b[0;34m=\u001b[0m\u001b[0;32mTrue\u001b[0m\u001b[0;34m)\u001b[0m\u001b[0;34m)\u001b[0m\u001b[0;34m\u001b[0m\u001b[0;34m\u001b[0m\u001b[0m\n\u001b[0m\u001b[1;32m    554\u001b[0m                 \u001b[0;32mif\u001b[0m \u001b[0mword\u001b[0m \u001b[0;32min\u001b[0m \u001b[0mself\u001b[0m\u001b[0;34m.\u001b[0m\u001b[0mvocab\u001b[0m\u001b[0;34m:\u001b[0m\u001b[0;34m\u001b[0m\u001b[0;34m\u001b[0m\u001b[0m\n\u001b[1;32m    555\u001b[0m                     \u001b[0mall_words\u001b[0m\u001b[0;34m.\u001b[0m\u001b[0madd\u001b[0m\u001b[0;34m(\u001b[0m\u001b[0mself\u001b[0m\u001b[0;34m.\u001b[0m\u001b[0mvocab\u001b[0m\u001b[0;34m[\u001b[0m\u001b[0mword\u001b[0m\u001b[0;34m]\u001b[0m\u001b[0;34m.\u001b[0m\u001b[0mindex\u001b[0m\u001b[0;34m)\u001b[0m\u001b[0;34m\u001b[0m\u001b[0;34m\u001b[0m\u001b[0m\n",
      "\u001b[0;32m~/.local/lib/python3.6/site-packages/gensim/models/keyedvectors.py\u001b[0m in \u001b[0;36mword_vec\u001b[0;34m(self, word, use_norm)\u001b[0m\n\u001b[1;32m    459\u001b[0m         \u001b[0;32mif\u001b[0m \u001b[0mword\u001b[0m \u001b[0;32min\u001b[0m \u001b[0mself\u001b[0m\u001b[0;34m.\u001b[0m\u001b[0mvocab\u001b[0m\u001b[0;34m:\u001b[0m\u001b[0;34m\u001b[0m\u001b[0;34m\u001b[0m\u001b[0m\n\u001b[1;32m    460\u001b[0m             \u001b[0;32mif\u001b[0m \u001b[0muse_norm\u001b[0m\u001b[0;34m:\u001b[0m\u001b[0;34m\u001b[0m\u001b[0;34m\u001b[0m\u001b[0m\n\u001b[0;32m--> 461\u001b[0;31m                 \u001b[0mresult\u001b[0m \u001b[0;34m=\u001b[0m \u001b[0mself\u001b[0m\u001b[0;34m.\u001b[0m\u001b[0mvectors_norm\u001b[0m\u001b[0;34m[\u001b[0m\u001b[0mself\u001b[0m\u001b[0;34m.\u001b[0m\u001b[0mvocab\u001b[0m\u001b[0;34m[\u001b[0m\u001b[0mword\u001b[0m\u001b[0;34m]\u001b[0m\u001b[0;34m.\u001b[0m\u001b[0mindex\u001b[0m\u001b[0;34m]\u001b[0m\u001b[0;34m\u001b[0m\u001b[0;34m\u001b[0m\u001b[0m\n\u001b[0m\u001b[1;32m    462\u001b[0m             \u001b[0;32melse\u001b[0m\u001b[0;34m:\u001b[0m\u001b[0;34m\u001b[0m\u001b[0;34m\u001b[0m\u001b[0m\n\u001b[1;32m    463\u001b[0m                 \u001b[0mresult\u001b[0m \u001b[0;34m=\u001b[0m \u001b[0mself\u001b[0m\u001b[0;34m.\u001b[0m\u001b[0mvectors\u001b[0m\u001b[0;34m[\u001b[0m\u001b[0mself\u001b[0m\u001b[0;34m.\u001b[0m\u001b[0mvocab\u001b[0m\u001b[0;34m[\u001b[0m\u001b[0mword\u001b[0m\u001b[0;34m]\u001b[0m\u001b[0;34m.\u001b[0m\u001b[0mindex\u001b[0m\u001b[0;34m]\u001b[0m\u001b[0;34m\u001b[0m\u001b[0;34m\u001b[0m\u001b[0m\n",
      "\u001b[0;31mIndexError\u001b[0m: index 2 is out of bounds for axis 0 with size 0"
     ]
    }
   ],
   "source": [
    "model.wv.most_similar(\"de\")"
   ]
  },
  {
   "cell_type": "code",
   "execution_count": 54,
   "id": "41d07fdf",
   "metadata": {},
   "outputs": [
    {
     "ename": "IndexError",
     "evalue": "index 7776 is out of bounds for axis 0 with size 0",
     "output_type": "error",
     "traceback": [
      "\u001b[0;31m---------------------------------------------------------------------------\u001b[0m",
      "\u001b[0;31mIndexError\u001b[0m                                Traceback (most recent call last)",
      "\u001b[0;32m<ipython-input-54-d1a51a054cf6>\u001b[0m in \u001b[0;36m<module>\u001b[0;34m\u001b[0m\n\u001b[0;32m----> 1\u001b[0;31m \u001b[0mprint\u001b[0m\u001b[0;34m(\u001b[0m\u001b[0mmodel\u001b[0m\u001b[0;34m.\u001b[0m\u001b[0mwv\u001b[0m\u001b[0;34m.\u001b[0m\u001b[0mmost_similar\u001b[0m\u001b[0;34m(\u001b[0m\u001b[0;34m\"palavra\"\u001b[0m\u001b[0;34m)\u001b[0m\u001b[0;34m)\u001b[0m\u001b[0;34m\u001b[0m\u001b[0;34m\u001b[0m\u001b[0m\n\u001b[0m",
      "\u001b[0;32m~/.local/lib/python3.6/site-packages/gensim/models/keyedvectors.py\u001b[0m in \u001b[0;36mmost_similar\u001b[0;34m(self, positive, negative, topn, restrict_vocab, indexer)\u001b[0m\n\u001b[1;32m    551\u001b[0m                 \u001b[0mmean\u001b[0m\u001b[0;34m.\u001b[0m\u001b[0mappend\u001b[0m\u001b[0;34m(\u001b[0m\u001b[0mweight\u001b[0m \u001b[0;34m*\u001b[0m \u001b[0mword\u001b[0m\u001b[0;34m)\u001b[0m\u001b[0;34m\u001b[0m\u001b[0;34m\u001b[0m\u001b[0m\n\u001b[1;32m    552\u001b[0m             \u001b[0;32melse\u001b[0m\u001b[0;34m:\u001b[0m\u001b[0;34m\u001b[0m\u001b[0;34m\u001b[0m\u001b[0m\n\u001b[0;32m--> 553\u001b[0;31m                 \u001b[0mmean\u001b[0m\u001b[0;34m.\u001b[0m\u001b[0mappend\u001b[0m\u001b[0;34m(\u001b[0m\u001b[0mweight\u001b[0m \u001b[0;34m*\u001b[0m \u001b[0mself\u001b[0m\u001b[0;34m.\u001b[0m\u001b[0mword_vec\u001b[0m\u001b[0;34m(\u001b[0m\u001b[0mword\u001b[0m\u001b[0;34m,\u001b[0m \u001b[0muse_norm\u001b[0m\u001b[0;34m=\u001b[0m\u001b[0;32mTrue\u001b[0m\u001b[0;34m)\u001b[0m\u001b[0;34m)\u001b[0m\u001b[0;34m\u001b[0m\u001b[0;34m\u001b[0m\u001b[0m\n\u001b[0m\u001b[1;32m    554\u001b[0m                 \u001b[0;32mif\u001b[0m \u001b[0mword\u001b[0m \u001b[0;32min\u001b[0m \u001b[0mself\u001b[0m\u001b[0;34m.\u001b[0m\u001b[0mvocab\u001b[0m\u001b[0;34m:\u001b[0m\u001b[0;34m\u001b[0m\u001b[0;34m\u001b[0m\u001b[0m\n\u001b[1;32m    555\u001b[0m                     \u001b[0mall_words\u001b[0m\u001b[0;34m.\u001b[0m\u001b[0madd\u001b[0m\u001b[0;34m(\u001b[0m\u001b[0mself\u001b[0m\u001b[0;34m.\u001b[0m\u001b[0mvocab\u001b[0m\u001b[0;34m[\u001b[0m\u001b[0mword\u001b[0m\u001b[0;34m]\u001b[0m\u001b[0;34m.\u001b[0m\u001b[0mindex\u001b[0m\u001b[0;34m)\u001b[0m\u001b[0;34m\u001b[0m\u001b[0;34m\u001b[0m\u001b[0m\n",
      "\u001b[0;32m~/.local/lib/python3.6/site-packages/gensim/models/keyedvectors.py\u001b[0m in \u001b[0;36mword_vec\u001b[0;34m(self, word, use_norm)\u001b[0m\n\u001b[1;32m    459\u001b[0m         \u001b[0;32mif\u001b[0m \u001b[0mword\u001b[0m \u001b[0;32min\u001b[0m \u001b[0mself\u001b[0m\u001b[0;34m.\u001b[0m\u001b[0mvocab\u001b[0m\u001b[0;34m:\u001b[0m\u001b[0;34m\u001b[0m\u001b[0;34m\u001b[0m\u001b[0m\n\u001b[1;32m    460\u001b[0m             \u001b[0;32mif\u001b[0m \u001b[0muse_norm\u001b[0m\u001b[0;34m:\u001b[0m\u001b[0;34m\u001b[0m\u001b[0;34m\u001b[0m\u001b[0m\n\u001b[0;32m--> 461\u001b[0;31m                 \u001b[0mresult\u001b[0m \u001b[0;34m=\u001b[0m \u001b[0mself\u001b[0m\u001b[0;34m.\u001b[0m\u001b[0mvectors_norm\u001b[0m\u001b[0;34m[\u001b[0m\u001b[0mself\u001b[0m\u001b[0;34m.\u001b[0m\u001b[0mvocab\u001b[0m\u001b[0;34m[\u001b[0m\u001b[0mword\u001b[0m\u001b[0;34m]\u001b[0m\u001b[0;34m.\u001b[0m\u001b[0mindex\u001b[0m\u001b[0;34m]\u001b[0m\u001b[0;34m\u001b[0m\u001b[0;34m\u001b[0m\u001b[0m\n\u001b[0m\u001b[1;32m    462\u001b[0m             \u001b[0;32melse\u001b[0m\u001b[0;34m:\u001b[0m\u001b[0;34m\u001b[0m\u001b[0;34m\u001b[0m\u001b[0m\n\u001b[1;32m    463\u001b[0m                 \u001b[0mresult\u001b[0m \u001b[0;34m=\u001b[0m \u001b[0mself\u001b[0m\u001b[0;34m.\u001b[0m\u001b[0mvectors\u001b[0m\u001b[0;34m[\u001b[0m\u001b[0mself\u001b[0m\u001b[0;34m.\u001b[0m\u001b[0mvocab\u001b[0m\u001b[0;34m[\u001b[0m\u001b[0mword\u001b[0m\u001b[0;34m]\u001b[0m\u001b[0;34m.\u001b[0m\u001b[0mindex\u001b[0m\u001b[0;34m]\u001b[0m\u001b[0;34m\u001b[0m\u001b[0;34m\u001b[0m\u001b[0m\n",
      "\u001b[0;31mIndexError\u001b[0m: index 7776 is out of bounds for axis 0 with size 0"
     ]
    }
   ],
   "source": [
    "print(model.wv.most_similar(\"palavra\"))"
   ]
  },
  {
   "cell_type": "code",
   "execution_count": 55,
   "id": "b2a53057",
   "metadata": {},
   "outputs": [
    {
     "ename": "AttributeError",
     "evalue": "'Word2VecKeyedVectors' object has no attribute 'key_to_index'",
     "output_type": "error",
     "traceback": [
      "\u001b[0;31m---------------------------------------------------------------------------\u001b[0m",
      "\u001b[0;31mAttributeError\u001b[0m                            Traceback (most recent call last)",
      "\u001b[0;32m<ipython-input-55-adcf00afc4ba>\u001b[0m in \u001b[0;36m<module>\u001b[0;34m\u001b[0m\n\u001b[0;32m----> 1\u001b[0;31m \u001b[0mprint\u001b[0m\u001b[0;34m(\u001b[0m\u001b[0mmodel\u001b[0m\u001b[0;34m.\u001b[0m\u001b[0mwv\u001b[0m\u001b[0;34m.\u001b[0m\u001b[0mkey_to_index\u001b[0m\u001b[0;34m)\u001b[0m  \u001b[0;31m# Imprime o vocabulário do modelo\u001b[0m\u001b[0;34m\u001b[0m\u001b[0;34m\u001b[0m\u001b[0m\n\u001b[0m",
      "\u001b[0;31mAttributeError\u001b[0m: 'Word2VecKeyedVectors' object has no attribute 'key_to_index'"
     ]
    }
   ],
   "source": [
    "print(model.wv.key_to_index)  # Imprime o vocabulário do modelo"
   ]
  },
  {
   "cell_type": "code",
   "execution_count": 56,
   "id": "f1d5d3bb",
   "metadata": {},
   "outputs": [
    {
     "name": "stderr",
     "output_type": "stream",
     "text": [
      "IOPub data rate exceeded.\n",
      "The notebook server will temporarily stop sending output\n",
      "to the client in order to avoid crashing it.\n",
      "To change this limit, set the config variable\n",
      "`--NotebookApp.iopub_data_rate_limit`.\n",
      "\n",
      "Current values:\n",
      "NotebookApp.iopub_data_rate_limit=1000000.0 (bytes/sec)\n",
      "NotebookApp.rate_limit_window=3.0 (secs)\n",
      "\n"
     ]
    }
   ],
   "source": [
    "print(model.wv.vocab)  # Imprime o vocabulário do modelo\n"
   ]
  },
  {
   "cell_type": "code",
   "execution_count": 57,
   "id": "34e1be80",
   "metadata": {},
   "outputs": [
    {
     "name": "stdout",
     "output_type": "stream",
     "text": [
      "['na', 'tarde', 'de', 'domingo', 'luva', 'pedreiro', 'abriu', 'uma', 'live', 'sugeriu']\n"
     ]
    }
   ],
   "source": [
    "# Converte o vocabulário em uma lista\n",
    "vocab_list = list(model.wv.vocab.keys())\n",
    "\n",
    "# Imprime os primeiros 10 elementos\n",
    "print(vocab_list[:10])"
   ]
  },
  {
   "cell_type": "code",
   "execution_count": 58,
   "id": "ff1946f5",
   "metadata": {},
   "outputs": [
    {
     "ename": "RuntimeError",
     "evalue": "you must initialize vectors before training the model",
     "output_type": "error",
     "traceback": [
      "\u001b[0;31m---------------------------------------------------------------------------\u001b[0m",
      "\u001b[0;31mRuntimeError\u001b[0m                              Traceback (most recent call last)",
      "\u001b[0;32m<ipython-input-58-032c6836947d>\u001b[0m in \u001b[0;36m<module>\u001b[0;34m\u001b[0m\n\u001b[0;32m----> 1\u001b[0;31m \u001b[0mmodel\u001b[0m\u001b[0;34m.\u001b[0m\u001b[0mtrain\u001b[0m\u001b[0;34m(\u001b[0m\u001b[0mreview_text\u001b[0m\u001b[0;34m,\u001b[0m \u001b[0mtotal_examples\u001b[0m\u001b[0;34m=\u001b[0m\u001b[0mmodel\u001b[0m\u001b[0;34m.\u001b[0m\u001b[0mcorpus_count\u001b[0m\u001b[0;34m,\u001b[0m \u001b[0mepochs\u001b[0m\u001b[0;34m=\u001b[0m\u001b[0mmodel\u001b[0m\u001b[0;34m.\u001b[0m\u001b[0mepochs\u001b[0m\u001b[0;34m)\u001b[0m\u001b[0;34m\u001b[0m\u001b[0;34m\u001b[0m\u001b[0m\n\u001b[0m",
      "\u001b[0;32m~/.local/lib/python3.6/site-packages/gensim/models/word2vec.py\u001b[0m in \u001b[0;36mtrain\u001b[0;34m(self, sentences, corpus_file, total_examples, total_words, epochs, start_alpha, end_alpha, word_count, queue_factor, report_delay, compute_loss, callbacks)\u001b[0m\n\u001b[1;32m    908\u001b[0m             \u001b[0msentences\u001b[0m\u001b[0;34m=\u001b[0m\u001b[0msentences\u001b[0m\u001b[0;34m,\u001b[0m \u001b[0mcorpus_file\u001b[0m\u001b[0;34m=\u001b[0m\u001b[0mcorpus_file\u001b[0m\u001b[0;34m,\u001b[0m \u001b[0mtotal_examples\u001b[0m\u001b[0;34m=\u001b[0m\u001b[0mtotal_examples\u001b[0m\u001b[0;34m,\u001b[0m \u001b[0mtotal_words\u001b[0m\u001b[0;34m=\u001b[0m\u001b[0mtotal_words\u001b[0m\u001b[0;34m,\u001b[0m\u001b[0;34m\u001b[0m\u001b[0;34m\u001b[0m\u001b[0m\n\u001b[1;32m    909\u001b[0m             \u001b[0mepochs\u001b[0m\u001b[0;34m=\u001b[0m\u001b[0mepochs\u001b[0m\u001b[0;34m,\u001b[0m \u001b[0mstart_alpha\u001b[0m\u001b[0;34m=\u001b[0m\u001b[0mstart_alpha\u001b[0m\u001b[0;34m,\u001b[0m \u001b[0mend_alpha\u001b[0m\u001b[0;34m=\u001b[0m\u001b[0mend_alpha\u001b[0m\u001b[0;34m,\u001b[0m \u001b[0mword_count\u001b[0m\u001b[0;34m=\u001b[0m\u001b[0mword_count\u001b[0m\u001b[0;34m,\u001b[0m\u001b[0;34m\u001b[0m\u001b[0;34m\u001b[0m\u001b[0m\n\u001b[0;32m--> 910\u001b[0;31m             queue_factor=queue_factor, report_delay=report_delay, compute_loss=compute_loss, callbacks=callbacks)\n\u001b[0m\u001b[1;32m    911\u001b[0m \u001b[0;34m\u001b[0m\u001b[0m\n\u001b[1;32m    912\u001b[0m     \u001b[0;32mdef\u001b[0m \u001b[0mscore\u001b[0m\u001b[0;34m(\u001b[0m\u001b[0mself\u001b[0m\u001b[0;34m,\u001b[0m \u001b[0msentences\u001b[0m\u001b[0;34m,\u001b[0m \u001b[0mtotal_sentences\u001b[0m\u001b[0;34m=\u001b[0m\u001b[0mint\u001b[0m\u001b[0;34m(\u001b[0m\u001b[0;36m1e6\u001b[0m\u001b[0;34m)\u001b[0m\u001b[0;34m,\u001b[0m \u001b[0mchunksize\u001b[0m\u001b[0;34m=\u001b[0m\u001b[0;36m100\u001b[0m\u001b[0;34m,\u001b[0m \u001b[0mqueue_factor\u001b[0m\u001b[0;34m=\u001b[0m\u001b[0;36m2\u001b[0m\u001b[0;34m,\u001b[0m \u001b[0mreport_delay\u001b[0m\u001b[0;34m=\u001b[0m\u001b[0;36m1\u001b[0m\u001b[0;34m)\u001b[0m\u001b[0;34m:\u001b[0m\u001b[0;34m\u001b[0m\u001b[0;34m\u001b[0m\u001b[0m\n",
      "\u001b[0;32m~/.local/lib/python3.6/site-packages/gensim/models/base_any2vec.py\u001b[0m in \u001b[0;36mtrain\u001b[0;34m(self, sentences, corpus_file, total_examples, total_words, epochs, start_alpha, end_alpha, word_count, queue_factor, report_delay, compute_loss, callbacks, **kwargs)\u001b[0m\n\u001b[1;32m   1079\u001b[0m             \u001b[0mtotal_words\u001b[0m\u001b[0;34m=\u001b[0m\u001b[0mtotal_words\u001b[0m\u001b[0;34m,\u001b[0m \u001b[0mepochs\u001b[0m\u001b[0;34m=\u001b[0m\u001b[0mepochs\u001b[0m\u001b[0;34m,\u001b[0m \u001b[0mstart_alpha\u001b[0m\u001b[0;34m=\u001b[0m\u001b[0mstart_alpha\u001b[0m\u001b[0;34m,\u001b[0m \u001b[0mend_alpha\u001b[0m\u001b[0;34m=\u001b[0m\u001b[0mend_alpha\u001b[0m\u001b[0;34m,\u001b[0m \u001b[0mword_count\u001b[0m\u001b[0;34m=\u001b[0m\u001b[0mword_count\u001b[0m\u001b[0;34m,\u001b[0m\u001b[0;34m\u001b[0m\u001b[0;34m\u001b[0m\u001b[0m\n\u001b[1;32m   1080\u001b[0m             \u001b[0mqueue_factor\u001b[0m\u001b[0;34m=\u001b[0m\u001b[0mqueue_factor\u001b[0m\u001b[0;34m,\u001b[0m \u001b[0mreport_delay\u001b[0m\u001b[0;34m=\u001b[0m\u001b[0mreport_delay\u001b[0m\u001b[0;34m,\u001b[0m \u001b[0mcompute_loss\u001b[0m\u001b[0;34m=\u001b[0m\u001b[0mcompute_loss\u001b[0m\u001b[0;34m,\u001b[0m \u001b[0mcallbacks\u001b[0m\u001b[0;34m=\u001b[0m\u001b[0mcallbacks\u001b[0m\u001b[0;34m,\u001b[0m\u001b[0;34m\u001b[0m\u001b[0;34m\u001b[0m\u001b[0m\n\u001b[0;32m-> 1081\u001b[0;31m             **kwargs)\n\u001b[0m\u001b[1;32m   1082\u001b[0m \u001b[0;34m\u001b[0m\u001b[0m\n\u001b[1;32m   1083\u001b[0m     \u001b[0;32mdef\u001b[0m \u001b[0m_get_job_params\u001b[0m\u001b[0;34m(\u001b[0m\u001b[0mself\u001b[0m\u001b[0;34m,\u001b[0m \u001b[0mcur_epoch\u001b[0m\u001b[0;34m)\u001b[0m\u001b[0;34m:\u001b[0m\u001b[0;34m\u001b[0m\u001b[0;34m\u001b[0m\u001b[0m\n",
      "\u001b[0;32m~/.local/lib/python3.6/site-packages/gensim/models/base_any2vec.py\u001b[0m in \u001b[0;36mtrain\u001b[0;34m(self, data_iterable, corpus_file, epochs, total_examples, total_words, queue_factor, report_delay, callbacks, **kwargs)\u001b[0m\n\u001b[1;32m    534\u001b[0m             \u001b[0mepochs\u001b[0m\u001b[0;34m=\u001b[0m\u001b[0mepochs\u001b[0m\u001b[0;34m,\u001b[0m\u001b[0;34m\u001b[0m\u001b[0;34m\u001b[0m\u001b[0m\n\u001b[1;32m    535\u001b[0m             \u001b[0mtotal_examples\u001b[0m\u001b[0;34m=\u001b[0m\u001b[0mtotal_examples\u001b[0m\u001b[0;34m,\u001b[0m\u001b[0;34m\u001b[0m\u001b[0;34m\u001b[0m\u001b[0m\n\u001b[0;32m--> 536\u001b[0;31m             total_words=total_words, **kwargs)\n\u001b[0m\u001b[1;32m    537\u001b[0m \u001b[0;34m\u001b[0m\u001b[0m\n\u001b[1;32m    538\u001b[0m         \u001b[0;32mfor\u001b[0m \u001b[0mcallback\u001b[0m \u001b[0;32min\u001b[0m \u001b[0mself\u001b[0m\u001b[0;34m.\u001b[0m\u001b[0mcallbacks\u001b[0m\u001b[0;34m:\u001b[0m\u001b[0;34m\u001b[0m\u001b[0;34m\u001b[0m\u001b[0m\n",
      "\u001b[0;32m~/.local/lib/python3.6/site-packages/gensim/models/base_any2vec.py\u001b[0m in \u001b[0;36m_check_training_sanity\u001b[0;34m(self, epochs, total_examples, total_words, **kwargs)\u001b[0m\n\u001b[1;32m   1187\u001b[0m             \u001b[0;32mraise\u001b[0m \u001b[0mRuntimeError\u001b[0m\u001b[0;34m(\u001b[0m\u001b[0;34m\"you must first build vocabulary before training the model\"\u001b[0m\u001b[0;34m)\u001b[0m\u001b[0;34m\u001b[0m\u001b[0;34m\u001b[0m\u001b[0m\n\u001b[1;32m   1188\u001b[0m         \u001b[0;32mif\u001b[0m \u001b[0;32mnot\u001b[0m \u001b[0mlen\u001b[0m\u001b[0;34m(\u001b[0m\u001b[0mself\u001b[0m\u001b[0;34m.\u001b[0m\u001b[0mwv\u001b[0m\u001b[0;34m.\u001b[0m\u001b[0mvectors\u001b[0m\u001b[0;34m)\u001b[0m\u001b[0;34m:\u001b[0m\u001b[0;34m\u001b[0m\u001b[0;34m\u001b[0m\u001b[0m\n\u001b[0;32m-> 1189\u001b[0;31m             \u001b[0;32mraise\u001b[0m \u001b[0mRuntimeError\u001b[0m\u001b[0;34m(\u001b[0m\u001b[0;34m\"you must initialize vectors before training the model\"\u001b[0m\u001b[0;34m)\u001b[0m\u001b[0;34m\u001b[0m\u001b[0;34m\u001b[0m\u001b[0m\n\u001b[0m\u001b[1;32m   1190\u001b[0m \u001b[0;34m\u001b[0m\u001b[0m\n\u001b[1;32m   1191\u001b[0m         \u001b[0;32mif\u001b[0m \u001b[0;32mnot\u001b[0m \u001b[0mhasattr\u001b[0m\u001b[0;34m(\u001b[0m\u001b[0mself\u001b[0m\u001b[0;34m,\u001b[0m \u001b[0;34m'corpus_count'\u001b[0m\u001b[0;34m)\u001b[0m\u001b[0;34m:\u001b[0m\u001b[0;34m\u001b[0m\u001b[0;34m\u001b[0m\u001b[0m\n",
      "\u001b[0;31mRuntimeError\u001b[0m: you must initialize vectors before training the model"
     ]
    }
   ],
   "source": [
    "model.train(review_text, total_examples=model.corpus_count, epochs=model.epochs)"
   ]
  },
  {
   "cell_type": "code",
   "execution_count": 59,
   "id": "b5effd5a",
   "metadata": {},
   "outputs": [
    {
     "data": {
      "text/plain": [
       "<tqdm.std.tqdm at 0xfffc7d8cf2b0>"
      ]
     },
     "execution_count": 59,
     "metadata": {},
     "output_type": "execute_result"
    }
   ],
   "source": [
    "progress_bar\n"
   ]
  },
  {
   "cell_type": "code",
   "execution_count": 60,
   "id": "3732c326",
   "metadata": {},
   "outputs": [
    {
     "name": "stderr",
     "output_type": "stream",
     "text": [
      "\n",
      "Building vocab:   0%|                                                                                                                                                                                                                                                                                                                                                                                                                                                                                                                                                                                                                                                                                                                                                                                                                                                                                    | 0/176114 [00:00<?, ?it/s]\u001b[A"
     ]
    }
   ],
   "source": [
    "progress_bar = tqdm(total=len(review_text), desc='Building vocab', ncols=900)\n"
   ]
  },
  {
   "cell_type": "code",
   "execution_count": 61,
   "id": "af1691e4",
   "metadata": {},
   "outputs": [
    {
     "ename": "TypeError",
     "evalue": "__init__() got an unexpected keyword argument 'vector_size'",
     "output_type": "error",
     "traceback": [
      "\u001b[0;31m---------------------------------------------------------------------------\u001b[0m",
      "\u001b[0;31mTypeError\u001b[0m                                 Traceback (most recent call last)",
      "\u001b[0;32m<ipython-input-61-0b4ccf0b6811>\u001b[0m in \u001b[0;36m<module>\u001b[0;34m\u001b[0m\n\u001b[1;32m      3\u001b[0m     \u001b[0mwindow\u001b[0m\u001b[0;34m=\u001b[0m\u001b[0;36m5\u001b[0m\u001b[0;34m,\u001b[0m\u001b[0;34m\u001b[0m\u001b[0;34m\u001b[0m\u001b[0m\n\u001b[1;32m      4\u001b[0m     \u001b[0mmin_count\u001b[0m\u001b[0;34m=\u001b[0m\u001b[0;36m2\u001b[0m\u001b[0;34m,\u001b[0m\u001b[0;34m\u001b[0m\u001b[0;34m\u001b[0m\u001b[0m\n\u001b[0;32m----> 5\u001b[0;31m     \u001b[0mworkers\u001b[0m\u001b[0;34m=\u001b[0m\u001b[0;36m2\u001b[0m\u001b[0;34m,\u001b[0m\u001b[0;34m\u001b[0m\u001b[0;34m\u001b[0m\u001b[0m\n\u001b[0m\u001b[1;32m      6\u001b[0m )\n",
      "\u001b[0;31mTypeError\u001b[0m: __init__() got an unexpected keyword argument 'vector_size'"
     ]
    }
   ],
   "source": [
    "model = gensim.models.Word2Vec(\n",
    "    vector_size=100,\n",
    "    window=5,\n",
    "    min_count=2,\n",
    "    workers=2,\n",
    ")"
   ]
  },
  {
   "cell_type": "code",
   "execution_count": 62,
   "id": "f9996ed0",
   "metadata": {},
   "outputs": [
    {
     "name": "stderr",
     "output_type": "stream",
     "text": [
      "/home/opc/.local/lib/python3.6/site-packages/gensim/models/base_any2vec.py:743: UserWarning: C extension not loaded, training will be slow. Install a C compiler and reinstall gensim for fast training.\n",
      "  \"C extension not loaded, training will be slow. \"\n"
     ]
    }
   ],
   "source": [
    "model = gensim.models.Word2Vec(\n",
    "    size=100,\n",
    "    window=5,\n",
    "    min_count=2,\n",
    "    workers=2,\n",
    ")"
   ]
  },
  {
   "cell_type": "code",
   "execution_count": 63,
   "id": "a9666019",
   "metadata": {},
   "outputs": [],
   "source": [
    "model = gensim.models.Word2Vec(\n",
    "    size=100,\n",
    "    window=5,\n",
    "    min_count=2,\n",
    "    workers=2,\n",
    ")"
   ]
  },
  {
   "cell_type": "code",
   "execution_count": 64,
   "id": "4e580a01",
   "metadata": {},
   "outputs": [],
   "source": [
    "from tqdm import tqdm"
   ]
  },
  {
   "cell_type": "code",
   "execution_count": 65,
   "id": "d090bae7",
   "metadata": {},
   "outputs": [
    {
     "name": "stderr",
     "output_type": "stream",
     "text": [
      "\n",
      "\n",
      "Building vocab:   0%|                                                                                                                                                                                                                                                                                                                                                                                                                                                                                                                                                                                                                                                                                                                                                                                                                                                                                    | 0/176114 [21:38<?, ?it/s]\n"
     ]
    }
   ],
   "source": [
    "progress_bar = tqdm(review_text, total=len(review_text))"
   ]
  },
  {
   "cell_type": "code",
   "execution_count": null,
   "id": "c6d50cdf",
   "metadata": {},
   "outputs": [
    {
     "name": "stderr",
     "output_type": "stream",
     "text": [
      "\n",
      "\n",
      "  0%|          | 1/176114 [00:21<1065:10:40, 21.77s/it]\u001b[A\u001b[A\n",
      "\n",
      "  0%|          | 45/176114 [00:21<16:47:12,  2.91it/s] \u001b[A\u001b[A\n",
      "\n",
      "  0%|          | 111/176114 [00:21<5:26:50,  8.98it/s]\u001b[A\u001b[A\n",
      "\n",
      "  0%|          | 585/176114 [00:22<41:29, 70.51it/s]  \u001b[A\u001b[A\n",
      "\n",
      "  1%|          | 1097/176114 [00:22<17:56, 162.60it/s]\u001b[A\u001b[A\n",
      "\n",
      "  1%|          | 1447/176114 [00:22<11:46, 247.28it/s]\u001b[A\u001b[A\n",
      "\n",
      "  1%|          | 1959/176114 [00:22<06:56, 417.81it/s]\u001b[A\u001b[A\n",
      "\n",
      "  1%|▏         | 2470/176114 [00:22<04:30, 640.97it/s]\u001b[A\u001b[A\n",
      "\n",
      "  2%|▏         | 3077/176114 [00:22<02:55, 986.59it/s]\u001b[A\u001b[A\n",
      "\n",
      "  2%|▏         | 3719/176114 [00:22<01:59, 1438.57it/s]\u001b[A\u001b[A\n",
      "\n",
      "  2%|▏         | 4335/176114 [00:22<01:28, 1938.96it/s]\u001b[A\u001b[A\n",
      "\n",
      "  3%|▎         | 4956/176114 [00:22<01:08, 2501.61it/s]\u001b[A\u001b[A\n",
      "\n",
      "  3%|▎         | 5576/176114 [00:22<00:55, 3087.49it/s]\u001b[A\u001b[A\n",
      "\n",
      "  4%|▎         | 6171/176114 [00:23<00:47, 3610.52it/s]\u001b[A\u001b[A\n",
      "\n",
      "  4%|▍         | 6762/176114 [00:23<00:45, 3750.80it/s]\u001b[A\u001b[A\n",
      "\n",
      "  4%|▍         | 7379/176114 [00:23<00:39, 4269.03it/s]\u001b[A\u001b[A\n",
      "\n",
      "  5%|▍         | 7940/176114 [00:23<00:36, 4576.02it/s]\u001b[A\u001b[A\n",
      "\n",
      "  5%|▍         | 8521/176114 [00:23<00:34, 4871.57it/s]\u001b[A\u001b[A\n",
      "\n",
      "  5%|▌         | 9086/176114 [00:23<00:34, 4881.70it/s]\u001b[A\u001b[A\n",
      "\n",
      "  5%|▌         | 9629/176114 [00:23<00:33, 4910.52it/s]\u001b[A\u001b[A\n",
      "\n",
      "  5%|▌         | 9630/176114 [01:10<1:37:41, 28.40it/s]\u001b[A\u001b[A\n",
      "\n",
      "  5%|▌         | 9630/176114 [01:10<1:37:41, 28.40it/s]\u001b[A\u001b[A\n",
      "\n",
      "  5%|▌         | 9631/176114 [01:10<1:38:09, 28.27it/s]\u001b[A\u001b[A\n",
      "\n",
      "  6%|▌         | 10071/176114 [01:10<58:39, 47.18it/s] \u001b[A\u001b[A\n",
      "\n",
      "  6%|▌         | 10546/176114 [01:10<36:16, 76.05it/s]\u001b[A\u001b[A\n",
      "\n",
      "  6%|▌         | 10983/176114 [01:10<24:16, 113.39it/s]\u001b[A\u001b[A\n",
      "\n",
      "  6%|▋         | 11257/176114 [01:24<51:00, 53.87it/s] \u001b[A\u001b[A\n",
      "\n",
      "  6%|▋         | 11257/176114 [01:24<51:00, 53.87it/s]\u001b[A\u001b[A\n",
      "\n",
      "  6%|▋         | 11259/176114 [01:25<52:23, 52.44it/s]\u001b[A\u001b[A\n",
      "\n",
      "  7%|▋         | 11555/176114 [01:37<1:12:30, 37.83it/s]\u001b[A\u001b[A\n",
      "\n",
      "  7%|▋         | 11585/176114 [01:37<1:09:33, 39.43it/s]\u001b[A\u001b[A\n",
      "\n",
      "  7%|▋         | 11801/176114 [01:37<49:41, 55.12it/s]  \u001b[A\u001b[A\n",
      "\n",
      "  7%|▋         | 11962/176114 [01:38<38:20, 71.35it/s]\u001b[A\u001b[A\n",
      "\n",
      "  7%|▋         | 12090/176114 [01:38<31:00, 88.18it/s]\u001b[A\u001b[A\n",
      "\n",
      "  7%|▋         | 12194/176114 [01:38<25:24, 107.54it/s]\u001b[A\u001b[A\n",
      "\n",
      "  7%|▋         | 12287/176114 [01:38<21:01, 129.84it/s]\u001b[A\u001b[A\n",
      "\n",
      "  7%|▋         | 12370/176114 [01:39<17:19, 157.57it/s]\u001b[A\u001b[A\n",
      "\n",
      "  7%|▋         | 12452/176114 [01:39<14:37, 186.41it/s]\u001b[A\u001b[A\n",
      "\n",
      "  7%|▋         | 12524/176114 [01:39<12:24, 219.66it/s]\u001b[A\u001b[A\n",
      "\n",
      "  7%|▋         | 12592/176114 [01:39<10:32, 258.73it/s]\u001b[A\u001b[A\n",
      "\n",
      "  7%|▋         | 12659/176114 [01:39<09:57, 273.35it/s]\u001b[A\u001b[A\n",
      "\n",
      "  7%|▋         | 12719/176114 [01:39<08:39, 314.28it/s]\u001b[A\u001b[A\n",
      "\n",
      "  7%|▋         | 12784/176114 [01:39<07:27, 365.04it/s]\u001b[A\u001b[A\n",
      "\n",
      "  7%|▋         | 12864/176114 [01:39<06:10, 441.11it/s]\u001b[A\u001b[A\n",
      "\n",
      "  7%|▋         | 12978/176114 [01:40<04:40, 580.63it/s]\u001b[A\u001b[A\n",
      "\n",
      "  7%|▋         | 13058/176114 [01:40<04:28, 606.50it/s]\u001b[A\u001b[A\n",
      "\n",
      "  7%|▋         | 13141/176114 [01:40<04:07, 658.77it/s]\u001b[A\u001b[A\n",
      "\n",
      "  8%|▊         | 13220/176114 [01:40<04:20, 626.00it/s]\u001b[A\u001b[A\n",
      "\n",
      "  8%|▊         | 13292/176114 [01:40<04:19, 628.46it/s]\u001b[A\u001b[A\n",
      "\n",
      "  8%|▊         | 13369/176114 [01:40<04:06, 661.23it/s]\u001b[A\u001b[A\n",
      "\n",
      "  8%|▊         | 13440/176114 [01:40<04:04, 664.18it/s]\u001b[A\u001b[A\n",
      "\n",
      "  8%|▊         | 13523/176114 [01:40<03:50, 705.64it/s]\u001b[A\u001b[A\n",
      "\n",
      "  8%|▊         | 13597/176114 [01:40<04:38, 584.59it/s]\u001b[A\u001b[A\n",
      "\n",
      "  8%|▊         | 13679/176114 [01:41<04:15, 636.49it/s]\u001b[A\u001b[A\n",
      "\n",
      "  8%|▊         | 13748/176114 [01:41<04:13, 641.18it/s]\u001b[A\u001b[A\n",
      "\n",
      "  8%|▊         | 13842/176114 [01:41<03:46, 717.04it/s]\u001b[A\u001b[A\n",
      "\n",
      "  8%|▊         | 13919/176114 [01:41<03:43, 724.72it/s]\u001b[A\u001b[A\n",
      "\n",
      "  8%|▊         | 13994/176114 [01:41<03:47, 713.02it/s]\u001b[A\u001b[A\n",
      "\n",
      "  8%|▊         | 14089/176114 [01:41<03:32, 763.35it/s]\u001b[A\u001b[A\n",
      "\n",
      "  8%|▊         | 14196/176114 [01:41<03:10, 848.52it/s]\u001b[A\u001b[A\n",
      "\n",
      "  8%|▊         | 14285/176114 [01:41<03:08, 857.19it/s]\u001b[A\u001b[A\n",
      "\n",
      "  8%|▊         | 14372/176114 [01:41<03:18, 815.73it/s]\u001b[A\u001b[A\n",
      "\n",
      "  8%|▊         | 14458/176114 [01:42<03:17, 820.33it/s]\u001b[A\u001b[A\n",
      "\n",
      "  8%|▊         | 14576/176114 [01:42<02:55, 921.98it/s]\u001b[A\u001b[A\n",
      "\n",
      "  8%|▊         | 14670/176114 [01:42<03:04, 875.21it/s]\u001b[A\u001b[A\n",
      "\n",
      "  8%|▊         | 14759/176114 [01:42<03:20, 805.26it/s]\u001b[A\u001b[A\n",
      "\n",
      "  8%|▊         | 14842/176114 [01:42<03:40, 732.59it/s]\u001b[A\u001b[A\n",
      "\n",
      "  8%|▊         | 14926/176114 [01:42<03:32, 760.10it/s]\u001b[A\u001b[A\n",
      "\n",
      "  9%|▊         | 15039/176114 [01:42<03:07, 857.35it/s]\u001b[A\u001b[A\n",
      "\n",
      "  9%|▊         | 15175/176114 [01:42<02:41, 996.25it/s]\u001b[A\u001b[A\n",
      "\n",
      "  9%|▊         | 15290/176114 [01:42<02:34, 1039.68it/s]\u001b[A\u001b[A\n",
      "\n",
      "  9%|▊         | 15397/176114 [01:43<02:48, 952.75it/s] \u001b[A\u001b[A\n",
      "\n",
      "  9%|▉         | 15496/176114 [01:43<02:48, 955.39it/s]\u001b[A\u001b[A\n",
      "\n",
      "  9%|▉         | 15749/176114 [01:43<01:55, 1387.85it/s]\u001b[A\u001b[A\n",
      "\n",
      "  9%|▉         | 15893/176114 [01:43<02:01, 1321.00it/s]\u001b[A\u001b[A\n",
      "\n",
      "  9%|▉         | 16029/176114 [01:43<02:12, 1212.63it/s]\u001b[A\u001b[A\n",
      "\n",
      "  9%|▉         | 16173/176114 [01:43<02:06, 1267.28it/s]\u001b[A\u001b[A\n",
      "\n",
      "  9%|▉         | 16367/176114 [01:43<01:50, 1449.54it/s]\u001b[A\u001b[A\n",
      "\n",
      "  9%|▉         | 16516/176114 [01:43<01:57, 1353.39it/s]\u001b[A\u001b[A\n",
      "\n",
      "  9%|▉         | 16680/176114 [01:43<01:51, 1430.49it/s]\u001b[A\u001b[A\n",
      "\n",
      " 10%|▉         | 17012/176114 [01:44<01:21, 1950.83it/s]\u001b[A\u001b[A\n",
      "\n",
      " 10%|▉         | 17213/176114 [01:44<01:37, 1633.50it/s]\u001b[A\u001b[A\n",
      "\n",
      " 10%|▉         | 17524/176114 [01:44<01:19, 2004.43it/s]\u001b[A\u001b[A\n",
      "\n",
      " 10%|█         | 17891/176114 [01:44<01:04, 2442.56it/s]\u001b[A\u001b[A\n",
      "\n",
      " 10%|█         | 18253/176114 [01:44<00:57, 2762.29it/s]\u001b[A\u001b[A\n",
      "\n",
      " 11%|█         | 18597/176114 [01:44<00:53, 2950.77it/s]\u001b[A\u001b[A\n",
      "\n",
      " 11%|█         | 18956/176114 [01:44<00:50, 3133.08it/s]\u001b[A\u001b[A\n",
      "\n",
      " 11%|█         | 19314/176114 [01:44<00:48, 3253.65it/s]\u001b[A\u001b[A\n",
      "\n",
      " 11%|█         | 19675/176114 [01:44<00:46, 3354.59it/s]\u001b[A\u001b[A\n",
      "\n",
      " 11%|█▏        | 20070/176114 [01:45<00:44, 3523.99it/s]\u001b[A\u001b[A\n",
      "\n",
      " 12%|█▏        | 20474/176114 [01:45<00:42, 3675.51it/s]\u001b[A\u001b[A\n",
      "\n",
      " 12%|█▏        | 20845/176114 [01:45<00:42, 3617.02it/s]\u001b[A\u001b[A\n",
      "\n",
      " 12%|█▏        | 21232/176114 [01:45<00:41, 3687.90it/s]\u001b[A\u001b[A\n",
      "\n",
      " 12%|█▏        | 21603/176114 [01:45<00:41, 3689.40it/s]\u001b[A\u001b[A\n",
      "\n",
      " 12%|█▏        | 21974/176114 [01:45<00:42, 3615.21it/s]\u001b[A\u001b[A\n",
      "\n",
      " 13%|█▎        | 22337/176114 [01:45<00:42, 3598.93it/s]\u001b[A\u001b[A\n",
      "\n",
      " 13%|█▎        | 22698/176114 [01:45<00:42, 3572.95it/s]\u001b[A\u001b[A\n",
      "\n",
      " 13%|█▎        | 23107/176114 [01:45<00:41, 3724.85it/s]\u001b[A\u001b[A\n",
      "\n",
      " 13%|█▎        | 23520/176114 [01:45<00:39, 3839.19it/s]\u001b[A\u001b[A\n",
      "\n",
      " 14%|█▎        | 23905/176114 [01:46<00:39, 3806.42it/s]\u001b[A\u001b[A\n",
      "\n",
      " 14%|█▍        | 24287/176114 [01:46<00:41, 3657.32it/s]\u001b[A\u001b[A\n",
      "\n",
      " 14%|█▍        | 24655/176114 [01:46<00:41, 3632.10it/s]\u001b[A\u001b[A\n",
      "\n",
      " 14%|█▍        | 25020/176114 [01:46<00:45, 3326.54it/s]\u001b[A\u001b[A\n",
      "\n",
      " 14%|█▍        | 25373/176114 [01:46<00:44, 3382.31it/s]\u001b[A\u001b[A\n",
      "\n",
      " 15%|█▍        | 25722/176114 [01:46<00:44, 3410.84it/s]\u001b[A\u001b[A\n",
      "\n",
      " 15%|█▍        | 26067/176114 [01:46<00:45, 3295.58it/s]\u001b[A\u001b[A\n",
      "\n",
      " 15%|█▍        | 26407/176114 [01:46<00:45, 3324.12it/s]\u001b[A\u001b[A\n",
      "\n",
      " 15%|█▌        | 26742/176114 [01:46<00:45, 3289.39it/s]\u001b[A\u001b[A\n",
      "\n",
      " 15%|█▌        | 27083/176114 [01:47<00:44, 3324.05it/s]\u001b[A\u001b[A\n",
      "\n",
      " 16%|█▌        | 27438/176114 [01:47<00:43, 3389.39it/s]\u001b[A\u001b[A\n",
      "\n",
      " 16%|█▌        | 27778/176114 [01:47<00:44, 3362.00it/s]\u001b[A\u001b[A\n",
      "\n",
      " 16%|█▌        | 28115/176114 [01:47<00:44, 3331.88it/s]\u001b[A\u001b[A\n",
      "\n",
      " 16%|█▌        | 28462/176114 [01:47<00:43, 3372.11it/s]\u001b[A\u001b[A\n",
      "\n",
      " 16%|█▋        | 28800/176114 [01:47<00:44, 3345.72it/s]\u001b[A\u001b[A\n",
      "\n",
      " 17%|█▋        | 29135/176114 [01:47<00:44, 3304.01it/s]\u001b[A\u001b[A\n",
      "\n",
      " 17%|█▋        | 29466/176114 [01:47<00:45, 3257.60it/s]\u001b[A\u001b[A\n",
      "\n",
      " 17%|█▋        | 29793/176114 [01:47<00:45, 3212.74it/s]\u001b[A\u001b[A\n",
      "\n",
      " 17%|█▋        | 30115/176114 [01:47<00:45, 3189.52it/s]\u001b[A\u001b[A\n",
      "\n",
      " 17%|█▋        | 30435/176114 [01:48<01:01, 2366.57it/s]\u001b[A\u001b[A\n",
      "\n",
      " 18%|█▊        | 30822/176114 [01:48<00:53, 2720.56it/s]\u001b[A\u001b[A\n",
      "\n",
      " 18%|█▊        | 31157/176114 [01:48<00:50, 2878.91it/s]\u001b[A\u001b[A\n",
      "\n",
      " 18%|█▊        | 31485/176114 [01:48<00:48, 2983.92it/s]\u001b[A\u001b[A\n",
      "\n",
      " 18%|█▊        | 31838/176114 [01:48<00:46, 3122.11it/s]\u001b[A\u001b[A\n",
      "\n",
      " 18%|█▊        | 32165/176114 [01:48<00:46, 3119.87it/s]\u001b[A\u001b[A\n",
      "\n",
      " 18%|█▊        | 32487/176114 [01:48<00:46, 3070.36it/s]\u001b[A\u001b[A\n",
      "\n",
      " 19%|█▊        | 32801/176114 [01:48<00:46, 3053.52it/s]\u001b[A\u001b[A\n",
      "\n",
      " 19%|█▉        | 33126/176114 [01:48<00:46, 3099.61it/s]\u001b[A\u001b[A\n",
      "\n",
      " 19%|█▉        | 33454/176114 [01:49<00:45, 3151.11it/s]\u001b[A\u001b[A\n",
      "\n",
      " 19%|█▉        | 33772/176114 [01:49<00:45, 3121.32it/s]\u001b[A\u001b[A\n",
      "\n",
      " 19%|█▉        | 34087/176114 [01:49<00:45, 3115.62it/s]\u001b[A\u001b[A\n",
      "\n",
      " 20%|█▉        | 34400/176114 [01:49<00:47, 2999.20it/s]\u001b[A\u001b[A\n",
      "\n",
      " 20%|█▉        | 34715/176114 [01:49<00:46, 3041.88it/s]\u001b[A\u001b[A\n",
      "\n",
      " 20%|█▉        | 35032/176114 [01:49<00:45, 3075.80it/s]\u001b[A\u001b[A\n",
      "\n",
      " 20%|██        | 35350/176114 [01:49<00:45, 3106.15it/s]\u001b[A\u001b[A\n",
      "\n",
      " 20%|██        | 35662/176114 [01:49<00:45, 3073.35it/s]\u001b[A\u001b[A\n",
      "\n",
      " 20%|██        | 35970/176114 [01:49<00:45, 3066.00it/s]\u001b[A\u001b[A\n",
      "\n",
      " 21%|██        | 36306/176114 [01:50<00:44, 3146.48it/s]\u001b[A\u001b[A\n",
      "\n",
      " 21%|██        | 36630/176114 [01:50<00:43, 3171.31it/s]\u001b[A\u001b[A\n",
      "\n",
      " 21%|██        | 36948/176114 [01:50<00:44, 3156.13it/s]\u001b[A\u001b[A\n",
      "\n",
      " 21%|██        | 37264/176114 [01:50<00:44, 3094.23it/s]\u001b[A\u001b[A\n",
      "\n",
      " 21%|██▏       | 37600/176114 [01:50<00:43, 3163.08it/s]\u001b[A\u001b[A\n",
      "\n",
      " 22%|██▏       | 37919/176114 [01:50<00:43, 3163.81it/s]\u001b[A\u001b[A\n",
      "\n",
      " 22%|██▏       | 38236/176114 [01:50<00:43, 3155.50it/s]\u001b[A\u001b[A\n",
      "\n",
      " 22%|██▏       | 38552/176114 [01:50<00:45, 3014.19it/s]\u001b[A\u001b[A\n",
      "\n",
      " 22%|██▏       | 38880/176114 [01:50<00:44, 3090.02it/s]\u001b[A\u001b[A\n",
      "\n",
      " 22%|██▏       | 39191/176114 [01:50<00:44, 3070.08it/s]\u001b[A\u001b[A\n",
      "\n",
      " 22%|██▏       | 39499/176114 [01:51<00:45, 3013.73it/s]\u001b[A\u001b[A\n",
      "\n",
      " 23%|██▎       | 39824/176114 [01:51<00:44, 3075.39it/s]\u001b[A\u001b[A\n",
      "\n",
      " 23%|██▎       | 40133/176114 [01:51<00:44, 3068.35it/s]\u001b[A\u001b[A\n",
      "\n",
      " 23%|██▎       | 40441/176114 [01:51<00:44, 3043.98it/s]\u001b[A\u001b[A\n",
      "\n",
      " 23%|██▎       | 40774/176114 [01:51<00:43, 3125.05it/s]\u001b[A\u001b[A\n",
      "\n",
      " 23%|██▎       | 41087/176114 [01:51<00:43, 3121.57it/s]\u001b[A\u001b[A\n",
      "\n",
      " 24%|██▎       | 41438/176114 [01:51<00:41, 3235.68it/s]\u001b[A\u001b[A\n",
      "\n",
      " 24%|██▎       | 41762/176114 [01:51<00:42, 3170.26it/s]\u001b[A\u001b[A\n",
      "\n",
      " 24%|██▍       | 42080/176114 [01:51<00:45, 2966.32it/s]\u001b[A\u001b[A\n",
      "\n",
      " 24%|██▍       | 42380/176114 [01:51<00:45, 2971.52it/s]\u001b[A\u001b[A\n",
      "\n",
      " 24%|██▍       | 42680/176114 [01:52<00:44, 2978.80it/s]\u001b[A\u001b[A\n",
      "\n",
      " 24%|██▍       | 42980/176114 [01:52<00:45, 2938.21it/s]\u001b[A\u001b[A\n",
      "\n",
      " 25%|██▍       | 43275/176114 [01:52<00:47, 2815.93it/s]\u001b[A\u001b[A\n",
      "\n",
      " 25%|██▍       | 43568/176114 [01:52<00:46, 2848.11it/s]\u001b[A\u001b[A\n",
      "\n",
      " 25%|██▍       | 43855/176114 [01:52<00:46, 2840.54it/s]\u001b[A\u001b[A\n",
      "\n",
      " 25%|██▌       | 44144/176114 [01:52<00:46, 2848.70it/s]\u001b[A\u001b[A\n",
      "\n",
      " 25%|██▌       | 44431/176114 [01:52<00:46, 2854.41it/s]\u001b[A\u001b[A\n",
      "\n",
      " 25%|██▌       | 44731/176114 [01:52<00:45, 2894.33it/s]\u001b[A\u001b[A\n",
      "\n",
      " 26%|██▌       | 45021/176114 [01:52<00:45, 2856.60it/s]\u001b[A\u001b[A\n",
      "\n",
      " 26%|██▌       | 45310/176114 [01:53<00:45, 2866.30it/s]\u001b[A\u001b[A\n",
      "\n",
      " 26%|██▌       | 45662/176114 [01:53<00:42, 3059.20it/s]\u001b[A\u001b[A\n",
      "\n",
      " 26%|██▌       | 45981/176114 [01:53<00:42, 3089.62it/s]\u001b[A\u001b[A\n",
      "\n",
      " 26%|██▋       | 46291/176114 [01:53<00:43, 2995.97it/s]\u001b[A\u001b[A\n",
      "\n",
      " 26%|██▋       | 46592/176114 [01:53<00:44, 2898.92it/s]\u001b[A\u001b[A\n",
      "\n",
      " 27%|██▋       | 46883/176114 [01:53<00:45, 2844.51it/s]\u001b[A\u001b[A\n",
      "\n",
      " 27%|██▋       | 47169/176114 [01:53<00:45, 2818.99it/s]\u001b[A\u001b[A\n",
      "\n",
      " 27%|██▋       | 47458/176114 [01:53<00:45, 2839.16it/s]\u001b[A\u001b[A\n",
      "\n",
      " 27%|██▋       | 47743/176114 [01:53<00:47, 2699.56it/s]\u001b[A\u001b[A\n",
      "\n",
      " 27%|██▋       | 48015/176114 [01:53<00:49, 2605.62it/s]\u001b[A\u001b[A\n",
      "\n",
      " 27%|██▋       | 48300/176114 [01:54<00:47, 2673.76it/s]\u001b[A\u001b[A\n",
      "\n",
      " 28%|██▊       | 48569/176114 [01:54<00:47, 2673.41it/s]\u001b[A\u001b[A\n",
      "\n",
      " 28%|██▊       | 48838/176114 [01:54<00:47, 2669.65it/s]\u001b[A\u001b[A\n",
      "\n",
      " 28%|██▊       | 49106/176114 [01:54<00:47, 2663.80it/s]\u001b[A\u001b[A\n",
      "\n",
      " 28%|██▊       | 49373/176114 [01:54<00:48, 2628.92it/s]\u001b[A\u001b[A\n",
      "\n",
      " 28%|██▊       | 49637/176114 [01:54<00:50, 2486.36it/s]\u001b[A\u001b[A\n",
      "\n",
      " 28%|██▊       | 49934/176114 [01:54<00:48, 2612.55it/s]\u001b[A\u001b[A\n",
      "\n",
      " 29%|██▊       | 50202/176114 [01:54<00:47, 2623.51it/s]\u001b[A\u001b[A\n",
      "\n",
      " 29%|██▊       | 50466/176114 [01:54<00:48, 2609.94it/s]\u001b[A\u001b[A\n",
      "\n",
      " 29%|██▉       | 50746/176114 [01:55<00:47, 2658.63it/s]\u001b[A\u001b[A\n",
      "\n",
      " 29%|██▉       | 51026/176114 [01:55<00:46, 2698.17it/s]\u001b[A\u001b[A\n",
      "\n",
      " 29%|██▉       | 51297/176114 [01:55<00:46, 2673.14it/s]\u001b[A\u001b[A\n",
      "\n",
      " 29%|██▉       | 51565/176114 [01:55<00:47, 2608.61it/s]\u001b[A\u001b[A\n",
      "\n",
      " 29%|██▉       | 51827/176114 [01:55<00:48, 2569.45it/s]\u001b[A\u001b[A\n",
      "\n",
      " 30%|██▉       | 52095/176114 [01:55<00:47, 2597.17it/s]\u001b[A\u001b[A\n",
      "\n",
      " 30%|██▉       | 52392/176114 [01:55<00:45, 2705.66it/s]\u001b[A\u001b[A\n",
      "\n",
      " 30%|██▉       | 52684/176114 [01:55<00:44, 2766.12it/s]\u001b[A\u001b[A\n",
      "\n",
      " 30%|███       | 52962/176114 [01:55<00:45, 2714.90it/s]\u001b[A\u001b[A\n",
      "\n",
      " 30%|███       | 53234/176114 [01:55<00:45, 2673.51it/s]\u001b[A\u001b[A\n",
      "\n",
      " 30%|███       | 53537/176114 [01:56<00:44, 2776.84it/s]\u001b[A\u001b[A\n",
      "\n",
      " 31%|███       | 53821/176114 [01:56<00:43, 2783.94it/s]\u001b[A\u001b[A\n",
      "\n",
      " 31%|███       | 54100/176114 [01:56<00:45, 2659.43it/s]\u001b[A\u001b[A\n",
      "\n",
      " 31%|███       | 54368/176114 [01:56<00:47, 2571.98it/s]\u001b[A\u001b[A\n",
      "\n",
      " 31%|███       | 54652/176114 [01:56<00:45, 2643.77it/s]\u001b[A\u001b[A\n",
      "\n",
      " 31%|███       | 54928/176114 [01:56<00:45, 2668.69it/s]\u001b[A\u001b[A\n",
      "\n",
      " 31%|███▏      | 55196/176114 [01:56<00:45, 2639.24it/s]\u001b[A\u001b[A\n",
      "\n",
      " 31%|███▏      | 55461/176114 [01:56<00:47, 2548.94it/s]\u001b[A\u001b[A\n",
      "\n",
      " 32%|███▏      | 55717/176114 [01:56<00:47, 2546.08it/s]\u001b[A\u001b[A\n",
      "\n",
      " 32%|███▏      | 55983/176114 [01:57<00:46, 2576.04it/s]\u001b[A\u001b[A\n",
      "\n",
      " 32%|███▏      | 56247/176114 [01:57<00:46, 2593.88it/s]\u001b[A\u001b[A\n",
      "\n",
      " 32%|███▏      | 56507/176114 [01:57<00:46, 2554.81it/s]\u001b[A\u001b[A\n",
      "\n",
      " 32%|███▏      | 56763/176114 [01:57<00:47, 2509.76it/s]\u001b[A\u001b[A\n",
      "\n",
      " 32%|███▏      | 57024/176114 [01:57<00:46, 2538.45it/s]\u001b[A\u001b[A\n",
      "\n",
      " 33%|███▎      | 57298/176114 [01:57<00:45, 2596.44it/s]\u001b[A\u001b[A\n",
      "\n",
      " 33%|███▎      | 57575/176114 [01:57<00:44, 2640.34it/s]\u001b[A\u001b[A\n",
      "\n",
      " 33%|███▎      | 57848/176114 [01:57<00:44, 2659.18it/s]\u001b[A\u001b[A\n",
      "\n",
      " 33%|███▎      | 58121/176114 [01:57<00:44, 2675.76it/s]\u001b[A\u001b[A\n",
      "\n",
      " 33%|███▎      | 58391/176114 [01:57<00:43, 2678.81it/s]\u001b[A\u001b[A\n",
      "\n",
      " 33%|███▎      | 58663/176114 [01:58<00:43, 2686.21it/s]\u001b[A\u001b[A\n",
      "\n",
      " 33%|███▎      | 58935/176114 [01:58<00:43, 2694.40it/s]\u001b[A\u001b[A\n",
      "\n",
      " 34%|███▎      | 59205/176114 [01:58<00:44, 2628.18it/s]\u001b[A\u001b[A\n",
      "\n",
      " 34%|███▍      | 59510/176114 [01:58<00:42, 2751.38it/s]\u001b[A\u001b[A\n",
      "\n",
      " 34%|███▍      | 59786/176114 [01:58<00:44, 2593.83it/s]\u001b[A\u001b[A\n",
      "\n",
      " 34%|███▍      | 60051/176114 [01:58<00:44, 2609.43it/s]\u001b[A\u001b[A\n",
      "\n",
      " 34%|███▍      | 60363/176114 [01:58<00:42, 2751.77it/s]\u001b[A\u001b[A\n",
      "\n",
      " 34%|███▍      | 60648/176114 [01:58<00:41, 2773.65it/s]\u001b[A\u001b[A\n",
      "\n",
      " 35%|███▍      | 60927/176114 [01:58<00:42, 2707.13it/s]\u001b[A\u001b[A\n",
      "\n",
      " 35%|███▍      | 61221/176114 [01:58<00:41, 2774.30it/s]\u001b[A\u001b[A\n",
      "\n",
      " 35%|███▍      | 61500/176114 [01:59<00:42, 2683.81it/s]\u001b[A\u001b[A\n",
      "\n",
      " 35%|███▌      | 61770/176114 [01:59<00:46, 2461.37it/s]\u001b[A\u001b[A\n",
      "\n",
      " 35%|███▌      | 62021/176114 [01:59<00:46, 2464.57it/s]\u001b[A\u001b[A\n",
      "\n",
      " 35%|███▌      | 62271/176114 [01:59<00:46, 2451.28it/s]\u001b[A\u001b[A\n",
      "\n",
      " 35%|███▌      | 62518/176114 [01:59<00:47, 2383.05it/s]\u001b[A\u001b[A\n",
      "\n",
      " 36%|███▌      | 62769/176114 [01:59<00:46, 2418.21it/s]\u001b[A\u001b[A\n",
      "\n",
      " 36%|███▌      | 63013/176114 [01:59<01:19, 1418.92it/s]\u001b[A\u001b[A\n",
      "\n",
      " 36%|███▌      | 63289/176114 [02:00<01:07, 1676.52it/s]\u001b[A\u001b[A\n",
      "\n",
      " 36%|███▌      | 63579/176114 [02:00<00:58, 1937.18it/s]\u001b[A\u001b[A\n",
      "\n",
      " 36%|███▋      | 63842/176114 [02:00<00:53, 2098.05it/s]\u001b[A\u001b[A\n",
      "\n",
      " 36%|███▋      | 64087/176114 [02:00<00:52, 2125.32it/s]\u001b[A\u001b[A\n",
      "\n",
      " 37%|███▋      | 64360/176114 [02:00<00:49, 2279.09it/s]\u001b[A\u001b[A\n",
      "\n",
      " 37%|███▋      | 64608/176114 [02:00<00:48, 2279.03it/s]\u001b[A\u001b[A\n",
      "\n",
      " 37%|███▋      | 64872/176114 [02:00<00:46, 2375.71it/s]\u001b[A\u001b[A\n",
      "\n",
      " 37%|███▋      | 65121/176114 [02:00<00:46, 2375.72it/s]\u001b[A\u001b[A\n",
      "\n",
      " 37%|███▋      | 65399/176114 [02:00<00:44, 2490.05it/s]\u001b[A\u001b[A\n",
      "\n",
      " 37%|███▋      | 65654/176114 [02:01<00:45, 2451.66it/s]\u001b[A\u001b[A\n",
      "\n",
      " 37%|███▋      | 65936/176114 [02:01<00:43, 2555.22it/s]\u001b[A\u001b[A\n",
      "\n",
      " 38%|███▊      | 66195/176114 [02:01<00:43, 2555.97it/s]\u001b[A\u001b[A\n",
      "\n",
      " 38%|███▊      | 66453/176114 [02:01<00:42, 2551.22it/s]\u001b[A\u001b[A\n",
      "\n",
      " 38%|███▊      | 66710/176114 [02:01<00:43, 2501.80it/s]\u001b[A\u001b[A\n",
      "\n",
      " 38%|███▊      | 66710/176114 [02:13<00:43, 2501.80it/s]\u001b[A\u001b[A\n",
      "\n",
      " 38%|███▊      | 66878/176114 [02:13<29:21, 62.00it/s]  \u001b[A\u001b[A\n",
      "\n",
      " 38%|███▊      | 66879/176114 [02:24<1:05:33, 27.77it/s]\u001b[A\u001b[A\n",
      "\n",
      " 38%|███▊      | 66879/176114 [02:24<1:05:33, 27.77it/s]\u001b[A\u001b[A\n",
      "\n",
      " 38%|███▊      | 66880/176114 [02:24<1:06:03, 27.56it/s]\u001b[A\u001b[A\n",
      "\n",
      " 38%|███▊      | 67057/176114 [02:26<46:37, 38.98it/s]  \u001b[A\u001b[A\n",
      "\n",
      " 38%|███▊      | 67184/176114 [02:26<33:51, 53.62it/s]\u001b[A\u001b[A\n",
      "\n",
      " 38%|███▊      | 67293/176114 [02:26<25:50, 70.18it/s]\u001b[A\u001b[A\n",
      "\n",
      " 38%|███▊      | 67386/176114 [02:26<20:09, 89.89it/s]\u001b[A\u001b[A\n",
      "\n",
      " 38%|███▊      | 67473/176114 [02:27<16:04, 112.69it/s]\u001b[A\u001b[A\n",
      "\n",
      " 38%|███▊      | 67558/176114 [02:27<12:30, 144.56it/s]\u001b[A\u001b[A\n",
      "\n",
      " 38%|███▊      | 67646/176114 [02:27<09:38, 187.36it/s]\u001b[A\u001b[A\n",
      "\n",
      " 38%|███▊      | 67728/176114 [02:27<07:44, 233.40it/s]\u001b[A\u001b[A\n",
      "\n"
     ]
    },
    {
     "name": "stderr",
     "output_type": "stream",
     "text": [
      " 39%|███▊      | 67828/176114 [02:27<05:51, 307.99it/s]\u001b[A\u001b[A\n",
      "\n",
      " 39%|███▊      | 67941/176114 [02:27<04:25, 407.65it/s]\u001b[A\u001b[A\n",
      "\n",
      " 39%|███▊      | 68056/176114 [02:27<03:29, 515.39it/s]\u001b[A\u001b[A\n",
      "\n",
      " 39%|███▊      | 68164/176114 [02:27<02:56, 611.86it/s]\u001b[A\u001b[A\n",
      "\n",
      " 39%|███▉      | 68270/176114 [02:27<02:33, 700.90it/s]\u001b[A\u001b[A\n",
      "\n",
      " 39%|███▉      | 68400/176114 [02:27<02:09, 830.85it/s]\u001b[A\u001b[A\n",
      "\n",
      " 39%|███▉      | 68551/176114 [02:28<01:49, 979.66it/s]\u001b[A\u001b[A\n",
      "\n",
      " 39%|███▉      | 68671/176114 [02:28<01:46, 1011.43it/s]\u001b[A\u001b[A\n",
      "\n",
      " 39%|███▉      | 68829/176114 [02:28<01:32, 1159.09it/s]\u001b[A\u001b[A\n",
      "\n",
      " 39%|███▉      | 68976/176114 [02:28<01:26, 1239.16it/s]\u001b[A\u001b[A\n",
      "\n",
      " 39%|███▉      | 69110/176114 [02:28<01:25, 1254.80it/s]\u001b[A\u001b[A\n",
      "\n",
      " 39%|███▉      | 69243/176114 [02:28<01:40, 1065.21it/s]\u001b[A\u001b[A\n",
      "\n",
      " 39%|███▉      | 69360/176114 [02:28<01:48, 984.86it/s] \u001b[A\u001b[A\n",
      "\n",
      " 39%|███▉      | 69466/176114 [02:28<01:46, 996.76it/s]\u001b[A\u001b[A\n",
      "\n",
      " 40%|███▉      | 69572/176114 [02:29<01:46, 1001.29it/s]\u001b[A\u001b[A\n",
      "\n",
      " 40%|███▉      | 69676/176114 [02:29<01:46, 1001.55it/s]\u001b[A\u001b[A\n",
      "\n",
      " 40%|███▉      | 69793/176114 [02:29<01:41, 1044.80it/s]\u001b[A\u001b[A\n",
      "\n",
      " 40%|███▉      | 69921/176114 [02:29<01:35, 1110.69it/s]\u001b[A\u001b[A\n",
      "\n",
      " 40%|███▉      | 70039/176114 [02:29<01:34, 1127.11it/s]\u001b[A\u001b[A\n",
      "\n",
      " 40%|███▉      | 70171/176114 [02:29<01:29, 1180.15it/s]\u001b[A\u001b[A\n",
      "\n",
      " 40%|███▉      | 70291/176114 [02:29<01:32, 1144.17it/s]\u001b[A\u001b[A\n",
      "\n",
      " 40%|███▉      | 70407/176114 [02:29<01:35, 1112.43it/s]\u001b[A\u001b[A\n",
      "\n",
      " 40%|████      | 70536/176114 [02:29<01:31, 1159.80it/s]\u001b[A\u001b[A\n",
      "\n",
      " 40%|████      | 70672/176114 [02:29<01:27, 1209.52it/s]\u001b[A\u001b[A\n",
      "\n",
      " 40%|████      | 70822/176114 [02:30<01:22, 1269.51it/s]\u001b[A\u001b[A\n",
      "\n",
      " 40%|████      | 70950/176114 [02:30<01:23, 1265.12it/s]\u001b[A\u001b[A\n",
      "\n",
      " 40%|████      | 71106/176114 [02:30<01:17, 1348.65it/s]\u001b[A\u001b[A\n",
      "\n",
      " 40%|████      | 71242/176114 [02:30<01:25, 1222.31it/s]\u001b[A\u001b[A\n",
      "\n",
      " 41%|████      | 71367/176114 [02:30<01:35, 1097.56it/s]\u001b[A\u001b[A\n",
      "\n",
      " 41%|████      | 71520/176114 [02:30<01:26, 1208.99it/s]\u001b[A\u001b[A\n",
      "\n",
      " 41%|████      | 71646/176114 [02:30<01:37, 1072.61it/s]\u001b[A\u001b[A\n",
      "\n",
      " 41%|████      | 71811/176114 [02:30<01:25, 1214.74it/s]\u001b[A\u001b[A\n",
      "\n",
      " 41%|████      | 71963/176114 [02:31<01:20, 1289.80it/s]\u001b[A\u001b[A\n",
      "\n",
      " 41%|████      | 72120/176114 [02:31<01:16, 1362.59it/s]\u001b[A\u001b[A\n",
      "\n",
      " 41%|████      | 72261/176114 [02:31<01:16, 1359.56it/s]\u001b[A\u001b[A\n",
      "\n",
      " 41%|████      | 72470/176114 [02:31<01:06, 1566.58it/s]\u001b[A\u001b[A\n",
      "\n",
      " 41%|████      | 72630/176114 [02:31<01:08, 1502.39it/s]\u001b[A\u001b[A\n",
      "\n",
      " 41%|████▏     | 72783/176114 [02:31<01:11, 1435.41it/s]\u001b[A\u001b[A\n",
      "\n",
      " 41%|████▏     | 72929/176114 [02:31<01:29, 1152.34it/s]\u001b[A\u001b[A\n",
      "\n",
      " 41%|████▏     | 73055/176114 [02:31<01:32, 1111.86it/s]\u001b[A\u001b[A\n",
      "\n",
      " 42%|████▏     | 73190/176114 [02:31<01:28, 1159.27it/s]\u001b[A\u001b[A\n",
      "\n",
      " 42%|████▏     | 73322/176114 [02:32<01:25, 1199.77it/s]\u001b[A\u001b[A\n",
      "\n",
      " 42%|████▏     | 73466/176114 [02:32<01:21, 1262.37it/s]\u001b[A\u001b[A\n",
      "\n",
      " 42%|████▏     | 73597/176114 [02:32<01:20, 1273.87it/s]\u001b[A\u001b[A\n",
      "\n",
      " 42%|████▏     | 73778/176114 [02:32<01:11, 1424.47it/s]\u001b[A\u001b[A\n",
      "\n",
      " 42%|████▏     | 73952/176114 [02:32<01:07, 1511.07it/s]\u001b[A\u001b[A\n",
      "\n",
      " 42%|████▏     | 74106/176114 [02:32<01:10, 1439.49it/s]\u001b[A\u001b[A\n",
      "\n",
      " 42%|████▏     | 74255/176114 [02:32<01:10, 1451.30it/s]\u001b[A\u001b[A\n",
      "\n",
      " 42%|████▏     | 74416/176114 [02:32<01:07, 1496.55it/s]\u001b[A\u001b[A\n",
      "\n",
      " 42%|████▏     | 74588/176114 [02:32<01:05, 1560.57it/s]\u001b[A\u001b[A\n",
      "\n",
      " 42%|████▏     | 74746/176114 [02:33<01:05, 1556.70it/s]\u001b[A\u001b[A\n",
      "\n",
      " 43%|████▎     | 74936/176114 [02:33<01:01, 1649.35it/s]\u001b[A\u001b[A\n",
      "\n",
      " 43%|████▎     | 75102/176114 [02:33<01:05, 1545.59it/s]\u001b[A\u001b[A\n",
      "\n",
      " 43%|████▎     | 75259/176114 [02:33<01:06, 1522.17it/s]\u001b[A\u001b[A\n",
      "\n",
      " 43%|████▎     | 75413/176114 [02:33<01:10, 1429.72it/s]\u001b[A\u001b[A\n",
      "\n",
      " 43%|████▎     | 75558/176114 [02:33<01:13, 1374.86it/s]\u001b[A\u001b[A\n",
      "\n",
      " 43%|████▎     | 75697/176114 [02:33<01:17, 1299.04it/s]\u001b[A\u001b[A\n",
      "\n",
      " 43%|████▎     | 75829/176114 [02:33<01:23, 1208.02it/s]\u001b[A\u001b[A\n",
      "\n",
      " 43%|████▎     | 75964/176114 [02:33<01:20, 1239.21it/s]\u001b[A\u001b[A\n",
      "\n",
      " 43%|████▎     | 76090/176114 [02:34<01:24, 1189.65it/s]\u001b[A\u001b[A\n",
      "\n",
      " 43%|████▎     | 76226/176114 [02:34<01:20, 1235.40it/s]\u001b[A\u001b[A\n",
      "\n",
      " 43%|████▎     | 76364/176114 [02:34<01:18, 1274.43it/s]\u001b[A\u001b[A\n",
      "\n",
      " 43%|████▎     | 76523/176114 [02:34<01:13, 1353.38it/s]\u001b[A\u001b[A\n",
      "\n",
      " 44%|████▎     | 76687/176114 [02:34<01:09, 1435.01it/s]\u001b[A\u001b[A\n",
      "\n",
      " 44%|████▎     | 76872/176114 [02:34<01:03, 1551.97it/s]\u001b[A\u001b[A\n",
      "\n",
      " 44%|████▍     | 77053/176114 [02:34<01:00, 1625.27it/s]\u001b[A\u001b[A\n",
      "\n",
      " 44%|████▍     | 77217/176114 [02:34<01:03, 1568.05it/s]\u001b[A\u001b[A\n",
      "\n",
      " 44%|████▍     | 77426/176114 [02:34<00:57, 1710.90it/s]\u001b[A\u001b[A\n",
      "\n",
      " 44%|████▍     | 77606/176114 [02:34<00:56, 1736.09it/s]\u001b[A\u001b[A\n",
      "\n",
      " 44%|████▍     | 77781/176114 [02:35<01:05, 1499.94it/s]\u001b[A\u001b[A\n",
      "\n",
      " 44%|████▍     | 77938/176114 [02:35<01:10, 1401.81it/s]\u001b[A\u001b[A\n",
      "\n",
      " 44%|████▍     | 78094/176114 [02:35<01:07, 1442.05it/s]\u001b[A\u001b[A\n",
      "\n",
      " 44%|████▍     | 78243/176114 [02:35<01:16, 1271.35it/s]\u001b[A\u001b[A\n",
      "\n",
      " 45%|████▍     | 78376/176114 [02:35<01:35, 1021.12it/s]\u001b[A\u001b[A\n",
      "\n",
      " 45%|████▍     | 78492/176114 [02:35<01:32, 1051.58it/s]\u001b[A\u001b[A\n",
      "\n",
      " 45%|████▍     | 78606/176114 [02:35<01:31, 1063.17it/s]\u001b[A\u001b[A\n",
      "\n",
      " 45%|████▍     | 78719/176114 [02:36<01:36, 1009.29it/s]\u001b[A\u001b[A\n",
      "\n",
      " 45%|████▍     | 78873/176114 [02:36<01:25, 1141.11it/s]\u001b[A\u001b[A\n",
      "\n",
      " 45%|████▍     | 79055/176114 [02:36<01:13, 1318.30it/s]\u001b[A\u001b[A\n",
      "\n",
      " 45%|████▍     | 79210/176114 [02:36<01:10, 1380.97it/s]\u001b[A\u001b[A\n",
      "\n",
      " 45%|████▌     | 79353/176114 [02:36<01:26, 1118.47it/s]\u001b[A\u001b[A\n",
      "\n",
      " 45%|████▌     | 79498/176114 [02:36<01:20, 1199.05it/s]\u001b[A\u001b[A\n",
      "\n",
      " 45%|████▌     | 79637/176114 [02:36<01:17, 1248.03it/s]\u001b[A\u001b[A\n",
      "\n",
      " 45%|████▌     | 79772/176114 [02:36<01:15, 1273.36it/s]\u001b[A\u001b[A\n",
      "\n",
      " 45%|████▌     | 79905/176114 [02:36<01:22, 1165.44it/s]\u001b[A\u001b[A\n",
      "\n",
      " 45%|████▌     | 80093/176114 [02:37<01:11, 1351.24it/s]\u001b[A\u001b[A\n",
      "\n",
      " 46%|████▌     | 80309/176114 [02:37<01:01, 1554.62it/s]\u001b[A\u001b[A\n",
      "\n",
      " 46%|████▌     | 80532/176114 [02:37<00:54, 1742.71it/s]\u001b[A\u001b[A\n",
      "\n",
      " 46%|████▌     | 80739/176114 [02:37<00:52, 1827.28it/s]\u001b[A\u001b[A\n",
      "\n",
      " 46%|████▌     | 80926/176114 [02:37<00:52, 1817.59it/s]\u001b[A\u001b[A\n",
      "\n",
      " 46%|████▌     | 81111/176114 [02:37<00:58, 1627.78it/s]\u001b[A\u001b[A\n",
      "\n",
      " 46%|████▌     | 81280/176114 [02:37<01:00, 1573.66it/s]\u001b[A\u001b[A\n",
      "\n",
      " 46%|████▋     | 81493/176114 [02:37<00:54, 1722.42it/s]\u001b[A\u001b[A\n",
      "\n",
      " 46%|████▋     | 81707/176114 [02:37<00:51, 1835.61it/s]\u001b[A\u001b[A\n",
      "\n",
      " 47%|████▋     | 81933/176114 [02:38<00:48, 1952.85it/s]\u001b[A\u001b[A\n",
      "\n",
      " 47%|████▋     | 82150/176114 [02:38<00:46, 1999.97it/s]\u001b[A\u001b[A\n",
      "\n",
      " 47%|████▋     | 82353/176114 [02:38<00:49, 1877.29it/s]\u001b[A\u001b[A\n",
      "\n",
      " 47%|████▋     | 82544/176114 [02:38<00:50, 1849.22it/s]\u001b[A\u001b[A\n",
      "\n",
      " 47%|████▋     | 82735/176114 [02:38<00:50, 1865.39it/s]\u001b[A\u001b[A\n",
      "\n",
      " 47%|████▋     | 82965/176114 [02:38<00:46, 1988.30it/s]\u001b[A\u001b[A\n",
      "\n",
      " 47%|████▋     | 83166/176114 [02:38<00:51, 1788.66it/s]\u001b[A\u001b[A\n",
      "\n",
      " 47%|████▋     | 83350/176114 [02:38<00:57, 1625.34it/s]\u001b[A\u001b[A\n",
      "\n",
      " 47%|████▋     | 83518/176114 [02:39<01:08, 1348.80it/s]\u001b[A\u001b[A\n",
      "\n",
      " 48%|████▊     | 83663/176114 [02:39<01:10, 1317.17it/s]\u001b[A\u001b[A\n",
      "\n",
      " 48%|████▊     | 83802/176114 [02:39<01:18, 1174.70it/s]\u001b[A\u001b[A\n",
      "\n",
      " 48%|████▊     | 83926/176114 [02:39<01:18, 1179.78it/s]\u001b[A\u001b[A\n",
      "\n",
      " 48%|████▊     | 84049/176114 [02:39<01:19, 1157.25it/s]\u001b[A\u001b[A\n",
      "\n",
      " 48%|████▊     | 84168/176114 [02:39<01:23, 1106.54it/s]\u001b[A\u001b[A\n",
      "\n",
      " 48%|████▊     | 84298/176114 [02:39<01:19, 1154.29it/s]\u001b[A\u001b[A\n",
      "\n",
      " 48%|████▊     | 84542/176114 [02:39<01:01, 1496.05it/s]\u001b[A\u001b[A\n",
      "\n",
      " 48%|████▊     | 84774/176114 [02:39<00:52, 1724.05it/s]\u001b[A\u001b[A\n",
      "\n",
      " 48%|████▊     | 84952/176114 [02:40<00:52, 1731.65it/s]\u001b[A\u001b[A\n",
      "\n",
      " 48%|████▊     | 85130/176114 [02:40<00:52, 1744.61it/s]\u001b[A\u001b[A\n",
      "\n",
      " 48%|████▊     | 85339/176114 [02:40<00:49, 1837.14it/s]\u001b[A\u001b[A\n",
      "\n",
      " 49%|████▊     | 85538/176114 [02:40<00:48, 1881.49it/s]\u001b[A\u001b[A\n",
      "\n",
      " 49%|████▊     | 85730/176114 [02:40<00:48, 1864.02it/s]\u001b[A\u001b[A\n",
      "\n",
      " 49%|████▉     | 85927/176114 [02:40<00:47, 1883.40it/s]\u001b[A\u001b[A\n",
      "\n",
      " 49%|████▉     | 86117/176114 [02:40<00:48, 1855.18it/s]\u001b[A\u001b[A\n",
      "\n",
      " 49%|████▉     | 86326/176114 [02:40<00:46, 1923.30it/s]\u001b[A\u001b[A\n",
      "\n",
      " 49%|████▉     | 86559/176114 [02:40<00:43, 2037.94it/s]\u001b[A\u001b[A\n",
      "\n",
      " 49%|████▉     | 86790/176114 [02:40<00:42, 2118.25it/s]\u001b[A\u001b[A\n",
      "\n",
      " 49%|████▉     | 87028/176114 [02:41<00:40, 2189.54it/s]\u001b[A\u001b[A\n",
      "\n",
      " 50%|████▉     | 87257/176114 [02:41<00:40, 2218.45it/s]\u001b[A\u001b[A\n",
      "\n",
      " 50%|████▉     | 87520/176114 [02:41<00:37, 2340.86it/s]\u001b[A\u001b[A\n",
      "\n",
      " 50%|████▉     | 87755/176114 [02:41<00:38, 2304.97it/s]\u001b[A\u001b[A\n",
      "\n",
      " 50%|████▉     | 87986/176114 [02:41<00:40, 2168.45it/s]\u001b[A\u001b[A\n",
      "\n",
      " 50%|█████     | 88205/176114 [02:41<00:44, 1978.07it/s]\u001b[A\u001b[A\n",
      "\n",
      " 50%|█████     | 88453/176114 [02:41<00:41, 2103.52it/s]\u001b[A\u001b[A\n",
      "\n",
      " 50%|█████     | 88668/176114 [02:41<00:41, 2114.19it/s]\u001b[A\u001b[A\n",
      "\n",
      " 50%|█████     | 88883/176114 [02:41<00:42, 2038.26it/s]\u001b[A\u001b[A\n",
      "\n",
      " 51%|█████     | 89153/176114 [02:42<00:39, 2223.28it/s]\u001b[A\u001b[A\n",
      "\n",
      " 51%|█████     | 89384/176114 [02:42<00:38, 2247.37it/s]\u001b[A\u001b[A\n",
      "\n",
      " 51%|█████     | 89643/176114 [02:42<00:36, 2343.01it/s]\u001b[A\u001b[A\n",
      "\n",
      " 51%|█████     | 89893/176114 [02:42<00:36, 2388.86it/s]\u001b[A\u001b[A\n",
      "\n",
      " 51%|█████     | 90134/176114 [02:42<00:39, 2187.65it/s]\u001b[A\u001b[A\n",
      "\n",
      " 51%|█████▏    | 90357/176114 [02:42<00:40, 2142.86it/s]\u001b[A\u001b[A\n",
      "\n",
      " 51%|█████▏    | 90582/176114 [02:42<00:39, 2164.28it/s]\u001b[A\u001b[A\n",
      "\n",
      " 52%|█████▏    | 90824/176114 [02:42<00:38, 2214.37it/s]\u001b[A\u001b[A\n",
      "\n",
      " 52%|█████▏    | 91048/176114 [02:42<00:39, 2128.43it/s]\u001b[A\u001b[A\n",
      "\n",
      " 52%|█████▏    | 91285/176114 [02:43<00:38, 2193.47it/s]\u001b[A\u001b[A\n",
      "\n",
      " 52%|█████▏    | 91518/176114 [02:43<00:37, 2231.97it/s]\u001b[A\u001b[A\n",
      "\n",
      " 52%|█████▏    | 91743/176114 [02:43<00:40, 2068.19it/s]\u001b[A\u001b[A\n",
      "\n",
      " 52%|█████▏    | 91966/176114 [02:43<00:40, 2075.22it/s]\u001b[A\u001b[A\n",
      "\n",
      " 52%|█████▏    | 92176/176114 [02:43<00:46, 1793.33it/s]\u001b[A\u001b[A\n",
      "\n",
      " 52%|█████▏    | 92363/176114 [02:43<00:50, 1657.12it/s]\u001b[A\u001b[A\n",
      "\n",
      " 53%|█████▎    | 92535/176114 [02:43<00:50, 1661.31it/s]\u001b[A\u001b[A\n",
      "\n",
      " 53%|█████▎    | 92713/176114 [02:43<00:49, 1691.39it/s]\u001b[A\u001b[A\n",
      "\n",
      " 53%|█████▎    | 92982/176114 [02:43<00:42, 1962.72it/s]\u001b[A\u001b[A\n",
      "\n",
      " 53%|█████▎    | 93197/176114 [02:44<00:41, 2011.18it/s]\u001b[A\u001b[A\n",
      "\n",
      " 53%|█████▎    | 93461/176114 [02:44<00:37, 2184.83it/s]\u001b[A\u001b[A\n",
      "\n",
      " 53%|█████▎    | 93711/176114 [02:44<00:36, 2274.86it/s]\u001b[A\u001b[A\n",
      "\n",
      " 53%|█████▎    | 93969/176114 [02:44<00:34, 2361.33it/s]\u001b[A\u001b[A\n",
      "\n",
      " 53%|█████▎    | 94211/176114 [02:44<00:34, 2374.03it/s]\u001b[A\u001b[A\n",
      "\n",
      " 54%|█████▎    | 94450/176114 [02:44<00:38, 2148.39it/s]\u001b[A\u001b[A\n",
      "\n",
      " 54%|█████▍    | 94670/176114 [02:44<00:41, 1949.46it/s]\u001b[A\u001b[A\n",
      "\n",
      " 54%|█████▍    | 94872/176114 [02:44<00:41, 1966.77it/s]\u001b[A\u001b[A\n",
      "\n",
      " 54%|█████▍    | 95074/176114 [02:44<00:46, 1760.23it/s]\u001b[A\u001b[A\n",
      "\n",
      " 54%|█████▍    | 95261/176114 [02:45<00:45, 1780.75it/s]\u001b[A\u001b[A\n",
      "\n",
      " 54%|█████▍    | 95444/176114 [02:45<00:48, 1652.84it/s]\u001b[A\u001b[A\n",
      "\n",
      " 54%|█████▍    | 95614/176114 [02:45<00:48, 1664.14it/s]\u001b[A\u001b[A\n",
      "\n",
      " 54%|█████▍    | 95784/176114 [02:45<00:53, 1508.21it/s]\u001b[A\u001b[A\n",
      "\n",
      " 54%|█████▍    | 95958/176114 [02:45<00:51, 1561.80it/s]\u001b[A\u001b[A\n",
      "\n",
      " 55%|█████▍    | 96118/176114 [02:45<00:55, 1452.96it/s]\u001b[A\u001b[A\n",
      "\n",
      " 55%|█████▍    | 96267/176114 [02:45<00:54, 1458.22it/s]\u001b[A\u001b[A\n",
      "\n",
      " 55%|█████▍    | 96432/176114 [02:45<00:52, 1506.81it/s]\u001b[A\u001b[A\n",
      "\n",
      " 55%|█████▍    | 96617/176114 [02:45<00:49, 1596.31it/s]\u001b[A\u001b[A\n",
      "\n",
      " 55%|█████▍    | 96789/176114 [02:46<00:48, 1624.53it/s]\u001b[A\u001b[A\n",
      "\n",
      " 55%|█████▌    | 96954/176114 [02:46<00:50, 1570.17it/s]\u001b[A\u001b[A\n",
      "\n",
      " 55%|█████▌    | 97113/176114 [02:46<00:50, 1565.75it/s]\u001b[A\u001b[A\n",
      "\n",
      " 55%|█████▌    | 97298/176114 [02:46<00:48, 1633.42it/s]\u001b[A\u001b[A\n",
      "\n",
      " 55%|█████▌    | 97463/176114 [02:46<00:54, 1452.04it/s]\u001b[A\u001b[A\n",
      "\n",
      " 55%|█████▌    | 97613/176114 [02:46<00:54, 1451.91it/s]\u001b[A\u001b[A\n",
      "\n",
      " 56%|█████▌    | 97761/176114 [02:46<00:54, 1439.80it/s]\u001b[A\u001b[A\n",
      "\n",
      " 56%|█████▌    | 98009/176114 [02:46<00:45, 1729.05it/s]\u001b[A\u001b[A\n",
      "\n",
      " 56%|█████▌    | 98188/176114 [02:46<00:44, 1745.95it/s]\u001b[A\u001b[A\n",
      "\n",
      " 56%|█████▌    | 98366/176114 [02:47<00:44, 1739.13it/s]\u001b[A\u001b[A\n",
      "\n",
      " 56%|█████▌    | 98542/176114 [02:47<00:44, 1734.60it/s]\u001b[A\u001b[A\n",
      "\n",
      " 56%|█████▌    | 98746/176114 [02:47<00:42, 1823.32it/s]\u001b[A\u001b[A\n",
      "\n",
      " 56%|█████▌    | 98930/176114 [02:47<00:44, 1725.36it/s]\u001b[A\u001b[A\n",
      "\n",
      " 56%|█████▋    | 99125/176114 [02:47<00:43, 1783.53it/s]\u001b[A\u001b[A\n",
      "\n",
      " 56%|█████▋    | 99305/176114 [02:47<00:43, 1766.24it/s]\u001b[A\u001b[A\n",
      "\n",
      " 56%|█████▋    | 99483/176114 [02:48<01:29, 851.65it/s] \u001b[A\u001b[A\n",
      "\n",
      " 57%|█████▋    | 99657/176114 [02:48<01:16, 998.69it/s]\u001b[A\u001b[A\n",
      "\n",
      " 57%|█████▋    | 99830/176114 [02:48<01:07, 1138.35it/s]\u001b[A\u001b[A\n",
      "\n",
      " 57%|█████▋    | 99985/176114 [02:48<01:02, 1214.76it/s]\u001b[A\u001b[A\n",
      "\n",
      " 57%|█████▋    | 100146/176114 [02:48<00:58, 1306.55it/s]\u001b[A\u001b[A\n",
      "\n",
      " 57%|█████▋    | 100334/176114 [02:48<00:52, 1449.34it/s]\u001b[A\u001b[A\n",
      "\n",
      " 57%|█████▋    | 100500/176114 [02:48<00:50, 1487.83it/s]\u001b[A\u001b[A\n",
      "\n",
      " 57%|█████▋    | 100676/176114 [02:48<00:48, 1561.37it/s]\u001b[A\u001b[A\n",
      "\n",
      " 57%|█████▋    | 100851/176114 [02:48<00:46, 1602.36it/s]\u001b[A\u001b[A\n",
      "\n",
      " 57%|█████▋    | 101020/176114 [02:49<00:51, 1463.51it/s]\u001b[A\u001b[A\n",
      "\n",
      " 57%|█████▋    | 101208/176114 [02:49<00:47, 1566.08it/s]\u001b[A\u001b[A\n",
      "\n",
      " 58%|█████▊    | 101372/176114 [02:49<00:47, 1564.66it/s]\u001b[A\u001b[A\n",
      "\n",
      " 58%|█████▊    | 101543/176114 [02:49<00:46, 1603.63it/s]\u001b[A\u001b[A\n",
      "\n",
      " 58%|█████▊    | 101715/176114 [02:49<00:45, 1628.10it/s]\u001b[A\u001b[A\n",
      "\n",
      " 58%|█████▊    | 101968/176114 [02:49<00:39, 1884.66it/s]\u001b[A\u001b[A\n",
      "\n",
      " 58%|█████▊    | 102160/176114 [02:49<00:39, 1887.40it/s]\u001b[A\u001b[A\n",
      "\n",
      " 58%|█████▊    | 102351/176114 [02:49<00:42, 1752.11it/s]\u001b[A\u001b[A\n",
      "\n",
      " 58%|█████▊    | 102530/176114 [02:50<02:12, 554.37it/s] \u001b[A\u001b[A\n",
      "\n",
      " 58%|█████▊    | 102661/176114 [02:52<04:59, 245.58it/s]\u001b[A\u001b[A\n",
      "\n",
      " 58%|█████▊    | 102838/176114 [02:52<03:39, 333.26it/s]\u001b[A\u001b[A\n",
      "\n",
      " 59%|█████▊    | 103065/176114 [02:52<02:32, 480.46it/s]\u001b[A\u001b[A\n",
      "\n",
      " 59%|█████▊    | 103246/176114 [02:52<01:59, 610.16it/s]\u001b[A\u001b[A\n",
      "\n",
      " 59%|█████▊    | 103415/176114 [02:52<01:38, 741.08it/s]\u001b[A\u001b[A\n",
      "\n",
      " 59%|█████▉    | 103610/176114 [02:52<01:18, 918.80it/s]\u001b[A\u001b[A\n",
      "\n",
      " 59%|█████▉    | 103781/176114 [02:52<01:10, 1025.81it/s]\u001b[A\u001b[A\n",
      "\n",
      " 59%|█████▉    | 103944/176114 [02:52<01:07, 1069.03it/s]\u001b[A\u001b[A\n",
      "\n",
      " 59%|█████▉    | 104176/176114 [02:53<00:54, 1327.50it/s]\u001b[A\u001b[A\n",
      "\n",
      " 59%|█████▉    | 104405/176114 [02:53<00:46, 1546.30it/s]\u001b[A\u001b[A\n",
      "\n",
      " 59%|█████▉    | 104596/176114 [02:53<00:45, 1570.62it/s]\u001b[A\u001b[A\n",
      "\n",
      " 60%|█████▉    | 104795/176114 [02:53<00:42, 1672.62it/s]\u001b[A\u001b[A\n",
      "\n",
      " 60%|█████▉    | 104982/176114 [02:53<00:43, 1636.80it/s]\u001b[A\u001b[A\n",
      "\n",
      " 60%|█████▉    | 105160/176114 [02:53<00:45, 1559.17it/s]\u001b[A\u001b[A\n",
      "\n",
      " 60%|█████▉    | 105326/176114 [02:53<00:53, 1314.99it/s]\u001b[A\u001b[A\n",
      "\n",
      " 60%|█████▉    | 105470/176114 [02:53<00:57, 1230.76it/s]\u001b[A\u001b[A\n",
      "\n",
      " 60%|█████▉    | 105617/176114 [02:54<00:54, 1282.15it/s]\u001b[A\u001b[A\n",
      "\n",
      " 60%|██████    | 105875/176114 [02:54<00:43, 1600.95it/s]\u001b[A\u001b[A\n",
      "\n",
      " 60%|██████    | 106136/176114 [02:54<00:37, 1862.06it/s]\u001b[A\u001b[A\n",
      "\n",
      " 60%|██████    | 106334/176114 [02:54<00:36, 1890.70it/s]\u001b[A\u001b[A\n",
      "\n",
      " 60%|██████    | 106537/176114 [02:54<00:36, 1919.24it/s]\u001b[A\u001b[A\n",
      "\n",
      " 61%|██████    | 106735/176114 [02:54<00:35, 1927.25it/s]\u001b[A\u001b[A\n",
      "\n",
      " 61%|██████    | 107043/176114 [02:54<00:30, 2254.25it/s]\u001b[A\u001b[A\n",
      "\n",
      " 61%|██████    | 107273/176114 [02:54<00:31, 2200.25it/s]\u001b[A\u001b[A\n",
      "\n",
      " 61%|██████    | 107560/176114 [02:54<00:28, 2368.70it/s]\u001b[A\u001b[A\n",
      "\n",
      " 61%|██████    | 107866/176114 [02:54<00:26, 2567.94it/s]\u001b[A\u001b[A\n",
      "\n",
      " 61%|██████▏   | 108182/176114 [02:55<00:24, 2740.55it/s]\u001b[A\u001b[A\n",
      "\n",
      " 62%|██████▏   | 108615/176114 [02:55<00:21, 3197.50it/s]\u001b[A\u001b[A\n",
      "\n",
      " 62%|██████▏   | 109143/176114 [02:55<00:17, 3791.45it/s]\u001b[A\u001b[A\n",
      "\n",
      " 62%|██████▏   | 109524/176114 [02:55<00:24, 2696.67it/s]\u001b[A\u001b[A\n",
      "\n",
      " 62%|██████▏   | 109839/176114 [02:57<01:53, 584.25it/s] \u001b[A\u001b[A\n",
      "\n",
      " 63%|██████▎   | 110137/176114 [02:57<01:29, 738.33it/s]\u001b[A\u001b[A\n",
      "\n",
      " 63%|██████▎   | 110747/176114 [02:57<00:54, 1189.50it/s]\u001b[A\u001b[A\n",
      "\n",
      " 63%|██████▎   | 111227/176114 [02:57<00:41, 1576.08it/s]\u001b[A\u001b[A\n",
      "\n",
      " 63%|██████▎   | 111620/176114 [02:57<00:37, 1741.09it/s]\u001b[A\u001b[A\n",
      "\n",
      " 64%|██████▎   | 112002/176114 [02:57<00:31, 2050.58it/s]\u001b[A\u001b[A\n",
      "\n",
      " 64%|██████▍   | 112360/176114 [02:57<00:29, 2193.20it/s]\u001b[A\u001b[A\n",
      "\n",
      " 64%|██████▍   | 112744/176114 [02:58<00:25, 2508.63it/s]\u001b[A\u001b[A\n",
      "\n",
      " 64%|██████▍   | 113130/176114 [02:58<00:22, 2790.04it/s]\u001b[A\u001b[A\n",
      "\n",
      " 64%|██████▍   | 113487/176114 [02:58<00:21, 2859.16it/s]\u001b[A\u001b[A\n",
      "\n",
      " 65%|██████▍   | 113874/176114 [02:58<00:20, 3104.81it/s]\u001b[A\u001b[A\n",
      "\n",
      " 65%|██████▍   | 114312/176114 [02:58<00:17, 3433.47it/s]\u001b[A\u001b[A\n",
      "\n",
      " 65%|██████▌   | 114830/176114 [02:58<00:15, 3899.71it/s]\u001b[A\u001b[A\n",
      "\n",
      " 65%|██████▌   | 115251/176114 [02:58<00:16, 3663.35it/s]\u001b[A\u001b[A\n",
      "\n",
      " 66%|██████▌   | 115642/176114 [02:58<00:16, 3721.76it/s]\u001b[A\u001b[A\n",
      "\n",
      " 66%|██████▌   | 116032/176114 [02:58<00:16, 3556.21it/s]\u001b[A\u001b[A\n",
      "\n",
      " 66%|██████▌   | 116401/176114 [02:59<00:17, 3354.82it/s]\u001b[A\u001b[A\n",
      "\n",
      " 66%|██████▋   | 116747/176114 [02:59<00:17, 3305.68it/s]\u001b[A\u001b[A\n",
      "\n",
      " 67%|██████▋   | 117137/176114 [02:59<00:17, 3455.03it/s]\u001b[A\u001b[A\n",
      "\n",
      " 67%|██████▋   | 117489/176114 [02:59<00:17, 3436.94it/s]\u001b[A\u001b[A\n",
      "\n",
      " 67%|██████▋   | 117838/176114 [02:59<00:16, 3434.95it/s]\u001b[A\u001b[A\n",
      "\n",
      " 67%|██████▋   | 118255/176114 [02:59<00:15, 3642.59it/s]\u001b[A\u001b[A\n",
      "\n",
      " 67%|██████▋   | 118694/176114 [02:59<00:14, 3854.60it/s]\u001b[A\u001b[A\n",
      "\n",
      " 68%|██████▊   | 119191/176114 [02:59<00:13, 4172.82it/s]\u001b[A\u001b[A\n",
      "\n",
      " 68%|██████▊   | 119611/176114 [02:59<00:13, 4107.71it/s]\u001b[A\u001b[A\n",
      "\n",
      " 68%|██████▊   | 120029/176114 [02:59<00:13, 4128.46it/s]\u001b[A\u001b[A\n",
      "\n"
     ]
    },
    {
     "name": "stderr",
     "output_type": "stream",
     "text": [
      " 68%|██████▊   | 120444/176114 [03:00<00:14, 3918.54it/s]\u001b[A\u001b[A\n",
      "\n",
      " 69%|██████▊   | 120903/176114 [03:00<00:13, 4100.32it/s]\u001b[A\u001b[A\n",
      "\n",
      " 69%|██████▉   | 121316/176114 [03:00<00:19, 2852.38it/s]\u001b[A\u001b[A\n",
      "\n",
      " 69%|██████▉   | 121655/176114 [03:00<00:26, 2065.15it/s]\u001b[A\u001b[A\n",
      "\n",
      " 69%|██████▉   | 121926/176114 [03:00<00:28, 1926.85it/s]\u001b[A\u001b[A\n",
      "\n",
      " 69%|██████▉   | 122163/176114 [03:01<00:29, 1803.88it/s]\u001b[A\u001b[A\n",
      "\n",
      " 69%|██████▉   | 122373/176114 [03:01<00:31, 1733.16it/s]\u001b[A\u001b[A\n",
      "\n",
      " 70%|██████▉   | 122566/176114 [03:01<00:33, 1612.22it/s]\u001b[A\u001b[A\n",
      "\n",
      " 70%|██████▉   | 122740/176114 [03:01<00:35, 1492.96it/s]\u001b[A\u001b[A\n",
      "\n",
      " 70%|██████▉   | 122898/176114 [03:01<00:36, 1445.80it/s]\u001b[A\u001b[A\n",
      "\n",
      " 70%|██████▉   | 123048/176114 [03:01<00:38, 1388.09it/s]\u001b[A\u001b[A\n",
      "\n",
      " 70%|██████▉   | 123190/176114 [03:01<00:39, 1348.78it/s]\u001b[A\u001b[A\n",
      "\n",
      " 70%|███████   | 123326/176114 [03:02<00:47, 1114.85it/s]\u001b[A\u001b[A\n",
      "\n",
      " 70%|███████   | 123444/176114 [03:02<00:46, 1122.06it/s]\u001b[A\u001b[A\n",
      "\n",
      " 70%|███████   | 123573/176114 [03:02<00:45, 1151.93it/s]\u001b[A\u001b[A\n",
      "\n",
      " 70%|███████   | 123699/176114 [03:02<00:44, 1167.31it/s]\u001b[A\u001b[A\n",
      "\n",
      " 70%|███████   | 123819/176114 [03:02<00:45, 1142.52it/s]\u001b[A\u001b[A\n",
      "\n",
      " 70%|███████   | 123947/176114 [03:02<00:44, 1178.45it/s]\u001b[A\u001b[A\n",
      "\n",
      " 70%|███████   | 124076/176114 [03:02<00:43, 1208.01it/s]\u001b[A\u001b[A\n",
      "\n",
      " 71%|███████   | 124199/176114 [03:02<00:45, 1152.43it/s]\u001b[A\u001b[A\n",
      "\n",
      " 71%|███████   | 124316/176114 [03:02<00:48, 1071.09it/s]\u001b[A\u001b[A\n",
      "\n",
      " 71%|███████   | 124447/176114 [03:02<00:45, 1131.27it/s]\u001b[A\u001b[A\n",
      "\n",
      " 71%|███████   | 124563/176114 [03:03<00:45, 1135.31it/s]\u001b[A\u001b[A\n",
      "\n",
      " 71%|███████   | 124678/176114 [03:04<02:41, 318.08it/s] \u001b[A\u001b[A\n",
      "\n",
      " 71%|███████   | 124762/176114 [03:05<05:22, 159.36it/s]\u001b[A\u001b[A\n",
      "\n",
      " 71%|███████   | 124830/176114 [03:05<04:30, 189.80it/s]\u001b[A\u001b[A\n",
      "\n",
      " 71%|███████   | 124982/176114 [03:05<02:54, 292.37it/s]\u001b[A\u001b[A\n",
      "\n",
      " 71%|███████   | 125112/176114 [03:05<02:10, 391.95it/s]\u001b[A\u001b[A\n",
      "\n",
      " 71%|███████   | 125214/176114 [03:06<03:50, 220.87it/s]\u001b[A\u001b[A\n",
      "\n",
      " 71%|███████   | 125288/176114 [03:08<06:26, 131.52it/s]\u001b[A\u001b[A\n",
      "\n",
      " 71%|███████   | 125342/176114 [03:09<07:45, 109.11it/s]\u001b[A\u001b[A\n",
      "\n",
      " 71%|███████   | 125382/176114 [03:09<08:53, 95.13it/s] \u001b[A\u001b[A\n",
      "\n",
      " 71%|███████   | 125412/176114 [03:10<10:05, 83.78it/s]\u001b[A\u001b[A\n",
      "\n",
      " 71%|███████   | 125434/176114 [03:11<16:41, 50.60it/s]\u001b[A\u001b[A\n",
      "\n",
      " 71%|███████   | 125450/176114 [03:19<1:07:13, 12.56it/s]\u001b[A\u001b[A\n",
      "\n",
      " 71%|███████▏  | 125509/176114 [03:20<41:17, 20.43it/s]  \u001b[A\u001b[A\n",
      "\n",
      " 71%|███████▏  | 125593/176114 [03:20<23:20, 36.07it/s]\u001b[A\u001b[A\n",
      "\n",
      " 71%|███████▏  | 125694/176114 [03:20<13:34, 61.88it/s]\u001b[A\u001b[A\n",
      "\n",
      " 71%|███████▏  | 125772/176114 [03:20<09:31, 88.05it/s]\u001b[A\u001b[A\n",
      "\n",
      " 71%|███████▏  | 125849/176114 [03:20<06:52, 121.73it/s]\u001b[A\u001b[A\n",
      "\n",
      " 72%|███████▏  | 125938/176114 [03:20<04:51, 172.28it/s]\u001b[A\u001b[A\n",
      "\n",
      " 72%|███████▏  | 126034/176114 [03:20<03:29, 239.48it/s]\u001b[A\u001b[A\n",
      "\n",
      " 72%|███████▏  | 126114/176114 [03:20<02:47, 298.12it/s]\u001b[A\u001b[A\n",
      "\n",
      " 72%|███████▏  | 126201/176114 [03:20<02:13, 374.67it/s]\u001b[A\u001b[A\n",
      "\n",
      " 72%|███████▏  | 126282/176114 [03:21<01:52, 441.23it/s]\u001b[A\u001b[A\n",
      "\n",
      " 72%|███████▏  | 126362/176114 [03:21<01:39, 501.75it/s]\u001b[A\u001b[A\n",
      "\n",
      " 72%|███████▏  | 126441/176114 [03:21<01:30, 551.21it/s]\u001b[A\u001b[A\n",
      "\n",
      " 72%|███████▏  | 126518/176114 [03:21<01:23, 595.51it/s]\u001b[A\u001b[A\n",
      "\n",
      " 72%|███████▏  | 126600/176114 [03:21<01:16, 643.83it/s]\u001b[A\u001b[A\n",
      "\n",
      " 72%|███████▏  | 126692/176114 [03:21<01:09, 713.52it/s]\u001b[A\u001b[A\n",
      "\n",
      " 72%|███████▏  | 126790/176114 [03:21<01:03, 781.16it/s]\u001b[A\u001b[A\n",
      "\n",
      " 72%|███████▏  | 126876/176114 [03:21<01:02, 786.90it/s]\u001b[A\u001b[A\n",
      "\n",
      " 72%|███████▏  | 126990/176114 [03:21<00:55, 880.19it/s]\u001b[A\u001b[A\n",
      "\n",
      " 72%|███████▏  | 127083/176114 [03:21<00:54, 894.07it/s]\u001b[A\u001b[A\n",
      "\n",
      " 72%|███████▏  | 127176/176114 [03:22<00:57, 848.59it/s]\u001b[A\u001b[A\n",
      "\n",
      " 72%|███████▏  | 127272/176114 [03:22<00:55, 876.53it/s]\u001b[A\u001b[A\n",
      "\n",
      " 72%|███████▏  | 127364/176114 [03:22<00:55, 881.26it/s]\u001b[A\u001b[A\n",
      "\n",
      " 72%|███████▏  | 127454/176114 [03:22<00:57, 839.64it/s]\u001b[A\u001b[A\n",
      "\n",
      " 72%|███████▏  | 127540/176114 [03:22<00:57, 842.02it/s]\u001b[A\u001b[A\n",
      "\n",
      " 72%|███████▏  | 127634/176114 [03:22<00:56, 863.88it/s]\u001b[A\u001b[A\n",
      "\n",
      " 73%|███████▎  | 127756/176114 [03:22<00:50, 958.15it/s]\u001b[A\u001b[A\n",
      "\n",
      " 73%|███████▎  | 127853/176114 [03:22<00:50, 951.03it/s]\u001b[A\u001b[A\n",
      "\n",
      " 73%|███████▎  | 127953/176114 [03:22<00:49, 964.52it/s]\u001b[A\u001b[A\n",
      "\n",
      " 73%|███████▎  | 128064/176114 [03:23<00:47, 1004.17it/s]\u001b[A\u001b[A\n",
      "\n",
      " 73%|███████▎  | 128165/176114 [03:23<00:50, 955.46it/s] \u001b[A\u001b[A\n",
      "\n",
      " 73%|███████▎  | 128262/176114 [03:23<00:49, 959.11it/s]\u001b[A\u001b[A\n",
      "\n",
      " 73%|███████▎  | 128359/176114 [03:23<00:50, 954.44it/s]\u001b[A\u001b[A\n",
      "\n",
      " 73%|███████▎  | 128455/176114 [03:23<00:51, 917.56it/s]\u001b[A\u001b[A\n",
      "\n",
      " 73%|███████▎  | 128550/176114 [03:23<00:51, 925.61it/s]\u001b[A\u001b[A\n",
      "\n",
      " 73%|███████▎  | 128672/176114 [03:23<00:47, 1003.82it/s]\u001b[A\u001b[A\n",
      "\n",
      " 73%|███████▎  | 128797/176114 [03:23<00:44, 1072.57it/s]\u001b[A\u001b[A\n",
      "\n",
      " 73%|███████▎  | 128905/176114 [03:23<00:45, 1039.15it/s]\u001b[A\u001b[A\n",
      "\n",
      " 73%|███████▎  | 129015/176114 [03:23<00:44, 1055.60it/s]\u001b[A\u001b[A\n",
      "\n",
      " 73%|███████▎  | 129128/176114 [03:24<00:43, 1073.31it/s]\u001b[A\u001b[A\n",
      "\n",
      " 73%|███████▎  | 129236/176114 [03:24<00:44, 1041.95it/s]\u001b[A\u001b[A\n",
      "\n",
      " 73%|███████▎  | 129354/176114 [03:24<00:43, 1073.85it/s]\u001b[A\u001b[A\n",
      "\n",
      " 74%|███████▎  | 129462/176114 [03:24<00:46, 1004.70it/s]\u001b[A\u001b[A\n",
      "\n",
      " 74%|███████▎  | 129589/176114 [03:24<00:43, 1068.64it/s]\u001b[A\u001b[A\n",
      "\n",
      " 74%|███████▎  | 129697/176114 [03:24<00:44, 1043.65it/s]\u001b[A\u001b[A\n",
      "\n",
      " 74%|███████▎  | 129803/176114 [03:24<00:46, 1002.27it/s]\u001b[A\u001b[A\n",
      "\n",
      " 74%|███████▍  | 129920/176114 [03:24<00:44, 1048.86it/s]\u001b[A\u001b[A\n",
      "\n",
      " 74%|███████▍  | 130026/176114 [03:24<00:44, 1039.11it/s]\u001b[A\u001b[A\n",
      "\n",
      " 74%|███████▍  | 130131/176114 [03:25<00:45, 1009.82it/s]\u001b[A\u001b[A\n",
      "\n",
      " 74%|███████▍  | 130251/176114 [03:25<00:43, 1063.11it/s]\u001b[A\u001b[A\n",
      "\n",
      " 74%|███████▍  | 130396/176114 [03:25<00:38, 1173.50it/s]\u001b[A\u001b[A\n",
      "\n",
      " 74%|███████▍  | 130516/176114 [03:25<00:38, 1177.38it/s]\u001b[A\u001b[A\n",
      "\n",
      " 74%|███████▍  | 130635/176114 [03:25<00:41, 1091.56it/s]\u001b[A\u001b[A\n",
      "\n",
      " 74%|███████▍  | 130747/176114 [03:25<00:41, 1098.61it/s]\u001b[A\u001b[A\n",
      "\n",
      " 74%|███████▍  | 130859/176114 [03:25<00:43, 1051.34it/s]\u001b[A\u001b[A\n",
      "\n",
      " 74%|███████▍  | 130966/176114 [03:25<00:44, 1022.69it/s]\u001b[A\u001b[A\n",
      "\n",
      " 74%|███████▍  | 131070/176114 [03:25<00:46, 978.77it/s] \u001b[A\u001b[A\n",
      "\n",
      " 74%|███████▍  | 131193/176114 [03:26<00:43, 1037.72it/s]\u001b[A\u001b[A\n",
      "\n",
      " 75%|███████▍  | 131298/176114 [03:26<00:44, 1014.22it/s]\u001b[A\u001b[A\n",
      "\n",
      " 75%|███████▍  | 131401/176114 [03:26<00:44, 1013.17it/s]\u001b[A\u001b[A\n",
      "\n",
      " 75%|███████▍  | 131514/176114 [03:26<00:42, 1041.75it/s]\u001b[A\u001b[A\n",
      "\n",
      " 75%|███████▍  | 131636/176114 [03:26<00:40, 1093.03it/s]\u001b[A\u001b[A\n",
      "\n",
      " 75%|███████▍  | 131746/176114 [03:26<00:42, 1053.46it/s]\u001b[A\u001b[A\n",
      "\n",
      " 75%|███████▍  | 131852/176114 [03:26<00:42, 1043.55it/s]\u001b[A\u001b[A\n",
      "\n",
      " 75%|███████▍  | 131967/176114 [03:26<00:41, 1071.49it/s]\u001b[A\u001b[A\n",
      "\n",
      " 75%|███████▍  | 132084/176114 [03:26<00:40, 1097.68it/s]\u001b[A\u001b[A\n",
      "\n",
      " 75%|███████▌  | 132198/176114 [03:26<00:39, 1107.30it/s]\u001b[A\u001b[A\n",
      "\n",
      " 75%|███████▌  | 132331/176114 [03:27<00:37, 1159.78it/s]\u001b[A\u001b[A\n",
      "\n",
      " 75%|███████▌  | 132448/176114 [03:27<00:38, 1147.56it/s]\u001b[A\u001b[A\n",
      "\n",
      " 75%|███████▌  | 132563/176114 [03:27<00:50, 867.87it/s] \u001b[A\u001b[A\n",
      "\n",
      " 75%|███████▌  | 132660/176114 [03:34<14:50, 48.80it/s] \u001b[A\u001b[A\n",
      "\n",
      " 75%|███████▌  | 132729/176114 [03:35<12:31, 57.72it/s]\u001b[A\u001b[A\n",
      "\n",
      " 75%|███████▌  | 132783/176114 [03:35<10:33, 68.39it/s]\u001b[A\u001b[A\n",
      "\n",
      " 75%|███████▌  | 132872/176114 [03:35<07:31, 95.68it/s]\u001b[A\u001b[A\n",
      "\n",
      " 75%|███████▌  | 132932/176114 [03:35<06:13, 115.54it/s]\u001b[A\u001b[A\n",
      "\n",
      " 76%|███████▌  | 132986/176114 [03:37<09:35, 74.92it/s] \u001b[A\u001b[A\n",
      "\n",
      " 76%|███████▌  | 133025/176114 [03:38<13:37, 52.73it/s]\u001b[A\u001b[A\n",
      "\n",
      " 76%|███████▌  | 133053/176114 [03:40<19:16, 37.25it/s]\u001b[A\u001b[A\n",
      "\n",
      " 76%|███████▌  | 133073/176114 [03:41<21:15, 33.74it/s]\u001b[A\u001b[A\n",
      "\n",
      " 76%|███████▌  | 133088/176114 [03:41<20:51, 34.37it/s]\u001b[A\u001b[A\n",
      "\n",
      " 76%|███████▌  | 133100/176114 [03:42<19:51, 36.10it/s]\u001b[A\u001b[A\n",
      "\n",
      " 76%|███████▌  | 133110/176114 [03:42<18:12, 39.38it/s]\u001b[A\u001b[A\n",
      "\n",
      " 76%|███████▌  | 133121/176114 [03:42<16:22, 43.74it/s]\u001b[A\u001b[A\n",
      "\n",
      " 76%|███████▌  | 133172/176114 [03:42<08:19, 85.95it/s]\u001b[A\u001b[A\n",
      "\n",
      " 76%|███████▌  | 133229/176114 [03:42<05:03, 141.35it/s]\u001b[A\u001b[A\n",
      "\n",
      " 76%|███████▌  | 133297/176114 [03:42<03:18, 216.04it/s]\u001b[A\u001b[A\n",
      "\n",
      " 76%|███████▌  | 133342/176114 [03:42<02:47, 254.66it/s]\u001b[A\u001b[A\n",
      "\n",
      " 76%|███████▌  | 133395/176114 [03:42<02:20, 303.64it/s]\u001b[A\u001b[A\n",
      "\n",
      " 76%|███████▌  | 133440/176114 [03:42<02:11, 325.37it/s]\u001b[A\u001b[A\n",
      "\n",
      " 76%|███████▌  | 133486/176114 [03:43<02:00, 353.56it/s]\u001b[A\u001b[A\n",
      "\n",
      " 76%|███████▌  | 133542/176114 [03:43<01:46, 400.31it/s]\u001b[A\u001b[A\n",
      "\n",
      " 76%|███████▌  | 133593/176114 [03:43<01:40, 424.92it/s]\u001b[A\u001b[A\n",
      "\n",
      " 76%|███████▌  | 133662/176114 [03:43<01:25, 495.63it/s]\u001b[A\u001b[A\n",
      "\n",
      " 76%|███████▌  | 133716/176114 [03:43<01:28, 481.53it/s]\u001b[A\u001b[A\n",
      "\n",
      " 76%|███████▌  | 133788/176114 [03:43<01:17, 544.13it/s]\u001b[A\u001b[A\n",
      "\n",
      " 76%|███████▌  | 133852/176114 [03:43<01:14, 570.74it/s]\u001b[A\u001b[A\n",
      "\n",
      " 76%|███████▌  | 133914/176114 [03:43<01:12, 580.47it/s]\u001b[A\u001b[A\n",
      "\n",
      " 76%|███████▌  | 133987/176114 [03:43<01:07, 623.39it/s]\u001b[A\u001b[A\n",
      "\n",
      " 76%|███████▌  | 134051/176114 [03:44<01:09, 606.33it/s]\u001b[A\u001b[A\n",
      "\n",
      " 76%|███████▌  | 134123/176114 [03:44<01:05, 637.99it/s]\u001b[A\u001b[A\n",
      "\n",
      " 76%|███████▌  | 134200/176114 [03:44<01:02, 675.72it/s]\u001b[A\u001b[A\n",
      "\n",
      " 76%|███████▌  | 134272/176114 [03:44<01:00, 686.31it/s]\u001b[A\u001b[A\n",
      "\n",
      " 76%|███████▋  | 134342/176114 [03:44<01:02, 670.84it/s]\u001b[A\u001b[A\n",
      "\n",
      " 76%|███████▋  | 134410/176114 [03:44<01:04, 645.64it/s]\u001b[A\u001b[A\n",
      "\n",
      " 76%|███████▋  | 134486/176114 [03:44<01:01, 674.54it/s]\u001b[A\u001b[A\n",
      "\n",
      " 76%|███████▋  | 134554/176114 [03:44<01:02, 662.13it/s]\u001b[A\u001b[A\n",
      "\n",
      " 76%|███████▋  | 134641/176114 [03:44<00:57, 719.98it/s]\u001b[A\u001b[A\n",
      "\n",
      " 76%|███████▋  | 134714/176114 [03:44<00:58, 713.07it/s]\u001b[A\u001b[A\n",
      "\n",
      " 77%|███████▋  | 134813/176114 [03:45<00:52, 781.25it/s]\u001b[A\u001b[A\n",
      "\n",
      " 77%|███████▋  | 134892/176114 [03:45<00:55, 749.46it/s]\u001b[A\u001b[A\n",
      "\n",
      " 77%|███████▋  | 134970/176114 [03:45<00:54, 757.64it/s]\u001b[A\u001b[A\n",
      "\n",
      " 77%|███████▋  | 135047/176114 [03:45<00:54, 751.12it/s]\u001b[A\u001b[A\n",
      "\n",
      " 77%|███████▋  | 135127/176114 [03:45<00:53, 761.74it/s]\u001b[A\u001b[A\n",
      "\n",
      " 77%|███████▋  | 135204/176114 [03:45<00:54, 755.82it/s]\u001b[A\u001b[A\n",
      "\n",
      " 77%|███████▋  | 135290/176114 [03:45<00:52, 782.57it/s]\u001b[A\u001b[A\n",
      "\n",
      " 77%|███████▋  | 135399/176114 [03:45<00:46, 870.70it/s]\u001b[A\u001b[A\n",
      "\n",
      " 77%|███████▋  | 135494/176114 [03:45<00:45, 891.88it/s]\u001b[A\u001b[A\n",
      "\n",
      " 77%|███████▋  | 135584/176114 [03:46<00:49, 813.96it/s]\u001b[A\u001b[A\n",
      "\n",
      " 77%|███████▋  | 135682/176114 [03:46<00:47, 857.33it/s]\u001b[A\u001b[A\n",
      "\n",
      " 77%|███████▋  | 135770/176114 [03:46<00:53, 751.42it/s]\u001b[A\u001b[A\n",
      "\n",
      " 77%|███████▋  | 135871/176114 [03:46<00:49, 818.31it/s]\u001b[A\u001b[A\n",
      "\n",
      " 77%|███████▋  | 135956/176114 [03:46<00:51, 774.47it/s]\u001b[A\u001b[A\n",
      "\n",
      " 77%|███████▋  | 136036/176114 [03:46<00:54, 736.51it/s]\u001b[A\u001b[A\n",
      "\n",
      " 77%|███████▋  | 136112/176114 [03:46<00:55, 717.30it/s]\u001b[A\u001b[A\n",
      "\n",
      " 77%|███████▋  | 136185/176114 [03:46<00:56, 706.72it/s]\u001b[A\u001b[A\n",
      "\n",
      " 77%|███████▋  | 136257/176114 [03:46<00:56, 707.81it/s]\u001b[A\u001b[A\n",
      "\n",
      " 77%|███████▋  | 136346/176114 [03:47<00:52, 758.25it/s]\u001b[A\u001b[A\n",
      "\n",
      " 77%|███████▋  | 136457/176114 [03:47<00:46, 857.37it/s]\u001b[A\u001b[A\n",
      "\n",
      " 78%|███████▊  | 136544/176114 [03:47<00:50, 788.29it/s]\u001b[A\u001b[A\n",
      "\n",
      " 78%|███████▊  | 136672/176114 [03:47<00:42, 919.03it/s]\u001b[A\u001b[A\n",
      "\n",
      " 78%|███████▊  | 136773/176114 [03:47<00:41, 943.54it/s]\u001b[A\u001b[A\n",
      "\n",
      " 78%|███████▊  | 136870/176114 [03:47<00:44, 875.59it/s]\u001b[A\u001b[A\n",
      "\n",
      " 78%|███████▊  | 136982/176114 [03:47<00:41, 937.97it/s]\u001b[A\u001b[A\n",
      "\n",
      " 78%|███████▊  | 137078/176114 [03:47<00:41, 935.03it/s]\u001b[A\u001b[A\n",
      "\n",
      " 78%|███████▊  | 137179/176114 [03:47<00:40, 956.07it/s]\u001b[A\u001b[A\n",
      "\n",
      " 78%|███████▊  | 137276/176114 [03:48<00:41, 933.18it/s]\u001b[A\u001b[A\n",
      "\n",
      " 78%|███████▊  | 137385/176114 [03:48<00:39, 970.10it/s]\u001b[A\u001b[A\n",
      "\n",
      " 78%|███████▊  | 137483/176114 [03:48<00:39, 967.20it/s]\u001b[A\u001b[A\n",
      "\n",
      " 78%|███████▊  | 137591/176114 [03:48<00:39, 984.25it/s]\u001b[A\u001b[A\n",
      "\n",
      " 78%|███████▊  | 137690/176114 [03:48<00:42, 913.05it/s]\u001b[A\u001b[A\n",
      "\n",
      " 78%|███████▊  | 137783/176114 [03:48<00:44, 856.62it/s]\u001b[A\u001b[A\n",
      "\n",
      " 78%|███████▊  | 137870/176114 [03:48<00:45, 849.00it/s]\u001b[A\u001b[A\n",
      "\n",
      " 78%|███████▊  | 137966/176114 [03:48<00:43, 879.45it/s]\u001b[A\u001b[A\n",
      "\n",
      " 78%|███████▊  | 138055/176114 [03:48<00:48, 779.31it/s]\u001b[A\u001b[A\n",
      "\n",
      " 78%|███████▊  | 138136/176114 [03:49<00:48, 779.74it/s]\u001b[A\u001b[A\n",
      "\n",
      " 78%|███████▊  | 138228/176114 [03:49<00:46, 816.99it/s]\u001b[A\u001b[A\n",
      "\n",
      " 79%|███████▊  | 138325/176114 [03:49<00:44, 841.51it/s]\u001b[A\u001b[A\n",
      "\n",
      " 79%|███████▊  | 138425/176114 [03:49<00:42, 885.85it/s]\u001b[A\u001b[A\n",
      "\n",
      " 79%|███████▊  | 138515/176114 [03:49<00:42, 879.23it/s]\u001b[A\u001b[A\n",
      "\n",
      " 79%|███████▊  | 138618/176114 [03:49<00:40, 920.91it/s]\u001b[A\u001b[A\n",
      "\n",
      " 79%|███████▉  | 138711/176114 [03:49<00:44, 841.63it/s]\u001b[A\u001b[A\n",
      "\n",
      " 79%|███████▉  | 138811/176114 [03:49<00:42, 883.50it/s]\u001b[A\u001b[A\n",
      "\n",
      " 79%|███████▉  | 138917/176114 [03:49<00:40, 929.55it/s]\u001b[A\u001b[A\n",
      "\n",
      " 79%|███████▉  | 139016/176114 [03:50<00:39, 938.40it/s]\u001b[A\u001b[A\n",
      "\n",
      " 79%|███████▉  | 139118/176114 [03:50<00:38, 957.03it/s]\u001b[A\u001b[A\n",
      "\n",
      " 79%|███████▉  | 139216/176114 [03:50<00:38, 962.18it/s]\u001b[A\u001b[A\n",
      "\n",
      " 79%|███████▉  | 139313/176114 [03:50<00:40, 910.11it/s]\u001b[A\u001b[A\n",
      "\n",
      " 79%|███████▉  | 139405/176114 [03:50<00:40, 903.20it/s]\u001b[A\u001b[A\n",
      "\n",
      " 79%|███████▉  | 139496/176114 [03:50<00:40, 898.37it/s]\u001b[A\u001b[A\n",
      "\n",
      " 79%|███████▉  | 139587/176114 [03:50<00:41, 885.26it/s]\u001b[A\u001b[A\n",
      "\n",
      " 79%|███████▉  | 139710/176114 [03:50<00:37, 983.85it/s]\u001b[A\u001b[A\n",
      "\n",
      " 79%|███████▉  | 139809/176114 [03:50<00:39, 908.18it/s]\u001b[A\u001b[A\n",
      "\n",
      " 79%|███████▉  | 139909/176114 [03:50<00:38, 930.39it/s]\u001b[A\u001b[A\n",
      "\n",
      " 80%|███████▉  | 140012/176114 [03:51<00:37, 957.77it/s]\u001b[A\u001b[A\n",
      "\n",
      " 80%|███████▉  | 140109/176114 [03:51<00:38, 933.18it/s]\u001b[A\u001b[A\n",
      "\n",
      " 80%|███████▉  | 140204/176114 [03:51<00:38, 936.87it/s]\u001b[A\u001b[A\n",
      "\n",
      " 80%|███████▉  | 140299/176114 [03:51<00:38, 930.75it/s]\u001b[A\u001b[A\n",
      "\n",
      " 80%|███████▉  | 140393/176114 [03:51<00:38, 924.45it/s]\u001b[A\u001b[A\n",
      "\n",
      " 80%|███████▉  | 140509/176114 [03:51<00:35, 992.00it/s]\u001b[A\u001b[A\n",
      "\n",
      " 80%|███████▉  | 140609/176114 [03:51<00:36, 984.70it/s]\u001b[A\u001b[A\n",
      "\n",
      " 80%|███████▉  | 140708/176114 [03:51<00:36, 966.91it/s]\u001b[A\u001b[A\n",
      "\n",
      " 80%|███████▉  | 140816/176114 [03:51<00:35, 999.43it/s]\u001b[A\u001b[A\n",
      "\n",
      " 80%|████████  | 140917/176114 [03:52<00:38, 924.68it/s]\u001b[A\u001b[A\n",
      "\n",
      " 80%|████████  | 141011/176114 [03:52<00:45, 768.66it/s]\u001b[A\u001b[A\n",
      "\n",
      " 80%|████████  | 141098/176114 [03:52<00:44, 790.77it/s]\u001b[A\u001b[A\n",
      "\n",
      " 80%|████████  | 141193/176114 [03:52<00:41, 832.10it/s]\u001b[A\u001b[A\n",
      "\n",
      " 80%|████████  | 141287/176114 [03:52<00:40, 859.92it/s]\u001b[A\u001b[A\n",
      "\n",
      " 80%|████████  | 141387/176114 [03:52<00:38, 896.42it/s]\u001b[A\u001b[A\n",
      "\n",
      " 80%|████████  | 141479/176114 [03:52<00:38, 896.93it/s]\u001b[A\u001b[A\n",
      "\n",
      " 80%|████████  | 141571/176114 [03:52<00:38, 893.01it/s]\u001b[A\u001b[A\n",
      "\n",
      " 80%|████████  | 141662/176114 [03:52<00:38, 886.93it/s]\u001b[A\u001b[A\n",
      "\n",
      " 80%|████████  | 141755/176114 [03:53<00:39, 877.95it/s]\u001b[A\u001b[A\n",
      "\n",
      " 81%|████████  | 141867/176114 [03:53<00:36, 947.17it/s]\u001b[A\u001b[A\n",
      "\n",
      " 81%|████████  | 141963/176114 [03:53<00:44, 773.69it/s]\u001b[A\u001b[A\n",
      "\n",
      " 81%|████████  | 142071/176114 [03:53<00:40, 847.61it/s]\u001b[A\u001b[A\n",
      "\n",
      " 81%|████████  | 142203/176114 [03:53<00:34, 972.45it/s]\u001b[A\u001b[A\n",
      "\n",
      " 81%|████████  | 142310/176114 [03:53<00:33, 996.41it/s]\u001b[A\u001b[A\n",
      "\n",
      " 81%|████████  | 142414/176114 [03:53<00:37, 887.21it/s]\u001b[A\u001b[A\n",
      "\n",
      " 81%|████████  | 142508/176114 [03:53<00:43, 774.54it/s]\u001b[A\u001b[A\n",
      "\n",
      " 81%|████████  | 142601/176114 [03:54<00:41, 812.18it/s]\u001b[A\u001b[A\n",
      "\n",
      " 81%|████████  | 142729/176114 [03:54<00:35, 930.02it/s]\u001b[A\u001b[A\n",
      "\n",
      " 81%|████████  | 142865/176114 [03:54<00:31, 1043.73it/s]\u001b[A\u001b[A\n",
      "\n",
      " 81%|████████  | 142975/176114 [03:54<00:32, 1020.98it/s]\u001b[A\u001b[A\n",
      "\n",
      " 81%|████████  | 143081/176114 [03:54<00:37, 876.61it/s] \u001b[A\u001b[A\n",
      "\n",
      " 81%|████████▏ | 143204/176114 [03:54<00:34, 964.01it/s]\u001b[A\u001b[A\n",
      "\n",
      " 81%|████████▏ | 143332/176114 [03:54<00:31, 1046.59it/s]\u001b[A\u001b[A\n",
      "\n",
      " 81%|████████▏ | 143455/176114 [03:54<00:29, 1094.08it/s]\u001b[A\u001b[A\n",
      "\n",
      " 82%|████████▏ | 143571/176114 [03:54<00:29, 1112.40it/s]\u001b[A\u001b[A\n",
      "\n",
      " 82%|████████▏ | 143686/176114 [03:55<00:30, 1057.92it/s]\u001b[A\u001b[A\n",
      "\n",
      " 82%|████████▏ | 143795/176114 [03:55<00:32, 1003.26it/s]\u001b[A\u001b[A\n",
      "\n",
      " 82%|████████▏ | 143903/176114 [03:55<00:31, 1022.55it/s]\u001b[A\u001b[A\n",
      "\n",
      " 82%|████████▏ | 144007/176114 [03:55<00:31, 1008.37it/s]\u001b[A\u001b[A\n",
      "\n",
      " 82%|████████▏ | 144120/176114 [03:55<00:30, 1040.78it/s]\u001b[A\u001b[A\n",
      "\n",
      " 82%|████████▏ | 144226/176114 [03:55<00:31, 1013.35it/s]\u001b[A\u001b[A\n",
      "\n",
      " 82%|████████▏ | 144333/176114 [03:55<00:30, 1026.97it/s]\u001b[A\u001b[A\n",
      "\n",
      " 82%|████████▏ | 144437/176114 [03:55<00:30, 1027.89it/s]\u001b[A\u001b[A\n",
      "\n",
      " 82%|████████▏ | 144541/176114 [03:55<00:30, 1030.19it/s]\u001b[A\u001b[A\n",
      "\n",
      " 82%|████████▏ | 144661/176114 [03:55<00:29, 1064.14it/s]\u001b[A\u001b[A\n",
      "\n",
      " 82%|████████▏ | 144768/176114 [03:56<00:29, 1061.95it/s]\u001b[A\u001b[A\n",
      "\n",
      " 82%|████████▏ | 144875/176114 [03:56<00:29, 1044.65it/s]\u001b[A\u001b[A\n",
      "\n",
      " 82%|████████▏ | 144997/176114 [03:56<00:28, 1091.79it/s]\u001b[A\u001b[A\n",
      "\n",
      " 82%|████████▏ | 145119/176114 [03:56<00:27, 1117.72it/s]\u001b[A\u001b[A\n",
      "\n",
      " 82%|████████▏ | 145246/176114 [03:56<00:26, 1156.66it/s]\u001b[A\u001b[A\n",
      "\n",
      " 83%|████████▎ | 145362/176114 [03:56<00:28, 1087.79it/s]\u001b[A\u001b[A\n",
      "\n",
      " 83%|████████▎ | 145508/176114 [03:56<00:25, 1191.02it/s]\u001b[A\u001b[A\n",
      "\n",
      " 83%|████████▎ | 145629/176114 [03:56<00:28, 1055.10it/s]\u001b[A\u001b[A\n",
      "\n",
      " 83%|████████▎ | 145743/176114 [03:56<00:28, 1057.72it/s]\u001b[A\u001b[A\n",
      "\n",
      " 83%|████████▎ | 145873/176114 [03:57<00:27, 1117.85it/s]\u001b[A\u001b[A\n",
      "\n",
      " 83%|████████▎ | 145996/176114 [03:57<00:26, 1131.36it/s]\u001b[A\u001b[A\n",
      "\n",
      " 83%|████████▎ | 146111/176114 [03:57<00:26, 1121.12it/s]\u001b[A\u001b[A\n",
      "\n"
     ]
    },
    {
     "name": "stderr",
     "output_type": "stream",
     "text": [
      " 83%|████████▎ | 146253/176114 [03:57<00:24, 1197.55it/s]\u001b[A\u001b[A\n",
      "\n",
      " 83%|████████▎ | 146374/176114 [03:57<00:27, 1062.32it/s]\u001b[A\u001b[A\n",
      "\n",
      " 83%|████████▎ | 146532/176114 [03:57<00:24, 1199.94it/s]\u001b[A\u001b[A\n",
      "\n",
      " 83%|████████▎ | 146657/176114 [03:57<00:25, 1158.60it/s]\u001b[A\u001b[A\n",
      "\n",
      " 83%|████████▎ | 146782/176114 [03:57<00:24, 1174.69it/s]\u001b[A\u001b[A\n",
      "\n",
      " 83%|████████▎ | 146902/176114 [03:57<00:26, 1089.33it/s]\u001b[A\u001b[A\n",
      "\n",
      " 83%|████████▎ | 147026/176114 [03:58<00:25, 1129.67it/s]\u001b[A\u001b[A\n",
      "\n",
      " 84%|████████▎ | 147156/176114 [03:58<00:24, 1174.97it/s]\u001b[A\u001b[A\n",
      "\n",
      " 84%|████████▎ | 147285/176114 [03:58<00:23, 1206.90it/s]\u001b[A\u001b[A\n",
      "\n",
      " 84%|████████▎ | 147420/176114 [03:58<00:23, 1242.91it/s]\u001b[A\u001b[A\n",
      "\n",
      " 84%|████████▍ | 147546/176114 [03:58<00:23, 1231.77it/s]\u001b[A\u001b[A\n",
      "\n",
      " 84%|████████▍ | 147681/176114 [03:58<00:22, 1262.77it/s]\u001b[A\u001b[A\n",
      "\n",
      " 84%|████████▍ | 147808/176114 [03:58<00:23, 1179.97it/s]\u001b[A\u001b[A\n",
      "\n",
      " 84%|████████▍ | 147932/176114 [03:58<00:23, 1194.64it/s]\u001b[A\u001b[A\n",
      "\n",
      " 84%|████████▍ | 148053/176114 [03:58<00:23, 1182.36it/s]\u001b[A\u001b[A\n",
      "\n",
      " 84%|████████▍ | 148183/176114 [03:59<00:22, 1216.09it/s]\u001b[A\u001b[A\n",
      "\n",
      " 84%|████████▍ | 148306/176114 [03:59<00:23, 1190.18it/s]\u001b[A\u001b[A\n",
      "\n",
      " 84%|████████▍ | 148426/176114 [03:59<00:24, 1123.12it/s]\u001b[A\u001b[A\n",
      "\n",
      " 84%|████████▍ | 148555/176114 [03:59<00:23, 1169.61it/s]\u001b[A\u001b[A\n",
      "\n",
      " 84%|████████▍ | 148693/176114 [03:59<00:22, 1224.88it/s]\u001b[A\u001b[A\n",
      "\n",
      " 85%|████████▍ | 148817/176114 [03:59<00:23, 1163.29it/s]\u001b[A\u001b[A\n",
      "\n",
      " 85%|████████▍ | 148935/176114 [03:59<00:24, 1127.69it/s]\u001b[A\u001b[A\n",
      "\n",
      " 85%|████████▍ | 149049/176114 [03:59<00:24, 1101.40it/s]\u001b[A\u001b[A\n",
      "\n",
      " 85%|████████▍ | 149160/176114 [03:59<00:24, 1099.20it/s]\u001b[A\u001b[A\n",
      "\n",
      " 85%|████████▍ | 149271/176114 [04:00<00:34, 783.28it/s] \u001b[A\u001b[A\n",
      "\n",
      " 85%|████████▍ | 149362/176114 [04:07<08:58, 49.63it/s] \u001b[A\u001b[A\n",
      "\n",
      " 85%|████████▍ | 149438/176114 [04:07<07:01, 63.24it/s]\u001b[A\u001b[A\n",
      "\n",
      " 85%|████████▍ | 149517/176114 [04:07<05:21, 82.61it/s]\u001b[A\u001b[A\n",
      "\n",
      " 85%|████████▍ | 149635/176114 [04:07<03:35, 122.86it/s]\u001b[A\u001b[A\n",
      "\n",
      " 85%|████████▌ | 149765/176114 [04:07<02:25, 181.43it/s]\u001b[A\u001b[A\n",
      "\n",
      " 85%|████████▌ | 149876/176114 [04:07<01:47, 243.10it/s]\u001b[A\u001b[A\n",
      "\n",
      " 85%|████████▌ | 149994/176114 [04:07<01:20, 324.13it/s]\u001b[A\u001b[A\n",
      "\n",
      " 85%|████████▌ | 150113/176114 [04:07<01:02, 419.09it/s]\u001b[A\u001b[A\n",
      "\n",
      " 85%|████████▌ | 150239/176114 [04:07<00:48, 533.28it/s]\u001b[A\u001b[A\n",
      "\n",
      " 85%|████████▌ | 150382/176114 [04:08<00:38, 668.75it/s]\u001b[A\u001b[A\n",
      "\n",
      " 85%|████████▌ | 150502/176114 [04:08<00:33, 758.31it/s]\u001b[A\u001b[A\n",
      "\n",
      " 86%|████████▌ | 150651/176114 [04:08<00:28, 904.98it/s]\u001b[A\u001b[A\n",
      "\n",
      " 86%|████████▌ | 150777/176114 [04:08<00:27, 937.27it/s]\u001b[A\u001b[A\n",
      "\n",
      " 86%|████████▌ | 150896/176114 [04:08<00:25, 995.87it/s]\u001b[A\u001b[A\n",
      "\n",
      " 86%|████████▌ | 151054/176114 [04:08<00:21, 1140.43it/s]\u001b[A\u001b[A\n",
      "\n",
      " 86%|████████▌ | 151184/176114 [04:08<00:22, 1117.35it/s]\u001b[A\u001b[A\n",
      "\n",
      " 86%|████████▌ | 151307/176114 [04:08<00:22, 1120.94it/s]\u001b[A\u001b[A\n",
      "\n",
      " 86%|████████▌ | 151427/176114 [04:08<00:21, 1136.92it/s]\u001b[A\u001b[A\n",
      "\n",
      " 86%|████████▌ | 151547/176114 [04:09<00:22, 1076.63it/s]\u001b[A\u001b[A\n",
      "\n",
      " 86%|████████▌ | 151660/176114 [04:09<00:22, 1070.97it/s]\u001b[A\u001b[A\n",
      "\n",
      " 86%|████████▌ | 151771/176114 [04:09<00:22, 1074.75it/s]\u001b[A\u001b[A\n",
      "\n",
      " 86%|████████▌ | 151881/176114 [04:09<00:23, 1036.86it/s]\u001b[A\u001b[A\n",
      "\n",
      " 86%|████████▋ | 151987/176114 [04:09<00:24, 996.85it/s] \u001b[A\u001b[A\n",
      "\n",
      " 86%|████████▋ | 152093/176114 [04:09<00:23, 1013.99it/s]\u001b[A\u001b[A\n",
      "\n",
      " 86%|████████▋ | 152209/176114 [04:09<00:23, 1033.10it/s]\u001b[A\u001b[A\n",
      "\n",
      " 87%|████████▋ | 152343/176114 [04:09<00:21, 1119.44it/s]\u001b[A\u001b[A\n",
      "\n",
      " 87%|████████▋ | 152456/176114 [04:09<00:22, 1065.59it/s]\u001b[A\u001b[A\n",
      "\n",
      " 87%|████████▋ | 152569/176114 [04:09<00:21, 1083.43it/s]\u001b[A\u001b[A\n",
      "\n",
      " 87%|████████▋ | 152686/176114 [04:10<00:21, 1106.66it/s]\u001b[A\u001b[A\n",
      "\n",
      " 87%|████████▋ | 152798/176114 [04:10<00:21, 1098.97it/s]\u001b[A\u001b[A\n",
      "\n",
      " 87%|████████▋ | 152935/176114 [04:10<00:19, 1174.78it/s]\u001b[A\u001b[A\n",
      "\n",
      " 87%|████████▋ | 153054/176114 [04:10<00:19, 1178.74it/s]\u001b[A\u001b[A\n",
      "\n",
      " 87%|████████▋ | 153173/176114 [04:10<00:19, 1179.69it/s]\u001b[A\u001b[A\n",
      "\n",
      " 87%|████████▋ | 153292/176114 [04:10<00:20, 1140.51it/s]\u001b[A\u001b[A\n",
      "\n",
      " 87%|████████▋ | 153407/176114 [04:10<00:20, 1118.50it/s]\u001b[A\u001b[A\n",
      "\n",
      " 87%|████████▋ | 153520/176114 [04:10<00:20, 1120.68it/s]\u001b[A\u001b[A\n",
      "\n",
      " 87%|████████▋ | 153633/176114 [04:10<00:20, 1094.55it/s]\u001b[A\u001b[A\n",
      "\n",
      " 87%|████████▋ | 153743/176114 [04:11<00:20, 1084.79it/s]\u001b[A\u001b[A\n",
      "\n",
      " 87%|████████▋ | 153852/176114 [04:11<00:22, 1007.73it/s]\u001b[A\u001b[A\n",
      "\n",
      " 87%|████████▋ | 153954/176114 [04:11<00:22, 975.23it/s] \u001b[A\u001b[A\n",
      "\n",
      " 87%|████████▋ | 154061/176114 [04:11<00:22, 981.12it/s]\u001b[A\u001b[A\n",
      "\n",
      " 88%|████████▊ | 154160/176114 [04:11<00:24, 893.74it/s]\u001b[A\u001b[A\n",
      "\n",
      " 88%|████████▊ | 154265/176114 [04:11<00:24, 885.65it/s]\u001b[A\u001b[A\n",
      "\n",
      " 88%|████████▊ | 154384/176114 [04:11<00:22, 964.28it/s]\u001b[A\u001b[A\n",
      "\n",
      " 88%|████████▊ | 154525/176114 [04:11<00:19, 1084.33it/s]\u001b[A\u001b[A\n",
      "\n",
      " 88%|████████▊ | 154657/176114 [04:11<00:18, 1150.42it/s]\u001b[A\u001b[A\n",
      "\n",
      " 88%|████████▊ | 154776/176114 [04:12<00:18, 1155.90it/s]\u001b[A\u001b[A\n",
      "\n",
      " 88%|████████▊ | 154894/176114 [04:12<00:18, 1120.60it/s]\u001b[A\u001b[A\n",
      "\n",
      " 88%|████████▊ | 155008/176114 [04:12<00:19, 1082.66it/s]\u001b[A\u001b[A\n",
      "\n",
      " 88%|████████▊ | 155123/176114 [04:12<00:19, 1100.36it/s]\u001b[A\u001b[A\n",
      "\n",
      " 88%|████████▊ | 155263/176114 [04:12<00:17, 1171.57it/s]\u001b[A\u001b[A\n",
      "\n",
      " 88%|████████▊ | 155381/176114 [04:12<00:17, 1161.92it/s]\u001b[A\u001b[A\n",
      "\n",
      " 88%|████████▊ | 155503/176114 [04:12<00:17, 1172.87it/s]\u001b[A\u001b[A\n",
      "\n",
      " 88%|████████▊ | 155624/176114 [04:12<00:17, 1182.60it/s]\u001b[A\u001b[A\n",
      "\n",
      " 88%|████████▊ | 155752/176114 [04:12<00:16, 1206.05it/s]\u001b[A\u001b[A\n",
      "\n",
      " 88%|████████▊ | 155755/176114 [04:25<14:28, 23.44it/s]  \u001b[A\u001b[A\n",
      "\n",
      " 88%|████████▊ | 155755/176114 [04:25<14:28, 23.44it/s]\u001b[A\u001b[A\n",
      "\n",
      " 88%|████████▊ | 155759/176114 [04:25<14:33, 23.31it/s]\u001b[A\u001b[A\n",
      "\n",
      " 88%|████████▊ | 155845/176114 [04:26<11:06, 30.41it/s]\u001b[A\u001b[A\n",
      "\n",
      " 89%|████████▊ | 155907/176114 [04:26<08:10, 41.19it/s]\u001b[A\u001b[A\n",
      "\n",
      " 89%|████████▊ | 155999/176114 [04:26<05:16, 63.58it/s]\u001b[A\u001b[A\n",
      "\n",
      " 89%|████████▊ | 156100/176114 [04:26<03:26, 96.88it/s]\u001b[A\u001b[A\n",
      "\n",
      " 89%|████████▊ | 156183/176114 [04:27<02:47, 118.85it/s]\u001b[A\u001b[A\n",
      "\n",
      " 89%|████████▊ | 156287/176114 [04:27<01:55, 172.03it/s]\u001b[A\u001b[A\n",
      "\n",
      " 89%|████████▉ | 156428/176114 [04:27<01:13, 266.06it/s]\u001b[A\u001b[A\n",
      "\n",
      " 89%|████████▉ | 156534/176114 [04:27<00:56, 343.66it/s]\u001b[A\u001b[A\n",
      "\n",
      " 89%|████████▉ | 156648/176114 [04:27<00:44, 441.53it/s]\u001b[A\u001b[A\n",
      "\n",
      " 89%|████████▉ | 156750/176114 [04:27<00:37, 510.54it/s]\u001b[A\u001b[A\n",
      "\n",
      " 89%|████████▉ | 156856/176114 [04:27<00:32, 601.00it/s]\u001b[A\u001b[A\n",
      "\n",
      " 89%|████████▉ | 156980/176114 [04:28<00:26, 723.48it/s]\u001b[A\u001b[A\n",
      "\n",
      " 89%|████████▉ | 157096/176114 [04:28<00:23, 811.62it/s]\u001b[A\u001b[A\n",
      "\n",
      " 89%|████████▉ | 157219/176114 [04:28<00:20, 908.80it/s]\u001b[A\u001b[A\n",
      "\n",
      " 89%|████████▉ | 157331/176114 [04:28<00:19, 945.29it/s]\u001b[A\u001b[A\n",
      "\n",
      " 89%|████████▉ | 157441/176114 [04:28<00:19, 938.34it/s]\u001b[A\u001b[A\n",
      "\n",
      " 89%|████████▉ | 157548/176114 [04:28<00:19, 969.43it/s]\u001b[A\u001b[A\n",
      "\n",
      " 90%|████████▉ | 157689/176114 [04:28<00:16, 1086.30it/s]\u001b[A\u001b[A\n",
      "\n",
      " 90%|████████▉ | 157805/176114 [04:28<00:16, 1080.78it/s]\u001b[A\u001b[A\n",
      "\n",
      " 90%|████████▉ | 157918/176114 [04:28<00:17, 1019.12it/s]\u001b[A\u001b[A\n",
      "\n",
      " 90%|████████▉ | 158024/176114 [04:29<00:18, 994.75it/s] \u001b[A\u001b[A\n",
      "\n",
      " 90%|████████▉ | 158152/176114 [04:29<00:16, 1067.57it/s]\u001b[A\u001b[A\n",
      "\n",
      " 90%|████████▉ | 158278/176114 [04:29<00:15, 1119.89it/s]\u001b[A\u001b[A\n",
      "\n",
      " 90%|████████▉ | 158395/176114 [04:29<00:15, 1133.94it/s]\u001b[A\u001b[A\n",
      "\n",
      " 90%|█████████ | 158530/176114 [04:29<00:14, 1193.21it/s]\u001b[A\u001b[A\n",
      "\n",
      " 90%|█████████ | 158662/176114 [04:29<00:14, 1229.59it/s]\u001b[A\u001b[A\n",
      "\n",
      " 90%|█████████ | 158786/176114 [04:29<00:14, 1168.91it/s]\u001b[A\u001b[A\n",
      "\n",
      " 90%|█████████ | 158908/176114 [04:29<00:14, 1182.93it/s]\u001b[A\u001b[A\n",
      "\n",
      " 90%|█████████ | 159043/176114 [04:29<00:13, 1230.42it/s]\u001b[A\u001b[A\n",
      "\n",
      " 90%|█████████ | 159167/176114 [04:29<00:14, 1167.16it/s]\u001b[A\u001b[A\n",
      "\n",
      " 90%|█████████ | 159306/176114 [04:30<00:13, 1225.63it/s]\u001b[A\u001b[A\n",
      "\n",
      " 91%|█████████ | 159430/176114 [04:30<00:13, 1226.54it/s]\u001b[A\u001b[A\n",
      "\n",
      " 91%|█████████ | 159559/176114 [04:30<00:13, 1243.25it/s]\u001b[A\u001b[A\n",
      "\n",
      " 91%|█████████ | 159684/176114 [04:30<00:14, 1144.39it/s]\u001b[A\u001b[A\n",
      "\n",
      " 91%|█████████ | 159801/176114 [04:30<00:14, 1097.34it/s]\u001b[A\u001b[A\n",
      "\n",
      " 91%|█████████ | 159916/176114 [04:30<00:14, 1110.05it/s]\u001b[A\u001b[A\n",
      "\n",
      " 91%|█████████ | 160030/176114 [04:30<00:14, 1097.21it/s]\u001b[A\u001b[A\n",
      "\n",
      " 91%|█████████ | 160141/176114 [04:30<00:14, 1072.98it/s]\u001b[A\u001b[A\n",
      "\n",
      " 91%|█████████ | 160255/176114 [04:30<00:14, 1090.74it/s]\u001b[A\u001b[A\n",
      "\n",
      " 91%|█████████ | 160365/176114 [04:31<00:14, 1088.47it/s]\u001b[A\u001b[A\n",
      "\n",
      " 91%|█████████ | 160475/176114 [04:31<00:15, 983.53it/s] \u001b[A\u001b[A\n",
      "\n",
      " 91%|█████████ | 160588/176114 [04:31<00:15, 1022.19it/s]\u001b[A\u001b[A\n",
      "\n",
      " 91%|█████████▏| 160711/176114 [04:31<00:14, 1078.95it/s]\u001b[A\u001b[A\n",
      "\n",
      " 91%|█████████▏| 160821/176114 [04:31<00:14, 1073.85it/s]\u001b[A\u001b[A\n",
      "\n",
      " 91%|█████████▏| 160930/176114 [04:31<00:15, 985.21it/s] \u001b[A\u001b[A\n",
      "\n",
      " 91%|█████████▏| 161056/176114 [04:31<00:14, 1058.50it/s]\u001b[A\u001b[A\n",
      "\n",
      " 92%|█████████▏| 161164/176114 [04:31<00:14, 1011.70it/s]\u001b[A\u001b[A\n",
      "\n",
      " 92%|█████████▏| 161268/176114 [04:31<00:14, 1015.21it/s]\u001b[A\u001b[A\n",
      "\n",
      " 92%|█████████▏| 161402/176114 [04:32<00:13, 1103.53it/s]\u001b[A\u001b[A\n",
      "\n",
      " 92%|█████████▏| 161514/176114 [04:32<00:13, 1078.32it/s]\u001b[A\u001b[A\n",
      "\n",
      " 92%|█████████▏| 161627/176114 [04:32<00:13, 1090.72it/s]\u001b[A\u001b[A\n",
      "\n",
      " 92%|█████████▏| 161760/176114 [04:32<00:12, 1156.97it/s]\u001b[A\u001b[A\n",
      "\n",
      " 92%|█████████▏| 161877/176114 [04:32<00:12, 1116.01it/s]\u001b[A\u001b[A\n",
      "\n",
      " 92%|█████████▏| 162011/176114 [04:32<00:11, 1177.50it/s]\u001b[A\u001b[A\n",
      "\n",
      " 92%|█████████▏| 162143/176114 [04:32<00:11, 1208.13it/s]\u001b[A\u001b[A\n",
      "\n",
      " 92%|█████████▏| 162273/176114 [04:32<00:11, 1222.28it/s]\u001b[A\u001b[A\n",
      "\n",
      " 92%|█████████▏| 162410/176114 [04:32<00:10, 1251.02it/s]\u001b[A\u001b[A\n",
      "\n",
      " 92%|█████████▏| 162537/176114 [04:32<00:10, 1251.77it/s]\u001b[A\u001b[A\n",
      "\n",
      " 92%|█████████▏| 162664/176114 [04:33<00:10, 1256.23it/s]\u001b[A\u001b[A\n",
      "\n",
      " 92%|█████████▏| 162824/176114 [04:33<00:09, 1351.75it/s]\u001b[A\u001b[A\n",
      "\n",
      " 93%|█████████▎| 162960/176114 [04:33<00:10, 1281.33it/s]\u001b[A\u001b[A\n",
      "\n",
      " 93%|█████████▎| 163089/176114 [04:33<00:10, 1205.32it/s]\u001b[A\u001b[A\n",
      "\n",
      " 93%|█████████▎| 163211/176114 [04:33<00:10, 1176.06it/s]\u001b[A\u001b[A\n",
      "\n",
      " 93%|█████████▎| 163330/176114 [04:33<00:11, 1135.16it/s]\u001b[A\u001b[A\n",
      "\n",
      " 93%|█████████▎| 163449/176114 [04:33<00:11, 1150.28it/s]\u001b[A\u001b[A\n",
      "\n",
      " 93%|█████████▎| 163567/176114 [04:33<00:10, 1153.88it/s]\u001b[A\u001b[A\n",
      "\n",
      " 93%|█████████▎| 163683/176114 [04:33<00:11, 1108.16it/s]\u001b[A\u001b[A\n",
      "\n",
      " 93%|█████████▎| 163795/176114 [04:34<00:11, 1110.97it/s]\u001b[A\u001b[A\n",
      "\n",
      " 93%|█████████▎| 163909/176114 [04:34<00:10, 1113.46it/s]\u001b[A\u001b[A\n",
      "\n",
      " 93%|█████████▎| 164040/176114 [04:34<00:10, 1164.27it/s]\u001b[A\u001b[A\n",
      "\n",
      " 93%|█████████▎| 164167/176114 [04:34<00:09, 1194.87it/s]\u001b[A\u001b[A\n",
      "\n",
      " 93%|█████████▎| 164287/176114 [04:34<00:09, 1184.49it/s]\u001b[A\u001b[A\n",
      "\n",
      " 93%|█████████▎| 164406/176114 [04:34<00:10, 1148.34it/s]\u001b[A\u001b[A\n",
      "\n",
      " 93%|█████████▎| 164539/176114 [04:34<00:09, 1188.41it/s]\u001b[A\u001b[A\n",
      "\n",
      " 94%|█████████▎| 164672/176114 [04:34<00:09, 1229.35it/s]\u001b[A\u001b[A\n",
      "\n",
      " 94%|█████████▎| 164799/176114 [04:34<00:09, 1228.69it/s]\u001b[A\u001b[A\n",
      "\n",
      " 94%|█████████▎| 164930/176114 [04:34<00:08, 1250.87it/s]\u001b[A\u001b[A\n",
      "\n",
      " 94%|█████████▎| 165083/176114 [04:35<00:08, 1331.85it/s]\u001b[A\u001b[A\n",
      "\n",
      " 94%|█████████▍| 165217/176114 [04:35<00:08, 1283.80it/s]\u001b[A\u001b[A\n",
      "\n",
      " 94%|█████████▍| 165346/176114 [04:35<00:08, 1262.18it/s]\u001b[A\u001b[A\n",
      "\n",
      " 94%|█████████▍| 165473/176114 [04:35<00:08, 1224.16it/s]\u001b[A\u001b[A\n",
      "\n",
      " 94%|█████████▍| 165597/176114 [04:35<00:08, 1225.53it/s]\u001b[A\u001b[A\n",
      "\n",
      " 94%|█████████▍| 165746/176114 [04:35<00:08, 1284.48it/s]\u001b[A\u001b[A\n",
      "\n",
      " 94%|█████████▍| 165920/176114 [04:35<00:07, 1408.93it/s]\u001b[A\u001b[A\n",
      "\n",
      " 94%|█████████▍| 166062/176114 [04:35<00:07, 1312.64it/s]\u001b[A\u001b[A\n",
      "\n",
      " 94%|█████████▍| 166235/176114 [04:35<00:06, 1428.62it/s]\u001b[A\u001b[A\n",
      "\n",
      " 94%|█████████▍| 166380/176114 [04:36<00:07, 1274.01it/s]\u001b[A\u001b[A\n",
      "\n",
      " 95%|█████████▍| 166512/176114 [04:36<00:07, 1261.37it/s]\u001b[A\u001b[A\n",
      "\n",
      " 95%|█████████▍| 166675/176114 [04:36<00:06, 1355.26it/s]\u001b[A\u001b[A\n",
      "\n",
      " 95%|█████████▍| 166814/176114 [04:36<00:06, 1354.76it/s]\u001b[A\u001b[A\n",
      "\n",
      " 95%|█████████▍| 166955/176114 [04:36<00:06, 1367.66it/s]\u001b[A\u001b[A\n",
      "\n",
      " 95%|█████████▍| 167094/176114 [04:36<00:07, 1129.61it/s]\u001b[A\u001b[A\n",
      "\n",
      " 95%|█████████▍| 167215/176114 [04:36<00:09, 929.29it/s] \u001b[A\u001b[A\n",
      "\n",
      " 95%|█████████▌| 167319/176114 [04:37<00:10, 838.52it/s]\u001b[A\u001b[A\n",
      "\n",
      " 95%|█████████▌| 167471/176114 [04:37<00:08, 980.98it/s]\u001b[A\u001b[A\n",
      "\n",
      " 95%|█████████▌| 167580/176114 [04:37<00:10, 834.17it/s]\u001b[A\u001b[A\n",
      "\n",
      " 95%|█████████▌| 167674/176114 [04:39<00:49, 169.63it/s]\u001b[A\u001b[A\n",
      "\n",
      " 95%|█████████▌| 167741/176114 [04:39<00:56, 149.43it/s]\u001b[A\u001b[A\n",
      "\n",
      " 95%|█████████▌| 167887/176114 [04:40<00:36, 226.88it/s]\u001b[A\u001b[A\n",
      "\n",
      " 95%|█████████▌| 168027/176114 [04:40<00:25, 318.13it/s]\u001b[A\u001b[A\n",
      "\n",
      " 95%|█████████▌| 168141/176114 [04:40<00:19, 399.94it/s]\u001b[A\u001b[A\n",
      "\n",
      " 96%|█████████▌| 168296/176114 [04:40<00:14, 539.00it/s]\u001b[A\u001b[A\n",
      "\n",
      " 96%|█████████▌| 168411/176114 [04:46<02:04, 61.83it/s] \u001b[A\u001b[A\n",
      "\n",
      " 96%|█████████▌| 168492/176114 [04:48<02:15, 56.33it/s]\u001b[A\u001b[A\n",
      "\n",
      " 96%|█████████▌| 168550/176114 [04:49<02:21, 53.39it/s]\u001b[A\u001b[A\n",
      "\n",
      " 96%|█████████▌| 168681/176114 [04:49<01:29, 82.62it/s]\u001b[A\u001b[A\n",
      "\n",
      " 96%|█████████▌| 168833/176114 [04:50<00:56, 128.62it/s]\u001b[A\u001b[A\n",
      "\n",
      " 96%|█████████▌| 168965/176114 [04:50<00:39, 180.69it/s]\u001b[A\u001b[A\n",
      "\n",
      " 96%|█████████▌| 169104/176114 [04:50<00:27, 251.74it/s]\u001b[A\u001b[A\n",
      "\n",
      " 96%|█████████▌| 169244/176114 [04:50<00:20, 340.78it/s]\u001b[A\u001b[A\n",
      "\n",
      " 96%|█████████▌| 169410/176114 [04:50<00:14, 471.58it/s]\u001b[A\u001b[A\n",
      "\n",
      " 96%|█████████▋| 169544/176114 [04:50<00:11, 572.45it/s]\u001b[A\u001b[A\n",
      "\n",
      " 96%|█████████▋| 169682/176114 [04:50<00:09, 690.27it/s]\u001b[A\u001b[A\n",
      "\n",
      " 96%|█████████▋| 169814/176114 [04:50<00:08, 765.94it/s]\u001b[A\u001b[A\n",
      "\n",
      " 96%|█████████▋| 169938/176114 [04:50<00:07, 845.74it/s]\u001b[A\u001b[A\n",
      "\n",
      " 97%|█████████▋| 170120/176114 [04:50<00:05, 1053.33it/s]\u001b[A\u001b[A\n",
      "\n",
      " 97%|█████████▋| 170260/176114 [04:51<00:05, 1118.76it/s]\u001b[A\u001b[A\n",
      "\n",
      " 97%|█████████▋| 170398/176114 [04:51<00:04, 1167.71it/s]\u001b[A\u001b[A\n",
      "\n",
      " 97%|█████████▋| 170541/176114 [04:51<00:04, 1234.37it/s]\u001b[A\u001b[A\n",
      "\n",
      " 97%|█████████▋| 170679/176114 [04:51<00:04, 1257.64it/s]\u001b[A\u001b[A\n",
      "\n",
      " 97%|█████████▋| 170838/176114 [04:51<00:03, 1348.46it/s]\u001b[A\u001b[A\n",
      "\n",
      " 97%|█████████▋| 170981/176114 [04:51<00:03, 1328.57it/s]\u001b[A\u001b[A\n",
      "\n",
      " 97%|█████████▋| 171120/176114 [04:51<00:03, 1292.85it/s]\u001b[A\u001b[A\n",
      "\n",
      " 97%|█████████▋| 171254/176114 [04:51<00:03, 1290.13it/s]\u001b[A\u001b[A\n",
      "\n",
      " 97%|█████████▋| 171391/176114 [04:51<00:03, 1311.67it/s]\u001b[A\u001b[A\n",
      "\n",
      " 97%|█████████▋| 171563/176114 [04:52<00:03, 1426.29it/s]\u001b[A\u001b[A\n",
      "\n",
      " 97%|█████████▋| 171710/176114 [04:52<00:03, 1434.55it/s]\u001b[A\u001b[A\n",
      "\n",
      " 98%|█████████▊| 171885/176114 [04:52<00:02, 1514.11it/s]\u001b[A\u001b[A\n",
      "\n",
      " 98%|█████████▊| 172038/176114 [04:52<00:02, 1446.49it/s]\u001b[A\u001b[A\n",
      "\n",
      " 98%|█████████▊| 172184/176114 [04:52<00:02, 1404.65it/s]\u001b[A\u001b[A\n",
      "\n",
      " 98%|█████████▊| 172351/176114 [04:52<00:02, 1476.20it/s]\u001b[A\u001b[A\n",
      "\n",
      " 98%|█████████▊| 172500/176114 [04:52<00:02, 1445.94it/s]\u001b[A\u001b[A\n",
      "\n",
      " 98%|█████████▊| 172646/176114 [04:52<00:02, 1437.43it/s]\u001b[A\u001b[A\n",
      "\n",
      " 98%|█████████▊| 172791/176114 [04:52<00:02, 1426.27it/s]\u001b[A\u001b[A\n",
      "\n",
      " 98%|█████████▊| 172934/176114 [04:52<00:02, 1345.79it/s]\u001b[A\u001b[A\n",
      "\n",
      " 98%|█████████▊| 173070/176114 [04:53<00:02, 1260.23it/s]\u001b[A\u001b[A\n",
      "\n",
      " 98%|█████████▊| 173240/176114 [04:53<00:02, 1379.92it/s]\u001b[A\u001b[A\n",
      "\n",
      " 98%|█████████▊| 173381/176114 [04:53<00:01, 1369.46it/s]\u001b[A\u001b[A\n",
      "\n",
      " 99%|█████████▊| 173545/176114 [04:53<00:01, 1443.39it/s]\u001b[A\u001b[A\n",
      "\n",
      " 99%|█████████▊| 173691/176114 [04:53<00:01, 1430.64it/s]\u001b[A\u001b[A\n",
      "\n",
      " 99%|█████████▊| 173846/176114 [04:53<00:01, 1460.25it/s]\u001b[A\u001b[A\n",
      "\n",
      " 99%|█████████▉| 173994/176114 [04:53<00:01, 1463.41it/s]\u001b[A\u001b[A\n",
      "\n",
      " 99%|█████████▉| 174146/176114 [04:53<00:01, 1478.39it/s]\u001b[A\u001b[A\n",
      "\n",
      " 99%|█████████▉| 174295/176114 [04:53<00:01, 1411.33it/s]\u001b[A\u001b[A\n",
      "\n",
      " 99%|█████████▉| 174465/176114 [04:54<00:01, 1485.27it/s]\u001b[A\u001b[A\n",
      "\n",
      " 99%|█████████▉| 174655/176114 [04:54<00:00, 1597.61it/s]\u001b[A\u001b[A\n",
      "\n",
      " 99%|█████████▉| 174816/176114 [04:54<00:00, 1312.21it/s]\u001b[A\u001b[A\n",
      "\n",
      " 99%|█████████▉| 174956/176114 [04:54<00:01, 1074.76it/s]\u001b[A\u001b[A\n",
      "\n",
      " 99%|█████████▉| 175076/176114 [04:54<00:01, 966.12it/s] \u001b[A\u001b[A\n",
      "\n",
      " 99%|█████████▉| 175182/176114 [04:54<00:01, 825.34it/s]\u001b[A\u001b[A\n",
      "\n",
      "100%|█████████▉| 175273/176114 [04:54<00:01, 825.97it/s]\u001b[A\u001b[A\n",
      "\n",
      "100%|█████████▉| 175362/176114 [04:55<00:00, 821.15it/s]\u001b[A\u001b[A\n",
      "\n",
      "100%|█████████▉| 175449/176114 [04:55<00:00, 752.69it/s]\u001b[A\u001b[A\n",
      "\n",
      "100%|█████████▉| 175528/176114 [04:55<00:00, 718.83it/s]\u001b[A\u001b[A\n",
      "\n",
      "100%|█████████▉| 175621/176114 [04:55<00:00, 768.85it/s]\u001b[A\u001b[A\n",
      "\n",
      "100%|█████████▉| 175719/176114 [04:55<00:00, 822.31it/s]\u001b[A\u001b[A\n",
      "\n",
      "100%|█████████▉| 175804/176114 [04:55<00:00, 756.70it/s]\u001b[A\u001b[A\n",
      "\n",
      "100%|█████████▉| 175883/176114 [04:55<00:00, 713.93it/s]\u001b[A\u001b[A\n",
      "\n",
      "100%|█████████▉| 175966/176114 [04:55<00:00, 741.24it/s]\u001b[A\u001b[A\n",
      "\n",
      "100%|██████████| 176114/176114 [04:56<00:00, 594.84it/s]\u001b[A\u001b[A\n"
     ]
    }
   ],
   "source": [
    "model.build_vocab(progress_bar, progress_per=1000, update=update_progress)"
   ]
  },
  {
   "cell_type": "code",
   "execution_count": 1,
   "id": "8a1cceef",
   "metadata": {},
   "outputs": [
    {
     "ename": "NameError",
     "evalue": "name 'test' is not defined",
     "output_type": "error",
     "traceback": [
      "\u001b[0;31m---------------------------------------------------------------------------\u001b[0m",
      "\u001b[0;31mNameError\u001b[0m                                 Traceback (most recent call last)",
      "\u001b[0;32m<ipython-input-1-4e1243bd22c6>\u001b[0m in \u001b[0;36m<module>\u001b[0;34m\u001b[0m\n\u001b[0;32m----> 1\u001b[0;31m \u001b[0mtest\u001b[0m\u001b[0;34m\u001b[0m\u001b[0;34m\u001b[0m\u001b[0m\n\u001b[0m",
      "\u001b[0;31mNameError\u001b[0m: name 'test' is not defined"
     ]
    }
   ],
   "source": [
    "test"
   ]
  },
  {
   "cell_type": "code",
   "execution_count": 2,
   "id": "94b39fa2",
   "metadata": {},
   "outputs": [
    {
     "ename": "NameError",
     "evalue": "name 'review_text' is not defined",
     "output_type": "error",
     "traceback": [
      "\u001b[0;31m---------------------------------------------------------------------------\u001b[0m",
      "\u001b[0;31mNameError\u001b[0m                                 Traceback (most recent call last)",
      "\u001b[0;32m<ipython-input-2-6e5258739b63>\u001b[0m in \u001b[0;36m<module>\u001b[0;34m\u001b[0m\n\u001b[0;32m----> 1\u001b[0;31m \u001b[0mreview_text\u001b[0m\u001b[0;34m.\u001b[0m\u001b[0mloc\u001b[0m\u001b[0;34m[\u001b[0m\u001b[0;36m0\u001b[0m\u001b[0;34m]\u001b[0m\u001b[0;34m\u001b[0m\u001b[0;34m\u001b[0m\u001b[0m\n\u001b[0m",
      "\u001b[0;31mNameError\u001b[0m: name 'review_text' is not defined"
     ]
    }
   ],
   "source": [
    "review_text.loc[0]"
   ]
  },
  {
   "cell_type": "code",
   "execution_count": 3,
   "id": "338d5d60",
   "metadata": {},
   "outputs": [],
   "source": [
    "\n",
    "import gensim\n",
    "import pandas as pd"
   ]
  },
  {
   "cell_type": "code",
   "execution_count": 4,
   "id": "cb897598",
   "metadata": {},
   "outputs": [],
   "source": [
    "df = pd.read_json(\"news-articles-ptbr-dataset_train.json\", lines=True)"
   ]
  },
  {
   "cell_type": "code",
   "execution_count": 6,
   "id": "4c17c310",
   "metadata": {},
   "outputs": [
    {
     "data": {
      "text/plain": [
       "(176114, 6)"
      ]
     },
     "execution_count": 6,
     "metadata": {},
     "output_type": "execute_result"
    }
   ],
   "source": [
    "df.shape"
   ]
  },
  {
   "cell_type": "code",
   "execution_count": 7,
   "id": "8489395b",
   "metadata": {},
   "outputs": [],
   "source": [
    "news_text = df.text.apply(gensim.utils.simple_preprocess)"
   ]
  },
  {
   "cell_type": "code",
   "execution_count": 8,
   "id": "02d80eef",
   "metadata": {},
   "outputs": [
    {
     "data": {
      "text/plain": [
       "0         [na, tarde, de, domingo, luva, de, pedreiro, a...\n",
       "1         [diretor, geral, da, oms, organização, mundial...\n",
       "2         [última, semana, de, inverno, que, termina, no...\n",
       "3         [vice, presidente, geraldo, alckmin, surpreend...\n",
       "4         [os, economistas, consultados, pelo, bc, banco...\n",
       "                                ...                        \n",
       "176109    [atriz, márcia, cabrita, morreu, aos, anos, ne...\n",
       "176110    [confira, que, acontece, nesta, sexta, em, out...\n",
       "176111    [confira, que, acontece, no, capítulo, desta, ...\n",
       "176112    [confira, que, acontece, no, capítulo, desta, ...\n",
       "176113    [cássio, starling, carloscrítico, da, folhao, ...\n",
       "Name: text, Length: 176114, dtype: object"
      ]
     },
     "execution_count": 8,
     "metadata": {},
     "output_type": "execute_result"
    }
   ],
   "source": [
    "news_text\n"
   ]
  },
  {
   "cell_type": "code",
   "execution_count": 9,
   "id": "c040dd6e",
   "metadata": {},
   "outputs": [
    {
     "ename": "TypeError",
     "evalue": "__init__() got an unexpected keyword argument 'size'",
     "output_type": "error",
     "traceback": [
      "\u001b[0;31m---------------------------------------------------------------------------\u001b[0m",
      "\u001b[0;31mTypeError\u001b[0m                                 Traceback (most recent call last)",
      "\u001b[0;32m<ipython-input-9-590a05937dbf>\u001b[0m in \u001b[0;36m<module>\u001b[0;34m\u001b[0m\n\u001b[1;32m      3\u001b[0m     \u001b[0mwindow\u001b[0m\u001b[0;34m=\u001b[0m\u001b[0;36m5\u001b[0m\u001b[0;34m,\u001b[0m\u001b[0;34m\u001b[0m\u001b[0;34m\u001b[0m\u001b[0m\n\u001b[1;32m      4\u001b[0m     \u001b[0mmin_count\u001b[0m\u001b[0;34m=\u001b[0m\u001b[0;36m2\u001b[0m\u001b[0;34m,\u001b[0m\u001b[0;34m\u001b[0m\u001b[0;34m\u001b[0m\u001b[0m\n\u001b[0;32m----> 5\u001b[0;31m     \u001b[0mworkers\u001b[0m\u001b[0;34m=\u001b[0m\u001b[0;36m2\u001b[0m\u001b[0;34m,\u001b[0m\u001b[0;34m\u001b[0m\u001b[0;34m\u001b[0m\u001b[0m\n\u001b[0m\u001b[1;32m      6\u001b[0m )\n",
      "\u001b[0;31mTypeError\u001b[0m: __init__() got an unexpected keyword argument 'size'"
     ]
    }
   ],
   "source": [
    "model = gensim.models.Word2Vec(\n",
    "    size=100,\n",
    "    window=5,\n",
    "    min_count=2,\n",
    "    workers=2,\n",
    ")"
   ]
  },
  {
   "cell_type": "code",
   "execution_count": 10,
   "id": "a841eaef",
   "metadata": {},
   "outputs": [
    {
     "ename": "NameError",
     "evalue": "name 'sentences' is not defined",
     "output_type": "error",
     "traceback": [
      "\u001b[0;31m---------------------------------------------------------------------------\u001b[0m",
      "\u001b[0;31mNameError\u001b[0m                                 Traceback (most recent call last)",
      "\u001b[0;32m<ipython-input-10-a0174993b79a>\u001b[0m in \u001b[0;36m<module>\u001b[0;34m\u001b[0m\n\u001b[0;32m----> 1\u001b[0;31m \u001b[0mmodel\u001b[0m \u001b[0;34m=\u001b[0m \u001b[0mgensim\u001b[0m\u001b[0;34m.\u001b[0m\u001b[0mmodels\u001b[0m\u001b[0;34m.\u001b[0m\u001b[0mWord2Vec\u001b[0m\u001b[0;34m(\u001b[0m\u001b[0msentences\u001b[0m\u001b[0;34m,\u001b[0m \u001b[0mvector_size\u001b[0m\u001b[0;34m=\u001b[0m\u001b[0;36m100\u001b[0m\u001b[0;34m,\u001b[0m \u001b[0mwindow\u001b[0m\u001b[0;34m=\u001b[0m\u001b[0;36m5\u001b[0m\u001b[0;34m,\u001b[0m \u001b[0mmin_count\u001b[0m\u001b[0;34m=\u001b[0m\u001b[0;36m2\u001b[0m\u001b[0;34m,\u001b[0m \u001b[0mworkers\u001b[0m\u001b[0;34m=\u001b[0m\u001b[0;36m2\u001b[0m\u001b[0;34m)\u001b[0m\u001b[0;34m\u001b[0m\u001b[0;34m\u001b[0m\u001b[0m\n\u001b[0m",
      "\u001b[0;31mNameError\u001b[0m: name 'sentences' is not defined"
     ]
    }
   ],
   "source": [
    "\n",
    "model = gensim.models.Word2Vec(sentences, vector_size=100, window=5, min_count=2, workers=2)"
   ]
  },
  {
   "cell_type": "code",
   "execution_count": 11,
   "id": "f3ec71d2",
   "metadata": {},
   "outputs": [],
   "source": [
    "model = gensim.models.Word2Vec(\n",
    "    window=5,\n",
    "    min_count=2,\n",
    "    workers=2,\n",
    ")"
   ]
  },
  {
   "cell_type": "code",
   "execution_count": 15,
   "id": "e4400650",
   "metadata": {},
   "outputs": [
    {
     "name": "stderr",
     "output_type": "stream",
     "text": [
      "\r",
      "  0%|          | 0/176114 [00:00<?, ?it/s]"
     ]
    }
   ],
   "source": [
    "from tqdm import tqdm\n",
    "progress_bar = tqdm(news_text, total=len(news_text))"
   ]
  },
  {
   "cell_type": "code",
   "execution_count": null,
   "id": "1d945a84",
   "metadata": {},
   "outputs": [],
   "source": []
  },
  {
   "cell_type": "code",
   "execution_count": null,
   "id": "ff00349c",
   "metadata": {},
   "outputs": [],
   "source": []
  },
  {
   "cell_type": "code",
   "execution_count": null,
   "id": "6084df6e",
   "metadata": {},
   "outputs": [],
   "source": [
    "\n"
   ]
  },
  {
   "cell_type": "code",
   "execution_count": 18,
   "id": "2ed83591",
   "metadata": {},
   "outputs": [],
   "source": [
    "def update_progress(progress):\n",
    "    print(f\"Progress: {progress}%\")"
   ]
  },
  {
   "cell_type": "code",
   "execution_count": 19,
   "id": "dc73095c",
   "metadata": {},
   "outputs": [
    {
     "name": "stdout",
     "output_type": "stream",
     "text": [
      "4.2.0\n"
     ]
    }
   ],
   "source": [
    "print(gensim.__version__)"
   ]
  },
  {
   "cell_type": "code",
   "execution_count": null,
   "id": "d0036ee9",
   "metadata": {},
   "outputs": [],
   "source": []
  },
  {
   "cell_type": "code",
   "execution_count": 21,
   "id": "871b1db6",
   "metadata": {},
   "outputs": [],
   "source": [
    "model.build_vocab(progress_bar, progress_per=1000)"
   ]
  },
  {
   "cell_type": "code",
   "execution_count": 22,
   "id": "8be459fb",
   "metadata": {},
   "outputs": [
    {
     "ename": "AttributeError",
     "evalue": "The vocab attribute was removed from KeyedVector in Gensim 4.0.0.\nUse KeyedVector's .key_to_index dict, .index_to_key list, and methods .get_vecattr(key, attr) and .set_vecattr(key, attr, new_val) instead.\nSee https://github.com/RaRe-Technologies/gensim/wiki/Migrating-from-Gensim-3.x-to-4",
     "output_type": "error",
     "traceback": [
      "\u001b[0;31m---------------------------------------------------------------------------\u001b[0m",
      "\u001b[0;31mAttributeError\u001b[0m                            Traceback (most recent call last)",
      "\u001b[0;32m<ipython-input-22-b1dfac75d9c6>\u001b[0m in \u001b[0;36m<module>\u001b[0;34m\u001b[0m\n\u001b[1;32m      1\u001b[0m \u001b[0;31m# Converte o vocabulário em uma lista\u001b[0m\u001b[0;34m\u001b[0m\u001b[0;34m\u001b[0m\u001b[0;34m\u001b[0m\u001b[0m\n\u001b[0;32m----> 2\u001b[0;31m \u001b[0mvocab_list\u001b[0m \u001b[0;34m=\u001b[0m \u001b[0mlist\u001b[0m\u001b[0;34m(\u001b[0m\u001b[0mmodel\u001b[0m\u001b[0;34m.\u001b[0m\u001b[0mwv\u001b[0m\u001b[0;34m.\u001b[0m\u001b[0mvocab\u001b[0m\u001b[0;34m.\u001b[0m\u001b[0mkeys\u001b[0m\u001b[0;34m(\u001b[0m\u001b[0;34m)\u001b[0m\u001b[0;34m)\u001b[0m\u001b[0;34m\u001b[0m\u001b[0;34m\u001b[0m\u001b[0m\n\u001b[0m\u001b[1;32m      3\u001b[0m \u001b[0;34m\u001b[0m\u001b[0m\n\u001b[1;32m      4\u001b[0m \u001b[0;31m# Imprime os primeiros 10 elementos\u001b[0m\u001b[0;34m\u001b[0m\u001b[0;34m\u001b[0m\u001b[0;34m\u001b[0m\u001b[0m\n\u001b[1;32m      5\u001b[0m \u001b[0mprint\u001b[0m\u001b[0;34m(\u001b[0m\u001b[0mvocab_list\u001b[0m\u001b[0;34m[\u001b[0m\u001b[0;34m:\u001b[0m\u001b[0;36m10\u001b[0m\u001b[0;34m]\u001b[0m\u001b[0;34m)\u001b[0m\u001b[0;34m\u001b[0m\u001b[0;34m\u001b[0m\u001b[0m\n",
      "\u001b[0;32m~/.local/lib/python3.6/site-packages/gensim/models/keyedvectors.py\u001b[0m in \u001b[0;36mvocab\u001b[0;34m(self)\u001b[0m\n\u001b[1;32m    734\u001b[0m     \u001b[0;32mdef\u001b[0m \u001b[0mvocab\u001b[0m\u001b[0;34m(\u001b[0m\u001b[0mself\u001b[0m\u001b[0;34m)\u001b[0m\u001b[0;34m:\u001b[0m\u001b[0;34m\u001b[0m\u001b[0;34m\u001b[0m\u001b[0m\n\u001b[1;32m    735\u001b[0m         raise AttributeError(\n\u001b[0;32m--> 736\u001b[0;31m             \u001b[0;34m\"The vocab attribute was removed from KeyedVector in Gensim 4.0.0.\\n\"\u001b[0m\u001b[0;34m\u001b[0m\u001b[0;34m\u001b[0m\u001b[0m\n\u001b[0m\u001b[1;32m    737\u001b[0m             \u001b[0;34m\"Use KeyedVector's .key_to_index dict, .index_to_key list, and methods \"\u001b[0m\u001b[0;34m\u001b[0m\u001b[0;34m\u001b[0m\u001b[0m\n\u001b[1;32m    738\u001b[0m             \u001b[0;34m\".get_vecattr(key, attr) and .set_vecattr(key, attr, new_val) instead.\\n\"\u001b[0m\u001b[0;34m\u001b[0m\u001b[0;34m\u001b[0m\u001b[0m\n",
      "\u001b[0;31mAttributeError\u001b[0m: The vocab attribute was removed from KeyedVector in Gensim 4.0.0.\nUse KeyedVector's .key_to_index dict, .index_to_key list, and methods .get_vecattr(key, attr) and .set_vecattr(key, attr, new_val) instead.\nSee https://github.com/RaRe-Technologies/gensim/wiki/Migrating-from-Gensim-3.x-to-4"
     ]
    }
   ],
   "source": [
    "# Converte o vocabulário em uma lista\n",
    "vocab_list = list(model.wv.vocab.keys())\n",
    "\n",
    "# Imprime os primeiros 10 elementos\n",
    "print(vocab_list[:10])"
   ]
  },
  {
   "cell_type": "code",
   "execution_count": 23,
   "id": "9f2a75d3",
   "metadata": {},
   "outputs": [
    {
     "data": {
      "text/plain": [
       "176114"
      ]
     },
     "execution_count": 23,
     "metadata": {},
     "output_type": "execute_result"
    }
   ],
   "source": [
    "model.corpus_count"
   ]
  },
  {
   "cell_type": "code",
   "execution_count": 25,
   "id": "7c1e20aa",
   "metadata": {},
   "outputs": [
    {
     "data": {
      "text/plain": [
       "(334699043, 409871215)"
      ]
     },
     "execution_count": 25,
     "metadata": {},
     "output_type": "execute_result"
    }
   ],
   "source": [
    "model.train(progress_bar, total_examples=model.corpus_count, epochs=model.epochs)"
   ]
  },
  {
   "cell_type": "code",
   "execution_count": 26,
   "id": "d5fef532",
   "metadata": {},
   "outputs": [],
   "source": [
    "model.save(\"./word2vec-news-articles-ptbr-dataset_train.model\")"
   ]
  },
  {
   "cell_type": "code",
   "execution_count": 27,
   "id": "8c1357db",
   "metadata": {},
   "outputs": [
    {
     "data": {
      "text/plain": [
       "[('bom', 0.743787407875061),\n",
       " ('ótimo', 0.7297175526618958),\n",
       " ('péssima', 0.7007218599319458),\n",
       " ('péssimo', 0.6943329572677612),\n",
       " ('pior', 0.6942469477653503),\n",
       " ('fraco', 0.6762874722480774),\n",
       " ('melhor', 0.6301952600479126),\n",
       " ('frustrante', 0.6270617246627808),\n",
       " ('positiva', 0.619173526763916),\n",
       " ('satisfatório', 0.6006543636322021)]"
      ]
     },
     "execution_count": 27,
     "metadata": {},
     "output_type": "execute_result"
    }
   ],
   "source": [
    "model.wv.most_similar(\"ruim\")"
   ]
  },
  {
   "cell_type": "code",
   "execution_count": 30,
   "id": "21e384e4",
   "metadata": {},
   "outputs": [
    {
     "data": {
      "text/plain": [
       "[('dançando', 0.9015215635299683),\n",
       " ('tocando', 0.8298869132995605),\n",
       " ('cantava', 0.7579501271247864),\n",
       " ('cantou', 0.7465397119522095),\n",
       " ('dançava', 0.7415376901626587),\n",
       " ('rebolando', 0.7378560304641724),\n",
       " ('abraçando', 0.7358227372169495),\n",
       " ('imitando', 0.7334454655647278),\n",
       " ('cantaram', 0.7294973731040955),\n",
       " ('aplaudindo', 0.7202047109603882)]"
      ]
     },
     "execution_count": 30,
     "metadata": {},
     "output_type": "execute_result"
    }
   ],
   "source": [
    "model.wv.most_similar(\"cantando\")"
   ]
  },
  {
   "cell_type": "code",
   "execution_count": 31,
   "id": "960e2e80",
   "metadata": {},
   "outputs": [
    {
     "data": {
      "text/plain": [
       "[('rainha', 0.6775280833244324),\n",
       " ('sogra', 0.6526305675506592),\n",
       " ('coroação', 0.643302857875824),\n",
       " ('esposa', 0.6418726444244385),\n",
       " ('noiva', 0.5983792543411255),\n",
       " ('namorada', 0.5866640210151672),\n",
       " ('princesa', 0.5854398608207703),\n",
       " ('majestade', 0.583256185054779),\n",
       " ('reencarnação', 0.5828002095222473),\n",
       " ('cunhada', 0.5824388861656189)]"
      ]
     },
     "execution_count": 31,
     "metadata": {},
     "output_type": "execute_result"
    }
   ],
   "source": [
    "model.wv.most_similar(positive=[\"rei\", \"mulher\"], negative=[\"homem\"])\n"
   ]
  },
  {
   "cell_type": "code",
   "execution_count": 34,
   "id": "97e6d828",
   "metadata": {},
   "outputs": [
    {
     "data": {
      "text/plain": [
       "1.0000001"
      ]
     },
     "execution_count": 34,
     "metadata": {},
     "output_type": "execute_result"
    }
   ],
   "source": [
    "model.wv.similarity(\"homem\", \"homem\")"
   ]
  },
  {
   "cell_type": "code",
   "execution_count": 35,
   "id": "1464ebdb",
   "metadata": {},
   "outputs": [
    {
     "data": {
      "text/plain": [
       "0.08156739"
      ]
     },
     "execution_count": 35,
     "metadata": {},
     "output_type": "execute_result"
    }
   ],
   "source": [
    "model.wv.similarity(\"presidente\", \"homem\")"
   ]
  },
  {
   "cell_type": "code",
   "execution_count": null,
   "id": "7a83fa94",
   "metadata": {},
   "outputs": [],
   "source": []
  },
  {
   "cell_type": "code",
   "execution_count": 39,
   "id": "32b12216",
   "metadata": {},
   "outputs": [
    {
     "data": {
      "text/plain": [
       "[('comer', 0.7742033004760742),\n",
       " ('fritar', 0.7339290976524353),\n",
       " ('beber', 0.7214648127555847),\n",
       " ('assar', 0.7209339141845703),\n",
       " ('mastigar', 0.7166523933410645),\n",
       " ('coxinha', 0.7118860483169556),\n",
       " ('abacate', 0.705829381942749),\n",
       " ('banana', 0.6947263479232788),\n",
       " ('brincar', 0.6938461661338806),\n",
       " ('cozinhar', 0.6926031112670898)]"
      ]
     },
     "execution_count": 39,
     "metadata": {},
     "output_type": "execute_result"
    }
   ],
   "source": [
    "model.wv.most_similar(positive=[\"comeu\", \"falar\"], negative=[\"falou\"])\n"
   ]
  },
  {
   "cell_type": "code",
   "execution_count": 43,
   "id": "eeee4874",
   "metadata": {},
   "outputs": [
    {
     "data": {
      "text/plain": [
       "[('cantar', 0.6797317862510681),\n",
       " ('dançar', 0.6463046073913574),\n",
       " ('brincar', 0.6239492893218994),\n",
       " ('transar', 0.6040734052658081),\n",
       " ('vomitar', 0.5973659753799438),\n",
       " ('chorar', 0.5801899433135986),\n",
       " ('tocar', 0.5783463716506958),\n",
       " ('beijar', 0.574576199054718),\n",
       " ('beber', 0.56074059009552),\n",
       " ('funkeiro', 0.5506880283355713)]"
      ]
     },
     "execution_count": 43,
     "metadata": {},
     "output_type": "execute_result"
    }
   ],
   "source": [
    "model.wv.most_similar(positive=[\"cantor\", \"cozinhar\"], negative=[\"chef\"])"
   ]
  },
  {
   "cell_type": "code",
   "execution_count": 48,
   "id": "798b906c",
   "metadata": {},
   "outputs": [
    {
     "data": {
      "text/plain": [
       "[('nadar', 0.6982513666152954),\n",
       " ('jogar', 0.6897467374801636),\n",
       " ('judô', 0.676493763923645),\n",
       " ('brilhar', 0.6667837500572205),\n",
       " ('treinar', 0.6603394150733948),\n",
       " ('beliscar', 0.6548539996147156),\n",
       " ('natação', 0.6358174681663513),\n",
       " ('apitar', 0.6343187093734741),\n",
       " ('taekwondo', 0.6341104507446289),\n",
       " ('sonhar', 0.6271204352378845)]"
      ]
     },
     "execution_count": 48,
     "metadata": {},
     "output_type": "execute_result"
    }
   ],
   "source": [
    "model.wv.most_similar(positive=[\"nadador\", \"cantar\"], negative=[\"cantor\"])"
   ]
  },
  {
   "cell_type": "code",
   "execution_count": 49,
   "id": "8d4b860c",
   "metadata": {},
   "outputs": [
    {
     "data": {
      "text/plain": [
       "[('voltar', 0.5679724216461182),\n",
       " ('jogar', 0.5455996990203857),\n",
       " ('ficar', 0.5363249778747559),\n",
       " ('brigar', 0.5272092223167419),\n",
       " ('ninguém', 0.5203719139099121),\n",
       " ('errar', 0.5112212896347046),\n",
       " ('sair', 0.5070607662200928),\n",
       " ('vir', 0.5059237480163574),\n",
       " ('dormir', 0.4977492392063141),\n",
       " ('rolar', 0.49091005325317383)]"
      ]
     },
     "execution_count": 49,
     "metadata": {},
     "output_type": "execute_result"
    }
   ],
   "source": [
    "model.wv.most_similar(positive=[\"nadador\", \"correr\"], negative=[\"maratonista\"])"
   ]
  },
  {
   "cell_type": "code",
   "execution_count": 59,
   "id": "027b1ab9",
   "metadata": {},
   "outputs": [
    {
     "data": {
      "text/plain": [
       "[('mas', 0.7977392077445984),\n",
       " ('pois', 0.7362627983093262),\n",
       " ('não', 0.6967166066169739),\n",
       " ('só', 0.6532911062240601),\n",
       " ('que', 0.652936577796936),\n",
       " ('quando', 0.6518507599830627),\n",
       " ('renans', 0.6471090316772461),\n",
       " ('siamese', 0.640308678150177),\n",
       " ('aí', 0.6325305700302124),\n",
       " ('agora', 0.6274281740188599)]"
      ]
     },
     "execution_count": 59,
     "metadata": {},
     "output_type": "execute_result"
    }
   ],
   "source": [
    "model.wv.most_similar(positive=[\"porque\", \"assim\"], negative=[\"destarte\"])"
   ]
  },
  {
   "cell_type": "code",
   "execution_count": 60,
   "id": "b36ca73f",
   "metadata": {},
   "outputs": [
    {
     "data": {
      "text/plain": [
       "[('latinha', 0.8530741930007935),\n",
       " ('tigela', 0.8526825308799744),\n",
       " ('sacola', 0.8446081876754761),\n",
       " ('lata', 0.8344022631645203),\n",
       " ('bandeja', 0.8305689692497253),\n",
       " ('casquinha', 0.8287526965141296),\n",
       " ('garrafinha', 0.8005130290985107),\n",
       " ('xícara', 0.7827320694923401),\n",
       " ('vodka', 0.7794224619865417),\n",
       " ('refrigerante', 0.7776320576667786)]"
      ]
     },
     "execution_count": 60,
     "metadata": {},
     "output_type": "execute_result"
    }
   ],
   "source": [
    "model.wv.most_similar(\"garrafa\")"
   ]
  },
  {
   "cell_type": "code",
   "execution_count": null,
   "id": "07251cc6",
   "metadata": {},
   "outputs": [],
   "source": [
    "test"
   ]
  },
  {
   "cell_type": "code",
   "execution_count": 63,
   "id": "fef0a335",
   "metadata": {},
   "outputs": [
    {
     "ename": "NameError",
     "evalue": "name 'test' is not defined",
     "output_type": "error",
     "traceback": [
      "\u001b[0;31m---------------------------------------------------------------------------\u001b[0m",
      "\u001b[0;31mNameError\u001b[0m                                 Traceback (most recent call last)",
      "\u001b[0;32m<ipython-input-63-4e1243bd22c6>\u001b[0m in \u001b[0;36m<module>\u001b[0;34m\u001b[0m\n\u001b[0;32m----> 1\u001b[0;31m \u001b[0mtest\u001b[0m\u001b[0;34m\u001b[0m\u001b[0;34m\u001b[0m\u001b[0m\n\u001b[0m",
      "\u001b[0;31mNameError\u001b[0m: name 'test' is not defined"
     ]
    }
   ],
   "source": [
    "test"
   ]
  },
  {
   "cell_type": "code",
   "execution_count": 64,
   "id": "f5698bb1",
   "metadata": {},
   "outputs": [
    {
     "data": {
      "text/plain": [
       "[('latinha', 0.8530741930007935),\n",
       " ('tigela', 0.8526825308799744),\n",
       " ('sacola', 0.8446081876754761),\n",
       " ('lata', 0.8344022631645203),\n",
       " ('bandeja', 0.8305689692497253),\n",
       " ('casquinha', 0.8287526965141296),\n",
       " ('garrafinha', 0.8005130290985107),\n",
       " ('xícara', 0.7827320694923401),\n",
       " ('vodka', 0.7794224619865417),\n",
       " ('refrigerante', 0.7776320576667786)]"
      ]
     },
     "execution_count": 64,
     "metadata": {},
     "output_type": "execute_result"
    }
   ],
   "source": [
    "model.wv.most_similar(\"garrafa\")"
   ]
  },
  {
   "cell_type": "code",
   "execution_count": 65,
   "id": "bfcc4823",
   "metadata": {},
   "outputs": [
    {
     "data": {
      "text/plain": [
       "[('ketchup', 0.785005509853363),\n",
       " ('macarrão', 0.7840405106544495),\n",
       " ('palito', 0.7739327549934387),\n",
       " ('achocolatado', 0.7735340595245361),\n",
       " ('cacto', 0.7725129723548889),\n",
       " ('iogurte', 0.7692831754684448),\n",
       " ('biscoito', 0.7662792205810547),\n",
       " ('nutella', 0.7650855779647827),\n",
       " ('fubá', 0.764843761920929),\n",
       " ('espaguete', 0.7647874355316162)]"
      ]
     },
     "execution_count": 65,
     "metadata": {},
     "output_type": "execute_result"
    }
   ],
   "source": [
    "model.wv.most_similar(\"miojo\")"
   ]
  },
  {
   "cell_type": "code",
   "execution_count": 66,
   "id": "e82fd612",
   "metadata": {},
   "outputs": [
    {
     "data": {
      "text/plain": [
       "[('hbo', 0.8709168434143066),\n",
       " ('disney', 0.8168420195579529),\n",
       " ('marvel', 0.7914084196090698),\n",
       " ('franquia', 0.7864173650741577),\n",
       " ('sony', 0.7772117257118225),\n",
       " ('paramount', 0.7760021090507507),\n",
       " ('amazon', 0.7403571009635925),\n",
       " ('nintendo', 0.7377604842185974),\n",
       " ('pixar', 0.737337052822113),\n",
       " ('apple', 0.719764232635498)]"
      ]
     },
     "execution_count": 66,
     "metadata": {},
     "output_type": "execute_result"
    }
   ],
   "source": [
    "model.wv.most_similar(\"netflix\")"
   ]
  },
  {
   "cell_type": "code",
   "execution_count": 69,
   "id": "089fae68",
   "metadata": {},
   "outputs": [
    {
     "name": "stdout",
     "output_type": "stream",
     "text": [
      "Vetor para a palavra 'miojo': [-0.26557025  0.08809623  0.12005182 -0.05806121 -0.01363764 -0.42507967\n",
      " -0.02019936  0.20215368  0.09089345 -0.0570118  -0.10328884  0.10757821\n",
      " -0.05672272  0.08009185  0.00744514 -0.05988932  0.18421878 -0.08639846\n",
      " -0.19890256 -0.15354958  0.3188666  -0.01754934  0.2057814  -0.00214711\n",
      "  0.11370186  0.3243005  -0.2406629   0.12721825  0.30111283  0.40225738\n",
      " -0.02912808  0.02384762  0.17534639 -0.05007296 -0.09763108  0.1894363\n",
      " -0.03657356  0.08291058 -0.01273992 -0.30483165  0.19121435 -0.06687485\n",
      " -0.09231852  0.34226328  0.13728024 -0.21584685  0.07770054  0.13388328\n",
      "  0.49343002 -0.04025586  0.14750738  0.10447317 -0.25472286 -0.15456194\n",
      " -0.09584016  0.05978636 -0.03527685  0.13639075  0.11673815  0.06026478\n",
      " -0.21664456 -0.30021852  0.00120326  0.11063556  0.02954782  0.02982613\n",
      " -0.08594479  0.02506074 -0.05958187  0.13296239  0.07160617  0.4419068\n",
      " -0.07782942  0.05902872 -0.03660513  0.02538893 -0.03917047 -0.35321993\n",
      " -0.11261654  0.01362873 -0.1413655  -0.19405209 -0.21685264  0.28950927\n",
      "  0.03178457 -0.10380313  0.2951265   0.03301556 -0.07699253  0.19433615\n",
      " -0.07511068  0.1360398  -0.00683054  0.06553923 -0.02695968  0.10481315\n",
      "  0.14835297 -0.2924717   0.04201144 -0.03267206]\n"
     ]
    }
   ],
   "source": [
    "word = \"miojo\"\n",
    "vector = model.wv[word]\n",
    "\n",
    "print(f\"Vetor para a palavra '{word}': {vector}\")"
   ]
  },
  {
   "cell_type": "code",
   "execution_count": 71,
   "id": "3eb73564",
   "metadata": {},
   "outputs": [
    {
     "data": {
      "text/plain": [
       "[('barraca', 0.6762318015098572),\n",
       " ('mansão', 0.6746481657028198),\n",
       " ('casinha', 0.6658353209495544),\n",
       " ('sala', 0.6391698122024536),\n",
       " ('cama', 0.6139931678771973),\n",
       " ('família', 0.6134833693504333),\n",
       " ('cela', 0.6095985174179077),\n",
       " ('padaria', 0.5977834463119507),\n",
       " ('lílian', 0.5953593850135803),\n",
       " ('gaveta', 0.5871979594230652)]"
      ]
     },
     "execution_count": 71,
     "metadata": {},
     "output_type": "execute_result"
    }
   ],
   "source": [
    "model.wv.most_similar(\"casa\")"
   ]
  },
  {
   "cell_type": "code",
   "execution_count": 72,
   "id": "921af4f6",
   "metadata": {},
   "outputs": [
    {
     "name": "stdout",
     "output_type": "stream",
     "text": [
      "[0.02364054 0.06426166 0.1746813  0.474833   0.02364054 0.06426166\n",
      " 0.1746813 ]\n"
     ]
    }
   ],
   "source": [
    "import numpy as np\n",
    "\n",
    "def softmax(x):\n",
    "    e_x = np.exp(x - np.max(x))\n",
    "    return e_x / e_x.sum(axis=0)\n",
    "\n",
    "# Exemplo de uso da função softmax\n",
    "vetor = np.array([1.0, 2.0, 3.0, 4.0, 1.0, 2.0, 3.0])\n",
    "vetor_softmax = softmax(vetor)\n",
    "\n",
    "print(vetor_softmax)"
   ]
  },
  {
   "cell_type": "code",
   "execution_count": 73,
   "id": "80cd8c75",
   "metadata": {},
   "outputs": [
    {
     "name": "stdout",
     "output_type": "stream",
     "text": [
      "[0.1147015 0.311791  0.1147015 0.1147015 0.1147015 0.1147015 0.1147015]\n"
     ]
    }
   ],
   "source": [
    "import numpy as np\n",
    "\n",
    "def softmax(x):\n",
    "    e_x = np.exp(x - np.max(x))\n",
    "    return e_x / e_x.sum(axis=0)\n",
    "\n",
    "# Exemplo de uso da função softmax\n",
    "vetor = np.array([0.0, 1.0, 0.0, 0.0, 0.0, 0.0, 0.0])\n",
    "vetor_softmax = softmax(vetor)\n",
    "\n",
    "print(vetor_softmax)"
   ]
  },
  {
   "cell_type": "code",
   "execution_count": 74,
   "id": "7f5b4b32",
   "metadata": {},
   "outputs": [],
   "source": [
    "model = gensim.models.Word2Vec(\n",
    "    window=10,\n",
    "    min_count=2,\n",
    "    workers=2,\n",
    ")"
   ]
  },
  {
   "cell_type": "code",
   "execution_count": 75,
   "id": "bec9868b",
   "metadata": {},
   "outputs": [
    {
     "ename": "RuntimeError",
     "evalue": "you must first build vocabulary before training the model",
     "output_type": "error",
     "traceback": [
      "\u001b[0;31m---------------------------------------------------------------------------\u001b[0m",
      "\u001b[0;31mRuntimeError\u001b[0m                              Traceback (most recent call last)",
      "\u001b[0;32m<ipython-input-75-4ecd13509091>\u001b[0m in \u001b[0;36m<module>\u001b[0;34m\u001b[0m\n\u001b[0;32m----> 1\u001b[0;31m \u001b[0mmodel\u001b[0m\u001b[0;34m.\u001b[0m\u001b[0mtrain\u001b[0m\u001b[0;34m(\u001b[0m\u001b[0mprogress_bar\u001b[0m\u001b[0;34m,\u001b[0m \u001b[0mtotal_examples\u001b[0m\u001b[0;34m=\u001b[0m\u001b[0mmodel\u001b[0m\u001b[0;34m.\u001b[0m\u001b[0mcorpus_count\u001b[0m\u001b[0;34m,\u001b[0m \u001b[0mepochs\u001b[0m\u001b[0;34m=\u001b[0m\u001b[0mmodel\u001b[0m\u001b[0;34m.\u001b[0m\u001b[0mepochs\u001b[0m\u001b[0;34m)\u001b[0m\u001b[0;34m\u001b[0m\u001b[0;34m\u001b[0m\u001b[0m\n\u001b[0m",
      "\u001b[0;32m~/.local/lib/python3.6/site-packages/gensim/models/word2vec.py\u001b[0m in \u001b[0;36mtrain\u001b[0;34m(self, corpus_iterable, corpus_file, total_examples, total_words, epochs, start_alpha, end_alpha, word_count, queue_factor, report_delay, compute_loss, callbacks, **kwargs)\u001b[0m\n\u001b[1;32m   1040\u001b[0m         \u001b[0mself\u001b[0m\u001b[0;34m.\u001b[0m\u001b[0mepochs\u001b[0m \u001b[0;34m=\u001b[0m \u001b[0mepochs\u001b[0m\u001b[0;34m\u001b[0m\u001b[0;34m\u001b[0m\u001b[0m\n\u001b[1;32m   1041\u001b[0m \u001b[0;34m\u001b[0m\u001b[0m\n\u001b[0;32m-> 1042\u001b[0;31m         \u001b[0mself\u001b[0m\u001b[0;34m.\u001b[0m\u001b[0m_check_training_sanity\u001b[0m\u001b[0;34m(\u001b[0m\u001b[0mepochs\u001b[0m\u001b[0;34m=\u001b[0m\u001b[0mepochs\u001b[0m\u001b[0;34m,\u001b[0m \u001b[0mtotal_examples\u001b[0m\u001b[0;34m=\u001b[0m\u001b[0mtotal_examples\u001b[0m\u001b[0;34m,\u001b[0m \u001b[0mtotal_words\u001b[0m\u001b[0;34m=\u001b[0m\u001b[0mtotal_words\u001b[0m\u001b[0;34m)\u001b[0m\u001b[0;34m\u001b[0m\u001b[0;34m\u001b[0m\u001b[0m\n\u001b[0m\u001b[1;32m   1043\u001b[0m         \u001b[0mself\u001b[0m\u001b[0;34m.\u001b[0m\u001b[0m_check_corpus_sanity\u001b[0m\u001b[0;34m(\u001b[0m\u001b[0mcorpus_iterable\u001b[0m\u001b[0;34m=\u001b[0m\u001b[0mcorpus_iterable\u001b[0m\u001b[0;34m,\u001b[0m \u001b[0mcorpus_file\u001b[0m\u001b[0;34m=\u001b[0m\u001b[0mcorpus_file\u001b[0m\u001b[0;34m,\u001b[0m \u001b[0mpasses\u001b[0m\u001b[0;34m=\u001b[0m\u001b[0mepochs\u001b[0m\u001b[0;34m)\u001b[0m\u001b[0;34m\u001b[0m\u001b[0;34m\u001b[0m\u001b[0m\n\u001b[1;32m   1044\u001b[0m \u001b[0;34m\u001b[0m\u001b[0m\n",
      "\u001b[0;32m~/.local/lib/python3.6/site-packages/gensim/models/word2vec.py\u001b[0m in \u001b[0;36m_check_training_sanity\u001b[0;34m(self, epochs, total_examples, total_words, **kwargs)\u001b[0m\n\u001b[1;32m   1538\u001b[0m \u001b[0;34m\u001b[0m\u001b[0m\n\u001b[1;32m   1539\u001b[0m         \u001b[0;32mif\u001b[0m \u001b[0;32mnot\u001b[0m \u001b[0mself\u001b[0m\u001b[0;34m.\u001b[0m\u001b[0mwv\u001b[0m\u001b[0;34m.\u001b[0m\u001b[0mkey_to_index\u001b[0m\u001b[0;34m:\u001b[0m  \u001b[0;31m# should be set by `build_vocab`\u001b[0m\u001b[0;34m\u001b[0m\u001b[0;34m\u001b[0m\u001b[0m\n\u001b[0;32m-> 1540\u001b[0;31m             \u001b[0;32mraise\u001b[0m \u001b[0mRuntimeError\u001b[0m\u001b[0;34m(\u001b[0m\u001b[0;34m\"you must first build vocabulary before training the model\"\u001b[0m\u001b[0;34m)\u001b[0m\u001b[0;34m\u001b[0m\u001b[0;34m\u001b[0m\u001b[0m\n\u001b[0m\u001b[1;32m   1541\u001b[0m         \u001b[0;32mif\u001b[0m \u001b[0;32mnot\u001b[0m \u001b[0mlen\u001b[0m\u001b[0;34m(\u001b[0m\u001b[0mself\u001b[0m\u001b[0;34m.\u001b[0m\u001b[0mwv\u001b[0m\u001b[0;34m.\u001b[0m\u001b[0mvectors\u001b[0m\u001b[0;34m)\u001b[0m\u001b[0;34m:\u001b[0m\u001b[0;34m\u001b[0m\u001b[0;34m\u001b[0m\u001b[0m\n\u001b[1;32m   1542\u001b[0m             \u001b[0;32mraise\u001b[0m \u001b[0mRuntimeError\u001b[0m\u001b[0;34m(\u001b[0m\u001b[0;34m\"you must initialize vectors before training the model\"\u001b[0m\u001b[0;34m)\u001b[0m\u001b[0;34m\u001b[0m\u001b[0;34m\u001b[0m\u001b[0m\n",
      "\u001b[0;31mRuntimeError\u001b[0m: you must first build vocabulary before training the model"
     ]
    }
   ],
   "source": [
    "model.train(progress_bar, total_examples=model.corpus_count, epochs=model.epochs)"
   ]
  },
  {
   "cell_type": "code",
   "execution_count": 76,
   "id": "98f1fa75",
   "metadata": {},
   "outputs": [],
   "source": [
    "import gensim\n",
    "import pandas as pd\n"
   ]
  },
  {
   "cell_type": "code",
   "execution_count": null,
   "id": "b437b618",
   "metadata": {},
   "outputs": [],
   "source": [
    "df = pd.read_json('news-articles-ptbr-dataset_train.json', lines=True, encoding='utf-8')"
   ]
  },
  {
   "cell_type": "code",
   "execution_count": null,
   "id": "d73a9cbf",
   "metadata": {},
   "outputs": [],
   "source": [
    "df.text.loc[0]"
   ]
  },
  {
   "cell_type": "code",
   "execution_count": 1,
   "id": "0cca6877",
   "metadata": {},
   "outputs": [],
   "source": [
    "import gensim\n",
    "import pandas as pd"
   ]
  },
  {
   "cell_type": "code",
   "execution_count": 7,
   "id": "7e090acd",
   "metadata": {},
   "outputs": [],
   "source": [
    "import gensim\n",
    "import pandas as pd"
   ]
  },
  {
   "cell_type": "code",
   "execution_count": 8,
   "id": "bfde4255",
   "metadata": {},
   "outputs": [
    {
     "data": {
      "text/plain": [
       "'Na tarde de domingo (17), Luva de Pedreiro abriu uma live e sugeriu que o melhor seria pagar pensão à atual namorada, Távila Gomes, grávida do primeiro filho dele. \"Sou inamorável\", disse ele, deixando seus seguidores perplexos com um suposto fim precoce do romance.Porém, mais tarde, Távila desmentiu que ambos tenham encerrado o vínculo. Em outra live, ambos ironizaram perguntas sobre o suposto fim do relacionamento. Conforme Luva, as frases horas antes teriam sido \"resenha\", ou seja, brincadeira. \"Não pode falar mais nada. Tudo o que eu faço, eu estou errado.\"Em agosto, Iran Ferreira anunciou que será pai. O anúncio foi feito nas redes sociais do influenciador. O futuro bebê já tem nome escolhido: Cristiano Ronaldo Jr. Mais \"Cristiano Ronaldo Jr vem aí\", disse Luva de Pedreiro na postagem. Ele contou que aguardava um momento especial para fazer o anúncio da gestação, que já estaria no quinto mês.O influenciador é fã declarado do jogador português, a quem ele prestará homenagem nomeando seu filho. Há cerca de um mês, Iran compartilhou na web a ocasião em que conheceu o ídolo.\"Realizei meu sonho que era conhecer Cristiano Ronaldo. Ele sempre foi minha inspiração. Isso que aconteceu comigo serve de exemplo para todos vocês. Não desista dos seus sonhos. Receba!\", escreveu ele.'"
      ]
     },
     "execution_count": 8,
     "metadata": {},
     "output_type": "execute_result"
    }
   ],
   "source": [
    "df.text.loc[0]"
   ]
  },
  {
   "cell_type": "code",
   "execution_count": null,
   "id": "2be227e6",
   "metadata": {},
   "outputs": [],
   "source": [
    "news_text = df.text.apply(gensim.utils.simple_preprocess)"
   ]
  },
  {
   "cell_type": "code",
   "execution_count": null,
   "id": "ff30a231",
   "metadata": {},
   "outputs": [],
   "source": [
    "news_text[0]"
   ]
  },
  {
   "cell_type": "code",
   "execution_count": null,
   "id": "91c4c6a1",
   "metadata": {},
   "outputs": [],
   "source": []
  }
 ],
 "metadata": {
  "kernelspec": {
   "display_name": "Python 3",
   "language": "python",
   "name": "python3"
  },
  "language_info": {
   "codemirror_mode": {
    "name": "ipython",
    "version": 3
   },
   "file_extension": ".py",
   "mimetype": "text/x-python",
   "name": "python",
   "nbconvert_exporter": "python",
   "pygments_lexer": "ipython3",
   "version": "3.6.8"
  }
 },
 "nbformat": 4,
 "nbformat_minor": 5
}
